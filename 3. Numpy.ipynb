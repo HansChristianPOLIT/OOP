{
 "cells": [
  {
   "cell_type": "markdown",
   "id": "28e08207",
   "metadata": {},
   "source": [
    "# NumPy Arrays"
   ]
  },
  {
   "cell_type": "markdown",
   "id": "89560fe6",
   "metadata": {},
   "source": [
    "The essential problem that NumPy solves is fast array processing.\n",
    "\n",
    "**What is an Array**?\n",
    "- The most important structure that NumPy defines is an array data type formally called a `numpy.ndarray`\n",
    "- The array is the main object in NumPy; it's a grid-like structure that holds data. An array can have any number of dimensions, and each dimension can be any length.\n",
    "- NumPy arrays power a large proportion of the scientific Python ecosystem.\n",
    "\n",
    "Let’s first import the library."
   ]
  },
  {
   "cell_type": "code",
   "execution_count": 1,
   "id": "b00e67a4",
   "metadata": {},
   "outputs": [],
   "source": [
    "import numpy as np"
   ]
  },
  {
   "cell_type": "markdown",
   "id": "9aadc501-1411-4330-bad0-8cba8ce4b3f1",
   "metadata": {},
   "source": [
    "### Create 1D array from list"
   ]
  },
  {
   "cell_type": "code",
   "execution_count": 2,
   "id": "c87491af-5cf0-44d3-86cf-d6a86c2e2b73",
   "metadata": {},
   "outputs": [
    {
     "data": {
      "text/plain": [
       "array([3, 2, 5, 8, 4, 9, 7, 6, 1])"
      ]
     },
     "execution_count": 2,
     "metadata": {},
     "output_type": "execute_result"
    }
   ],
   "source": [
    "python_list = [3,2,5,8,4,9,7,6,1]\n",
    "array = np.array(python_list)\n",
    "array"
   ]
  },
  {
   "cell_type": "markdown",
   "id": "f656bda0-5303-4bee-92e3-36da2dd15d89",
   "metadata": {},
   "source": [
    "### Create 2D array from lists"
   ]
  },
  {
   "cell_type": "code",
   "execution_count": 3,
   "id": "14df9566-3fb9-40a1-9ef6-3d078aed5ea4",
   "metadata": {},
   "outputs": [
    {
     "data": {
      "text/plain": [
       "array([[3, 2, 5],\n",
       "       [9, 7, 1],\n",
       "       [4, 3, 6]])"
      ]
     },
     "execution_count": 3,
     "metadata": {},
     "output_type": "execute_result"
    }
   ],
   "source": [
    "python_list_of_lists = [[3,2,5],[9,7,1],[4,3,6]]\n",
    "np.array(python_list_of_lists)"
   ]
  },
  {
   "cell_type": "markdown",
   "id": "4d0667c4-c950-45ea-96c2-cc16ff1f100e",
   "metadata": {},
   "source": [
    "### 3D arrays"
   ]
  },
  {
   "cell_type": "code",
   "execution_count": 4,
   "id": "654ccaa4-177d-4a37-8f10-34734f0b7908",
   "metadata": {},
   "outputs": [
    {
     "data": {
      "text/plain": [
       "array([[[1, 2],\n",
       "        [5, 7]],\n",
       "\n",
       "       [[8, 9],\n",
       "        [5, 7]],\n",
       "\n",
       "       [[1, 2],\n",
       "        [5, 7]]])"
      ]
     },
     "execution_count": 4,
     "metadata": {},
     "output_type": "execute_result"
    }
   ],
   "source": [
    "array_1_2D = np.array([[1,2],[5,7]])\n",
    "array_2_2D = np.array([[8,9],[5,7]])\n",
    "array_3_2D = np.array([[1,2],[5,7]])\n",
    "array_3D = np.array([array_1_2D,array_2_2D,array_3_2D])\n",
    "array_3D"
   ]
  },
  {
   "cell_type": "markdown",
   "id": "248e3f8e",
   "metadata": {},
   "source": [
    "# Why arrays rather than lists\n",
    "Python lists: can contain many different data types\n",
    "\n",
    "NumPy arrays can only contain a **single data type**\n",
    "- These types must be one of the data types (`dtypes`) provided by NumPy.\n",
    "\n",
    "NumPy data types are more specific than Python data types in that NumPy data types include both the type of data - such as integer or string - and the amount of memory available in bits:\n",
    "- The most important of these dtypes are:\n",
    "    - float64: 64 bit floating-point number\n",
    "    - int64: 64 bit integer\n",
    "    - bool: 8 bit True or False\n",
    "There are also dtypes to represent complex numbers, unsigned integers, etc.\n",
    "\n",
    "On modern machines, the default dtype for arrays is `float64`\n",
    "\n",
    "Pro is that arrays take up less space than lists!!!"
   ]
  },
  {
   "cell_type": "markdown",
   "id": "170bb58a-6c66-4fcc-8423-d88466002aa6",
   "metadata": {},
   "source": [
    "# Creating arrays from scratch\n",
    "There are many NumPy functions used to create arrays from scratch, including: \n",
    "- `np.zeros()`\n",
    "-  To create an identity matrix use either `np.identity` or `np.eye`\n",
    "- `np.empty()`\n",
    "    - creates arrays in memory that can later be populated with data\n",
    "- `np.linspace()`\n",
    "    - To set up a grid of evenly spaced numbers use `np.linspace`\n",
    "- `np.random.random()`\n",
    "    - The array will be made up of random floats between zero and one.\n",
    "- `np.arange()`\n",
    "    - np.arange creates an evenly-spaced array of numbers based on given start and stop values. By default, np.arange creates an array of sequential integers.\n",
    "    - has especially useful applications in graphing.\n",
    "- `np.array()`\n",
    "    - creates NumPy arrays Python lists, tuples, etc. "
   ]
  },
  {
   "cell_type": "markdown",
   "id": "6ea596ad-5e11-4009-b0a3-a3e84a9d6e99",
   "metadata": {},
   "source": [
    "To create a NumPy array containing **only zeros** we use np.zeros"
   ]
  },
  {
   "cell_type": "code",
   "execution_count": 5,
   "id": "c90319d8-cab8-4359-a62d-8f9774cbac8f",
   "metadata": {},
   "outputs": [
    {
     "data": {
      "text/plain": [
       "array([0., 0., 0.])"
      ]
     },
     "execution_count": 5,
     "metadata": {},
     "output_type": "execute_result"
    }
   ],
   "source": [
    "a = np.zeros(3)\n",
    "a "
   ]
  },
  {
   "cell_type": "code",
   "execution_count": 6,
   "id": "80aa3343-e0a2-42da-a070-6f68eacd5b77",
   "metadata": {},
   "outputs": [
    {
     "data": {
      "text/plain": [
       "array([[0., 0., 0.],\n",
       "       [0., 0., 0.],\n",
       "       [0., 0., 0.],\n",
       "       [0., 0., 0.],\n",
       "       [0., 0., 0.]])"
      ]
     },
     "execution_count": 6,
     "metadata": {},
     "output_type": "execute_result"
    }
   ],
   "source": [
    "b = np.zeros((5,3)) # <-- shape using tuple\n",
    "b"
   ]
  },
  {
   "cell_type": "code",
   "execution_count": 7,
   "id": "acea2520-7475-4597-bc8c-444dc5216160",
   "metadata": {},
   "outputs": [
    {
     "data": {
      "text/plain": [
       "array([[0.7924453 , 0.82270555, 0.69823687, 0.29883648],\n",
       "       [0.51556833, 0.03191018, 0.25040093, 0.88085315]])"
      ]
     },
     "execution_count": 7,
     "metadata": {},
     "output_type": "execute_result"
    }
   ],
   "source": [
    "np.random.random((2,4)) # random is a function within the 'random' module in NumPy"
   ]
  },
  {
   "cell_type": "markdown",
   "id": "1dd0df9b-3ed9-4f88-b746-19c3a209e3ee",
   "metadata": {},
   "source": [
    "**A range array**:"
   ]
  },
  {
   "cell_type": "code",
   "execution_count": 8,
   "id": "55840893-90ba-43aa-a9b4-4b891183cbad",
   "metadata": {},
   "outputs": [
    {
     "data": {
      "text/plain": [
       "array([-2, -1,  0,  1,  2,  3,  4])"
      ]
     },
     "execution_count": 8,
     "metadata": {},
     "output_type": "execute_result"
    }
   ],
   "source": [
    "np.arange(-2,5)"
   ]
  },
  {
   "cell_type": "markdown",
   "id": "9cc9f04b-6b95-42dd-ba08-db5ebaa92ce2",
   "metadata": {},
   "source": [
    "**Empty array:**"
   ]
  },
  {
   "cell_type": "code",
   "execution_count": 9,
   "id": "e17a289b",
   "metadata": {},
   "outputs": [
    {
     "data": {
      "text/plain": [
       "array([0., 0., 0.])"
      ]
     },
     "execution_count": 9,
     "metadata": {},
     "output_type": "execute_result"
    }
   ],
   "source": [
    "z = np.empty(3)\n",
    "z"
   ]
  },
  {
   "cell_type": "markdown",
   "id": "54248210-ce56-404b-9f39-e8851d3d6199",
   "metadata": {},
   "source": [
    "The numbers you see here are garbage values. \\\n",
    "(Python allocates 3 contiguous 64 bit pieces of memory, and the existing contents of those memory slots are interpreted as `float64` values)    "
   ]
  },
  {
   "cell_type": "markdown",
   "id": "295e5829-0c6f-47e6-b1e7-741aaed98c2b",
   "metadata": {},
   "source": [
    "## Get Evenly Spaced Numbers Over a Specific Interva"
   ]
  },
  {
   "cell_type": "code",
   "execution_count": 10,
   "id": "22c474c2-120f-4628-8b12-52776d1d9578",
   "metadata": {},
   "outputs": [
    {
     "data": {
      "text/plain": [
       "array([2. , 2.5, 3. , 3.5, 4. ])"
      ]
     },
     "execution_count": 10,
     "metadata": {},
     "output_type": "execute_result"
    }
   ],
   "source": [
    "z = np.linspace(2, 4, 5)  # From 2 to 4, with 5 elements\n",
    "z"
   ]
  },
  {
   "cell_type": "code",
   "execution_count": 11,
   "id": "caa9c362-d4e0-4f57-b883-1d2940c2923a",
   "metadata": {},
   "outputs": [
    {
     "data": {
      "text/plain": [
       "array([10, 20])"
      ]
     },
     "execution_count": 11,
     "metadata": {},
     "output_type": "execute_result"
    }
   ],
   "source": [
    "z = np.array([10, 20])                 # ndarray from Python list\n",
    "z"
   ]
  },
  {
   "cell_type": "markdown",
   "id": "e132d460-ade3-4c22-912c-523273dd1732",
   "metadata": {},
   "source": [
    "See also `np.asarray`, which performs a similar function, but does not make a distinct copy of data already in a NumPy array."
   ]
  },
  {
   "cell_type": "code",
   "execution_count": 12,
   "id": "7a165738-d39a-489c-af29-7503ca131447",
   "metadata": {},
   "outputs": [
    {
     "data": {
      "text/plain": [
       "True"
      ]
     },
     "execution_count": 12,
     "metadata": {},
     "output_type": "execute_result"
    }
   ],
   "source": [
    "na = np.linspace(10, 20, 2)\n",
    "na is np.asarray(na)   # Does not copy NumPy arrays"
   ]
  },
  {
   "cell_type": "code",
   "execution_count": 13,
   "id": "75de42b0-6734-414b-86e7-6e9c44a8bba3",
   "metadata": {},
   "outputs": [
    {
     "data": {
      "text/plain": [
       "False"
      ]
     },
     "execution_count": 13,
     "metadata": {},
     "output_type": "execute_result"
    }
   ],
   "source": [
    "na is np.array(na)     # Does make a new copy --- perhaps unnecessarily"
   ]
  },
  {
   "cell_type": "markdown",
   "id": "9adc8f55-7823-4004-908a-17ef42552110",
   "metadata": {},
   "source": [
    "To read in the array data from a text file containing numeric data use `np.loadtxt` or `np.genfromtxt`"
   ]
  },
  {
   "cell_type": "markdown",
   "id": "c1156061",
   "metadata": {},
   "source": [
    "# Array Dimensionality"
   ]
  },
  {
   "cell_type": "markdown",
   "id": "38fe4767-6384-4e13-b2d8-d90af3ce461d",
   "metadata": {},
   "source": [
    "## Shapeshifting\n",
    "**Array attribute** (properties of an instance of an array):\n",
    "- `.shape`\n",
    "\n",
    "**Array methods** (called directly on the array object itself rather than passing the array as an argument):\n",
    "- `.flatten()` or `ravel()`\n",
    "- `.reshape()`"
   ]
  },
  {
   "cell_type": "markdown",
   "id": "1b7f1c9e-8c1a-49ec-99cc-abba339f0d30",
   "metadata": {},
   "source": [
    "#### Finding an array's shape"
   ]
  },
  {
   "cell_type": "code",
   "execution_count": 14,
   "id": "d0836aae-2aca-45ff-aca2-1ef41257d56a",
   "metadata": {},
   "outputs": [
    {
     "name": "stdout",
     "output_type": "stream",
     "text": [
      "[[0. 0. 0. 0. 0.]\n",
      " [0. 0. 0. 0. 0.]\n",
      " [0. 0. 0. 0. 0.]]\n"
     ]
    }
   ],
   "source": [
    "array = np.zeros((3,5))\n",
    "print(array)"
   ]
  },
  {
   "cell_type": "code",
   "execution_count": 15,
   "id": "978207b2-fd45-4154-a20d-1bda265004d5",
   "metadata": {},
   "outputs": [
    {
     "data": {
      "text/plain": [
       "(3, 5)"
      ]
     },
     "execution_count": 15,
     "metadata": {},
     "output_type": "execute_result"
    }
   ],
   "source": [
    "array.shape"
   ]
  },
  {
   "cell_type": "markdown",
   "id": "23894c73-b834-485d-99ac-28742bce9f58",
   "metadata": {},
   "source": [
    "#### No dimensions"
   ]
  },
  {
   "cell_type": "code",
   "execution_count": 16,
   "id": "f8fa987a",
   "metadata": {},
   "outputs": [],
   "source": [
    "z = np.zeros(10)"
   ]
  },
  {
   "cell_type": "markdown",
   "id": "b1a835f1",
   "metadata": {},
   "source": [
    "Here `z` is a flat array with no dimension — neither row nor column vector.\n",
    "\n",
    "The dimension is recorded in the `shape` attribute, which is a tuple"
   ]
  },
  {
   "cell_type": "code",
   "execution_count": 17,
   "id": "89a1d7b3",
   "metadata": {},
   "outputs": [
    {
     "data": {
      "text/plain": [
       "(10,)"
      ]
     },
     "execution_count": 17,
     "metadata": {},
     "output_type": "execute_result"
    }
   ],
   "source": [
    "z.shape"
   ]
  },
  {
   "cell_type": "markdown",
   "id": "4cc7cb36",
   "metadata": {},
   "source": [
    "Here the shape tuple has only one element, which is the length of the array (tuples with one element end with a comma).\n",
    "\n",
    "To give it dimension, we can change the `shape` attribute"
   ]
  },
  {
   "cell_type": "code",
   "execution_count": 18,
   "id": "286a70e7",
   "metadata": {},
   "outputs": [
    {
     "data": {
      "text/plain": [
       "array([[0.],\n",
       "       [0.],\n",
       "       [0.],\n",
       "       [0.],\n",
       "       [0.],\n",
       "       [0.],\n",
       "       [0.],\n",
       "       [0.],\n",
       "       [0.],\n",
       "       [0.]])"
      ]
     },
     "execution_count": 18,
     "metadata": {},
     "output_type": "execute_result"
    }
   ],
   "source": [
    "z.shape = (10, 1)\n",
    "z"
   ]
  },
  {
   "cell_type": "markdown",
   "id": "11ee5703-745a-4264-8219-02fa533673be",
   "metadata": {},
   "source": [
    "### Flattening an array\n",
    "- It's often easier to manipulate one-dimensional data than large multi-dimensional arrays.\n",
    "- it takes all array elements and puts them in just one dimension inside a 1D array"
   ]
  },
  {
   "cell_type": "code",
   "execution_count": 19,
   "id": "e263f3d4-88b8-4e48-b2a8-184f6e8b174f",
   "metadata": {},
   "outputs": [
    {
     "data": {
      "text/plain": [
       "array([1, 2, 5, 7, 6, 6])"
      ]
     },
     "execution_count": 19,
     "metadata": {},
     "output_type": "execute_result"
    }
   ],
   "source": [
    "array = np.array([[1,2],[5,7],[6,6]])\n",
    "#array\n",
    "array.flatten()"
   ]
  },
  {
   "cell_type": "markdown",
   "id": "1f287c79-66ea-4232-afca-a549e75c9586",
   "metadata": {},
   "source": [
    "- If you want to get a 1-D array of a multi-dimensional array, try `numpy.ravel(arr)`. You can either read the elements in the same row first or read the elements in the same column first."
   ]
  },
  {
   "cell_type": "code",
   "execution_count": 20,
   "id": "f2c3b8a7-ae93-46c5-9b56-f99c9b66cf96",
   "metadata": {},
   "outputs": [
    {
     "data": {
      "text/plain": [
       "array([[1, 2],\n",
       "       [5, 7],\n",
       "       [6, 6]])"
      ]
     },
     "execution_count": 20,
     "metadata": {},
     "output_type": "execute_result"
    }
   ],
   "source": [
    "array = np.array([[1,2],[5,7],[6,6]])\n",
    "array"
   ]
  },
  {
   "cell_type": "code",
   "execution_count": 21,
   "id": "d3b3f69b-feb2-412d-9a82-7cce6a0c2373",
   "metadata": {},
   "outputs": [
    {
     "data": {
      "text/plain": [
       "array([1, 2, 5, 7, 6, 6])"
      ]
     },
     "execution_count": 21,
     "metadata": {},
     "output_type": "execute_result"
    }
   ],
   "source": [
    "np.ravel(array) # <-- or simply array.ravel()"
   ]
  },
  {
   "cell_type": "markdown",
   "id": "5e18f4eb-63b1-4d5d-984a-cbb262f718d7",
   "metadata": {},
   "source": [
    "### Reshaping an array\n",
    "- The `.reshape` method allows us to redefine the shape of an array without changing the elements that make up the array."
   ]
  },
  {
   "cell_type": "code",
   "execution_count": 22,
   "id": "da161f50-9e0c-4e2e-9b5d-caafb56ebc4a",
   "metadata": {},
   "outputs": [
    {
     "data": {
      "text/plain": [
       "array([[1, 2, 5],\n",
       "       [7, 6, 6]])"
      ]
     },
     "execution_count": 22,
     "metadata": {},
     "output_type": "execute_result"
    }
   ],
   "source": [
    "array = np.array([[1,2],[5,7],[6,6]])\n",
    "array.reshape((2,3))"
   ]
  },
  {
   "cell_type": "markdown",
   "id": "d9913467-b360-4e0a-96ec-b2586e6bd768",
   "metadata": {},
   "source": [
    "## Remove Axes of Length One From an Array\n",
    "- If one or more of your axes are of length one, you can remove those axes using `np.squeeze`"
   ]
  },
  {
   "cell_type": "code",
   "execution_count": 23,
   "id": "44c1ff51-e537-44d8-98db-088df212e243",
   "metadata": {},
   "outputs": [
    {
     "data": {
      "text/plain": [
       "array([[[1],\n",
       "        [2]],\n",
       "\n",
       "       [[3],\n",
       "        [4]]])"
      ]
     },
     "execution_count": 23,
     "metadata": {},
     "output_type": "execute_result"
    }
   ],
   "source": [
    "arr = np.array([[[1], [2]], [[3], [4]]])\n",
    "arr"
   ]
  },
  {
   "cell_type": "code",
   "execution_count": 24,
   "id": "a309edc0-b6c0-4434-ba11-76a1066e0b5f",
   "metadata": {},
   "outputs": [
    {
     "data": {
      "text/plain": [
       "(2, 2, 1)"
      ]
     },
     "execution_count": 24,
     "metadata": {},
     "output_type": "execute_result"
    }
   ],
   "source": [
    "arr.shape "
   ]
  },
  {
   "cell_type": "code",
   "execution_count": 25,
   "id": "81954275-01e9-4dea-a0ed-48485ee6133e",
   "metadata": {},
   "outputs": [
    {
     "data": {
      "text/plain": [
       "array([[1, 2],\n",
       "       [3, 4]])"
      ]
     },
     "execution_count": 25,
     "metadata": {},
     "output_type": "execute_result"
    }
   ],
   "source": [
    "new_arr = np.squeeze(arr)\n",
    "new_arr"
   ]
  },
  {
   "cell_type": "code",
   "execution_count": 26,
   "id": "cd287963-5617-4dd1-9886-be0b26116151",
   "metadata": {},
   "outputs": [
    {
     "data": {
      "text/plain": [
       "(2, 2)"
      ]
     },
     "execution_count": 26,
     "metadata": {},
     "output_type": "execute_result"
    }
   ],
   "source": [
    "new_arr.shape "
   ]
  },
  {
   "cell_type": "markdown",
   "id": "f93ecf0a",
   "metadata": {
    "tags": []
   },
   "source": [
    "# Array Indexing"
   ]
  },
  {
   "cell_type": "markdown",
   "id": "01b1aa0b-f973-46cc-91ad-68d7b516fb1c",
   "metadata": {},
   "source": [
    "### Indexing 1D arrays\n",
    "- NumPy indexing is zero-based, meaning the first index is index zero."
   ]
  },
  {
   "cell_type": "code",
   "execution_count": 27,
   "id": "0ca076be-b179-48f5-b73e-e199fb640917",
   "metadata": {},
   "outputs": [
    {
     "data": {
      "text/plain": [
       "8"
      ]
     },
     "execution_count": 27,
     "metadata": {},
     "output_type": "execute_result"
    }
   ],
   "source": [
    "array = np.array([2,4,6,8,10])\n",
    "array[3]"
   ]
  },
  {
   "cell_type": "markdown",
   "id": "a7d64351-ae5d-4d39-bb3b-307b8a731b63",
   "metadata": {},
   "source": [
    "### Indexing 2D arrays\n",
    "- When indexing a 2D array, give NumPy both a row and column index in order to return a single element"
   ]
  },
  {
   "cell_type": "code",
   "execution_count": 28,
   "id": "91ae2d27-7bfb-438f-853a-b54da6e3abbd",
   "metadata": {},
   "outputs": [
    {
     "data": {
      "text/plain": [
       "7"
      ]
     },
     "execution_count": 28,
     "metadata": {},
     "output_type": "execute_result"
    }
   ],
   "source": [
    "array_1_2D = np.array([[1,2,3],[5,7,3],[1,2,3]])\n",
    "array_1_2D[1,1]"
   ]
  },
  {
   "cell_type": "markdown",
   "id": "10c5e069-473a-4bca-9b85-bf76c648fa4c",
   "metadata": {},
   "source": [
    "#### Indexing rows in 2D\n",
    "If we give NumPy just one index when indexing a 2D array, it assumes that the index is a row index. For example, asking for index 0 will return the first row."
   ]
  },
  {
   "cell_type": "code",
   "execution_count": 29,
   "id": "6a7a50da-444b-46b7-98e9-7e12d2db4662",
   "metadata": {},
   "outputs": [
    {
     "data": {
      "text/plain": [
       "array([5, 7, 3])"
      ]
     },
     "execution_count": 29,
     "metadata": {},
     "output_type": "execute_result"
    }
   ],
   "source": [
    "array_1_2D[1]"
   ]
  },
  {
   "cell_type": "markdown",
   "id": "5d32fa0e-7b77-47c7-9bc3-b3fd59eed1f6",
   "metadata": {},
   "source": [
    "#### Indexing columns in 2D\n",
    "To index a column, indicate a column index by providing a colon in place of any row index. The colon by itself tells NumPy that we are looking for all row information."
   ]
  },
  {
   "cell_type": "code",
   "execution_count": 30,
   "id": "5a4423c6-949a-4133-9912-28c80b344006",
   "metadata": {},
   "outputs": [
    {
     "data": {
      "text/plain": [
       "array([2, 7, 2])"
      ]
     },
     "execution_count": 30,
     "metadata": {},
     "output_type": "execute_result"
    }
   ],
   "source": [
    "array_1_2D[:,1]"
   ]
  },
  {
   "cell_type": "markdown",
   "id": "c8ff1fa2-1e4c-4deb-aab9-da58ede44662",
   "metadata": {},
   "source": [
    "### Slicing 1D arrays\n",
    "Slicing extracts a subset of data based on given indices from one array and creates a new array with the sliced data. \n",
    "- To slice, provide a start and stop value, separated by a colon and enclosed in square brackets. "
   ]
  },
  {
   "cell_type": "code",
   "execution_count": 31,
   "id": "8ac64d33-13b4-4472-92f9-ca835a1a1987",
   "metadata": {},
   "outputs": [
    {
     "data": {
      "text/plain": [
       "array([6, 8])"
      ]
     },
     "execution_count": 31,
     "metadata": {},
     "output_type": "execute_result"
    }
   ],
   "source": [
    "array = np.array([2,4,6,8,10])\n",
    "array[2:4]"
   ]
  },
  {
   "cell_type": "markdown",
   "id": "ccaf71ea-ced3-44a9-8c90-45f3149b7bb9",
   "metadata": {},
   "source": [
    "### Slicing 2D arrays\n",
    "To slice in 2D, we'll need to give NumPy information on how both the rows and columns should be sliced. \n",
    "- Row start and stop indices will be followed by column start and stop indices, separated by a comma. "
   ]
  },
  {
   "cell_type": "code",
   "execution_count": 32,
   "id": "bbe0e147-b955-402e-bc30-b93139a53e6f",
   "metadata": {},
   "outputs": [
    {
     "data": {
      "text/plain": [
       "array([[1, 2],\n",
       "       [5, 7]])"
      ]
     },
     "execution_count": 32,
     "metadata": {},
     "output_type": "execute_result"
    }
   ],
   "source": [
    "array_1_2D = np.array([[1,2,3],[5,7,3],[1,2,3]])\n",
    "array_1_2D[0:2,0:2]"
   ]
  },
  {
   "cell_type": "markdown",
   "id": "ec6f1a9a-1db0-4455-8e5e-3823501c8d20",
   "metadata": {},
   "source": [
    "### Slicing with steps\n",
    "- In addition to start and stop values, we can give NumPy a third number: step value."
   ]
  },
  {
   "cell_type": "code",
   "execution_count": 33,
   "id": "4c52d178-1925-4deb-a3d7-4d7212c0fefb",
   "metadata": {},
   "outputs": [
    {
     "data": {
      "text/plain": [
       "array([[1]])"
      ]
     },
     "execution_count": 33,
     "metadata": {},
     "output_type": "execute_result"
    }
   ],
   "source": [
    "array_1_2D = np.array([[1,2,3],[5,7,3],[1,2,3]])\n",
    "array_1_2D[0:2:2,0:2:2]"
   ]
  },
  {
   "cell_type": "markdown",
   "id": "2969a127-64b2-460f-98f7-bf54e6632a4c",
   "metadata": {},
   "source": [
    "- we indicate that we are only looking for every other value by listing a step size of two. \n",
    "- Here, we are stepping in both rows and columns. We can also step only row or column values by leaving out the step value on one or the other."
   ]
  },
  {
   "cell_type": "markdown",
   "id": "d5c84c2e-0fd4-4dff-9375-7add3a5b53e9",
   "metadata": {},
   "source": [
    "### Sorting arrays\n",
    "- The `np.sort` function sorts an array along a given axis.\n",
    "- Here, NumPy has sorted the array along the columns, with the highest number from each row in the far right. "
   ]
  },
  {
   "cell_type": "code",
   "execution_count": 34,
   "id": "94eb473a-1e93-4383-b0ae-4aa8b8cb069a",
   "metadata": {},
   "outputs": [
    {
     "data": {
      "text/plain": [
       "array([[1, 2, 3],\n",
       "       [3, 5, 7],\n",
       "       [1, 2, 3]])"
      ]
     },
     "execution_count": 34,
     "metadata": {},
     "output_type": "execute_result"
    }
   ],
   "source": [
    "array_1_2D = np.array([[1,2,3],[5,7,3],[1,2,3]])\n",
    "np.sort(array_1_2D)"
   ]
  },
  {
   "cell_type": "markdown",
   "id": "e3428eb9-7f6d-4d5b-80ac-8a03a4bd2fa9",
   "metadata": {},
   "source": [
    "### and sorting by axis\n",
    "- What if we want to sort by row? To do that, we need to understand NumPy axis labels.\n",
    "- In a 2D array, the direction along rows is axis zero. The direction along columns is axis one. An easy way to remember that axis one refers to columns is that a column looks like the number one!\n",
    "- The default axis in np-dot-sort is the last axis of the array passed to it. If a 2D array is being sorted, NumPy sorts by columns, since columns are axis 1 and rows are axis 0. \n",
    "\n",
    "- To sort the array by row, so that the highest numbers in each column are at the bottom of the array, set the axis keyword argument to zero."
   ]
  },
  {
   "cell_type": "code",
   "execution_count": 35,
   "id": "b0609154-f1ed-4f7a-ab53-1913d365b716",
   "metadata": {},
   "outputs": [
    {
     "data": {
      "text/plain": [
       "array([[1, 2, 3],\n",
       "       [1, 2, 3],\n",
       "       [5, 7, 3]])"
      ]
     },
     "execution_count": 35,
     "metadata": {},
     "output_type": "execute_result"
    }
   ],
   "source": [
    "np.sort(array_1_2D, axis=0)"
   ]
  },
  {
   "cell_type": "markdown",
   "id": "2d08cc82-c018-4205-af93-7eeb18137c5c",
   "metadata": {},
   "source": [
    "## Use List to Change the Positions of Rows or Columns in a NumPy Array\n",
    "- If you want to change the positions of rows or columns in a NumPy array, simply use a list to specify the new positions as shown below."
   ]
  },
  {
   "cell_type": "code",
   "execution_count": 36,
   "id": "f6ddb57c-4bd6-4075-84f6-b6c857a8d3b1",
   "metadata": {},
   "outputs": [
    {
     "data": {
      "text/plain": [
       "array([[1, 2, 3],\n",
       "       [4, 5, 6],\n",
       "       [7, 8, 9]])"
      ]
     },
     "execution_count": 36,
     "metadata": {},
     "output_type": "execute_result"
    }
   ],
   "source": [
    "arr = np.array([[1, 2, 3], [4, 5, 6], [7, 8, 9]])\n",
    "arr"
   ]
  },
  {
   "cell_type": "code",
   "execution_count": 37,
   "id": "927742ee-6e04-4f97-bdf0-9c2c2f509387",
   "metadata": {},
   "outputs": [
    {
     "data": {
      "text/plain": [
       "array([[4, 5, 6],\n",
       "       [7, 8, 9],\n",
       "       [1, 2, 3]])"
      ]
     },
     "execution_count": 37,
     "metadata": {},
     "output_type": "execute_result"
    }
   ],
   "source": [
    "new_row_position = [1, 2, 0]\n",
    "new_arr = arr[new_row_position, :]\n",
    "new_arr"
   ]
  },
  {
   "cell_type": "markdown",
   "id": "1eb6d19f-261c-4581-8537-005dd03b70c2",
   "metadata": {},
   "source": [
    "## Double numpy.argsort: Get Rank of Values in an Array\n",
    "- If you want to get the index of the sorted list for the original list, apply `numpy.argsort()` twice."
   ]
  },
  {
   "cell_type": "code",
   "execution_count": 38,
   "id": "07857cf1-b0d4-4994-b029-c7ca41dcd1eb",
   "metadata": {},
   "outputs": [
    {
     "data": {
      "text/plain": [
       "array([1, 0, 3, 4, 2])"
      ]
     },
     "execution_count": 38,
     "metadata": {},
     "output_type": "execute_result"
    }
   ],
   "source": [
    "a = np.array([2, 1, 4, 7, 3])\n",
    "\n",
    "# Get rank of values in an array\n",
    "a.argsort().argsort()"
   ]
  },
  {
   "cell_type": "markdown",
   "id": "2e01a485-f32d-4f52-8b86-1b50839265bb",
   "metadata": {},
   "source": [
    "In the example above, 1 is the smallest value so it is indexed 0. 2 is the second-largest value to it is indexed 1."
   ]
  },
  {
   "cell_type": "markdown",
   "id": "e9e85650-1835-427d-99d8-2af0337e3066",
   "metadata": {},
   "source": [
    "## Filtering arrays\n",
    "- We've learned how to select data based on location, but what about selecting based on whether data meets a condition. Enter filtering!\n",
    "\n",
    "**Two ways to filter**:\n",
    "1. masks and fancy indexing\n",
    "2. `np.where()`"
   ]
  },
  {
   "cell_type": "markdown",
   "id": "226320bf-8515-4101-ace9-18989ffd2d2e",
   "metadata": {},
   "source": [
    "#### Boolean masks"
   ]
  },
  {
   "cell_type": "code",
   "execution_count": 39,
   "id": "5710038f-d46f-4fad-b42c-9f51c680968b",
   "metadata": {},
   "outputs": [
    {
     "data": {
      "text/plain": [
       "array([1, 2, 3, 4, 5])"
      ]
     },
     "execution_count": 39,
     "metadata": {},
     "output_type": "execute_result"
    }
   ],
   "source": [
    "one_to_five = np.arange(1,6)\n",
    "one_to_five"
   ]
  },
  {
   "cell_type": "code",
   "execution_count": 40,
   "id": "7b6ec890-1fe9-426b-b92e-6dfffcbadab3",
   "metadata": {},
   "outputs": [
    {
     "data": {
      "text/plain": [
       "array([False,  True, False,  True, False])"
      ]
     },
     "execution_count": 40,
     "metadata": {},
     "output_type": "execute_result"
    }
   ],
   "source": [
    "# create boolean mask of even divisble\n",
    "mask = one_to_five % 2 == 0\n",
    "mask"
   ]
  },
  {
   "cell_type": "markdown",
   "id": "39c01e2e-6f7d-46fc-afec-0bded2110f96",
   "metadata": {},
   "source": [
    "#### Filtering with fancy indexing\n",
    "Once we have a Boolean mask indicating which elements the condition holds true for, we can index the array using the mask. This is called fancy indexing, and it's useful when we are only interested in the elements that meet a condition."
   ]
  },
  {
   "cell_type": "code",
   "execution_count": 41,
   "id": "d0e28aa7-7230-4998-8bf8-31ae163b40cd",
   "metadata": {},
   "outputs": [
    {
     "data": {
      "text/plain": [
       "array([2, 4])"
      ]
     },
     "execution_count": 41,
     "metadata": {},
     "output_type": "execute_result"
    }
   ],
   "source": [
    "one_to_five = np.arange(1,6)\n",
    "mask = one_to_five % 2 == 0\n",
    "one_to_five[mask]"
   ]
  },
  {
   "cell_type": "markdown",
   "id": "48954ae6-8b15-4691-97de-a0248ff58592",
   "metadata": {},
   "source": [
    "#### 2D fancy indexing"
   ]
  },
  {
   "cell_type": "code",
   "execution_count": 42,
   "id": "da01ed34-4471-45e6-bbff-87f09ab206b5",
   "metadata": {},
   "outputs": [
    {
     "data": {
      "text/plain": [
       "array([[ 1, 22],\n",
       "       [ 2, 21],\n",
       "       [ 3, 27],\n",
       "       [ 4, 26]])"
      ]
     },
     "execution_count": 42,
     "metadata": {},
     "output_type": "execute_result"
    }
   ],
   "source": [
    "classroom_ids_and_sizes = np.array([[1,22],[2,21],[3,27],[4,26]])\n",
    "classroom_ids_and_sizes"
   ]
  },
  {
   "cell_type": "markdown",
   "id": "aee9269c-ec51-4912-997e-0010a8a2c605",
   "metadata": {},
   "source": [
    "Say we want to know which classes have even id:\n",
    "- First, create a mask which checks which values in the second column are divisible by two. \n",
    "- Then, index the first column using that mask so that we return class ids for rows where the class size in the second column meets the condition."
   ]
  },
  {
   "cell_type": "code",
   "execution_count": 43,
   "id": "ee8281b0-78fc-4e7a-a3e2-251b341d8f95",
   "metadata": {},
   "outputs": [
    {
     "data": {
      "text/plain": [
       "array([1, 4])"
      ]
     },
     "execution_count": 43,
     "metadata": {},
     "output_type": "execute_result"
    }
   ],
   "source": [
    "classroom_ids_and_sizes[:, 0][classroom_ids_and_sizes[:, 1] % 2 == 0]"
   ]
  },
  {
   "cell_type": "markdown",
   "id": "7ae37824-8350-4489-98fb-ac11f9783263",
   "metadata": {},
   "source": [
    "### Fancy indexing vs. np.where()\n",
    "\n",
    "Fancy indexing \n",
    "- returns array of elements\n",
    "\n",
    "np.where()\n",
    "- return array of indices\n",
    "- can create an array based on whether elements do og don't meet condition"
   ]
  },
  {
   "cell_type": "markdown",
   "id": "88ad9d71-5a52-47f2-af85-35632c835f8d",
   "metadata": {},
   "source": [
    "#### Filtering with np.where()"
   ]
  },
  {
   "cell_type": "code",
   "execution_count": 44,
   "id": "58dc2de5-051a-4d89-ae8e-82ade9037dfc",
   "metadata": {},
   "outputs": [
    {
     "data": {
      "text/plain": [
       "(array([0, 3]),)"
      ]
     },
     "execution_count": 44,
     "metadata": {},
     "output_type": "execute_result"
    }
   ],
   "source": [
    "classroom_ids_and_sizes\n",
    "np.where(classroom_ids_and_sizes[:,1] % 2 == 0)"
   ]
  },
  {
   "cell_type": "markdown",
   "id": "eaa14861-dcf1-430c-b6a4-b0e78a429f3a",
   "metadata": {},
   "source": [
    "Notice the array of indices is enclosed in parentheses: the np-dot-where function actually returns a tuple of arrays. Why? Because when the filtered array is multi-dimensional, each element can only be located by including an index for every dimension."
   ]
  },
  {
   "cell_type": "markdown",
   "id": "e5231d07-7027-4505-99d6-d92bd4787fa9",
   "metadata": {},
   "source": [
    "### np.where() element retrieval\n",
    "- Let's look at using `np.where()` to return the indices of zeros in our sudoku game."
   ]
  },
  {
   "cell_type": "code",
   "execution_count": 45,
   "id": "0798eecc-bb81-4403-b1a7-ea0d884f4c37",
   "metadata": {},
   "outputs": [
    {
     "data": {
      "text/plain": [
       "array([[ 0,  0,  4,  3,  0,  0,  2,  0,  9],\n",
       "       [ 0,  0,  5,  0,  0,  9,  0,  0,  1],\n",
       "       [ 0,  7,  0,  0,  6,  0,  0,  4,  3],\n",
       "       [ 1,  9,  0,  0,  0,  7,  4,  0,  0],\n",
       "       [ 0,  5,  0,  0,  8,  3,  0,  0,  0],\n",
       "       [ 6,  0,  0,  0,  0,  0,  1,  0,  5],\n",
       "       [ 0,  0,  3,  5,  0,  8,  6,  9,  0],\n",
       "       [ 0,  4,  2,  9, 10,  0,  3,  0,  0]])"
      ]
     },
     "execution_count": 45,
     "metadata": {},
     "output_type": "execute_result"
    }
   ],
   "source": [
    "sudoku_game = np.array([[0,0,4,3,0,0,2,0,9],[0,0,5,0,0,9,0,0,1],[0,7,0,0,6,0,0,4,3],[1,9,0,0,0,7,4,0,0],[0,5,0,0,8,3,0,0,0],[6,0,0,0,0,0,1,0,5],[0,0,3,5,0,8,6,9,0],[0,4,2,9,10,0,3,0,0]])\n",
    "sudoku_game"
   ]
  },
  {
   "cell_type": "code",
   "execution_count": 46,
   "id": "8542d0c2-aa76-41a2-8d25-6d811c07ec23",
   "metadata": {},
   "outputs": [
    {
     "data": {
      "text/plain": [
       "(array([0, 0, 0, 0, 0, 1, 1, 1, 1, 1, 1, 2, 2, 2, 2, 2, 3, 3, 3, 3, 3, 4,\n",
       "        4, 4, 4, 4, 4, 5, 5, 5, 5, 5, 5, 6, 6, 6, 6, 7, 7, 7, 7]),\n",
       " array([0, 1, 4, 5, 7, 0, 1, 3, 4, 6, 7, 0, 2, 3, 5, 6, 2, 3, 4, 7, 8, 0,\n",
       "        2, 3, 6, 7, 8, 1, 2, 3, 4, 5, 7, 0, 1, 4, 8, 0, 5, 7, 8]))"
      ]
     },
     "execution_count": 46,
     "metadata": {},
     "output_type": "execute_result"
    }
   ],
   "source": [
    "row_ind, column_ind = np.where(sudoku_game == 0)\n",
    "row_ind, column_ind"
   ]
  },
  {
   "cell_type": "markdown",
   "id": "ded26edb-d7f1-4c58-a00b-29a0a66ccef5",
   "metadata": {},
   "source": [
    "Now, np.where returns two sets of indices - one for row indices and one for column indices - since identifying each individual zero requires both a row and column index. \n",
    "- Because of this, it's helpful to unpack the results of np.where into different variables."
   ]
  },
  {
   "cell_type": "markdown",
   "id": "079bf43d-69e2-4cce-9bce-939874229fc2",
   "metadata": {},
   "source": [
    "## Find and replace\n",
    "The real power of np-dot-where is its ability to check whether rows, columns, or elements meet a condition and then pull one element if the condition is met and another if not. \n",
    "- To replace all zeros in sudoku_game with empty strings, pass an empty string as the second argument to np-dot-where. \n",
    "- The third argument specifies how to change the element if it does not meet the condition.\n",
    "    - Here, we want non-zero elements to remain unchanged, so we pass the original array to signify that."
   ]
  },
  {
   "cell_type": "code",
   "execution_count": 47,
   "id": "f04c3978-d046-411f-bbf8-a404fcc212e8",
   "metadata": {},
   "outputs": [
    {
     "data": {
      "text/plain": [
       "array([['', '', '4', '3', '', '', '2', '', '9'],\n",
       "       ['', '', '5', '', '', '9', '', '', '1'],\n",
       "       ['', '7', '', '', '6', '', '', '4', '3'],\n",
       "       ['1', '9', '', '', '', '7', '4', '', ''],\n",
       "       ['', '5', '', '', '8', '3', '', '', ''],\n",
       "       ['6', '', '', '', '', '', '1', '', '5'],\n",
       "       ['', '', '3', '5', '', '8', '6', '9', ''],\n",
       "       ['', '4', '2', '9', '10', '', '3', '', '']], dtype='<U21')"
      ]
     },
     "execution_count": 47,
     "metadata": {},
     "output_type": "execute_result"
    }
   ],
   "source": [
    "np.where(sudoku_game == 0, \"\", sudoku_game)"
   ]
  },
  {
   "cell_type": "markdown",
   "id": "c073dc8d-0ad2-45f0-8848-531992fa2b51",
   "metadata": {},
   "source": [
    "# array-to-latex: Turn a NumPy Array into Latex"
   ]
  },
  {
   "cell_type": "code",
   "execution_count": 48,
   "id": "1ad981cd-aa13-4282-a0e2-5a3e53100c73",
   "metadata": {},
   "outputs": [
    {
     "name": "stdout",
     "output_type": "stream",
     "text": [
      "Requirement already satisfied: array-to-latex in ./opt/anaconda3/lib/python3.9/site-packages (0.82)\n",
      "Requirement already satisfied: pandas in ./opt/anaconda3/lib/python3.9/site-packages (from array-to-latex) (1.3.4)\n",
      "Requirement already satisfied: numpy in ./opt/anaconda3/lib/python3.9/site-packages (from array-to-latex) (1.20.3)\n",
      "Requirement already satisfied: clipboard in ./opt/anaconda3/lib/python3.9/site-packages (from array-to-latex) (0.0.4)\n",
      "Requirement already satisfied: pyperclip>=1.3 in ./opt/anaconda3/lib/python3.9/site-packages (from clipboard->array-to-latex) (1.8.2)\n",
      "Requirement already satisfied: python-dateutil>=2.7.3 in ./opt/anaconda3/lib/python3.9/site-packages (from pandas->array-to-latex) (2.8.2)\n",
      "Requirement already satisfied: pytz>=2017.3 in ./opt/anaconda3/lib/python3.9/site-packages (from pandas->array-to-latex) (2021.3)\n",
      "Requirement already satisfied: six>=1.5 in ./opt/anaconda3/lib/python3.9/site-packages (from python-dateutil>=2.7.3->pandas->array-to-latex) (1.16.0)\n"
     ]
    }
   ],
   "source": [
    "!pip install array-to-latex"
   ]
  },
  {
   "cell_type": "code",
   "execution_count": 49,
   "id": "5cc9f4fb-bb91-40d9-a012-5e0aa3d42ca7",
   "metadata": {},
   "outputs": [
    {
     "name": "stdout",
     "output_type": "stream",
     "text": [
      "\\begin{bmatrix}\n",
      "  1.00 &  2.00 &  3.00\\\\\n",
      "  4.00 &  5.00 &  6.00\n",
      "\\end{bmatrix}\n"
     ]
    }
   ],
   "source": [
    "import array_to_latex as a2l\n",
    "\n",
    "a = np.array([[1, 2, 3], [4, 5, 6]])\n",
    "latex = a2l.to_ltx(a)\n",
    "latex"
   ]
  },
  {
   "cell_type": "markdown",
   "id": "8b97f84c-23ee-46b0-b8cf-2be445b9c916",
   "metadata": {},
   "source": [
    "# Adding and removing data"
   ]
  },
  {
   "cell_type": "markdown",
   "id": "8e9a500f-78ae-4f97-932c-005771ac47ab",
   "metadata": {},
   "source": [
    "## Concatenating\n",
    "In NumPy, concatenation refers to adding data to an array along any existing axis, such as adding columns to a 2D array. \\ We concatenate using the np-dot-concatenate function."
   ]
  },
  {
   "cell_type": "markdown",
   "id": "20b88ec8-dfff-4293-998b-25ef4f4adc75",
   "metadata": {},
   "source": [
    "### Concatenating rows\n",
    "- to concatenate the two arrays, pass a tuple of the array names to `np.concatenat`. \n",
    "- In this case, we are concatenating along the first axis - that is, adding new row (default behavior)"
   ]
  },
  {
   "cell_type": "code",
   "execution_count": 50,
   "id": "6036e559-d9f0-47c0-88a8-ddb5db62ef96",
   "metadata": {},
   "outputs": [
    {
     "data": {
      "text/plain": [
       "array([[ 1, 22],\n",
       "       [ 2, 21],\n",
       "       [ 3, 27],\n",
       "       [ 4, 26],\n",
       "       [ 5, 30],\n",
       "       [ 5, 17]])"
      ]
     },
     "execution_count": 50,
     "metadata": {},
     "output_type": "execute_result"
    }
   ],
   "source": [
    "classroom_ids_and_sizes\n",
    "new_classrooms = np.array([[5,30],[5,17]])\n",
    "np.concatenate((classroom_ids_and_sizes, new_classrooms)) # <-- remember tuple"
   ]
  },
  {
   "cell_type": "markdown",
   "id": "66c04a45-8a59-4135-a79f-93e1f84b9980",
   "metadata": {},
   "source": [
    "### Concatenating columns\n",
    "- To concatenate along other dimensions, set the axis keyword argument"
   ]
  },
  {
   "cell_type": "code",
   "execution_count": 51,
   "id": "b88c22c5-00a0-4d6a-b45e-3d8f4bb50449",
   "metadata": {},
   "outputs": [
    {
     "data": {
      "text/plain": [
       "array([['1', '22', '1', 'James'],\n",
       "       ['2', '21', '1', 'George'],\n",
       "       ['3', '27', '3', 'Amy'],\n",
       "       ['4', '26', '3', 'Meehir']], dtype='<U21')"
      ]
     },
     "execution_count": 51,
     "metadata": {},
     "output_type": "execute_result"
    }
   ],
   "source": [
    "classroom_ids_and_sizes\n",
    "grade_levels_and_teachers = np.array([[1,'James'],[1,'George'],[3, 'Amy'],[3, 'Meehir']])\n",
    "classroom_data = np.concatenate((classroom_ids_and_sizes, grade_levels_and_teachers), axis=1) # <-- remember tuple\n",
    "classroom_data"
   ]
  },
  {
   "cell_type": "markdown",
   "id": "d3b88a1f-2d35-4f15-a82a-0d5e828d5656",
   "metadata": {},
   "source": [
    "## Shape compatibility (in concatenation)"
   ]
  },
  {
   "cell_type": "markdown",
   "id": "19bb37ab-419d-4c03-8f2f-b28606558d15",
   "metadata": {},
   "source": [
    "The arrays to be concatenated must have compatible shapes. \n",
    "- Specifically, they must have the same shape along all axes except the one being concatenated along. \n",
    "    - For example, concatenating a three by three array with a four by two array results in a **ValueError** no matter which axis we concatenate along, because no part of these shapes is compatible. \n",
    "    - The value error reminds us that the array dimensions for the concatenation axis must match exactly. \n",
    "    - We can concatenate a three by three array with a three by two array column-wise, because the axis we are concatenating along, the second axis, is the only axis which does not have the same length."
   ]
  },
  {
   "cell_type": "markdown",
   "id": "8f3763e8-6e5d-470c-a56b-a0a56dc7d3ae",
   "metadata": {},
   "source": [
    "### Creating compatibility (shape)\n",
    "To reshape a 1D array in preparation for concatenation with a 2D array, indicate whether the data is vertical or horizontal by setting a value of one as the length of the flat dimension. \n",
    "- An array containing a single column, like the one here, will have a length of one along the second axis. "
   ]
  },
  {
   "cell_type": "code",
   "execution_count": 52,
   "id": "cb4b61bc-3eea-4806-a6cf-7a218f802b65",
   "metadata": {},
   "outputs": [
    {
     "data": {
      "text/plain": [
       "array([[1],\n",
       "       [2],\n",
       "       [3]])"
      ]
     },
     "execution_count": 52,
     "metadata": {},
     "output_type": "execute_result"
    }
   ],
   "source": [
    "array_1D = np.array([1,2,3])\n",
    "column_array_2D = array_1D.reshape((3,1))\n",
    "column_array_2D"
   ]
  },
  {
   "cell_type": "markdown",
   "id": "c1a40878-1b4e-4fbd-9dbf-20049ff45c70",
   "metadata": {},
   "source": [
    "- An array containing a single row will have a length of one along the first axis."
   ]
  },
  {
   "cell_type": "code",
   "execution_count": 53,
   "id": "564fd32d-a53f-4d37-9ae5-c313453584cf",
   "metadata": {},
   "outputs": [
    {
     "data": {
      "text/plain": [
       "array([[1, 2, 3]])"
      ]
     },
     "execution_count": 53,
     "metadata": {},
     "output_type": "execute_result"
    }
   ],
   "source": [
    "array_1D = np.array([1,2,3])\n",
    "column_array_2D = array_1D.reshape((1,3))\n",
    "column_array_2D"
   ]
  },
  {
   "cell_type": "markdown",
   "id": "34b0e997-d44f-483e-b680-792ce9cb337e",
   "metadata": {},
   "source": [
    "## Dimension compatibility (in concatenation)\n",
    "The two arrays must also have the same number of dimensions. \n",
    "- This is especially important to remember when concatenating a single row or column of data, usually held in a 1D array, with a 2D array. \n",
    "- In order to append a single row or column, turn the 1D array into a 2D array using the `.reshape` method before appending."
   ]
  },
  {
   "cell_type": "markdown",
   "id": "08ae6052-9e1e-4748-8948-9493481a65d4",
   "metadata": {},
   "source": [
    "### Creating compatibility (dimension)\n",
    "It is not possible to add new dimensions with np-dot-concatenate, since the function only adds data along an existing axis. It is possible to add new dimensions using other functions which we'll discuss later in the course."
   ]
  },
  {
   "cell_type": "markdown",
   "id": "489722c7-3ac0-41a4-9ed5-ec6b8c361a59",
   "metadata": {},
   "source": [
    "## Deleting with np.delete()"
   ]
  },
  {
   "cell_type": "markdown",
   "id": "8618580b-88d7-402f-927a-b08db5ef9e6c",
   "metadata": {},
   "source": [
    "NumPy's `np.delete()` function takes three arguments: \n",
    "1. the array to delete from,\n",
    "2. a slice, index, or array of indices to be deleted,\n",
    "3. and the axis to be deleted along. \n",
    "\n",
    "For example, to delete the second row from a 2D array, the index to delete will be one, and the deletion will occur along the first axis, represented with a zero."
   ]
  },
  {
   "cell_type": "code",
   "execution_count": 54,
   "id": "7708746d-6ac9-47dc-9725-ae011298369e",
   "metadata": {},
   "outputs": [
    {
     "data": {
      "text/plain": [
       "array([['1', '22', '1', 'James'],\n",
       "       ['3', '27', '3', 'Amy'],\n",
       "       ['4', '26', '3', 'Meehir']], dtype='<U21')"
      ]
     },
     "execution_count": 54,
     "metadata": {},
     "output_type": "execute_result"
    }
   ],
   "source": [
    "np.delete(classroom_data,1, axis=0)"
   ]
  },
  {
   "cell_type": "markdown",
   "id": "13467620-f249-405e-868b-2b569d8c18e3",
   "metadata": {},
   "source": [
    "### Deleting columns"
   ]
  },
  {
   "cell_type": "code",
   "execution_count": 55,
   "id": "82335fcd-7e43-42d4-84a7-c21e89e4cb66",
   "metadata": {},
   "outputs": [
    {
     "data": {
      "text/plain": [
       "array([['1', '1', 'James'],\n",
       "       ['2', '1', 'George'],\n",
       "       ['3', '3', 'Amy'],\n",
       "       ['4', '3', 'Meehir']], dtype='<U21')"
      ]
     },
     "execution_count": 55,
     "metadata": {},
     "output_type": "execute_result"
    }
   ],
   "source": [
    "np.delete(classroom_data,1, axis=1)"
   ]
  },
  {
   "cell_type": "markdown",
   "id": "24d80582-efff-4ab2-99c6-037078250664",
   "metadata": {},
   "source": [
    "### Delete without an axis\n",
    "If no axis is specified, NumPy deletes the indicated index or indices along a flattened version of the array. \\\n",
    "If your code outputs an unexpected flattened array, you've probably forgotten the axis argument!"
   ]
  },
  {
   "cell_type": "code",
   "execution_count": 56,
   "id": "7fd8561c-8ccf-48aa-9a2a-75be78f0bad3",
   "metadata": {},
   "outputs": [
    {
     "data": {
      "text/plain": [
       "array(['1', '1', 'James', '2', '21', '1', 'George', '3', '27', '3', 'Amy',\n",
       "       '4', '26', '3', 'Meehir'], dtype='<U21')"
      ]
     },
     "execution_count": 56,
     "metadata": {},
     "output_type": "execute_result"
    }
   ],
   "source": [
    "np.delete(classroom_data,1)"
   ]
  },
  {
   "cell_type": "markdown",
   "id": "c48c3fe9",
   "metadata": {},
   "source": [
    "##  Array Methods"
   ]
  },
  {
   "cell_type": "markdown",
   "id": "91f51685",
   "metadata": {},
   "source": [
    "Arrays have useful methods, all of which are carefully optimized"
   ]
  },
  {
   "cell_type": "code",
   "execution_count": 57,
   "id": "b5c232f3",
   "metadata": {},
   "outputs": [],
   "source": [
    "a = np.array((4, 3, 2, 1))"
   ]
  },
  {
   "cell_type": "code",
   "execution_count": 58,
   "id": "82c242a4",
   "metadata": {},
   "outputs": [
    {
     "data": {
      "text/plain": [
       "10"
      ]
     },
     "execution_count": 58,
     "metadata": {},
     "output_type": "execute_result"
    }
   ],
   "source": [
    "a.sum()"
   ]
  },
  {
   "cell_type": "code",
   "execution_count": 59,
   "id": "071900af",
   "metadata": {},
   "outputs": [
    {
     "data": {
      "text/plain": [
       "2.5"
      ]
     },
     "execution_count": 59,
     "metadata": {},
     "output_type": "execute_result"
    }
   ],
   "source": [
    "a.mean()"
   ]
  },
  {
   "cell_type": "code",
   "execution_count": 60,
   "id": "bcc78b92",
   "metadata": {},
   "outputs": [
    {
     "data": {
      "text/plain": [
       "4"
      ]
     },
     "execution_count": 60,
     "metadata": {},
     "output_type": "execute_result"
    }
   ],
   "source": [
    "a.max()"
   ]
  },
  {
   "cell_type": "markdown",
   "id": "690b390d-175c-48f2-a9d5-fd070c84d9d7",
   "metadata": {},
   "source": [
    "- To get the index of the max value in a NumPy array, use `np.argmax`"
   ]
  },
  {
   "cell_type": "code",
   "execution_count": 61,
   "id": "3c94a7d4",
   "metadata": {},
   "outputs": [
    {
     "data": {
      "text/plain": [
       "0"
      ]
     },
     "execution_count": 61,
     "metadata": {},
     "output_type": "execute_result"
    }
   ],
   "source": [
    "a.argmax()            # Returns the index of the maximal element"
   ]
  },
  {
   "cell_type": "code",
   "execution_count": 62,
   "id": "806e7920",
   "metadata": {},
   "outputs": [
    {
     "data": {
      "text/plain": [
       "array([ 4,  7,  9, 10])"
      ]
     },
     "execution_count": 62,
     "metadata": {},
     "output_type": "execute_result"
    }
   ],
   "source": [
    "a.cumsum()            # Cumulative sum of the elements of a"
   ]
  },
  {
   "cell_type": "code",
   "execution_count": 63,
   "id": "254db654",
   "metadata": {},
   "outputs": [
    {
     "data": {
      "text/plain": [
       "array([ 4, 12, 24, 24])"
      ]
     },
     "execution_count": 63,
     "metadata": {},
     "output_type": "execute_result"
    }
   ],
   "source": [
    "a.cumprod()           # Cumulative product of the elements of a"
   ]
  },
  {
   "cell_type": "code",
   "execution_count": 64,
   "id": "10f60214",
   "metadata": {},
   "outputs": [
    {
     "data": {
      "text/plain": [
       "1.25"
      ]
     },
     "execution_count": 64,
     "metadata": {},
     "output_type": "execute_result"
    }
   ],
   "source": [
    "a.var()               # Variance"
   ]
  },
  {
   "cell_type": "code",
   "execution_count": 65,
   "id": "5f34961f",
   "metadata": {},
   "outputs": [
    {
     "data": {
      "text/plain": [
       "1.118033988749895"
      ]
     },
     "execution_count": 65,
     "metadata": {},
     "output_type": "execute_result"
    }
   ],
   "source": [
    "a.std()               # Standard deviation"
   ]
  },
  {
   "cell_type": "code",
   "execution_count": 66,
   "id": "9d418c80",
   "metadata": {},
   "outputs": [
    {
     "data": {
      "text/plain": [
       "array([[4, 2],\n",
       "       [3, 1]])"
      ]
     },
     "execution_count": 66,
     "metadata": {},
     "output_type": "execute_result"
    }
   ],
   "source": [
    "a.shape = (2, 2)\n",
    "a.T                   # Equivalent to a.transpose()"
   ]
  },
  {
   "cell_type": "markdown",
   "id": "39bfb381",
   "metadata": {},
   "source": [
    "Another method worth knowing is `searchsorted()`.\n",
    "\n",
    "If `z` is a nondecreasing array, then `z.searchsorted(a)` returns the index of the first element of `z` that is `>= a`"
   ]
  },
  {
   "cell_type": "code",
   "execution_count": 67,
   "id": "7600cb7f",
   "metadata": {},
   "outputs": [
    {
     "data": {
      "text/plain": [
       "array([2. , 2.5, 3. , 3.5, 4. ])"
      ]
     },
     "execution_count": 67,
     "metadata": {},
     "output_type": "execute_result"
    }
   ],
   "source": [
    "z = np.linspace(2, 4, 5)\n",
    "z"
   ]
  },
  {
   "cell_type": "code",
   "execution_count": 68,
   "id": "5a580fb9",
   "metadata": {},
   "outputs": [
    {
     "data": {
      "text/plain": [
       "1"
      ]
     },
     "execution_count": 68,
     "metadata": {},
     "output_type": "execute_result"
    }
   ],
   "source": [
    "z.searchsorted(2.2)"
   ]
  },
  {
   "cell_type": "markdown",
   "id": "337f7180",
   "metadata": {},
   "source": [
    "Many of the methods discussed above have equivalent functions in the NumPy namespace"
   ]
  },
  {
   "cell_type": "code",
   "execution_count": 69,
   "id": "0cee066f",
   "metadata": {},
   "outputs": [],
   "source": [
    "a = np.array((4, 3, 2, 1))"
   ]
  },
  {
   "cell_type": "code",
   "execution_count": 70,
   "id": "6f300cd7",
   "metadata": {},
   "outputs": [
    {
     "data": {
      "text/plain": [
       "10"
      ]
     },
     "execution_count": 70,
     "metadata": {},
     "output_type": "execute_result"
    }
   ],
   "source": [
    "np.sum(a)"
   ]
  },
  {
   "cell_type": "code",
   "execution_count": 71,
   "id": "0ce475a3",
   "metadata": {},
   "outputs": [
    {
     "data": {
      "text/plain": [
       "2.5"
      ]
     },
     "execution_count": 71,
     "metadata": {},
     "output_type": "execute_result"
    }
   ],
   "source": [
    "np.mean(a)"
   ]
  },
  {
   "cell_type": "markdown",
   "id": "fc43ec43-a9a3-41cd-9be9-81548cb7e8b2",
   "metadata": {},
   "source": [
    "# Difference Between NumPy’s All and Any Methods\n",
    "- If you want to get the row whose ALL values satisfy a certain condition, use NumPy’s `all`m method.\n",
    "- To get the row whose AT LEAST one value satisfies a certain condition, use NumPy’s `any` method"
   ]
  },
  {
   "cell_type": "code",
   "execution_count": 72,
   "id": "00bb85a8-7d00-4bb5-ab77-1f2486660da6",
   "metadata": {},
   "outputs": [
    {
     "data": {
      "text/plain": [
       "array([[1, 2, 1]])"
      ]
     },
     "execution_count": 72,
     "metadata": {},
     "output_type": "execute_result"
    }
   ],
   "source": [
    "a = np.array([[1, 2, 1], [2, 2, 5]])\n",
    "\n",
    "# get the rows whose all values are fewer than 3\n",
    "mask_all = (a < 3).all(axis=1)\n",
    "a[mask_all]"
   ]
  },
  {
   "cell_type": "code",
   "execution_count": 73,
   "id": "030243cf-33d5-4817-9f02-be49ea1799be",
   "metadata": {},
   "outputs": [
    {
     "data": {
      "text/plain": [
       "array([[1, 2, 1],\n",
       "       [2, 2, 5]])"
      ]
     },
     "execution_count": 73,
     "metadata": {},
     "output_type": "execute_result"
    }
   ],
   "source": [
    "# get the rows whose at least one value are fewer than 3\n",
    "mask_any = (a < 3).any(axis=1)\n",
    "a[mask_any]"
   ]
  },
  {
   "cell_type": "markdown",
   "id": "e3579e47-bbe0-44b1-bbda-e745df6ff8f2",
   "metadata": {},
   "source": [
    "# Vectorized operations"
   ]
  },
  {
   "cell_type": "markdown",
   "id": "69d29d49-301e-4a5f-97f5-cb0b0781f281",
   "metadata": {},
   "source": [
    "Just how much faster is NumPy than Python? It depends on the task, but the time that NumPy takes to perform a task can be anywhere from ten to a hundred times faster. Plus, using vectorized operations greatly reduces the amount of code we have to write! "
   ]
  },
  {
   "cell_type": "markdown",
   "id": "ad949a0a-5fff-469c-9df7-9c115f8323b8",
   "metadata": {},
   "source": [
    "### Adding scalar"
   ]
  },
  {
   "cell_type": "markdown",
   "id": "620ac0d9-e328-42c9-bc37-75930684a886",
   "metadata": {},
   "source": [
    "For example, using Python to add the number three to each element in an array requires writing a for loop. It's a lot of code for an uncomplicated task, and for loops are slow by their very nature, since the loop must be executed for each element one at a time."
   ]
  },
  {
   "cell_type": "code",
   "execution_count": 74,
   "id": "e7b0d681-c872-4719-9ca0-bdb9bb66fb24",
   "metadata": {},
   "outputs": [
    {
     "data": {
      "text/plain": [
       "array([[4, 5, 6],\n",
       "       [7, 8, 9]])"
      ]
     },
     "execution_count": 74,
     "metadata": {},
     "output_type": "execute_result"
    }
   ],
   "source": [
    "array = np.array([[1,2,3],[4,5,6]])\n",
    "for row in range(array.shape[0]):\n",
    "    for column in range(array.shape[1]):\n",
    "        array[row][column] +=3 \n",
    "array"
   ]
  },
  {
   "cell_type": "markdown",
   "id": "fcdeeb6c-9f5a-4854-9ed8-a3cbd5d8b926",
   "metadata": {},
   "source": [
    "Instead we do this:"
   ]
  },
  {
   "cell_type": "code",
   "execution_count": 75,
   "id": "7e44b122-d3c6-4a20-abf7-029a1e342491",
   "metadata": {},
   "outputs": [
    {
     "data": {
      "text/plain": [
       "array([[4, 5, 6],\n",
       "       [7, 8, 9]])"
      ]
     },
     "execution_count": 75,
     "metadata": {},
     "output_type": "execute_result"
    }
   ],
   "source": [
    "array = np.array([[1,2,3],[4,5,6]])\n",
    "array + 3"
   ]
  },
  {
   "cell_type": "markdown",
   "id": "ec73cb91-c6a8-4387-a302-12f66d079bd3",
   "metadata": {},
   "source": [
    "### Adding two arrays together\n",
    "- this is done element wise"
   ]
  },
  {
   "cell_type": "code",
   "execution_count": 76,
   "id": "e033df81-6c72-48b2-ba37-d3fd39521afc",
   "metadata": {},
   "outputs": [
    {
     "data": {
      "text/plain": [
       "array([[1, 3, 3],\n",
       "       [5, 5, 7]])"
      ]
     },
     "execution_count": 76,
     "metadata": {},
     "output_type": "execute_result"
    }
   ],
   "source": [
    "array_a = np.array([[1,2,3],[4,5,6]])\n",
    "array_b = np.array([[0,1,0],[1,0,1]])\n",
    "array_a + array_b"
   ]
  },
  {
   "cell_type": "code",
   "execution_count": 77,
   "id": "ed6819ab-1895-4fa3-b793-cd3677724148",
   "metadata": {},
   "outputs": [],
   "source": [
    "### Multiplying two arrays together"
   ]
  },
  {
   "cell_type": "code",
   "execution_count": 78,
   "id": "078f3c49-1a44-4077-9732-b804efcf540b",
   "metadata": {},
   "outputs": [
    {
     "data": {
      "text/plain": [
       "array([[0, 2, 0],\n",
       "       [4, 0, 6]])"
      ]
     },
     "execution_count": 78,
     "metadata": {},
     "output_type": "execute_result"
    }
   ],
   "source": [
    "array_a = np.array([[1,2,3],[4,5,6]])\n",
    "array_b = np.array([[0,1,0],[1,0,1]])\n",
    "array_a * array_b"
   ]
  },
  {
   "cell_type": "markdown",
   "id": "18954faf-172a-488c-8dfb-064406568b04",
   "metadata": {},
   "source": [
    "### element wise larger than!"
   ]
  },
  {
   "cell_type": "code",
   "execution_count": 79,
   "id": "2ea41882-d983-4c43-b136-108928a30648",
   "metadata": {},
   "outputs": [
    {
     "data": {
      "text/plain": [
       "array([[False, False,  True],\n",
       "       [ True,  True,  True]])"
      ]
     },
     "execution_count": 79,
     "metadata": {},
     "output_type": "execute_result"
    }
   ],
   "source": [
    "array = np.array([[1,2,3],[4,5,6]])\n",
    "array > 2"
   ]
  },
  {
   "cell_type": "markdown",
   "id": "a60f6891-707d-46b9-8aec-6f1007990a51",
   "metadata": {},
   "source": [
    "### Vectorize Python code"
   ]
  },
  {
   "cell_type": "markdown",
   "id": "bf418cfe-6a13-44c2-9e5c-4c9c796fda24",
   "metadata": {},
   "source": [
    "**Vectorize len method**:"
   ]
  },
  {
   "cell_type": "code",
   "execution_count": 80,
   "id": "52b70a57-d797-4ffd-b7e4-c63c210ff1b9",
   "metadata": {},
   "outputs": [
    {
     "data": {
      "text/plain": [
       "array([ True, False,  True])"
      ]
     },
     "execution_count": 80,
     "metadata": {},
     "output_type": "execute_result"
    }
   ],
   "source": [
    "array = np.array(['Numpy', 'is', 'awesome'])\n",
    "vectorized_len = np.vectorize(len)\n",
    "\n",
    "vectorized_len(array) > 2"
   ]
  },
  {
   "cell_type": "markdown",
   "id": "73c7bf28-5b58-477a-b732-2f65146a0d0e",
   "metadata": {},
   "source": [
    "# Broadcasting\n",
    "- It's also possible to perform mathematical operations between arrays of different shapes. Since this involves \"broadcasting\", or stretching the smaller array across the larger one, the conventions that govern this type of array math are called \"broadcasting.\"\n",
    "- Broadcasting only works with compatible arrays. To determine whether arrays are broadcastable, compare array dimensions from right to left.\n",
    "\n",
    "- A set of dimension lengths is compatible when one of them is one or they are equal. Every set of dimensions must be compatible for the arrays to be broadcastable. \n",
    "    - For example, dimension lengths one and five are compatible since one is one. \n",
    "    - Ten and ten are compatible since they are the same. Because both sets of dimensions are compatible, the arrays are broadcastable."
   ]
  },
  {
   "cell_type": "markdown",
   "id": "61068514-2b91-4cdc-86c6-c6f31d05a538",
   "metadata": {},
   "source": [
    "**Broadcastable shapes:**\n",
    "- `(10,5)` and `(10,1)`\n",
    "    - An array with ten rows and five columns is broadcastable with an array with ten rows and one column since one of the trailing dimension lengths is one, and the lengths of the first dimension are equal.\n",
    "- `(10,5)` and `(5, )`\n",
    "    - A ten by five array is also broadcastable with a five-element 1D array since the right-most dimensions are both five. Two arrays need not have the same number of dimensions to be broadcastable.\n",
    "\n",
    "**Shapes which are not broadcastable**:\n",
    "- `(10, 5)` and `(5, 10)`\n",
    "    - A ten by five array is not broadcastable with an array with five rows and ten columns since neither set of dimensions is compatible. \n",
    "- `(10, 5)` and `(10, )`\n",
    "    - Finally, a ten by five array is not compatible with a ten-element 1D array since the right-most set of dimensions is not compatible."
   ]
  },
  {
   "cell_type": "markdown",
   "id": "09fd72f6-bce2-4717-8854-a27dd7290280",
   "metadata": {},
   "source": [
    "### Broadcasting rows"
   ]
  },
  {
   "cell_type": "code",
   "execution_count": 81,
   "id": "3ec6525a-6a3f-44de-b806-16df64e21011",
   "metadata": {},
   "outputs": [
    {
     "data": {
      "text/plain": [
       "array([[ 0,  2,  4,  6,  8],\n",
       "       [ 5,  7,  9, 11, 13]])"
      ]
     },
     "execution_count": 81,
     "metadata": {},
     "output_type": "execute_result"
    }
   ],
   "source": [
    "# shape (2,5)\n",
    "array = np.arange(10).reshape((2,5))\n",
    "\n",
    "# shape (1,5)\n",
    "np.array([0,1,2,3,4,])\n",
    "\n",
    "# these are broadcastable\n",
    "array + np.array([0,1,2,3,4,])"
   ]
  },
  {
   "cell_type": "markdown",
   "id": "690571f8-7248-486c-856b-05447c640816",
   "metadata": {},
   "source": [
    "### Incompatible broadcasting"
   ]
  },
  {
   "cell_type": "code",
   "execution_count": 82,
   "id": "4bcd0291-054e-4f2a-ab4a-abc37996af2d",
   "metadata": {},
   "outputs": [
    {
     "ename": "ValueError",
     "evalue": "operands could not be broadcast together with shapes (2,5) (2,) ",
     "output_type": "error",
     "traceback": [
      "\u001b[0;31m---------------------------------------------------------------------------\u001b[0m",
      "\u001b[0;31mValueError\u001b[0m                                Traceback (most recent call last)",
      "\u001b[0;32m/var/folders/3j/22yv_sj10t96slp1b8b6z1zw0000gn/T/ipykernel_8551/2309090925.py\u001b[0m in \u001b[0;36m<module>\u001b[0;34m\u001b[0m\n\u001b[1;32m      1\u001b[0m \u001b[0marray\u001b[0m \u001b[0;34m=\u001b[0m \u001b[0mnp\u001b[0m\u001b[0;34m.\u001b[0m\u001b[0marange\u001b[0m\u001b[0;34m(\u001b[0m\u001b[0;36m10\u001b[0m\u001b[0;34m)\u001b[0m\u001b[0;34m.\u001b[0m\u001b[0mreshape\u001b[0m\u001b[0;34m(\u001b[0m\u001b[0;34m(\u001b[0m\u001b[0;36m2\u001b[0m\u001b[0;34m,\u001b[0m\u001b[0;36m5\u001b[0m\u001b[0;34m)\u001b[0m\u001b[0;34m)\u001b[0m\u001b[0;34m\u001b[0m\u001b[0;34m\u001b[0m\u001b[0m\n\u001b[0;32m----> 2\u001b[0;31m \u001b[0marray\u001b[0m \u001b[0;34m+\u001b[0m \u001b[0mnp\u001b[0m\u001b[0;34m.\u001b[0m\u001b[0marray\u001b[0m\u001b[0;34m(\u001b[0m\u001b[0;34m[\u001b[0m\u001b[0;36m0\u001b[0m\u001b[0;34m,\u001b[0m\u001b[0;36m1\u001b[0m\u001b[0;34m]\u001b[0m\u001b[0;34m)\u001b[0m\u001b[0;34m\u001b[0m\u001b[0;34m\u001b[0m\u001b[0m\n\u001b[0m",
      "\u001b[0;31mValueError\u001b[0m: operands could not be broadcast together with shapes (2,5) (2,) "
     ]
    }
   ],
   "source": [
    "array = np.arange(10).reshape((2,5))\n",
    "array + np.array([0,1])"
   ]
  },
  {
   "cell_type": "markdown",
   "id": "864f66de-90ff-4a59-a7c6-212e48b7ea58",
   "metadata": {},
   "source": [
    "NumPy's default assumption is that the user is attempting to broadcast row-wise.\n",
    "- Thus, a 1D array of two elements is not broadcastable across an array with two rows and five columns, because the right-most dimension of each array is not the same."
   ]
  },
  {
   "cell_type": "markdown",
   "id": "febe4840-f12a-4a38-b573-07213acfca13",
   "metadata": {},
   "source": [
    "We can broadcast an array of two elements across an array with two rows by changing its shape using dot-reshape so that the trailing dimensions are compatible. \n",
    "- Now, the array to be stretched has two rows and one column. Since a trailing dimension of one is compatible with any other trailing dimension, the arrays are broadcastable together."
   ]
  },
  {
   "cell_type": "code",
   "execution_count": 83,
   "id": "68e0e6dd-0227-4368-a068-a47704c99961",
   "metadata": {},
   "outputs": [
    {
     "data": {
      "text/plain": [
       "array([[ 0,  1,  2,  3,  4],\n",
       "       [ 6,  7,  8,  9, 10]])"
      ]
     },
     "execution_count": 83,
     "metadata": {},
     "output_type": "execute_result"
    }
   ],
   "source": [
    "array = np.arange(10).reshape((2,5))\n",
    "array + np.array([0,1]).reshape(2,1)"
   ]
  },
  {
   "cell_type": "markdown",
   "id": "af2e21a4-8fef-4dbb-8740-c7be2d2ea240",
   "metadata": {},
   "source": [
    "### Other operators"
   ]
  },
  {
   "cell_type": "code",
   "execution_count": 84,
   "id": "38e408b4-e811-42d3-8d1b-fadfea0d29a9",
   "metadata": {},
   "outputs": [
    {
     "data": {
      "text/plain": [
       "array([[0, 1, 2, 3, 4],\n",
       "       [4, 5, 6, 7, 8]])"
      ]
     },
     "execution_count": 84,
     "metadata": {},
     "output_type": "execute_result"
    }
   ],
   "source": [
    "array - np.array([0,1]).reshape(2,1)"
   ]
  },
  {
   "cell_type": "code",
   "execution_count": 85,
   "id": "cae7cc5f-348f-4046-83b4-15e7e2bd009f",
   "metadata": {},
   "outputs": [
    {
     "data": {
      "text/plain": [
       "array([[0, 0, 0, 0, 0],\n",
       "       [5, 6, 7, 8, 9]])"
      ]
     },
     "execution_count": 85,
     "metadata": {},
     "output_type": "execute_result"
    }
   ],
   "source": [
    "array * np.array([0,1]).reshape(2,1)"
   ]
  },
  {
   "cell_type": "markdown",
   "id": "1638542d-cdce-4453-a9e1-5fd2e66d79bd",
   "metadata": {},
   "source": [
    "# Calculate the utility function on a grid\n",
    "In order to describe the shape of our utility function, we need to numerically evaluate it on a set of points. \n",
    "\n",
    "Thus, we calculate the utility function on a **2-dimensional grid** (`x1` and `x2`) with $N$ elements in each dimension:\n",
    "\n",
    "$$u(x_1,x_2)=x^{\\alpha}_1*x^{1-\\alpha}_2$$"
   ]
  },
  {
   "cell_type": "code",
   "execution_count": 4,
   "id": "87435c71-df82-441b-9486-9d1bdf85bc05",
   "metadata": {},
   "outputs": [],
   "source": [
    "import numpy as np"
   ]
  },
  {
   "cell_type": "code",
   "execution_count": 5,
   "id": "37112a6f-f9ca-419e-afe1-5c2b31bb3689",
   "metadata": {},
   "outputs": [],
   "source": [
    "# x1 and x2 are positional arguments\n",
    "#alpha is a keyword argument with default value\n",
    "\n",
    "def u_func(x1,x2,alpha=0.5):\n",
    "    return x1**alpha*x2**(1-alpha)"
   ]
  },
  {
   "cell_type": "code",
   "execution_count": 6,
   "id": "7918276c-dd66-4e16-8b00-fd4f3125dcdf",
   "metadata": {},
   "outputs": [],
   "source": [
    "# a. settings\n",
    "N = 100          # Number of elements\n",
    "x_max = 10       # maximum value\n",
    "\n",
    "# b. allocate 2d numpy arrays for x1 and x2\n",
    "shape_tuple = (N,N)\n",
    "x1_values = np.empty(shape_tuple)  # alocate 2d numpy array with shape=(N,N)\n",
    "x2_values = np.empty(shape_tuple)\n",
    "u_values = np.empty(shape_tuple)\n",
    "\n",
    "# c. fill numpy arrays using a nested loop\n",
    "for i in range(N):  # 0,1,..., N-1 # \n",
    "    for j in range(N): # 0,1,...,N-1\n",
    "        x1_values[i,j] = (i/(N-1))*x_max  \n",
    "        x2_values[i,j] = (j/(N-1))*x_max     \n",
    "        u_values[i,j] = u_func(x1_values[i,j],x2_values[i,j], alpha=0.25)"
   ]
  },
  {
   "cell_type": "markdown",
   "id": "8d3b08af-9f21-43a1-8053-2ea502fb06b9",
   "metadata": {},
   "source": [
    "- outer for loop iterates N=100 times \n",
    "    - Next, For each iteration of the outer loop, the inner loop will execute 100 times.\n",
    "    - In each iteration of an inner loop, we calculate:\n",
    "        - $x_{1i}=\\frac{i}{N-1}*x_{max}$, where $N=100$ $\\&$ $x_{max}=10$\n",
    "        - $x_{2j}=\\frac{j}{N-1}*x_{max}$, where $N=100$ $\\&$ $x_{max}=10$\n",
    "        - $u_{ij}(x_{1i},x_{2j},\\alpha=0.25)$\n",
    "    - The inner loop will also execute 100 times because we are filling table N=100 times."
   ]
  },
  {
   "cell_type": "markdown",
   "id": "e70dcce9-824e-4cfe-8621-435cc0daa0a9",
   "metadata": {},
   "source": [
    "**Note:** x1_values and x2_values are **both 2d**.  \n",
    "This is not strictly necessary in the present case. 1d arrays would suffice below in the nested loop and filling out of u_values.  \n",
    "However, it makes them isomorphic with the mesh grids used for countour plots, which often need 2d mesh grids."
   ]
  },
  {
   "cell_type": "markdown",
   "id": "2ac65b7b-2b99-4b54-96e1-c67f59153c98",
   "metadata": {},
   "source": [
    "# Using NumPy to create grid\n",
    "**Alternatively:** Use the corresponding numpy function to create your grid.\n",
    "\n",
    "The purpose of `np.meshgrid` is to create a rectangular grid out of an array of x values and an array of y values."
   ]
  },
  {
   "cell_type": "code",
   "execution_count": 7,
   "id": "70949c22-2f0c-4c63-af8b-bce785d49726",
   "metadata": {},
   "outputs": [
    {
     "name": "stdout",
     "output_type": "stream",
     "text": [
      "Dimension of grid over x1 (same as x2):  (100, 100)\n"
     ]
    }
   ],
   "source": [
    "# a. Create array with 100 numbers distributed evenly between 0 and x_max\n",
    "x_vec = np.linspace(0,x_max,N)\n",
    "\n",
    "# b. Create meshgrids similiar to x1_values and x2_values above\n",
    "# note we use matrix idexing 'ij'\n",
    "x1_mesh,x2_mesh = np.meshgrid(x_vec,x_vec,indexing='ij') # <-- Return coordinate matrices from coordinate vectors.\n",
    "\n",
    "print('Dimension of grid over x1 (same as x2): ', x1_mesh.shape) # Note that the grid is 2d. u_func needs 2d to calculate element by element. \n",
    "u_values_mesh = u_func(x1_mesh, x2_mesh, alpha=0.25)"
   ]
  },
  {
   "cell_type": "markdown",
   "id": "d272d9b9-ccd7-4787-b375-7dec6981940e",
   "metadata": {},
   "source": [
    "### Test Whether results are the same"
   ]
  },
  {
   "cell_type": "code",
   "execution_count": 8,
   "id": "fe897dd4-2ac5-4725-b73c-a8fcebb65480",
   "metadata": {},
   "outputs": [
    {
     "name": "stdout",
     "output_type": "stream",
     "text": [
      "2.6645352591003757e-15\n",
      "True\n"
     ]
    }
   ],
   "source": [
    "#. a. maximum absolute diference\n",
    "max_abs_diff = np.max(np.abs(u_values-u_values_mesh)) # np.max element-wise maximum & calculate absolute value element wise\n",
    "print(max_abs_diff)            # very close to zero\n",
    "\n",
    "# b. test if all values are \"close\"\n",
    "print(np.allclose(u_values,u_values_mesh)) # Returns True if two arrays are element-wise equal within a tolerance."
   ]
  },
  {
   "cell_type": "markdown",
   "id": "23194cee-5f64-4d9e-99da-e1df96ad9554",
   "metadata": {},
   "source": [
    "**Note:** The results are not exactly the same due to floating point arithmetics."
   ]
  },
  {
   "cell_type": "markdown",
   "id": "c4663866-9d46-46c7-97d7-a9950b2d5f21",
   "metadata": {},
   "source": [
    "## Plot the utility function\n",
    "- import modules and state the figures should be inlined:"
   ]
  },
  {
   "cell_type": "code",
   "execution_count": 9,
   "id": "44b0c59b-9578-4341-8ccd-e686befeb2de",
   "metadata": {},
   "outputs": [],
   "source": [
    "# shows figures in jupyter notebook\n",
    "%matplotlib inline \n",
    "import matplotlib.pyplot as plt         # Baseline module\n",
    "from mpl_toolkits.mplot3d import Axes3D # for 3D figures\n",
    "plt.style.use('seaborn-whitegrid')      # whitegrid nice with 3D"
   ]
  },
  {
   "cell_type": "markdown",
   "id": "f26f1e6c-a0be-44a1-bc7c-bf192c46fdbb",
   "metadata": {},
   "source": [
    "**Constructing a plot-object in matplotlib**\n",
    "1. `fig` is the figure object. It's the main \"canvas\" you are adding elements to.\n",
    "2. `ax` is a reference to a specific subplot on the canvas (only one here)\n",
    "3. Use the `ax` reference to put a diagram into the empty subplot"
   ]
  },
  {
   "cell_type": "code",
   "execution_count": 10,
   "id": "140c103a-f09b-4cf8-b79c-0dab5c2ddefd",
   "metadata": {},
   "outputs": [
    {
     "data": {
      "image/png": "[encoded data removed]",
      "text/plain": [
       "<Figure size 432x288 with 1 Axes>"
      ]
     },
     "metadata": {},
     "output_type": "display_data"
    }
   ],
   "source": [
    "fig = plt.figure()                          # Create the figure\n",
    "ax = fig.add_subplot(1,1,1,projection='3d') # Create a 3d type axis\n",
    "ax.plot_surface(x1_values,x2_values,u_values); # Create surface plot of utility function in the axis\n",
    "# note: fig.add_subplot(a,b,c) creates the c'th subplot in a grid of a \\times b plots"
   ]
  },
  {
   "cell_type": "markdown",
   "id": "5c8a8b77-93e4-48f3-9fe6-14ae4f000658",
   "metadata": {},
   "source": [
    "You can make the figure **zoomable** and **panable** using a **widget**:"
   ]
  },
  {
   "cell_type": "code",
   "execution_count": 111,
   "id": "2a757c53-c476-482a-ab27-1b75b81686de",
   "metadata": {},
   "outputs": [
    {
     "data": {
      "application/vnd.jupyter.widget-view+json": {
       "model_id": "78b8a5f34aea4dc4b4d596f69fecb75a",
       "version_major": 2,
       "version_minor": 0
      },
      "image/png": "[encoded data removed]",
      "text/html": [
       "\n",
       "            <div style=\"display: inline-block;\">\n",
       "                <div class=\"jupyter-widgets widget-label\" style=\"text-align: center;\">\n",
       "                    Figure\n",
       "                </div>\n",
       "                <img src='data:image/png;base64,iVBORw0KGgoAAAANSUhEUgAAAbAAAAEgCAYAAADVKCZpAAAAOXRFWHRTb2Z0d2FyZQBNYXRwbG90bGliIHZlcnNpb24zLjQuMywgaHR0cHM6Ly9tYXRwbG90bGliLm9yZy/MnkTPAAAACXBIWXMAAAsTAAALEwEAmpwYAADXA0lEQVR4nOz9d5RkeXrXCX/uDe9tRmakjUgX6TOrqsv0tGYkwQDv8CJgeUGwC9qF5QgtRsA50korA7tCcAQyCIFeFichnJZXYoVZjDCamZ7p7vKV3kR6b8J7f2+8f9yImKzqMplV1TNd1fdzTp/qroy492b8ou/3Ps/veb6PUK/XUVFRUVFRedMQv9UXoKKioqKi8jKoAqaioqKi8kaiCpiKioqKyhuJKmAqKioqKm8kqoCpqKioqLyRqAKmoqKiovJGogqYioqKisobiSpgKioqKipvJKqAqaioqKi8kagCpqKioqLyRqIKmIqKiorKG4kqYCoqKioqbySqgKmoqKiovJGoAqaioqKi8kaiCpiKioqKyhuJKmAqKioqKm8kqoCpqKioqLyRqAKmoqKiovJGogqYioqKisobiSpgKioqKipvJKqAqaioqKi8kagCpqKioqLyRqIKmIqKiorKG4kqYCoqKioqbySqgKmoqKiovJGoAqaioqKi8kaiCpiKioqKyhuJKmAqKioqKm8kqoCpqKioqLyRqAKmoqKiovJGogqYioqKisobiSpgKioqKipvJKqAqaioqKi8kagCpqKioqLyRqL9Vl+Aymuh/q2+ABWVtxzhW30BKh9HjcBUVFRUVN5IVAFTUVFRUXkjUQVMRUVFReWNRBUwFRUVFZU3ElXAVFRUVFTeSFQBU1FRUVF5I1EFTEVFRUXljUQVMBUVFRWVNxJVwFRUVFRU3khUAVNRUVFReSNRBUxFRUVF5Y1EFTAVFRUVlTcSVcBUVFRUVN5IVAFTUVFRUXkjUQVMReUZ1Ot16nV1Uo2KyqcVdR6YispTkGWZcrlMqVRCr9ej1WrRarWIooggqKOhVFQ+DagCpqJyjnq9jiRJVKtVarUasixTq9WoVqsACILQEjNV0FRUvrUIaorkrUBdxNdAvV6nUqkgyzL5fJ7T01MEQaBer2MymTCbzRiNRkRRpFwuk8/ncbvdqqB9NlAX9VOIGoGpqKCkDGOxGFarlWg0SrFYpKenp/XzYrFIsVgkkUgAoNfrqVar1Ot1qtXqxyI0nU6HRqNRBU1F5RNEjcDeDtRFfEnq9Tq1Wo1arcbm5iZarRabzYbX60WWZarVKqL4eK2TLMtkMhlSqVTrZ2azGZPJhNFofOy1giCg0+laEZogCKqgvZmoi/YpRI3AVD6znE8ZZjIZqtUq3d3dmM3m575PFEVMJhPFYhG/348kSRSLRfL5PPF4HEEQWilHg8FApVKhXC633qvT6VoRmipoKiovjypgKp9JmoUZsixzdnaGJEno9foXitfT0Gg0WK1WrFYrAJIkUSgUyOVyRKNRRFF8LEJrCpogCIii+LGUo4qKysVQBUzlM8X5lGG5XOb4+BiXy4XL5WJra+vCx3le1KTRaLDZbNhsNkARy2KxSDabJRqNotFoWgUhTUGrVCokEgm8Xq8qaCoqF0QVMJXPDM09LUmSSKVSpFIpurq6PrZv1eR1pfaa+2rnBa1QKJDJZB4TtFwuh8fjaQkaoEZoKirPQRUwlbee871dkiRxcnKCRqMhGAy+kiC8bAGUVqvFbrdjt9sBqFarFAoFJEni4OAArVbbSjnqdLqPCVqzKEQVNJXPOqqAqbzVNMvcm4UWJycntLW14XA4Xum4r7PwQqfT4XA4SKVS9Pb2Uq1WKRaLJJNJyuUyer0ek8nUErRyufyxopDzVY4qKp8VVAFTeWuRZblVZRiPx8nlcvT29qLX65/6+mbT8kVF4JNoQREEAb1ej16vx+FwtAS4UCiQSCSoVCqtYhOTyYRWq31M0DQaTSvdqAqaytuOKmAqbx31er3VeKzX6zk+PsZoNBIMBl94Q7+MgH0zOC9oTqezVfpfKBSIx+NUKhUMBkNL0ECpggRazdU2m62Vcvw0/W4qKq+KKmAqbxXNG3yxWCQWi1Gr1ejo6GiVuD+Py9zcv1VCIAgCBoMBg8GAy+V6TNCi0Si1Wg2DwYDJZGpVXOp0utb7mxGaKmgqbwOqgKm8NTTL42VZJplMUiqVGBwcRKu9+Nf8TXOmeZqglctlCoUC2Wy29Zk0IzRBECgWiy3hUgVN5U1GFTCVN57zvV3VapWjoyNMJhMWi+VS4nXZm/enUewEQWj1lzULPiwWC8VisdWwbTQaW31oqqCpvMmoAqbyRtPs7WraQcViMTo7O9FoNEQikUsf76Ki9Kbc2Ju2VyaTCbfbTb1ep1QqUSgUSKVSyLLc+rnJZEKW5ccE7bzTvipoKp82VAFTeSM539slyzKnp6fU63WCwSAajYZyuXzpCOltuzk/7fdv+jSaTCY8Hg+yLD9V0JoRWvMzPh+habVa9Hq96rSv8i1HFTCVN47zvV3lcpmjoyM8Hg9Op7N1Q22WxF+Gp73neTfoT2MK8UleJDBNn8amB2QzAjs/Oua8oGUyGSqVCi6XC0EQHks5qoKm8s1GFTCVN4rzvV3JZJJ0Ok13d/dTx5i8DE1RkmWZo6MjisViq0zdbDY/VtH3aedlBFYURSwWCxaLBfiGoDXL9iVJQqvVtoyJJUmiVqsB6rRqlW8+qoCpvBGcL9Ro2kFptdpn2kG9bAQGUCqVODo6wuVy0dbW1mokjkQiHytT/7TzqgLypKClUilKpdIzR8c0C2ma51YFTeWTRBUwlU899XqdfD6PRqOhUChwenqKz+dreQk+jZcRMIB0Ot2K6ppTl58sU2/ewCuVCnt7e60buNls/lR5E35STiFGoxGn0wk8e3RMU9DUadUqnySqgKl8qmkWEezu7mK32ykUCs+1g2pyWQFrpsrOF4LIsvwxZ45mxGEwGCgUCnR3d7dSbIlE4rGIxGg0fqoE7XXw5Gf6rNExmUyGUqnUctpvfmZPCtqTxsSqoKlcBlXAVD6VnE8Znk9LBQKBC93kLiNg5XKZw8NDtFotPp8PjUbz2HGedXz4eIqtGZE8OfurGZF8s2/Qr/t89Xr9uaL8rNEx6XSacrn82Oeh1+tbwz2bs9CeNCZWBU3leagCpvKp43xvVy6XIxKJoNFoaG9vv9RxLiJgqVSKWCxGd3c3sVjssZ9dxDfxSZ6MSJrO8s29o6YRb7Mg5JO8QX8Svo6XPeazRsekUinK5XJrdEw+n8fr9T42rboZoTVTjqqgqTyJKmAqnxqe7O2KRCJUq1UCgQC7u7uXOtaLbnSyLHNycoIsy62U4Sdxc2zegO12+2PO8rFY7DEj3mYZ++vmk/idXuWYzdExTzrtS5LE/v7+Y6NjmhGaOtxT5VmoAqbyqeB8yrBSqXB0dITD4cDv97/2m3AzZehyuVr9THC5tOPLXNPTnOWbvoVnZ2dUKhXOzs5agnY+lfkyfBJFHK8zqmt+Hlqtlmw2S3d393NHxzxtuKcqaJ9tVAFT+ZbT7O2q1+uk02ni8ThdXV2t8SBNXsfNM51OE41Gn3r8bzbnfQvdbje7u7vYbLZWiq1er7cKQkwm00vdoD+JFOLrprmuLzM6Rp1W/dlGFTCVbxlPs4MCWim984ii+EoC1jx+rVZ76vHh5UvvXxeCIHzMFaNQKJDP54nFYo+VqDeNeJ/Hpz0Ce9ExXzQ6plqtYjQaWylHQRAeG+4Jyp6k0WhUBe0tRRUwlW8JzZtR04vv+PgYj8eDy+V66utfRVyaKUOn0/nClOSnqTlZFEWsVmtrltn5EvVIJNIqgGhW9H0zChw+CQGTZfnClaXPGh0TiUSQJOmxCK1arZLJZGhrawPUadVvI6qAqXzTeZodVE9PDwaD4ZnveZXG5IumDD/tN7QnS9TP7xeVy+WPVTjCp6+I42m8rCg+mYJtNpk3R8c0TYgLhUIrYi2VSq3zNYtIfD7fS197KBS6CfyNcDj8HaFQaBD4FaAOLAF/NhwOyy99cJUXogqYyjeNZtQVi8VwOBwcHx+j1+ufaQd1npdpTK5Wq6TT6WemDJ91jW8KT1b0PZleA1rzvy4zF+15fBpK85/Fead9t9tNNpsll8tRqVSeOjqm2a/3sgIWCoV+CPgeIN/4q78J/Hg4HP5qKBT6e8DvA/71K/9iKs9EFTCVbwrNG6wkSSQSCVKpFO3t7a1o4kVcRsAqlQqHh4cIgkBPT8+Fb46f9gjseTwtvXZ2dvZYu8D5gpCXrXD8pPbVPon9qXq9jsFgwO12f2x0zObmJj/7sz/L8PAwX/rSl7h161arGf0SbAF/APhnjf++Brzf+Pf/BPxOVAH7RFEFTOUTp+mkUa/XicVi1Go1hoaGLuXsLggCsvzibExzf6izs5Pj4+NLidK3uojjddIcdWI2m7FYLI/dvJtjUs4XhDQFpF6vUyiVyReKZPMFCsUyxXKZQrFErSZxcHSM1WqlWKmiEQWyuYKSpiuVFestQJJkjHo9xXIZm9VMNlfAYbOQKxSxmk2Uy1W0Wg0aUVT+FATKlTL+dh/1OljMRkRBwGjQo9frMBr0mAwGTEY9RoMBs8mIyfDiPb8nhfF8EYzX6+Wnf/qnWVhYYH5+nnq9zhe/+MVLfcbhcPj/DoVCgfMfezgcbn6BsoDjUgdUuTSqgKl8Ypzv7apWqxwfH2OxWFrNvZfhReIiy3KrlyoQCLRSZpdNT70tAtakKS6nkRgn0TjJdJbD0yiVSpW17T10WpGVzT3cdhuLG7t0eD2s7ezT19VBsVTCajai0+mQJRmHw0o2m8frdlEolnA5rKSzhcaf+YZYFTHqdZQrVQRRQCOKVKs1zCYjhWIJu81CKpPFabMST2UwGvRksnlqtRpms4lMPk+H18PW/jGDfV3MrqzT3eFjffcAg16H2WQkmc5ydXyY1a093p0ZZ2v/mN7OdkRR4Ff+xo9i0CvfLVmWnxvZGY1Grl+/znd/93e/ro/7/BOWDUi9rgOrPB1VwFQ+Ec7bQTV9Af1+PxaLhUwmc+njPU/AmilDu91OR0fHY43Jlz3Hk3wSez6fBIl0ho2dA3YOjtk5OuXgJML2/iHpbIF0Lk+vvx1JlnDabUiSjEYUqNZqSHIdSa6TzOYRRRFJrlGv17GY9OwendDbOcL9xTVuzYxzZ26ZyeEgHzxcYDjYw6OVdbwuB4vrBWRZxu10cBZLMjEcZGl9h3dnxvjo0RLXJkK8f2+OXr+PB0th9FotNquZWDLN1MgAK1t7XJsY5uHSOiMDvXz0aAmLycji+jaFUhmDXodWo+HaRIj1nQOujg+TzuTp7+kkky/gcTkw6HVcmwi1xAtenJr8BFKXs6FQ6DvC4fBXgS8BX3mdB1f5OKqAqbxWnmYHVavVHouKXoZmH9iTnE8ZPmnH1BS9y+yBNc9Rr9c5PT0lk8k8Vq5+kf6rTxJZltk+OGZ+dZP941PuzC4j1+vsH5/R39NJqVLBajFzFk1gNRtY2z7gyvgwd2aXuXVlnA8eLCh/Plzi1swYDxZXuTE1yr2FNa6MDTG7ssHIQC/Lm3v429wshrfwOG3sHh7jddkpVyp0+bx4nHb6utoJdPs5OI7Q4/dxcBrhxtQI0USakf5eookU3e1tVGs12r1uujrayOQLjA0EeLgUJhTsYWFtC7PJwPrOAQAaQRGUyZEB7swtEwr2sLi+jUGvY3Vrj2Q6S4+/na2DY65PKuLq8zjZ2D3gZ374T3/ss3reWsmy/NqKWxr8APAPQ6GQHlgF/tXrPLjKx1EFTOW10SxLliSpZQd1kd6ri/BkBNYsUiiXy88Ux5fZ02r+DoeHh1gsFvr6+pR9oYaj+tnZGTqdrrWv9ElHaJVqlbnVDT54sMBpNM7X7s0x2NdNLl9Eq9VwdBZDlmViyTT5YpGaJCPLdYx6PdlCAafNykkkwcRQkFqtxq2ZMTSiyLddm6Jak7gxNUqlWmN0oI9KtUq714VGo8Gg19HR5uEkmmB6dIi78ytcGx/i4fIGI8Fubs8u0+Xz8sH9RfR6Hcl0lmQmh1bUsnN4ws2pUe4trHJjaoR7C2v093Rye3YZk9HAytYu5WoVnU6LRiMyMRQkvH3A9ckQJ7EEY0N9ZHJ5JoaCuJ12rBYzboedTD6PUa+nVK5yY3oUvU7L9MgAHqeNkYEg7V73Y5/di1KI9Xr9le26wuHwLnCr8e/rwLe/0gFVLoXamq7yWpBlmXK5TK1WI5VKcXR0RFdXFx6P57WVSDfFqFKpsLOzg0ajobe397lP0ZcRsKaTw97eHm1tbbS1tbWKIWw2Gx0dHfT19bUaYyVJYm9vj9PTU7LZLJIkvdov2WD/+Ixf+rX/hx/8qb/D7/wf/yJ/65f/f3z4YJ4vf/QInVbLl28/oirV+PDhIv42D1qNyLtXxxkK9PDORIhgTyfD/T1oNSJd7V72jk4wGg08WAwjyXU+fLhIVZK4O7+CqNEwt7qJ3WZheXOXro42ljd2CHb7mV3ZwN/m4dFyGLPJwPaB4pRSriq/p8flQJJlRoLdJDM5pkL9rO8e0Onz8HA5jE6rYffoDACbRenBmx4ZIJXJMTrQx9L6DmaTkeWNXdK5PLliicPTKHarhZXNXaq1Gl+7P8/S+jYPlsLcnVslmytwd34FWa7zwYNFjs/i3FsI8yf/0O/+2Of4ohThiwRO5dOP8LZtWn9G+ZYt4vlCjWbJtiiK+P3+Z94ctra26O/vv5SwRSKRVvru7OystZ/2PHZ3d+nq6rpQwUi9Xmd/f78V0en1+lbp/7Ouc29vj97e3lZ1X6FQeGn/woPjM/6vf/uf+ODRMmaTERBYXN9isK+be/Mr3Jga4zSaYKCvS+n3KpXJF0scnkVxO+ycRhP0drazc3jCUF8X67uH9Pf4iSUzBHv8VCpV7FYz9Tro9TokSbl5V2sSgqBEelVJQiOIZHI5XA4bJ5EEfV0dhHf2GRsMMLe6wVBPF6s7BwS7/WwfnOCwmanVJIrlCn6vm0g8yXCgm52jU8YHA2wfnNDb6eMslsRiNrU+a7fTRr5Yps3lIJZMYbOYqdRqCIKgXFe1hsVsIpHK4HHa2T+OYDIaOInGyeULuJ12jiNxbs6MMRLs4ad+8Ps+9pmenJzgdruf2SB/dHSEx+NpPZC8gE//RuhnEPXxQ+Wlad7gmxZHTTParq6u5964X7ZcPZlMEo/HCQQCF+rZueh5JEni4OAAWZbxeDwvnPb85DlMJhMej4eenh66u7sxmUzk83kODg44PDwkkUi0HCDOU65U+b9/8yv82b/8s/yFn/x5/sNX76DVann/7hypbJYefxs6rYbPvzPN4vo2HW0evnLnEVK9zuzKBm6nnQ6Pi+FgD9cmQvT4fcyMDmK3WvC5nVCHTC5PqVxhdWuPfKHEvYVVcoUSt2eXqVSr3JtfQRAEZlc2sBiNzK9t4rBZebS8gdlo4M7cMgLwaHmdUqnCcSxBuVJFp9VSqVYZ6O0imckxMRRk9+gUn8fJfHibcrnCyuYup7EEqUyWveMzrGYjK5u7aDQaPny4xM7+MR/OLjG7uslJLMGduRXqdfjw4SLpXJ6v3JllbXuf2dVNNveP0Om0xJJpJob7OYsnCXR1EIkl+bN/7A88dW0uUsTxqilElW8tagT2dvBNX8RarUY0GsVgMLQcDbq7uy9089/Z2aGnp+fCG+jVapWdnR2MRuOlGpP39/fp6Oh47jWVSiUODw/xer2tPS2PxwNwoQisr6/vhdfejM7K5TIGg4FKTeZf/eZXmV3ZoA58/f4cw4EeyuUybW0eDHo9X7s3x7XxEA+W1gj190G9jtftRBQEYsk0RqOBR8thpkcGmV/b4ur4MI+W17k2EeLhUvjcn8NE4km6OnzkCyUcVjPlqoTRoKNaq6HTaKlJEoIgIMmSUqGo0VCqVLCbzSSzOdrcTiLxJO1eNwfHp/jbvMRTGawWE4ViGY1GRKfVUKtJOO1WsvkiboeNdDaP1WIily+CUKcuyVSqNcxmA6VyFZfTRiyZwaDVEE9lqQsgS8p+XrC7k6WNHW7NjHFnboW+znb2js8QBIGudi+Hp1FuTo8x0NvJz/5vf+apn/3h4SF+v/+ZIrW/v09XVxdOp/O5a9hAjcA+hagRmMqlaBY5VKtVSqUSJycnSJLUSrtdhGdVFD6NbDbL3t5ey9T2dTYmp1IpDg8P6e7uxul0fmIDLZtzzVweL//03/xXfvCnfpGv3Zvl7uwSsXiS965MchyJo9FqWV7f5iwa53NXJwH4wo0Zwtv7OGxWPniwQDKTY2Vrl0qlQrDbj91q4daVccxGAzemxqjVJAZ7u4jEk+i1Wo7OYhydxTg+i7EY3uYsnuL+wiqpbJ47cyuUKhVuzymVjHfnVxFFkbvzK9SqEl9/uEA8lebr9xfY2j9mbnWTjb1jzuJJljd3oQ5LjQrBB4thcoUiX707R3h7n7vzK9xbWOX4LMa9hVVEQeT+0jp1BG7PrbJ9cMxHD5dZWNsilsywfXiCz+1i7zhCT2c7Sxs7uOw2Thqp0d7OdiaH+/ltt67S6fPwbdcm0Gk1fP/3PD36ghe3QKgR2JuPGoG9HXxTFvF8b1c+n+fo6AiXy0V7e/uljrO/v097e/tzzXvr9TqRSIRisUh3dzeZTOax6OgiNCMro9H4sd+jafba1dXVuomlUilqtRper7d1Da8agYGSovyX/89/5Te/dpd8sUgklsTndSPLMuHtPawmE10dXnKFIgaDgfnVTbo7fGQLBSwmMx2NykCL2cjhaRSvy8GHjxa5NTPBnbnlVo/WrSvjSrl847+vjA6yvnvI9OgQR2dRuv0+0ukcLoeVfKmCyaCjJknKNGqgXgeNRqRaqynVfpUKVrOZfKGEzWImk88jUqeOgFanRapJ1AGdVkOlUsVqNpPJ5XHarUSTaaxmI4lUFqhTq8lk83l8XjfruwdMhfq5O7/KVKifhfA2VrMJWVZcQELBHsI7B9yYHuXe/Co9fh+Hp1Hq9Tq9ne3sH59xa2aMXn87f+vHv/+Zn3tzj/JZ67ezs8PAwMBFLaTUCOxTiCpgbwef6CKe7+2q1+tEo1FKpRImkwmDwXDRFEyLZwlLk/Nl7M1KwGQyiSRJLXG5CEdHR7jd7sdc6KvVKgcHB9jt9o9VSKZSKarVamtTvxltPouLCNjGzj5/+5/8OsdnUQqlMhpRJJMrYDDosZqMaESRxfUdtDoNLpsFg0GPx+Egmkxh0OuZX9tiKNDD3tEJXpeTbL6A1WLCbDbitNnQabWIooBGI5LLFxFFDbFEkjp14sksgqC42OcLRTwuB6exBP09nWwfHDMZ6mcxvN3oA1ttCV8zHam87gS7VWkZyBeKdLV7OTqLtVKUzRTfyEAfa1t7OKwWqpJEoVhiKNDNxu4hN2fGuDu3wvToIPNrm7gdNoqlCnXqDPX1EE0kGQ72EEumaXM5FaEUBASgJknYrRbSuQJ2q4XjaBxJkiiVyvyrX/xJ+ns6X3p9tra2GBkZeeb38AlUAfsUoqYQVZ7L+ZRhtVplb28PjUZDX18fWq32Qv6ET/K81F4ul2uVsft8vpbAXCbt+KzzNI/d3t6O1+v92JP560wh1ut1fvXf/Rd+4m//Eht7B5TKVeLJNFarBYvJSCKVJlcokchkeWdqhHaPi1K5QiyZ4cHyOoIgEk9neO/aBDazkXcmhjEadYwN9nESTeB2OHi4FKYmSXz0aIliqcLsygaiAHvHZ/jbvOSLJcYGAxRLZW7MjFIH3rs6AdS5NTNKtSpxbWKYUrnCzNggNUniyugQZqOBmdEhAl0dTI8McmNyhP4eP99+8wpmg4FrEyFyhSJDgS4y+QJdPi82swmX3cr4UJBiqcz06CAbu4d4XA5mlzcAyOYLAAwFeyiWywwHlCblXKHIw6V1Vjb3iKczzK5sotXqeLC8QTSR4YNHS8yvbbFzcMzW3hFeh50bU6MEu/2vvEZqCvHNRo3A3g4+kUVszu2q1+tkMhlisdhjjhfJZLJVuXcZTk5OsNvtj6VuminDQqFAd3f3x0rfM5kMpVLpUqMvjo+PcTgcmM1mYrEYuVzuqcdukk6nKZfLrXO8bARWrlT5uX/4q3zt3ixms5HTaIJgdydHZ1EOTyPcnB4nXypydBLFbDKxvrvPt12fJp3O4HW7OY3GKZYrxJNptFoNOp2WTC5Pm9tJNJGmt9NHXZZx2mwgCJhNRoqlMkaDgWgiicVkYv8kgkGvJRJXIrk6dcqVCk67jUg8yUBvF1v7R8yMDjK3utmKkm5Mj3FvfpXRgT5Wt/ZoczlJ5/JIkkS7x8VJNK5EUqub5+yl+llc38bttFMoliiVKwz2dXEaTTA9Osje8Sn93Z1EkynsVotSNIKAxWyiXKmg04gUy1WMeh2JjDL+RKfTcXgWJRTo4cFSuOUSYjUrrRS//Fd/gO52z3OHej4vAqvX62xsbDAzM3NREVMjsE8hagSm8jGaN+5yudzq7cpkMgSDwcfsmkRRfC0RWK1WY3d3F4BAIPBUgXmZ0ntBEKjVauzv77fsrJ7XE/Y6IrB0NseP/uzfZX51nXKlhslgwGYxs31wRLvXRbDbz/v3HqHTaOnweXE7bYT6e3iwsEqlWuMrdx7hsFsRBYGb02OE+nsZGwzQ62/H43RQKlcQBQ0be8cksznuL65xcHzKvYVVzmJxVrf2qNRqROJJnDYr5UqVsaE+svkCV8eGiSfTXJ8IcRZLtErfA11+dg9P8LkdRBMpHDYLBr0Om8XEYF8XUFdcMqJxgl0dzK9uYrdaWFrfBqBUqQAw1NdNqVzhytgQm3tHmI0G7i+ucnga5eA0wurWHgAPl9apVGu8f2+O5c1dHi5v8GApTDpXYGVzF4/LwerWHjazifm1TWwWM7IsM9TXzc3pMb77d/823rtxlb6+Pnw+H6Iokkgk2Nvb4+TkhHQ6/dwHD/hGg7sagb3ZqBHY28FrW8Rm4ULTWeP4+BiXy4XL5frYDT6TyVAsFi9dxHF2dobJZMJut5PL5Tg9PaWjowOr1frM9+RyOXK5HB0dHRc+z+HhIYVCgfb2dhyOF0+2yGazrdfD5SOwbC7PX/75f8je8SkGvZ5cvkC1ppjjGvR6js+iDAZ6KZUrPFha5frkKI+Ww3zu6iTlSoVisUxNqrNzdNyoyDtjdKCP5c0dZsaGmFvZ5MbUKPFkmm6/r+Xuni+UMJsMJFIZzAY9p7EUDruF40gMl8POSTSOXqelVK5SKpfxupycROOE+nsJb+83PAXDrSKQK6ODzK5u0t3exmksjlajwWo2EU9lCAW6OYzEuDI6xPruIUOBLo7P4ridNkrlClqNFovZSLVWa5XUW0zGVvpQkmTyxRJOu43dwxMGejv58NFSa79Mp9XgtNuIJlItr8PpkQHm17YwGQ3odVp+7W//BJPD/R9bj/NDPZv/2Gy2VoR2vm2j+dB05cqVi36dnvp0EwqFdMA/AQKABHxvOBxeu+hBVV4NNQJTaSFJEuVyGUmSSCaTHB8f09XVhdvtfmp08rIRWPN9kUiEaDRKX1/fc8ULLj4PrEkymSSXy+H1ei8kXk2efKC76ANeuVzmr/7ir3AciaERRVLpLOlsDqvZjNlkIp3N0e1v5/17s+j1Oj53dZJUNsfEcD9fvTtLHYG5tS2sFhN+n5dgj58bM2PYbVbGh/rJ5hQh2D065fAsysrmLgtrWyyt7/BgcY3w9iFzq1ucxlNsH55QLFc4i6fQakTS2Tw9HT4lChtXIqmZ0UHC2/sEujp4sLSuRFRhJaJKZHIAtHtdSJLMlbEh4qkM44MBwruHGHQ6HiyFicSTHJ/F2Tk8QaPRsLyxi1Yr8tHsEvsnEb56d5Y7cyts7h9xb2ENQRB5uLyOXqfjztwy+VKJ+bUtAGxmE/42D+9dm6Td4+K9qxOIosDN6VHcThvvTIR498o4X/zctaeKF3xjqKfL5aKjowODwYDD4aBarXJycsLe3h6RSIRcLke5XH5dNlK/G9CGw+HPAX8F+Guv46AqF0ONwN4OXmkRn7SDOj4+RqvV0tHR8dz/yQuFAqlUis7OZ1eCPY2zszMymQx2u/2xQo3nUSgUSCaTdHV1Pfd15ycQ63Q6zGYzdrv9Qtf1ZJR3mTL6n/tHv8r9+VWiiSRarRan3YooitybX2FiqB+pLiEgYtDr+PDRIjNjwxwcnzIyEEAQBLL5AnVZYiG8o1T4LYe5OT3O3fmV1l7Tu1cm2Dk4YXSgl3g6i8/tIJsvYrOYlWGRFjOpTBaHzUokkcKk05LK5bFbLcSSaTSiqFhG1WrYrRYyuQK9ne0cnEQZCnSxtX/MQE8n+ycR2j0ukpksJqOhJeI2i5lMJkuHz0smX8BuNpMrltBqRGqyhFSTMBoNJDNZ2twutveP6fC5WQrvYDIYyOQLVKpVhvq62dg7bFUwBjp97B5H0IgiXrcykqVZQt8czWLQ6TCbjfzTn/5Rrk2EXriWtVqNs7Ozx74vsixTLBbJ5XL88A//MNVqle/8zu/kS1/6EiMjIy865LMisFEU0fqDwH8H/KFwOPxHXniBKq8FVcDeDl56EWVZJplUbrqSJHFyckJbW9uFopZSqUQsFqO7u/vC52taLNnt9ksJX7FYJB6PP/dczblgDocDt9tNLBZDr9dfOALL5XJks1n8fqW67aJeiP/hyx/yz/7Nb7b26TSiyAcPFrg5PYZer+P2o0WG+/uIJlIEujowmQwsb+wS6PJzZ26Z6dFBFta2GOz1I4giPo+bOnWqVQkEgbNoHAQ4jSZwWC1k8gXMJiOlUrmVFqtUa1jNJhLpDN0dbeyfRBjo7WRr//hcybsihO9MjvBgcY3B3k42909wO2zkiyUkSaLN7eQ0mmBqZICFta2WyDTTeG6HjVyhSKVaa/VkXZ9SUn3vTIR4sBTG3+YhkkghSXLrNTenR1nd2mNsMEg0kcRusyAKysBLrQgyIlaTiVg6TV2SyRaKJFIZ/D4vq1t73JwZQ6fV8mu/8H9caC0rlUqr6OhpFAoFdnZ2yOWUaPMC05ifJWA9wL8FrIAX+D3hcPijC12kyiujCtjbwaUX8XxvVyQSaZXJX9QOCpS02dnZGb29vRc6X7MS0GazIQjCpaoXy+UykUiEnp6ep/48m81ydnb2WJVkLBZToqEL9qnl83kymcxjApZIJNDr9R+rcAOlITtTrvG3fun/olRSIpv5tQ2mR4cQgPsLqwwFenC77OwdnuFy2lhqVOs5bFbsVis2s4mTWBy33c4HD5VZXXfmlrkxNca9hdWW2FwdH2Zte4+r48OcnMXp6/aTSGXwup1kcgUcNgvZfAGb2USmUMBqNhGLJ3E67OQLRYwGvVIAIooIgjLM0mIyUSyXcVjNJNM5rGYjmWwei9lIpSYpPWaCSFWqYW5EUCaDlnSuhNtp4+A4gkGvI5pMks0X8bocHEfiXJ8c5f7iWmtIpdfpaEVfw4Fu1ne/EX01RVYUBdo9bk6icW5Oj3F3foWxwQCrW3t4nHY8Lgc/9QPfy62Z8Qt/X5LJ5DP3THO5HMlkkrGxsQsdj2cL2N8EyuFw+EcaYvZlYDIcDpcuemCVl0edB/YZ5HzKsFarkclkMBgMBIPBS1XiXbQ3q1arcXh4iNFoJBAIXKhK7EmeVYXYbKzO5/NPnQt22XEqzddLksTh4SGiKJLJZKhWqy2XebPZjEajIV8o8jd/6dc5iSXI5Qt0tnuZGO5n9/CErg4fV8ZDLKxtchJNEOjxIwoCn7s6yd25ZTxOB3Mr63hcDoqlMulMnuFAD5Is84UbVyiXK3z7jRmOIzHemRxhYW2TQFcHHzxYpL+nk6/cmaXL52VpfQeH3UqhVEIQwKDXk87m6Gpv4+AkwthggJXNXW5MjfKgFYWtMD0yyNcfLNDd0cbcygY6rRazyUgilWGkv5e17X1mRgaYW9ticjjIvflV/G1uIokU9XqdDp+H47MY70yEWNvZ553JUeZXNxgO9HIciTHY14UgCFwZG8LjspPLFbGYjWTzRa5NDFOt1ejv6aTd4+LwNMrkcD8PlsK4nXZmVzYeW4/+Hj9yvc7N6QuLzQuHWb7GacxJoPllTgA6QC1t/CahCthnjPO9Xblcjkgkgs1mw2AwXLqM/CJFHPl8npOTE9rb27HZbK33vWpTMnxDGE0mE4FA4KmNyS8z0LJp8Ovz+TAaja1jFIvF1l6cIAj85N/9Z8h1sFvNWExGkpmsslfTaFS2WcxcmxxhcW2Lw5MIWq2WZDrDlfEQNUniCzdmODiJ0NvZzt25FUYGerm/sMboQIDVrV2GAz1s7B4yHOihUq2h0Whw2Cz4GoMbezvbcTqsdHjdJDJZPA47qWweh81MJl+k2+dBBj7/jjK88tbMOFqNhpvToxgNBq5PjuCwWmj3uHHZrUSTKUb6e4kn04wNBMgWirS5HZSrNfQ6LR6n4k14ZaxRpdjRxqOVDURR4PgsSrUmYbeZWd894NpEiAeLYbxOB8sbu0r0FexhfeegFX319/j5aFZxu4+l0vg8LsYG+4gnM3hdDgqlMreujKPXaPi+//73Xer7+aJZX1LDQus18PPAL4dCoa8DeuBHw+Fw/nUcWOXFqCnEt4MLL2KtVqNSqRCJRCiXy3R3d5PL5R7zALwosiy3/OQ+dkGNlOHTXOqz2Sz5fP5SJfFNsQoEAoAiJkdHR/h8vmcWaSQSCQDcbvdTf/4kxWKR09NTJEmiu7sbo9HYEvsnb54/+w/+Bf/hy1/H5bATT2UwGvTEkhkGersolstE4klMRgOxZIaZsUGyuQJVSWJz9wCDwYhOoyGeytDX2U4kkWRkoI9sroDf5yFfLGMxm4jEEnicdla29gh0dXBvYZXpkSHm1zYV66btPfq6lCKM5t4UgMVkJJ7K0NPRxsFplJmxYeZWNlrCcb2Rlmw2M9usZqgrThmDfV1s7h21iiiapezd/jbOYglMBgNet4NyuUqnz00mX6TD6yZfLGM2GajWJGRJxmDQkcrk8LgcbOwc4vM4ebSijGjRapXG7KtjQzxa2WBiqI+ljT0cNguVak1x8mjsub0zGaJcqfKbv/QzlxKwZqXhs9LUyWSSSqXC4ODgRQ+pNjJ/ClEjsM8YTTsou91OR0dHa4Dg67SEqtVqHB0dPTMt+bIRWHPcSTKZJJlM0tPT81xD4MuU3tfrdeLxOOVymaGhoec+nd+bW+Zf/vv/ittuRRQ11CQZt8tJuVrl/uIq0yP9tLldFEolLGYDX7s3z/ToYKPgYZxCsYTBoOP4LIYoiuSLJY7OYkTiSWKpDJlcHqvZRK5Q5DRmJp3NsS8IiKJAIp3BoNdh0GvxuZ10trdRlyHY6+fwOEJvVzuHpzHGh4LsH59ybSJEOptntD9AIpWhx99GqVzB53XhcdqIxE1MDAa5Pbfccrvwt3l4tLSORhQ5OosC0O5xc3gaZXzQz9zaFn2dHTxY3kQUBJLpHJFEismhAIsbu8yMDHB3YRWPy87a9gGVahVLw0Hj6vgwe8dnjA32USpXuDE1AvU6N6dHsVnMnEYTaLUaDk4iiIJAJJbkL/+5P37p7MCLUoiyLKtNzG8BqoB9xhAEAb/f/5jB7asI2JMUCgWOj4+fGxm9rKuGLMscHR0BEAwGX7iHcdHzNKM7vV6PxWJ57o2tUCjygz/1i5hMRkqVKh69DpvFTHhrj5GBPkwGI4+Wt7gyPkixVKLL58HtsHF0GsNqNvH+vVkmhvobhRqjLG3u8LlrkyTTWXr9bch1AZvFTCKdwWm3cnCs7GMtru9wc3qc27PLSrXfcpiJoSC3Hy3R19XO1+8v4LBaOInGqdZqZHMFTmMJTEaTElE1DXsbBRKjA33cW1jD7bAxu7qBIAhkcnkcNgvBHj86rYb+PmUsS39fJ8VShZtTo8iyzK2ZcaxmM21uJzarmZNonDaPi9NYEr1OSzSZBqCn3ctccpuxgT5WtvYwGvQsbeyQyuTweZzMrW62RNNmMSHX6+QLJa42+s6ujg+jEUV+1+evX+KbonCRYZavaQ9M5VuIuoKfMfR6/WPiBS8vYOdppgxPT0/p7e19bu/VZZuSQSmLLpfLmM3mF058Pn+eFwlYc5K02+2+UFXkn/rxnyaaTOFx2DEZDZw1IoZufxv3F1ZxOezcvDJOeOeQNo+b23Or6HV6oE6nz8vUcD+iKDA2GGDv5AyT0cDDxTBn8SQPltbZOTzh/XtzHJyc8cGDBWLJFA8Ww1QqVVa39tDrtBw2oqJCqQyAw2ZFlmWGgz0USmWuTYxwGksw2t/D6tYe3R1tPFwOYzIaWN89AL5R3DIU6KFUrnBtfJit/WNsVjN35lY4icZZ2dhhZXOXfKHEw6Uwcr3O/aV1TqMJ/ttHD5hb3WRlc5e1rX3MRj3RZIqJ4X7iqQxDgW5yhTKj/b3YLCZmQv1cnximv9vPjakQxVKZTp+XcsOGanwoSL5QoreznUeNIo5UJsf3/P7f+VKR0ov2wNQI7O1AjcA+Y7xOR40mzYo9vV5PIBB4obhcNoWYyWSIRCLodLoL72fBxQZaxuPxViqyXC4/9/X/33/2G8wuhdFrdY1eqCoep4NqrUa1JjERGuArdx7xzmSIYJcfvU7L59+Z5uHyOmODAW6fm9V1dWKY2E6KK2ODJNJ5ev0+kukMbR43uUIRs8lAKpPDbrVyEonT0eZmc/+IyVA/S+vKpOK51U0mQ/0sr+/Q3eHj0XIYu8VMeHsfnVZDvljGZDTQ2eahUCgyERpgc/eQ965OcBpL8M7kCLlCkStjQ+i0Wq5PjWC3Wuju8GEzm0jn8gwGuskXioz091EslfE67XhdTnaPTrk6Psy9hVW629t4uLwOQCyZplSu4HbYuTu/wvhggLsLaxh0OixmI4l0lqlQPyube0pktrmH1WzkJBJnsK+L7g4f7R4XdpsFjSjw+7/4+Quv93lkWX7uxO8XCZzKm4G6giqvJGDNQg6Xy4Xf739tkREoUcLp6SmJROJCwvisYzzt75oGxYFAoLWP9rw9k4W1Tf7Br/1bSuUKBoMOl8OGy25hfecAECgUymhEDd9x66pil2TQ8eHDJc4SKTq8LvQ6Ld/2zhSSLPHu1Qn2jyMM9nXzYGkDnVbDV+/Nkc0X+G8fPSAaT/Dl249IpDJ87f486VyO23NL5PIFZlc2yBeL7ByeUCpXKJUqSLKMz+OkWpMYGwqSzOSYHhlk/yRCp8/L/cU1JLnO7PI6J9E4J9E4W/vHCAIsb+yg02q5PbdMLJHmt24/ZHZ5nUcr69xbWCVfKDG/to3DZmVpYxezycCDpTWMBj3RRIpev4+Bvk4mh/v54rvX6PR5+NzVCQQBpkcGcTvt+H0ero4PkUhn8fs8yjRnoNJopRjo8bN3fEY2V+Br9+e4v7jG4UmE33brGlrty0VJL0oRqhHY24Eagam8lIA1m3xrtRoDAwPPLaZ4mfPVajUODg6wWCz09fW9lFP8s0rvDw4OsFqtrSKW8zyrKOUv/tW/RblYRqPV4HHYebS8zlBfF5MjA4S39ujs8DG/ukFfdwfvXZuiUq3yHTev8MGDBa5NjvDRoyWuTiiDIscGg8SSafw+D90dbXjdTgwGPWaDHq/biV6nw2a1YNDplIZnm5lMzo3HaScST+LzujiOxBkdCHAajfPetUniyQzvTIyQzReYCilVoWP9vbR5nLjtVlwOG5lcAZvFRK5Qoqu9jUq1xvXJEbRaDZOhftwOO1Jdptfva/1+82tbGPS6VurRbrUAUaZHBrg7v0pXu5evP1hAluv0dbaz15iWfKfRFvD1B5votBqq1RpGg56Bnk5sFjNdPmVe2U23E7lWY2Z0ALvFgiTJuOwW4qk0X7w1TbFYxGg0vvYiDnUP7O1AXcHPGK8jhShJEgcHB5TLZQwGw3NTNc+6hudFYIVCgd3dXbxe74W9Ep91nvM097u8Xm9r0vPzXt/kz/7vP8fJWZxarUaxWMJkNHBzeozwzgEHx2cMBnoQRYHJkQFWt3Y5OouyvrPP8sYOY4NBZEniO9+9gkaj4TtvXSWVzXFzZozF8Db+Ni8fPlzEoNNxZ34VSarzwcMlJLnO3YU18oUiX3+wyGkkxvv359g9PuXe/CobOwes7+yztr1PMp1jbXsfURRZ3tjFbDQ0hl3W+Nr9BXaPTvna/XnuLayytr3PnbllCsUyd+dXEEXFfLdYKvP+/TmiiRTLG7sUShXMJhN2q4Wb02N4nHbenRlDFAVuzYyh02m5OT3K6EAfY4MB3rs2SbFUwuu0twx6tY0I58rYMLFkGrvVzN35FdZ3DjiNJbi3sIosydxfWufoNK5Egak0RqORP/fH/gBWi5l0Os3e3h5HR0ekUqlWW8OLuEgRhxqBvfmoEZjKpYoqmv1XTb/E3d3dl64ofJJmVJdOp+nt7b2wpdXzztO8tmQySSKReO5xnyas//Q3/iNfvTdLrVLDYDRiNBo4ODmjs72NmdEBltZ3yZfK2K1mdDot33nrGsl0lo42D3dml/G6nSwvb9Pt93EajeN02Mnm81QqVdwOW6P3qhMEgbGBPswmIzemRzAZjdycGcVsMuH1uLCaTWTzecwGA+lcHpNRT6FYVmZwVap84fo01VqNz12dQCMK3JgaQRTAbrPists4jSXwOOzsn0YUt5CjE+wWExt7SmRlMikR9PTIIHfmVhgOdDO/toXRoGcxvEUyk8NsNLAQ3uHG1CgfPFik0+fhLJ5EkmQCXR1EEmluzYyxuL7N9ckQ2XyRq2PD6LQabs2MYTObiCTSGPU6dg6P0eu07B2dAtDf28nd+RUGe7s4OI3wR3/v78BiVkbuNMfaFAoFotEo1WoVo9GIxWJpuaI8yUXK6NUI7M1HFbDPIE/eqC8S4TTFJZVKPdZ/9TLpx6cJhSRJHB8fo9FoXnq/62nnabrrS5J0odL789e1e3DEL/zKryMABqOBYqmI02bFbrWQSGWo1WrcmB7jLJ6kUCqTyqTYOzyjx+9jbXuPd69MUK5U+G2fu0amURCxe3jKUF83t+eWuD45qrjMz4xze26FmdEBvv5ggRvTo7x/b46ZsSHuzj8iFOzlztwyHV438VQanU6LQacnmcnR2+lj/zjCxGAfy5t7XJ8a4fbCWmvSst/nYX51C0EAt9POWSzJzNgg8XSGWzNjjXlbg0TiKcYGgxSKJa6MDeGwWXA77dgsZtLZPBpRJJnO0N3hIZHOIAgCXR1tHEfiXBkdYnZ1A7vVwkJ4m0KxRLlaY217n+tTI3z4aKnRaF2iUq0yMRwkkkhzfXKEzf0jRoM9lCpKT5jdYuF/+L1fxGL+RqWsIAgtP0qn09lyS2lOQ6jX65hMJiwWC0ajsfWdVPfA3n5UAVN5IZIkcXR0hFar/ZgIvExJ/JOCWS6XOTw8xO1243K5Xss1g3Ld2WwWr9eLx+N5oVCf/7ksy/xPP/iT5PNFJEmiUpeo1SSMBj12m5V4MkO9Dl+9N8utmQl0Oi393Z3EU2lKlSoCAus7+8iyzNrOAVaziVQmi9tp597CCj6Pi4W1TXr8Po4jcYZ6uygUy4wN9lGnztTIIFaTienRQdx2GxazEZfDRiKVweN0Ek2kmBq1EE9muTHlJp3NMdTXRTyZxuOwUiyWMOp1+L1uTiLfMMgdCnQzt7qJ2WhgdWsPSZKpSRIn0Th9Xe3cmVsh1N/D7MoGJqMBg15x1JgZHWRt56DlntHZ7mVz74hevw+dTsPV8WG8LgeZXB6dTksmm6e/p5N8oYQoCgwHergzv8JQXxdL6zsIgsBJNE4ynaW/u4OHyxv0drazsrnHL/zlP//CdTKZTJhMJjweD5IktcakRKNRNBpNy5xaq9U+dd3VFOLbgSpgKs+lmTL0er1PdXV/GVeN86TTaaLRaMu66UU8zdbpaRQKBU5OTjAYDJeyyGr+Ln/+J36ew5MIokakWKii0+vQarWcROJ0tfuwWkxo7WYsVhNzK+v093bxW7cftvbGbk6Pk8pm8bqc5ApFDAY98UQKm9VMrSbhb/NyEokz5nXzYDGsWDctrLbK7G9Oj/HBwwVmRgf5yt1ZBnq7eLS8jttpZ3Vrn1pNos3t4CSaYHK4n/Wdw5ZINR3sO30e5lY3cVjNHJ1F8Ps8eJx29LoAfp+HVDaP3WJWPAenxxAQmAoN4LBZyOWL9HV28NHsEv09ncytbqLViBycRgDoalQ39nW2c29hDavZxPrOAblCkZnRQcUGqjFexWmzsHt8ykBvJ53tbbgcNhw2K+lsDqfdQjZXwG614HXZ+dK338Rlt114vQA0Gg1Wq7U1FLVarXJwcEAqlSISiWAwGFomzDqdDnh9KcRQKPQjwO9F8UH8u+Fw+Jde+aAqF0ZNAn8GeZYAnBeiZsrw+PiYnp6eZ44kedkS/GYpeyqVIhgMXki8Llp+n0gkODk5we/3X6rApPm5/Jv/8lV+8/3b1CSJUqWKXq+jXCqh0WiURtvlMHqdjvuLYVw2G2NDQZw2GzemRtk7PqPN7eSDh/MUiiX+20cPyOTyvH93FoDbs8t4XU4eLYcZCvTwYDFMj7+Nlc1dOrwudg5P6GhzE00kaXM5qEkSXqcDj9OG025lJKiMrrk2EeIkmmBiKMjS+jY+j5PZFcX+6bjR6Oy0WZDrdUYHAxyexbCajdyZX2H36JTbsys8WAxzEo1zZ24FBLg9t0y1VuPrDxZIpLMsb+6g0Yh4XXYC3R28d3WCTp+HL7wzhVar4Z1JJeU30NfFzNgQhVKJQFcHc6ubAEQSKQBGBvo4jSaQJJn3781xb2GNzT1lSrPJYGB97wiz0cDO4Sl/6ru/68Lr9Sx0Oh0ajQa/309fXx9utxtJkjg7O2Nvb49//s//Offu3aNYLL7SeUKh0HcAnwPeA74dePqsH5VPDDUCUwG+EUkJgtDajxJF8YX7Ri+TQjyf3nlaKfuLrvFZNKcx1+t1gsEg1Wr10uNUzuIJ/vef/0fUJAlRo6VcUqoOtVoLuVweUfBydTxEoVRiZnSADx8tcuvKBB88XOD65AjxZIrr06PYrWa8Hhdup0NpEp4cAQGGgz3odFq8LqVcXqvR4HLaOTiN0t/dwUKjSfnO3ErLUHdyuJ97C2G6O9q4u7CKQa9jY2cfASVNarOYGezrZu/olKFAN6fRBAN9XSSSad69Mo4gCtycHsNsMuKw27FbzRydRjGb9OwdRXDalL0rALGxFtMjAw3H+E7uLayhEUUKxRKReIobUyPcW1hjKjTAg8U1zEYD0XgKWa7T7nUjigJ9XR3k8kW629tax3ParKSyOfo625XyfJ2OjT3FGqy3q52hvm78vovPiLvIegIYDAYMBgNutxtZlgmFQvyn//Sf+L7v+z76+vr4mZ/5mZc9xe8CFoF/DdiB//W1XLjKhVEFTAX4RiTVnGr8rJTh0953GZFojlfRaDS0tbVd6hqfF4E100bNacyCIFy6/L5er/MjP/cPyeYL1Go1NFotep2WYqmE0WDAYlFGhVgsJta29xgOdHNzZgzq8O03plnZ3GMiNMBHj5a5PjXCV+/McmN6lK8/mP+Gu/vUKPcXlAGVj5bXmRgOsrC2RX+Pn8WNXXxuZ2v/aatxc29aRvkas7OmQ4q4NH0Eu9vbuDu/glbUUK5UiSWVQo/lrT1uzYxz+9ES40NB7s6v4rBZqFZrFEplQsEeEuksN6dHmVvdZCoUJJXOMTkUpFqttQx2PU47VouZ3YNjgl0dLbErlZXrmmqIXXdHG/cWVlsPQlv7xy0x7mr3sri+jSzX6fR56PR5GOnvJZHOYAz2IGo0/On/4fddar1eBlEUuXr1Kk6nk6tXr76qhZoX6AN+DxAE/l0oFBoJh8PqiI9vEqqAfQZ52o1dEASSySSZTOaFLu/nuWgKsen2nslk6OvrY29v78L7Weev8WkC1hRFv9+PxWJ54eufxY/89P/J5u4RRqMRrVaHJElIkoTBYCCXL2A0Ggn1d5PKZJgcHuD+ohKFLK5vE+zxk8pk8bicDAe60YgiN6fH0Ou0vHdtEkmSuDk9SrUmMzncT1Wq0d+rOJf4fR5cdjsZp1KpuLV3RKi/l/WdQz7/zjS7R6fcnB4jkUpzdWyotc9k0Ot4ZzKEw2ah29+GzWImkyswNhggWygQCvaQzRfo9HnQikrBwuhAH3fmVpgM9bMY3sZutbC4vkO5UqUm1dk/jXK9zcP9xbXWOBZREPB5XJzGElwbH2bn6JR3JkLEUmmujA1Rr6OUyVvMeF0OzCYj4Z19TAY94e19ALravRydxRgfDLC8uYsoCshyXbG0mhjG73HR39N54bV6Fc5/715xHywOrIXD4QoQDoVCJaANiLzyRapcCHUPTAVZlltlycFg8LW7ajQbn6vVKsFgEJ1O91qGWjZF8ezsjL6+vsfE62mvfx7/+f07/Nv/+jV0Oh3VWo18oUC1EYXJch2r1UKxVCKSSCPLdXKFIjcmQwhCnW+7poxIeWdqlLXtPdxOR2tf6esPFpAkmTtzKwiChkfL61jMRhbD23icDhbCW3hdDh4uhzHq9dyeXaZSrfFgMUwsmWZz74iDkwj5QpHNvSP0eh1L6ztotVruzK0QT2X4rY8esRDe4t7CKnfnV4gmU0oUZ9CzvLFLm9vFfHgLj9PO5t4RnT4PJoOe6ZEBbkyPMjXcz3fcnMFiNDA9MkC5UsXndtDmVipCZ0YHOY0lcNqtLISVJuVcocju4Sl6nZa78yvsHZ3x5TuPmFvdJJZME09mmBoZRKfT8c7EMDVJ5tb0GO1eNzNjg7x3dZJSpYLFZGB1e58/9z1/4FLfhVfhNfaAfQD8v0KhkBAKhToBC4qoqXyTUAdavh1cahFrtRqSJAFQKpU4OjpCFEXa29sxm82XOnEymUSSpGdW+jWnGzcbn5vs7OzQ29t7qVLmg4MD2traMBqNrf6u5niYp92QJElif3+fYDD43ONmczm+8Ef+DIlkmnKliiCK1CQZWaqh1WrR6XRotRoEQUSvFWn3etjcO8Rhs1KpVJDqdYwGHaVyFZ/LiUarwWY1oxE16HSKAGq1Gmo1CY1GpFpTPvt6vY4kSUqRSKWKThSpyXWcDhuZbB6n3Uo2V8BiNlIoltFoNMiyMjBSp9ORKxRw2q0cnkbx+7wshbfo8ftYWN/G7bCRL5YpV6qtwZXNKsXmsEiH1UK1pqQTxwYDrGzutlJ+ga4O9o7PcNoUc996vY7HaSVXKGPQK2Xy+VIJjaBh5+iUaxPD3FtYa0VYWo0Gt8NGJJHi5vQod+dXGeztYnNfSYs2bafemRim0+fh7/3k69s+qtfrHBwc0Nvb+9SfF4tFzs7OmJycvMxhn5oqCIVCPw18J0ow8KPhcPg/X/Z6VV4eNYX4GabpTtHV1UUqlXqp/QBRFKnVak/9WSqVIhaLPbVEvhm5XUbAmhFVpVLh4OAAl8v1XHf6i0Zg3/39f4l0Jk9NkkEUqdZq1OU6okYLKEUt9bpMqVxhbKgfAYEvXJ8hllTK4veOzvC6nTxcChPo9rMY3makv4e17QPGh4Isb+xybSLEw6UwN2cUEbk1M87deWU68u3ZZcYHAzza3KOr3cv82hZ6vRajTkcyk2tNSW5OR26W2If6e5m7O4fdauEkFidfKCm+inodY4NBdg6OGQz0kMnmee/qJPW6zM3pUUxGA5OhfrwuB8vr2wS7O1je3MVo0LPWSPm5nXZ2j04Z6O3iwVIYt8PGxu4h5WpV+Z0291ozxjxOO9v7xwQ627FbzFyfHMFht5BIZRXfxjMlKLFZlYejZpO1Xqdla/+Yv/g//cELfwcuwjfTBzEcDv/QazmQykuhRmBvB5daxGq1yv6+cqPq7OxEFEUikQhGo/G5c7yeRjabpVAo0N7e3vo7WZY5PT1FkiQ6OzufKlL7+/t0dHRcyi7q6EjZn0omk3R2dr4wWmw65Q8MDDzzNT/99/85/+e/+A1kWaZcqaLRiMhynUpFcUo3GA1oNRpEjUi5VMZkNGI2GYgnM3R1eNk5PGFiqJ+ljR2mRwY4icYJdHeSyeZwO+3kCiUMOi3lSgWDTkddAJ1WgyhqkesyWo2GSrWKyWgkmVLGqaQyWZx2K9FECofVwlksgV6vI5HKUq1WEUSh4ZxxLmqaX2F6ZJD5tU28TgeZvDLuJdjtZ+fw5Fz0pbzmfDHH+GCAg9MoV8aGiCVSeFwO5fcX6uh0OmKJNG1uJS3a29nO5t4Roijgcyv7Yjdnxrg7t8JwXxfre0cIgM/j5Cye4vpkiPuLYQJdHZQqFVx2G21uJ5VqDavZiCxL/P2/8gMfS/++CtVqlUgkQldX11N/nsvlSKVSjI6OXuawL2fIqfKJokZgn0EymQwWiwWn0/nYZvbLTmU+/75mFaPdbn+u+8Vly+/r9TrlcplisUhfX1+rIfVF1/a8B7Sv3Zvl7//qv0aWJOqCgCgIiIKIjIzQ2KMrl8tozCayWWU2V5vbSV9XO/liiVqthl6nQ5JlLCZl1lUsmcZoMLB/HKG/x8/2wQkjA72sbe+3xGNmZIC5tVWujQ9xe3mDq+PD3L07R1+nj4XwNi67lXKlSqlSodPn5bAhLseRWMN2apmpkQEOTiOMDvaRzGSZHO7HajZxY3oMh9VCJpdHpE62WGZ0sI+D0whajUiuoPQ+jQ4EuDO3zOhAH8ubuxj0OhbCWyTTWa5NDPNwaZ2r48PcmVvFYbWwd3RKpVrDZjYR6O6gv6eTXL5Af08ncl1mfDCAw25h5+iUqZFBHi6FW24fAHaLid2jU5w2K1+7v6Ckftvc/OCf+P+8dk/Ci4xSUX0Q3w7UVfwM4nQ6cblcj4nLywrY+WKMXC7H/v4+7e3teL3e56ZxLlPEIcsyh4eHyLJMe3v7hcQLnu/xmM5k+fM/8fPIskxNUoYfGo0GSmVlr6lel0EQ0Ol0SJLitZfJ5dHrtPzW7YfIssyDpXXsNgurW3tMhvo5OIlwY2qMbL7A566OU61JvHtF+fP61AjFUomZkUGKlSoj/b0UimV6OrwUiyW8LjsOixmbxdyarPzORIjD0yhDfd3Mrmxgs5pZXFdK2IvlMsl0FrvVQnjnAJ1Oy4ePltg9POGrd2e5O7/K/kmUpfUd7BYLx2cxxoaCROJJRgZ6yebzXB0fpqPNza2ZMT7/zjSdPi8Tw0E2dg8BSKQyAIwO9lEolenrbGd2dZPdw1PWdw64t7CGXFcKVAqlMh89WqZakyiVygwFunnv6iQTQwPKfDBRQ09HG5qGcEwM9mHQ6/i2q+MvPW3gWahGvp8d1FX8DPI6pzKLoogkSUQiEaLRKIFA4ELpoIvuT1UqFXZ2drBardhsl7MYehbVapU/8v0/RjqTRdRo0Bv0pNPKzdpsMiHJEhqtFuoycl3xahQFEaNBj8Nu4b1rk4iiyJXRQdKZPMOBHrb2j3Habaxs7lIqV1nbOeAkGmfv5Iyt/SNSmRzru4cgQHh7H4fNxur2AZ3t7axuH9DhdbO4sYvJqOfh0joGvY6jsxhelwOXw8pQoJvrkyMMBbv57Z+7hsdh5/PXJhEQuDo+jFFvINjtZyjQgyzXuTo2xFEkTptLcegAyBeKZPMFXDZrY2RKia/cmeXR8jqzK+ssb+xg1OvJ5Aq8MxmiJklcGR9Cluvcmhmjz+9jYijIt12bIJXJYTEZWVrfAcDtVNZmemSA5c1ddg9PeLSywZ35FSRJbuzr6Vne3MNpt6I36PnTf+S7KJfLnJyccHZ2Ri6Xe9W+LOBio1RUAXs7UFdRBXh5AZNlmXw+jyzLBAKBC1s3XeR82WyW/f19/H5/K2J81T3bQqHAT/zCP2R99xBRoyGVzlCu1LBYLKQzWWqSdO4JXUlzGo1G8oUCer2O27PL1Bpl8QDruwet/apQfy+ZXIGZ0UESqQzvTI5wfBbjnYkQG7uHjAz0tRziHy6FMZsMrO8oe5GlcgWA3s52apLE1MgAR2cxnDYL9xbWiCZS3J5dYnZlg+2DY+7Mr1Cu1rgzv4IgKDO9SuUKd+dWkOt1svkifq+LieEgE0NBfvu712hzO7k5NUqlJhHs8WM1KY7vV8aGiKcydPo8PGqIXTKd5fA0ikGn497CKseROF97uMjSxg5HZ3GlF21sEK/bweeuTqDVaLkxNYrLYWeor4vrk6PEUxkcNktrPpjDpngV9nS0cXwW47t/z2/HZDLR1dWFzWajWCxyeHjIwcEB8XicUqn0UuutRmCfHdQ9MBXg5QSsafTbtIS6DM8To3q9TiwWI5fLPSaKrypgqVSKr919wK//x6+SyxfRGwwNu6giGrMZp8NBrpDHoDeQLxQAkbosU61WMRkNyPU6712bRJbrfPuNK8STKW7NjBFNpJgZG2Ln4IT+3k6WN3fxOO2sbu1i0Ok4PIsCAvU66LRautt95AslpkcG2dw95AvXpzg+i3F1dJBypcrN6VFA4Ob0KGazCbfLgcWk5yyWxGI0chxLEOxqZ251U7G/iiUA6O5o4yQab1U8uh02Pni4QLUmtUrpb82M8XAhTCjYw4PGPlU8lSHU30t3u5eeznasRiPJTJZQfy+n0SQAPreT/eMzJof7WVzfxqDXsbKxSzKTw+d2cm9hjdGBPu4trCEIAvliGZPRwJWxQZLpHA6bhUq1xvTIIGajgf/ud30BvU7XioaaZrugtHkUCgWSyWRraKrZbMZisVzoAUkdpfLZQX0M+QzyOlKIyWSS4+Njuru7X+pm8KwijmbTc61W+1hE9zK+i6AI4unpKZFojJ/8u/8CqS6j1emoVKrK07qopVgskSsU0Ot0CAKYTKZG3ZlSRi+IIrl8kXQ2z+3ZZaKJJEsbO6Szebb2j6nLEIkncTtsrdlf6WyeK+NDnEYTXB0fIry9T29XB/cX19BqNDxaChNNpNjeP2Zr/5hiucxieBtBELk7v0KpXOErdx6xe3TCh4+WWd0+4DSR5ugsjsNmo1KtMTMygCRJjWZhxe3DajZyfXKE0f4eAt1+bkyOsHt40prXBaDXK/uIE8P9bO4dkcxkef/ePHfnVjg4i/JoZQOn3cru0Qk9fh8n0ThDfZ04bJbH9swG+7pax2yu1dXxIY4jSun8o+VN5te2KJUrjb2yEiubu/yx7/odwNOjJa1Wi91u/5gZ7+npKXt7e0Sj0VbU/6z1fpGAXXaKuMqnE7WM/u3gUovY7KU6T6lUavVsPY/zhrmdnZ0IgsD29vZzS9WfRiwWQ6vVPua32JwL5vF4nurDGI/HEQThub1fT7KxsYFOp8NsNvMX/9rf4f7iGvlCCUEASZKpVmsgiBiNBsrlUqvxWJJklKhJRqPVotNqMeh1jAz0YjWbyBWK6LUacoUSToeNWCKNw2Ylnkpjs1pIZ3OYDHqqNQlBEDDodVSqNVw2K4ViGafDSi5fxG41k80X0eu1JFMZ9HoDsiyRyRdwWC1s7B8yEuzl/uJaow9MMfU9jsQAaPe4OYnGmQr1sxDeZioUZCG8Q5vLQTKToyZ9I/r6tmuTnETjdLV7KZUraEQRrVZLIpXB7XRwd36Z4WAPS+s76HVabBYz8VSmZd471NfFxt4RGlHE43ISiSe5NTPGvYVVpkcGqVSqmE0GLCYT2YIyImV2ZQNREMgVilSqNa6MDfFt1yb5kf/ljwJKO0V3d/eFU3qyLFMoFCgUChSLRTQaTWsys16vRxAEUqkUwDO9PE9PT7Farfj9/gt/j1DL6D+VqI8hKsDFIrDzDcTnqxhf5iHoyWgqm81ydnZGV1eXEv084z2XOVe5XKZSqdDe3s4/+Y3f5PajJaTGE7/BoKdYLIEgAHVKpSJ2qxW5MeiwWCpRk2TqsvL7lcplZFlmdnkdj9NBNJGize3kNJYg0Oi1Gh3oY3Vrj6vjw4S397k1Pcbc6kqjB2uVyeEgX3+woExJXttEoxGxmk3EU5nWe5VG52+Y/Xb6PMyvbeFxOsgXS4z09+L3eej0eXFYLaTzefq62slk8/jb3GTzSpl8Z7uHaDLN2GAfK5t72Cwm5lY3yRWKWM0m5te2lCbquQW8Tgcbe4dUqjV0Wi2DfV0EujvI5oqE+gWKpQrBbj86XSPCmghxf2FNiejWtpBlxVtweXOXqVA/9xfDisg57aQyOT53dZzTaIJOn+LW8if/0O9urdFl/TBFUfzY7K9CoUA8HqdSqWA0GlsTmp+Fugf29qAK2GeQl0khNgXmIg3EF6F5vnq9TjQapVAovLAI5DIpxOb16nQ69o7P+Lv/4jeoAzqdHrlcJpPJYrGYqUl1ZFlCFEWy+QLGhnGv2WyiUi2iRGF1TEYjWlHk5oxSJj8+FCSZzjI60EehXGGgt4tcochvu3WFQqnCF96ZpipJfO7qJBqxsZ9lNHBtIoTTbuHUbqPN62Jz75Cr3cMshbdxO23MrmwgCALRxiytzvY2jiMJBnq7uLewSq/fx1fvziEKQktA35kIsbK11xpk2dfZTiqbZ7ivC6fNwtWxQUwGPclMDp1Ox+7hKYIAR425YQOBLu6em8QsigK5fLHVpDy7ssFQoJuVzX2cNivVWo2r40N4XQ5SmRxyvc5pNIEoCtQaNllXx4e4v6jssS2Gd8jmC3hdDoYC3fg8j0/dfpUyep1Oh8PhwOFwKA8ajUxC05i6uXdmNBofe+B6XQIWCoV8wEPgd4TD4bXXclCVC6MKmArwbAGr1+tEIhGKxeKlqgxfRHPu2P7+PgaDgb6+vhfeyJ5nW3X+es8XgKxvbPC9P/oz1GoSkiRTrhQxGgwIokAuV0Cr1yHLdUSNDr1WiygKWC1mKtUaoqhpiWypXEar0fDhoyX0Oi2SJFOTJEwmgxL9+LwcnkYY6Vealq9NjPBwKcy7M+N88GiJaxPDfPXuHMEePw+XwtgsJg5OI2RyBQx6PZVajV6/j8OzGOODQaLJFJ9/Z4pypca7V8bQarRcHR/G0bBj6mz3tkaYPFpZRxAETqPKvlNHm5u786uM9Pfw0ewKZqMBrVZDJldgcjhIOpdnKtRPLJnm2vgwNMrkLSblJu9y2Lj9aAWHTYmwACyNiCbQ42duZRODXofRoCedzXNjapTD0ygj/b2ksjkmhoMYDQZuTY9iMZvZ2DvEbDSwEN7m537kz77qV+eZCIKAyWRq/WM0GikUCmQymdbDTDKZpFAo4PP5Xvl8oVBIB/x94NUmY6q8NKqAfUZ5Mh33tOimVqtxeHiIyWS6kMBchlqtRiKRwO/3P2bye5lrfhJZljk6OkKj0RAIBBAEgR//hX9MNJGmXK1SrUpotRryhUIjDaWhUCwCIrVqFZ1WSy5fwG6zUakW0ev1rb1CURSxWc342zz425T0nN1iIpMv4B1zEE9n6e/xk8rkWs3MY4N9JFJpOhqpPb1Oi9WkeEJODPdze3aZK+PKTK9On4fFRk9VePegUfihpBFvTo/y9dkFAl3tPFpeR6vRKJOidTr6OtuxmE30dLSRzRfo62ynUq0RCvag02rRiGJrXlegq711jmQmx3EkTofXxd2Fdfo6fewdRwCBHr8PnVbDzOgQiVQGl0MpGBkb6MWg02E1m5gYCnJnfgW3087c6gZAy0uxze3k6w8WlGGdDhvRhFKt2etvZ6D3kx+Z0iwM0Wg02Gw2bDYb9XqdarXK6uoqv/Zrv0Yul+PmzZv80A/90KXszJ7gZ4G/B/zI67t6lcugCpgK8PE0TqFQ4Pj4mPb29tfWQNwkk8mQSCSw2WwXFq/mNb5ooKXT6WwVefyjf/lvebgYpibXqVRryLJSUGEym0hnMpiMRmS5DoKSTqpTx2I2U6lVMZtNFApF5Wd1RdgTqSxGvZ7V7T08DjtruQJarYbdo9PG3K02Dk+jTAwHlf2sxhDLphu7ss+1T6C7g8OzKEOBbrQaDVfHh3HZbLR7XHhcTpKZLL1+H5F4Cq/LzvbBCQAuh53dozOujg9zb2GV7o42bs8tI8t1CsUSBycRbk6PcX9xjYmhIIvrO5iNBk4icYYD3XR3+Oho82AxGYkl0xj0OvZPoq1j7x1HmBjsZWlTmeX1cGmdXKHIOxMhHiyFCQW6uTu/ikYUOYsnGQp0E+hsJ1soIooiiVQGp91KsdHTdmVsiPuLa5iMBpY3dvmxP/09L/eFuSRP2+MSBAG9Xs8Xv/hFBgcH6ezs5PDw8KUzCqFQ6I8D0XA4/J9DoZAqYN8iVAFTeYx6vU4ikSCVStHb23uhp9OmsLwoQjufjmxvb6dYvFzm5VkC1hTb8wMtw9v7/MI/+XVqsrLfIUs1QEBuiJHT4SCby2E0GimVlGKOUmPycqlcwWBQfm9RALmulHlqNCJd7V6K5TJ9XR1s7B4w2NfF2vYB1ydGuLcYZmI4yNL6Dt3tbTxcCmM06NloTFaW63VqkkS716040U+EuL+4Rm9nO7Mrm2g1Ik67ErHMjA42BlmONgZn9pPJ5bkyNohWq+HWzBhWswm3w4bdamY+rIxQmV1RoqFqI9U6OTLA3Uaq8St3Z6nX6y2PxndnxtjcO2J0oI98sczV8WHsVgvXTWZMRh2rW/uYjPrWMZufXXN/y2IychJRmpqvT46wtr1PqL+H47M4Q31d6HXaxnUa0Wt1XJsYvtR6vywXceIwmUxMT0+/ymn+Z6AeCoW+CMwA/zQUCv3ecDh8+ioHVbkcqoB9RnmaGNTrdQ4PDxFFkWAweOGN7mb68Xn9YJIkcXh4iNFopK+vj2KxSD6fv/Q1P5nmTCQSJJPJx8RWkiS+93/7a2SyuVZlmlarp1arIggi+XwBsVFCTr2OIGqo1+uNQZ7K8MpKuYLZZKJQLIGg7A86rGbuL4UZ6OnkwVKYNpeDxfVdRFFkbecA6nUKhSI2s4lufxuCAIOBbiKxJDOjg2TyBT5/fUrp15oaQ6fXMj4UxONwkC+U6Gn3MhfeZqCvi7lVZZ9pc+9I2aMTRbb2j7kxNcpHj5bobm/jOBpDluv0+n1kcwU+d2Wcw7MYwa4O8sUSV8eH0IoiIwO9eJx2Dk+jLUNho0HPamN0isVs4sFimKlQP1+9O/dYCf2tmTH0ugi9/jbyhSLTIWW2WqfPQ4/fx9351YZdlSJyJoOBbL5Af4+fDx8tIYpKsclf/8Hv+9h6flItPBdx4njVRuZwOPyF5r+HQqGvAv+LKl7ffFQBUwG+UXLu8Xgu1WcFLzbmbQ619Pl8rXEtL+Oqcf499Xqdk5MTJEn6mNh+34/8DfaOz5QeIbOZfKFAHQEEgTpgNpspFopoRGUPTNBooK6MUKnXZbSSjCRJSnpRORuAMi8MMBqVidUdbW6iyUwrRXitsWcV6Grn7twKNouZ+/Or5EslCuUyu4cnrUrBG1OjfPBgkf6eTr62MY9Br2P3+AyHzYLP5cSo19Hp8yoVj43hlaFgN9l8HlEU8PvcHJ5FW/tkLruVRysblMoVbGYTy5u7XBkd4MNHS3R43WzsHqIRRTQagYnhIJ1tXjL5AvW6TDKdw2YxUakqUdvM6BD3FlZx2q3Mrmw0JjQ7WVjfZWZ0gPuLYbQaDeVKlQ6vi+FAt7Inp9eRyuTweV2UG+Noro4Nk8xk+R3vXXvmmr5uLtLIrDpxvB2oAqZCJpMhEolgMBie2fz5PJ5Xgp9Op4lGox8bavkyrhpNAavVahwcHLSaUc/fBH/9P/wWHzyaR6PRKJWDWqWJOZ8vAHVkSSKfL2C1WJBkCavNSqlUoda46Rn0hsZemIlSqYJGp6VcLqOkHxUrqd3DE6aGg2QLZa6MDZLLF5keGUCjEbk2MYzNbKbd68ZqNpFIZzDqdcSSGcYG+tg7PMViMrb2tWwWpbpvZnSIu/MrDAe6uT23jEGv4zgSJ5nOMjM2xNzKRksoezra2Ds6IxTswajXc2t6DJvVTCSeRK/TsbK5i1Yjtva3ervaOY0lmBgK8mh5A51Ww2k0SSyZ5sb0KOu7h4z093ISjRMK9qDViK0U5f7xGQCzq5sAFEuP729ZzUYeLK1TKJWZCgVY2thlsK+L3eNTgj1+DAY9f/GP/6GnCsple8AuyvMisGZV6evsAwuHw9/x2g6mcilUAfuM0hSDs7MzyuUywWCQg4ODl2ryfJqAPXnsJ594LzNO5fx7arUau7u7j0VzTY4jMf7KL/4yuUIRWa5Tr0NdlqhUJYwmI8ViiToCoihQKpcRgHKlAghQryNJEoViDa1WS6lUUT6jRvQlCFAsldk7OuXoLIbLYWfn8ERpVl7ZbA11HB8K8nBpjja3g3SuQK1Wo6PNzXEkzlRogGgyzXSon839Y66OD5Evlrk+NYIoCFwZGcDlcqDX6/A47DxcXifY42duZQOtRsPOoZKh6mjzcH9xja6ONj6aXcJutSj+gaUyU6EB8sUSN6dHOY0mGA72AHBjahSTUU+nz0N3Rxv3FhSvxLkVRZj0eh3pbJ7Bvi4+ml1+rPT++tQIdquF4V4/iBrenRlDq9PS3+On3evi9uwKXpeD1e0DAEx6HaVyBZ1WZG17l9/x3tWnitWLUn0vy/OEsfkztZH57UAVsM8o1WqVvb09rFYrvb29rf+pX8dQy2b5vdlsbh37ae+5rIDl83kKhQL9/f2PRXOg3Jj++A/8FTK5AuVyRbGHMuiRZBmNTkOxWFT2umQZrU4P1DGZjFSqNepynVIj5WU0GNDr9NRRbq7Nycw9HV58Lge5YpmhQA/lcoVvvz5NVapxY3pUKVcPDWC3WejtbKe3s53bs0u8MzXCvflVgt1+FsLbmAx69k4i5IslisUy4e19rowOcH91jf6udmbXtjAa9BwZouQKRUb6e5FqEkOBHjK5PCP9PRTLFcYG+hAaYjw22MeduRUG+rpYCG8hCAL7x2ecRBN0tHm4O7/KcKCbewuHyjoLGjp9HkYH+sgWihj1etLZHJ0+L+mssi/ZLL1vczmZW9mgWpPIlcqsbR8wMzbI3PwKOq2GTL6Az+tiYihAvlhCq9WQzuZpcznRarT80e/6IrlMhkQshslkatk+NR9gPgkBg2enJlUXjrcLVcA+o6TTadra2lqWPPB6hlo2HeqfFiE9+Z6Lnqvp1pHP5zGbzR8TL4Af/uu/yMrmLggCch2Qa9TrOuqyjMFkRBQ1lEpl6oJApVrBaDCQzuQwm4wUy+VGuXydWk2iVM5i0OspVyrodFpEQWD/JEIsmSGZydHn97F/Emn5D966Ms5Hj5a4Mj7EBw8X6G5v4/bcElqNhpNIgk5fG13tbThsykTnTC6PQacjncsT6u8hmckhCkKrpHt8sI+HyxsEe/w8WFJsmSrVGqexBDemRri/sMbM6CCPVpSBmieROGODfXR4PbS5HJhNRg6OI/i99dYoE5NJ2be7Oj7Mw6UwVrOJO/Mr5Aslrk0MM7+2xVSon6WNHXr9PqrVGjenR3HYLByfxanXYXlL6SErFEuAkva8v7iG2Wjg3sIauUKRG1OjLK3vEOjqIJpI8b1/+LvwOBWXjGbhTjweRxTFlu3TJylkT/LNPJfKJ48qYJ9R2traPuZq8SoCJssyqVSKeDxOT09Po6Lv2Vw0AmtOY9bpdHR3d3N0dPSx13z59kP+zX/7OlqtlmwuB6IGEClXKpiMRjKZLGaTWfndBAEQlH4wgwGNRoPBYKBakxRLKY2IRW9Cp9PitFsZGwwQSyTxuBykswVmrBaOo3GujA1zdBbB53Ywv7KBINCyf2pvUwosrk+OcmduhVB/Lx88XGzsfR2TyRUYHwywvLmr7GttrxIK9HAWTzA60Ee9jmL/pNdjNuhx2CysbO7h8zh5tKxU++UKSgvC2EBfq0n5y3ceAdDX2cHe8RnXxoZI5w+4MTVCtSZxa3oUg0HPSH8fXreNDx4s4fe5z5XeK4Ur7V53Y3/LhIzSY3Z9MoRRr+Pq+DDlapVbM6PotDqC3R20e13cmVttzP5SUpJet4NvvzGDx+lorfeTI1PS6TSVSoW9vT2MRmMrOvskCywkSVIjsLcIVcBUWrysgAGtp+pAIHChG9BFijia5sFutxuXy4UkSR8TvXgyzf/61/8O6UwWi9ncqjpEEBBF5TqcdjvlShWdXk+1WkXUaCmWytisFrK5PGaTibJUAUGgUqkgGgzkM1kCXR189e4cLruV7f0TKtUaXreD02iC8aEgkXiKW1fGuTu/ws3pUfaOz7gyOkChUOSd8WEEQeDWzBhmkwmtRkOb28GDxTBjDfGyWcysbO4BUEcmlc0T6u/l7vwqga4Odo9OFc9Dj5NUNs+VkQH0Oi393X5KlRq3pu3IdQh0ddDmdrJ7dMaVsSFmVzYxGw2Edw8oFEtIsszsygbTIwPcmV/FoNNxFjdiMRsZDvQqxsAWM+lcgWB3B6lMFoCJYcVtw+d2MLuySU2SyBdLzK9tKcdaW0UUBYrlCp0+L2ODfeTyRRAgncnxp/7w73nm2mq1WsxmM7VaDZ/PR6lUIp/Pk0wmW2JnsVgwGAyXiphe9FCkphDfLlQBU2nxMgLWfJI2Go309PRc+Gbzotfl83lOTk4eMw9+muj9jz/wE6TSOUxGE6VSGa1Oh1avp1Zt9HwVihgMeiqVKkLjxiVLNURBoFKpodfpWm7qzVtfV7uXQqmE02Ylac0R6u/lzuwyt2bGuTO3zGRogMXwFh1tbh42Uny7R2ecxhK0ez2sbh9wfTLE7dllBns72dxfwWYxsXt0Qr5QQiOKdHe0EervJZXOotOI1Op1pkMD5PJFDHodLoeN3aNTro4P82ApjMfpYGlrj2q1hlGvZ3P/mCujA8yubtPl8/Kw4ZKv1+m4PjmC3WoiEk8CImtbj099nh4b5N78Km6Hjduzy1SqVWZGB5lb3VT2t1Y36erwUq4qwzXtVgvHZzHKpXIrJVmpKnuDV8aUlKRep+XhUolkJset6TGCPX6C3c8fV9JM5533MGx+p84PtDQajS1Be9HD0YtShK+7AlHlW4sqYJ9RXsdQy+Z+l9Vqfczt+1VpOoH09fWh0+keu+bzT9h/9e/8Y9a29hoFGHW0Oi2VcgVJlmhOQLZazNSpo9NpGyXgyvgUvd5AqVzGbrOSyeVavoejgwFWN3cJBXqYW9uix+/j/sIqNouJncMTfB4nWo3IyEAfne0esvkiLruVbK6gCFImTyjYTTSRRhBoXf9woJuHyxsMB7pYXN/GZjFxd26ZXKHE+FCA5Y3dlkAGujvYOzplONiDruFmYbOYOT6LYTToebSygV6nZe9YKZP3umwcRWK0uZ3cnV9Fr9NiMZtIprPcmBohXyzxzkSIYrnMjelRjHo9U6F+nHYrX3uwQK/fx1yrTL4MKCJ+b6GRRqwracSp4QA2i5nJUJBqVeLm1Cg6nZZ2r4s+fzv3mrZRm7v885/9sReu87PEpjnQ0m63U6/XKZfL5PP5Vvq4mWp82nfuIj1gqoC9PagCptLiMgKWTCZJJBL09vaSz+eRJOmVz39+WGYgEHiqn12T+dUN/vG/+vdkC0VkScJstiAKYDDqqTZmYtWkKvlGWXytqvwpUQeUMnq9Tks2n0ej0VCrKdHYWcPRvdZoYva5nRyeRFrmu9cmQjxcCtPX2cFX7sxi0Oswm0wkUpmWjdS7V8a5PbvM5HCwVT4v1wVuTCkjVcwmIya9no29Qzp9HpY3djHodKzvKmXoHqeD3cNT+ns6uT27jNthI18sUa5UmRjuRyNquDk9TiqTZXSgl5okMzEUxGhQpkmP9vcwH97BZbe2+rcq1SrLG7tcmwjxtfvzmI0GNFqNYgjc3YHX7cRhU9KIga4OYokMQMu01+O0s7J1QE2SKJUqPFrZYGIoyNKCUthht5gZCnQT7OrAZjVzfXLkhet9kWhIEASMRiNGoxGPx6O0OhQKpNNpzs7OMBgMLUHTarUXcuFQBeztQRUwlRYXGVciyzKnp6ePOWAUi0WqjZTSy9JsTrbZbHg8nufehDK5HH/ih/4axXKlMTlZiQbNZsX6yWg0UmpUFup0Ggx6PVVRgyAKVCUlOhME0Op01GQZt8NGsVRmtL+XnaNTvnB9hsPTCJ9/Z4pMNs971yapSRLvXp1Ar9NyY3oUm8WM0aSn3evm3vwq40MBltZ3cFi/MYKkXK0RT2UYDvY0BK2fewurWM1G6nXIF0t0tHlpczkY7OukUCwzEuyhUqsxHOhWqiOBUH8vt2e/MS1ZFAU2dg+VeV2N5uZQsIeljR0Meh1Vqc7EUACX3dooi6+ze6T0kCVSijBNjQxwZ34Fr9PBnbllqjWJ6ZEB5te2mBkdZH5ti16/j5okKY3SFlNDYIWWKIqiskbN9wmCMkfs//j+P36hNX+ZisAnHebL5TKFQqH14GMwGFrNyk87turC8XahCphKixdFYE3Hd7vd/pjIvExT8nmaqciLOt//mb/8cyTSWeWcdRlEDQajgVqthk6ra5jzNl3ktWRz+VZxh0arbVSiKTZSdpuVeCqNzWJmeXOPaq3GRmOciclgYGVztzFReYUb06O8P7vEUF93K712EolTKlcQBWVfazjYQyabx+mwkc0XuDYxTCaXx2GzNJqmIRTs4eHyBqH+XpY2dtDrtGzsHRNLppkZHWBudYuJwQBLG3v4PC5iyQxXx4dxO+w4bVbMJiML4W2cdmsr9WdsmA9PDAd5uLSO1Wxk66BOsVTm6vgQmXyBqZF+8vkiV0YHEETltW67TUkjdra39reKpQr1ep12r4v7i4ohsU6rJZsvcHN6jEq1Rn9vJ5Ik8c5ECINOh16nZWIoSCSR4ktfuHmhdX/Vkvbz0Znb7UaSJNLpNIVCgb29PfR6fSs6a6ZyX8ceWGMO2C8DAcAA/NVwOPzvXumgKi+FKmCfUS67B9Z0fO/o6Hisd+xF73sRqVSKWCx2odJ7gF/5jf/Mh/fnkRqpIMWItzF0slLBbrVSF6BWk1vXZDGbEASlSbnWuk6Bbr+PQGc7yXSWjjY3+UIZh82i+A8OBsnk81yfGm3N2Yo1yuRNDS/EyZCSVmz2g7kcNj56tESpXGGwr4vNvSPenRnn4dI6k8P9hHf2GeztQpbh5rSyr2UxGRWT4MUwne1eFsKNXqtGwUVPu5eHK5v0+ttaJfQ9fh+JVIb3rk0QiaXoavdQqlS5Oj6MRhTRaTUM9XUxu7qF3+tmbq2ZRqyxdXjC1bEhbs+uYDLq2UbAZNDT1+nD53Zis5pIpLL43M5WW8D0yAB355XIcWFti2K5THdHG/cX1xjo7WRr/xhRVBrhv/97/gBa7cUinNftxKHRaDAajdRqNdra2qhUKuTzec7OzpAkiVKpxN7e3qu60AP8MSAeDoe/JxQKeYBZQBWwbwGqgKm0eJYQPc3x/Twv42vY9DRMpVJPtZp6GssbO/zqf/gyVamGVqOhUqkhakSkWp1KtYrFbCKTy2E2m6lUlFlelUoFnc5CLl/AajVTyhcQNRokqYZRp+WDh0t0+byEdw4afWEi6Wy+NXLknckQK1u7vHtlgtuzy0wMBTmJJpgK9VMqV7gxNYrFbOLG1Ch2q5nNvUM8LgcPl9Ybe1CK6OQLBSrVGm0eJ7dnlxkK9HB3fgWtRoPbaSdXKDI1MoDVbKbH76NQLOFxOihVKlhMRjxOB/snUcYHe1ne3FcmHK9tkc0XcdgsPFgKMzM6yL2VdQx6HdliienRAdq9bnoyWRAEVjd3AYgl0wCNlOaaMoF5doWaJDEx2MfS5h6ToX629o4YbswsuzE1gk4UWds7xGjQtfq9XHYlYh7s7WJte5/f/8Vvu9R34HXvRzWPKQgCBoMBg8GA2+1GlmW2trZ4//33+aVf+iWCwSA/9mM/RmfnSw3Y/HXgX5377+fn3VU+MVQBU2nxpICdL6p43niVy6YQm6NVBEGgu7v7QuIlSRJ/4of+GpVqDY1GQ6VSxWgwkCsUABFZkqnWJExGIwJKJVtNktFotFAHm82CgBKNjQR7ARm9TofdasViNGAxG2hzOdg5OiUU7OXe4ir9DScMi8nY6teS5DrRRIqB3k7uzK0oonFnFY/LQS5foFypotFosFvNzIwpE40tRh01CRx2G8l0Fr1Oi7nhjHFtIsTd+RXavS7uza9RaxTDrO8c8O6VcRYXt+nuaOPgNMroQC9et4ub0xaMeh1r2wdYjEYerawDkG2Mp5keVcrkXXYra9v7lBvRWTZf5NbMGLlCkVvtY2hEkaFAN16nndtzK3T5vCw3Su7LpTKFUhmjQceHj5bQakRsFjPJTI73rk2STGXwuOxUKsp+nd1m4TtvXsFmMV/4e/BJCNizojpRFBkaGuL7v//7sVgsVKtVXC7XS50jHA7nAEKhkA1FyH78Va5Z5eVRy3E+o7wohVitVtnd3cVoNNLV1fXcG81lUojlcpnd3V0cDseFUoZN/tSP/wxHp8owzGqjKRlRwGg0AXVErZZKpYpGqyVfKCpNzPU6derkiwWAhpdgLw+X15EkmTtzqxRKZT54tEQqk+fh8gaReIrdoxMEQcBhs9Lb2cGtKxMM9nXxxc9dw2GzcnN6lEKxTIfXTb6oFFoM9XVRrlSZGR1ia/8YjShy+9Ey82tbxDN57i2uYTToWdvep8ffzvFZnImhfrQaDe/OjDM5PEC3v42p0ADrOwfodVrCO0pVYqfPQyyZRqvV8v69eWZXNljc2OUsniTQ66fH7+Pm1DA2s5GJwQDFYkkp9e/vo1yp0t3e1nLbSGfzLK3vIEkyHz5a4vA0yvLGLj6Pk+FgNzcmQ7x3dYKqJKPViOQLim3USMPySq/Tsry+w8rWHtWqxN2FVdK5PIvhbf7nP/ilC68nfDK2Thcpo9dqtfT19bX6zl6GUCjUA3wF+GfhcPhXX/pAKq+EGoGptBBFEUmSWk3E5yccP4+LphBzuRynp6d0dXVhMpnIZDIXet8v//q/5ze/8iGlShVB0FCp1hA0SsWkJNUV/0NJUqoNK1UsZjPVag0EkGWlMk2v1TLS30sqk6PT56ZQrqDXamjePoM9fu7Nr3JrZow78yuEgr3Mrm5is5i4/WiJQqnMQE8nWwfH3JoZYyG8xdWxYR6trDMU6CKVyXFtfBib1czN6dFWhDTo7mRpYxeT0dCK4hxWC1v7xwS6O/jw0ZKSQswXqVSrTAwH6fC6mRgOkisU0WhEMrkCHpeDWk2Jzq6MDXG30Yj8aHmDSrWK3WJmcWOHq2ODPFrZxGIycBqNMTkcxOdx4fO4EEWhFa2d39+6M7eCKAp8NLtMuVLl2vgwO4cnjPT3UCiWmRkdxGYxMdrfg81s5t5SGINex9KGsl8X7PLjnXDQ429/4Vqe55MQsBftq72mIo524L8Afy4cDv/WKx1M5ZVQBewzzJONwULDSuns7OxjTcTP40UpxHq9TjweJ5PJEAgEWqa1F/FDDG/t8TP/4FeVm04jojKZTGi1GnRaHcVSWSnMqNeR63WqVcVxo1KtIojK8T1OG8dnMbo7vKxtH/Buo2F4ZmyIpfA2Y4MBTmMJpkYHqMkyN6ZGsVrMOO1W7FYLO4cnOGwWHi6t43bYeLgUBiCRVkrS3Q4Hd+dXmBkd4qt357BbLFSqVUqVCm1uJ36fh7GBALlCEaNBTzqbp8vnbThlKE3OTc/EZpn80jqcxhLcmhljMbxNqL+Xg9MIowO9aLUabl0Zw2I0Mh/exGR0sdgQk0xO6YGbCA1wd24Fp81CeOeASrXGxFAAjajhczOjlKsV/D4PAgI+t5P+RkrU53Z+wwDYYGRt+wCbxczXHywC0NPRhtVs4p2JYTK5ApIkkUin+dN/+P9NoVDAZDJdWJQ+iXEq9Xr9uSnp11RG/6OAC/hLoVDoLzX+7kvhcLj4qgdWuRyqgKkA39jvkmX5qU3Ez+N5KURZljk+PkYQhI8d90WRW71e50/+yE819rlA1GqQJZlSuYyhrqdULmM2maiVSiAIVKvVc71gitNGZ7uX47MYHV4XS+u72K1mVjaVm30qnaUmSRiNela2dulqbzvXr7WG22knXyhSrlQJdvvRajSMDwWJJlO0Nfa8XPZ+cvk8bW5H6zqHAp08XN5gbLCv1Zs1u7JBIp3lnYkQc6ubXBsfZm5tk+FgD5VqjXdnxrBazEAdt93G7Yb4NMvkTUY9uUIRs8nIh4+WMBsVj8B8scS7M92YjAZ6/G3kCyWMBh3pbA6A0YEAt+eWlYbpzT3q9TqReIL1vSOmQ/3Mh7fR67QcncUYGwzQ3dFGKpOjUq0S3tlvrgRAq9oSYGPviKOzGDcmRxAEgZszY2SzWSKRSKt83WKxtB5WnrW+n0QE9qJzvmoEFg6H/wLwF17pICqvBVXAVKhUKhweHuJ0OimVSpf+H/xZkVSzb8zhcOB2uz92s3pR5PZ9P/7THJ5GqFWVPS9ZkgGlXFuj1WDVmqlKUuP8NMx4lYbqpjCa9AaMej19nR2IooZQsJdIPElnu5dMLk+wt5NiSRkqWalW6fX7WkMsm5HRtfFhHi6vN1zXV6jWapQaZrs3pkaZXV1lbKCX9d0j+rv9VGsyt2bGsZpNaDQaXHYbX7u/QFe7l0eNvahkJockyXicdm7PLhPs9rMztwIoE5Q9LjtXxobI5osYdFpiqQwOq5lUQ5iG+7qYC2/jczu5vximJkkYdDoW17e5NhFiaSmMz+uiUCpzc3oMh82M1WxCFETWGsKUbTjajwR7WFjfwWTQc3ASIZsvcGtmjGK5wsRQAEGAd2fGMRh0tLmcdLZ7WlHa4VmUH/7e//4xL8OmW0azAKjpY/ik9dMnVcTxoj0wtZH57UEVsM8wgiCQzWY5PT1tmeYmEonXcuxmc/LT+sbOn/9ZEdg//Y3f5D9++UM0Gg2mxswunU7b2NsSyBcK2K1WyoViw8ewqlQe1mp4nA7iqTRToQEWwtuM9Pdyb2ENn8fFR7NL1GWZeDrDWSzRMObdVuyfFpYbbu4b9Hb6OG2Uy5tNRt69ogjS4WkUp83K7bll2txO5ppl8sUyNUnC63ZwbyFMf1c7d47O0Go1OG1W9Dotg31dtHvdeJx2kpkcGp2Grf1jADxOZcLzlbFBZlc3MRr03F9YI/3/b+/Pw9zMyzNf/KN9X0tSlUp77aurbLfbNnTTEMgBJhACoUnohAnJJDkwzEngcEIIh2FIQtbJwhxmgJD8OLkmyckywzABEpgkQC90ey279n3fVZJK+779/nilt+1ut9vuttvb+7kuLmx3lfSWpNKt5/nez/1kspwY7mN2eZ2hnhA7+xF6Q170BsG6b9RrOTM+i7/dxdSiUB0lU4LIhTxuzk3MYjEaKJbLFIolTgz34Wl10hPwNubmDOKHiIHOAGOzSxh0WibmlqnX66iUSi7PLRP0trHe2Ajtb29luCdEq8NOpVrlx9/2RhSN89OmQDTTMpqvhRdGPxkMhjtm4pAE7P5BErAHmGg0es3Q3FdLcy/YS82NNXmpCmx5c5vP/Zf/l3ypBLUaeoOearWKUqkGWZVqrYZep6Naq2MyGoSUdRmNisaCs8WKyy6E7j401IvRoMNuMWEy6EmkMpiNejb2D/C2OpmYX8FuMYkuvUTjzd/d2GT80HAvz1ycpM1hJxpPUqlWCXja0KhVDHYFiafSGLRqytU6FpORg0NhxspkMgJhjvR0cGl2iRarmWfHpqhUa/SGfCysbXHq6ABLa1sM9YQoVSqcGh1Ap9XQHfThtFl47vI0rhareG3VSpV4KkNXwMNzl2Yw6nXCoshCkXaXA7PRgMNqIZ5K4211sL1/AMBAd5Azl2dw2a1cmhUcmE67hfG5ZUZ6O5lYWMFs1COTyzk1OoBRp2VxfYt0NsdMY3bMYTGzvr1PyOtmbEY4A6zV6/zoD70eVaNl1xSOZpRTU9Ca1Zms0eZtDsUXi0Vh5MBsvum1KS/Fa2HikLh7kATsAUan02G1Wl/0C/1KPxnX63XC4TClUumG9oJdq/VYrVb54P/1OWKHcZDJ0Wh1FIsldFodmWxOTN6oVKqUygX0eh3lilCV1es1OvztXJic5+HhPi5MzXN0oJunzo0TaG9jKzyHVqNGrVKRSAlrUirVKgNdIfYiUYIeN5lcHm+bk0KxRHfAQ7axfTjgaWM/esjxoR7GphdpaQhMqVyhJ+hjcX2b00cHxYovk8vz0HAvBq2W44M9GA16nr00RU/Qw8LaFkqFgqX1bQAMOi3nJoU8xbMTsyjkclKZjGD+6AqSy+Wp1+ts70dQyOUcxBIADPeEONMwXpwZn6FarXGkr5PJ+RWODXQzu7JBf2cAGTJOjgw0qrUZ7GazeLZWazz+nX4PF6cXkMtl2M0mookUp48Osh85xGWzUKlV6fS5sRj1rAEhr5uVjV0+8GNvfdHz2nw9NZ//Wq0mitmVSfP7+/solcqr1qa82qWWUgX2YCEJ2AOM0Wh8UYp8syq6WQGr1+tsbGyg0+lueC/YtVqIP/9rv8v23gEqlZpyuUSxWEStFnZ2GfR68qUS9aoMmVyO2WSkVq+j12qxWYx4XQ5K5bKQGqFUMtLfhUatxtvmotVpY2Nvn5G+Ls5cnmGkv4uJuWVcLVbOT85SrlQpV6ps7oZ5+Eg/F6bmOdEQwWB7G5HDBEcHujHq9Tw8MoBWpWR6aY12l+N5m/zSOgB6nZZLM4ucGO7lqQsT2CwmcvkCtVodu9XC6ICOFquJyGESq9HA5IJwniSXCW+8xwZ7uDA1j8moFy38R3pCbIejHO3vIpnJcrLxMw73hLCYjPxgbIqgp1UMEs7mixSKJYx6Pc9dnkan1aBUKMjlizw05MblsGEy6kkkMzhsFvIFQagHOgNML62jkMtZXt8mEk8Ke88uz2MzG9naj9DmsNPutPGG44PUykXy+fx11+nI5fKrqrNarUaxWKRSqWAwGDCZTKIDtrkHTCaTia1GtVp9S5yNzcpQqsDuHyQBk7iKpqPwZn7Ji8UipVIJl8uFxWK5qfu6sgL7/77xzzx9/jLlSgWZXAYyBcjqyORycoWCsHyykSZfLAqBs6VyGU+rk51wBKvRwOzKJqN9HVyYnOf4YA9nJ4QU9/OT8zjtNrb3I/R2+DDqtZwaHcBs1BONpzDqdUzMLeN2tTA2s4BMJmOvsVrF5bRxfmKOY4M9PHV+AqvJQK5QpFSu4HW30hXw0OFrJ53NIZPV2Q0folTICTcqpb4OH2cuz9IV8HB2QjBqNK/59OgA67thRvs6qVQqjPZ1oJBDm8NOyNvGmfFZWlusTDdmyIrlCqtbe7RYLTx9cRKDTgsy4Qytw+/B7XSgUilY3w4DEDkUrPpH+gRbvdlo4PzkfCMGq4+J+WW6Ax7CsQS9QS92i5njgz1otRqeHZu6qlLs6whwZnyGQrHIheklfv2X/w1qtZrDw0OxgjIajdddPNnceBAOh2lvbxfT42u1GiqVCovFgtVqpVarkc/nicVilEoldDqdWJ290n1fzQ9mkoDdP0gCJnEVzWHm61mRrySdThMOh8U3r5vhyhbixs4ev/6f/oxKpUKtVqder0Fjd1e1WsVqNjYGmBUUiyWUSmFNynBfJ6lUmiO9HUTjKQKeNmZXNlGrlKzvCqaDemO3V4fPzbmJOY4P9vDs2DRuZwuRwwS1eg2300Eyk6W/O4BOo6HD5yabK+BvbyWdyWG3CDFQAJ3+523yk/MraNQqDpNpDhMpThzpEzcpRxNJTo0OoFAoOD7Ug06nZWVrl2MD3YzNLGLQaZlaXKPaaK2Nz69wpLeTsxPzqJQKarUaHd42gl43mVwBmQzR/dccRB7u7eDs+CwatZofXJykVK5wbLCHzb0wo/3d5AoFTo30o1aphNgom0XcMdZsI5qNBpY2dmixmnn64iQA3UEvRr2Oh4/0kSsUCbS3kmpEVfV3BpEr5Az3dgJgsViEs7h8nkwmQywWQy6XYzQaMRqNV1VQxWKRnZ0d2tvb0Wq1wLVbjTKZDL1ej16vRyaTUSgUREFTKBRXVWdXcr0KS9oFdv8hCdgDzEvFSd1IrmG9XicajZLJZAgGg2xvb9/0+ULz03i9XueJj/46h4kkep0OlUpBraag3Nj1VavVSWVyyOUyqrU6UG+YFwps7YQ5OEzQF/KxdxDjxEg/m3thXn98mO29CMO9nWSyeU6N9FMql+nv8FGtVjEZ9HjbnOxFYmKr0NPm4MLkPLWaUNlt70c4OTLA1OIao/1dLKxtMtDpR6FQcnp0EJ1OQyaXp93VwtnxOdzOFi7NNHMJc2zuhvG4HPxgbApvm4udcASVQoFcLufEcB92i4ndgyj5Yomxxvc1sxAHOgNMLKySL+nZOYgJyyy7gxRLZU6PCitN3K4WqIPdYqI36OPM+AxuV4to+qjVqiyubXF0oJuzE3Mo5HLSmRwdPjedfi+pTJZcocD8qmCrt5qEDyBNkwnA1l6EpY1tHhruZWZJmKMrlEr8nz/7vhe9lpqCA8IIRSaT4eDgoDGfp0etVhOPx/F6vdeMEXthq/FKI0gzmNdms1GtVsnn80QiESqVilid6XS667a/JQG7/5AETOIqbiTXsFarsbOzg0KhIBgMim2Zm90J1qzAPvzv/yMLKxvIFXIyuRxmk4lsLiMsnKxUUMgVVGtVdDrByOGwWYglUoz2dXJ5boVjgz1cnlkk6HVzcWpeqGzmV0lmsqiUSpY2tjk5MsCl2WUeGurl4vQCbU4b86sbhDxtQL3RTjRgMRqwmIzPu/YawhJPpsgXSljMpkaavJel8W3BPl6rEfS20RXwEMy1oVIpWdncQaNSstDYstze2sL2/gE9HX4uTM2jVCiwmo1E40lOjgxwmEgx2BOiVCoz1BVAJpcjl8sY6g5x5vIMboed2RVhEDmWSLK4/vwgskalYi8SY6RPSJ9vc9gpV6vi0HGhsZpldKCbsekFVEoFiXSWw0SKo32djTO2DpDBqRHBCbmxGyboaRPFLZVpDGkHvBzE4rz59LHrPrcqlQqbzYbNZqNWq5FMJolEIigUCg4ODsTq7KXcry9lBGlWWM12YrM6y2azRKNRyuUyiUQCg8Hwotu+Fckfvb29cuCLwAhQBH5+YWFh+VXdqMQrRhIwiatothBfiuZwstVqxW63X/V9N7tSRSaT8Z1nzvHtJ89Qr1ep15Xo9Tqq1RoGg4FcPg/IKFcqaNRq0pksJoOBZDqLQadjay+Cy26hXKnQ1xmgzWGn1WHDajIST2XQ6zSs7+wT8LQx1nDY7UWEOTdfWysXpubpDfm4MLVAq91KNJGmWqvhc7sw6HUM9oRIpbOoVQpyBSFlfrZhKzfohfbXsSHBcGG3mnn6wqSQZ9gdYicc5fTRQWLxFAOdAWq1GgOdQVQq4Q352GAP5yfnsBgNTMwvUyiWSGdyjM8tc6S3k/G5ZYx6LZlsnoeP9GMzG1nb2aeOkFQPzw8i93Z4mVxYw6DTsrS+Ta5Q5OGRfiwmA0d6O6hUqhwb6BZzH48OdHN+UmhTru2EqdfrGBrzZC67lVgyRa1Wx2m3ijvL9iIxNCoVuXyRn3vvj9xUpV0sFonH4wSDQdRqNcVikUwmw97eHtVqFYPBgNFovG4M1fWqM61WK1Zn29vbohu2Wq2KQ9Q6ne5WVWA/BmgXFhZO9/b2ngL+EHjXq71RiVeGJGAPMDfbQmzO71wr5PeVCNhhMsWv/z9/Lpg2FApqtSrVao1isSC2g4SFCXXB1IFwjjUxv8KxwSDnJ+aEbcmTs/R3Bnjy/Dh2i4l8sUS+UCTYSMs4caSPeDLFscFeUpksXf52CqUyA50BcnmhOgl43YQPk2JVYzUZeHZMsMk/P7c1yNb+AQ8d6YU6nDo6gEqhwO1sIehtE/d8TS+tIZPJ2NjZZ/cgJqRtjM/Q5fcwu7JOm8OOQiEXh6OnF1bB/Pz5VrkirJca6AqKm59rtZogTEf6CXra6PC6yRWKqJRK8kUhfaSvQ9j0bDboGZ9dolSukC+WuDi1QF+Hn/nVTcyNdSdH+zqxWczMrmygziuZXRFMIp3+dg7GEzhtVp67PE21WuOh4T4W1rboCnpBBu9/55tv+DnO5XLs7+/j8/nEiqjZDmxpaRHDoxOJBPv7+2g0GrE6u54RBF5cneVyuavO3kAYok6n02xsbPDVr36V4eFh3G73VR++bpJHgO8ALCwsnO3t7X3old6QxKtHaghLXMVLVWDxeJy9vT38fv81E+pfyVLLD/7qb1Mql6lWqyjkCpDJqdWFvVkABr0eZKBUqbBbzJwaGaBQKPD6o4OAjNcfH0ajVvHQUC+uFjs+t5PeDj/5QpGHhntZ39nH0+pgbHqRbK7Awtoml2YWyRaKnJuYxWjQM7uyQdDbTryRU2izChFOg11BKpUq3YF2FprrTVY3KDcS4S9OL1AqlXlmbIp0Nsfyxg69IT+BdhcnRwZ4w0NHiKcyGPU6JhcFYbKYhTfVVoedM5dnGJteYGx6gb3oIe1OO/2dAX7o1DEMOi2+NudV8165QpEWm4XLs4us7+wTT2c4OzGLVqNmaX2bQHsrGrWaUyMDHB/uRSGXY7MYxfMwnUYwO7hdLZyfnOfy/Arru/vsRw956EgfgfY2XndsqGH1N9MV8FCt1rBbzYw3bsNmNnJ8qEdcYvly5HI5wuHwVeL1QpqDzO3t7YRCIex2O6VSia2tLTY2NohGoxQKheu2p5tnqbFYDI/Hg1KpFEVOp9Nht9vp7u7mfe97H/F4nF/+5V/mO9/5zg39DNfADCSv+Hu1t7dXKgTuENIDL3EVL6yk6vU6+/v7lMvlW7bUsl6v8/HPfZ7l9R1q1RpqtYZcYw6pXC6TadiqhU/YdVoaZgedRsXq1h5ms4mLU/OcOjrIsxenGenr5Knz47harIxNL2C3mIS22WAPLVYznjYnBp2WmcU1fG4nY9OCTX4nLNjkW1usnJuY4+iAkCZvMugpl8soFHIcdhtmsxGr0cBeJIbNbODStHAu1jwXGurp4Oz4DFqNiu+euUS9XqfL76FQLPHYiRHS2Rx6nZZUOovNYqJUFiqm0YFuzk/MYTLomFnZpFAsodWouTSzyGhfFwvrWwx0CwPhJ4b7MOi1PHlunPbWlucHkRvPlTBYPSOerRVKZU42llcqFHJih0lUSgWKRtE90BUU26H7kRirW3ucGO7nwtQcKqWCcOyQowPduOw2dsIRYokkE3Mr/N6vfOiGnuNsNsvBwQFer/eGU15kMpmY2uF0OqlUKmQyGaLRqGilb9r0r3wd5vN59vb2XiSUzcem2Wr0er28+93vZnBw8Iau5yVIAVcquHxhYUHayHyHkATsAealWoiVRgurUqmwvb2NXq+nra3tugfgN1qBVatV/uGfn+KvvvHP1Gp1tBoNderodVpy+SLIZKjVarRqNQqFnOGeDpLpNH0hL4VSBZfDTiKVJuBpZWG1cRaUFc6Cgl5hp1dnwMuFyTl8bifjc8vIAFeLnYNDwTChVqkJed1k8wW8bYKVXi6TkW4IUk/Qw9jMEt0hwdmnkMtx2C2Eo3FOjvRzcJhiuDsoDhhncznUKiVup4OtvQhD3SGml9ZQKhTMLK0RiQt2+omFFXqCPqLxJCN9nShlMgY6/bRYLTwzNoXbYReFqVKtki8U0Ws0/GBsCq1ahUatRqfV0BcK4He3olQoWN8RRgXyjcWaowPdXJyaR61SMj63TCKV4fToIMubu7S2WCmUKxzt70KnUTdWo2iZazyOhwmhsBjt7+bC1HyjijMRjSc5PTrIscFeBruCL/scZzIZIpEIPp/vhscxroVSqcRqtWK1WqnX6+RyOVHQFAqFaAKJRCLXFMqmyMnlcuLxOLlcjs7Ozld8PQ2eBd4J/F3jDGzq1d6gxCtHaiFKXEWzhVgoFFhfX8dut+NyuV7WvXUjZ2ClUomFpSU+/ntfolKtIZPLKFWEFmK+UEBwGdQplkokMxmK5RIXp+aYnF9lZWuf85Nz5PIF5le3aHc5iSfTnD46iEIu59GHhlHI5Zwc6Uchl9PmsOOyCw64h4b72IvE8LQ6uDA1z8rmLgtrW5y5PAPIWd3aY7g3RL5U5PhQNzqdlpH+Lpw2YSj7+FAP4Wgcm8XE5dllMrk8mXxBcABqNEwtrmHU69g/iDLa14nTbqG/M8CJ4T4i8SRmo0E83zIadEQOE1QqFZ4bn2VpY4eZlQ3sVjODPSFOjvRz+uggu40h6mRamL0a6RMSOBRyOWfHZzg7PkupXGF7XxBMhVLOqZEBDFoNLruVkb4uEqkMGtUViyd97axu7bEfOeTs5Dxb+xG0Gg1d/nZeN9KHXqfBabcSb+w5OzrQTTSeRCaTsbq1y7ve/PqXff2k02mi0eirFq8X0kzmaG1tJRQK0dbWRqVSYXd3l3q9TjweJ5vNXrMLkEgkiEaj9PT0iAHDr4KvA4Xe3t7ngD8GPvZqb1DilSNVYBJXIZfLKRQKpNNpvF6vOGx6I993vRZic8vz5/7krxsVk7C0RCGXo9fpKJXKVGp1SpUynX4PCrkMi0HHdjjGUHeIsxNzDHaHmFxYpcVm4dLMYqMNGGVzN4zVbOTC1DwPH+nn3MQM/nYXsyubdPo9yGQyTh8dxKTXoVapaLGauTi9gN1qFs+IMrk8O+EofreLH4xNEWhvZWJe2MgMcGp0AItRz/LGLkqlgqlFQRSaaR29IR9nxmeRyeWMN8TK1+ak3dXCYFeQTK5AuVJmsZFqUb5iu/L5ScH6f+byDNl8gRNH+jhMpDg+1EutVhOGoeVyTAadYKt/wa4wrVZ9lVEDoNVpZ7S/C6tRz17kkKhKKbYMg143e9FDXC1WJhZWqdVqmE1GphbX6PC2EY0nGegMoNdqGOwOotdq2do74F+98dR1XwOpVIrDw0N8Pt9tzxus1WpkMhlCoRBKpZJsNksqlSIcDqNWq8UB6nK5zMHBAd3d3eKM2qthYWGhBtxYH1XitiMJmIRIvV4nmUySz+fp6uq6qU/QV7YeX0g8Hicej/P3T53nB+cnUCjllKuNlqNSRSKVxqDXUyrm8ba5WF7fxmm3sLq5K+T3FUvIFXLq1IVZK08bmVweo0FPOHrIYHeIy7NLKORyNneFCCWX3c7mboQWq5mz47O4HXYO4gmq1RpyhQx/u4veDh+pdI5apcLmQRS1UslCQ2BcLTY2dsN0+r2cn5xHr9OgkCtIZ3OcGO6j099OyOsmnc1hNOhZ2ti56vuayx8VCjn5QpF4KiNuMR7t60SpVHJypB+5XI5WrRITNewWExMNYarX61yeXWqshVlBLpeRyuZ4aLgXu8XM+s4+6XSG8Vnh6w064cPGQFeAqcYMmK/NydZ+hIeP9LEfPWSgS1gq2uX34LRbOIglcNgsTMwLt2G3WVjd3sdmMYmpHL1BL0+844eoX6fCTiaTJBKJ10S8isUiu7u7eL1eMYmjub6lXq9TLBZJp9N87GMfI5vN8kM/9EPYbLZrmo8k7m0kAXuAubItWKvV2N7eFhMVbrb9c60zsCvT6WsKNf/lv/53FAo52UweuUIhZuAp5HJkMhlatQqdWjjH8Le3ETlc4KHhfs6MzzDa38V4I3z3yXPj1Go1Wh029iKHPDTUC8AjDx0hmcnSE/JTKBbp9LeLkUt+Txt70UNGB7oZn1vCZNTzg7Fp8oUiwz0hwtE4rzs6SCKVYbArSKlcJuRto1QSbPZHejsFIXS2MDazKJpMFte2ODU6wNL6FiN9nchkcHKkH7VKiUqpuKrCmmmE/VarVcbnVxjsCjKzvC6IdMMib7OYWFrfolAsixVWk5G+Li7PLiGXy2ixmInEk7zu6CBGg4E2p51iqYy31Ym6cRbUE/SwuC4IazSeZHP3gNaWFs6OT6FWKUlnc/R3BvC3u4gcJomnUqJ4Ou021rb38btdrG7v8WNveT3hcJhyuSwG8DbnthKJBMlkEp/Pd9uTLppRVB6P55qremQyGVqtllKpxK/92q/hcrkYHx9nZWWFQCBwW69N4rVHErAHHJlMRrFYZGtrC7vdjsFgYG9v76Zv54UtxGq1yvb2Nlqtlvb2dkbf8bNUGhuVTSajYJiQKYQlkDYr0XiSIz0hphbXGOrpIByLc2yol0qtyunRATQaDUd6O7GajTx3aZrjQ71cmJqn3WlnbGYRuUzGwuoW+9FDMRrqxHAfF2cWGOwOUm7s29JqVLS3tuBxObgwtUDI52ZqUZjbWm/MbZ0aHeDcxBz9nQGWN3fo6/CjUCh4+Eg/Bp2Wg1ic/s4Acysbwvdt71Ot1tBrNZwZn6XD52Z1aw+lQk69DieG+1Ar5WztRykUS6JpolYXBL+/w8fk/AoqpQKTQc9hMs3rjg1hMRlwtVjJZPO0OmzitumjAz2MTS+gVCiYX9viMJHCYbNwfnIOV4uVte09BroCtLc60Gg0yGUy8QyuadQY6eviwtQ80XiSg1icWGN9SjZXpMPrRq6Q0xvyYbeYGB3oprczJFxzrUY2myWZTLK/vy+mqbzW4nWtKKomzSWtHR0dokVf4v5EErAHnGw2y+7urriRWQjTvbl5LrjaxNGc42lpacFoNPKpP/gT9g4OUClV1Ot1aoBCIadaq6NUKiiWyijkcqJx4c1VJoPt/QjeNhdnx2c4PtTLmfHLeFodDXefnEyuwEhfF64WK562DGqVksuzy7jsFjH+KXwYp16vYzLqOTs+2zhLm0WrVlGtVOnvDOBtc+KwWtBp1Pzg0tRVhguNWkWpXMFk0PPsmPDfSk17vc3CyZEBTAYdyxvbYjAvQIvVwurWHn0dAS5MzSOXyXDYLBwcJnj9sSESqQxOu4VUJo/DaqHUaL32hXxMLa2jVauYWlglnc1hNhoYm1mkw+cmHItzdKAbi1HPQGcQk0HHuUnB9t48+/K4Wrg8JwQMz69uUavVOD7Yg7+9lU6/h2wuT6VWJZEWFnc246VkMhmrm7scxOJ0+Nw8d2karUbNQSzOJ//3n7rqeW626w4PD0kmkxiNRnZ2dpDJZNcM8L0V3Kh4NRM+QqEQZrP5lt2/xN2JJGAPMPV6/UUbmV9JosaV33dlWodGo+HJc+P8+X//B5DJqctAo9FSqVRRqZXIZDKO9nWxvX9AYLiXXL7AQHeHsAxysJdoPIFOK7yJArS7HOyEo4wO9XJ+ch6f28nkwioymbB+JFcocmyoh0Qqg81s4DCZIuhpFc93mllK/V0BLs8uo1AqWDgjvMl3+ttRKpQ8NNxLNldArVSyHY4AiMI62BXkzPgM3lYnPxibol6v0xP0sb4T5nVHB0mms9gtZnLFIk6bleb790hfF5fnlkRHYDKdbWQzLtLl9xBPZjg60I3VZKQ3WMVo0DI2s4ReqxGv3WGzsrq1h9X8/HByb8hHp7+dTn87h4k0u+EDVrcEW32nz8NBTEjUGJ9fbmxhFubkuoM+dg8iDPd0YG3ETWnVGs5PzQHChwcQVrA0r/WFHB4eks1mCQQCYuXVnNtqBvg2I6KamYWvlFKpJCbYv5x47e7uEgwGb2qtj8S9i2Sjf4CRyWQvmp+51pbkG72tQqHA3t6eeLi+exDlV37nPze+ok6lUiObyyOXy8lk8xgbzrtwNM7E3ArnJ+fZ3AtzbmIWhVLO8sYOQ90dQgL70SHkcgWnRgaQyxXYLCbaHC3U63WOD/awexDDZbdybmKW6aU19iJxZpY3aW2xUa/Dsf4u5MBIb4h6XbheX5uLWq3GUHeIlc1d6vUa47NLnJuYpVgps7a9x9H+brQaNa87OohcLsPtsONpc1Cv1+nr8LPYCOtd39lnZnmdSrXK2PQCapWC3YMYRwe6sVtN9HcGODrYTTKdxWTQiUssbRYTB4cJCsUS3z93mYX1LQ5TGboDXl5/bIjekBdvm4PLs0JVaTEKRoTuoBBvtbK5y+rWXiOg2IFcLuf4YA9KpYKBrgDdQa+QqHGFOcRqMpDNFcjk8nz3zCUmF1bJF4WVKW8+fYx2lwNvm5PoYZIPvvttLxKfWCxGLpfD6/Ve1TZszm35fD6CwSAGg4F0Os3a2hrb29skk8mXNPq8FKVSie3t7avWr1yL5genYDCI1Wq9qfuQuHeRKjCJq3gln5Tr9TqHh4eUy2VxUFQmk/FLv/F5IodxdHod+UKRaq2GVqOmv9OPQi5Ho1bic7diMRpY3tqhM9DOxakFwSgxvYhcLmP3IMpBLE6gvU041zrSz4WJGdpbW1jbEea39DotJ470YdBpefriBMONszSdVsP86haFYoliqcTMyiajfUJQrsNqJp5M8/CRfkwGHclMhnaXg3MTc8KurEaVU6lWmVvZEM/VzEYDm7thRvu7cNqtKBUKdFo1F6YWUKuUzK0KmYJOu5Xx+ZWrrPqdvna6Ah46/e3E4imSmQzjc8J/02uFyqI5BA2QKxSEUODRAQrFMkFPK/V6nQ5PKwaN8KGjO+gVF06mc3niqTQyuYdnLk4KA9g2C91BLyGvm1g8KSRqNFqkrhYba9t7eFudTC0KrkW71cLl2SXBoZnJ8uNvfeyq5zoSiVAqlfB4PNd9rVyZSdh0BmYyGba3hWs1Go2YTKbrthpvVLzy+Tzb29sEAgFJvB4wJAGTeFU03YtKpRKlUimuu/i9r/x/nL08jUajJpPNodVqqRaLdPm9XJ5dIuRpZW33AJvZSLFUJlcQkiTsFhO9HX58bhdWs5FwNI7ZZOBi45xmt9HW87a5OD85h8/t4qkLwpbkQqmMUqHEbDRwcqQfi9HI0sYWep2a2YZxIpUV0jY6Ax7OTczha3Nwfj8KgFatYagnhLfVyV7kkEq5LL6xN9uIA11Bzo7PQF0I363X6wx2BQl62ugJ+jiIHZIw6sV9WpbGjq0rhSmbL7B3EOP06CCHiTQ9QR8AfR1+1CrhV3K0r4vxRvtwfSdMNJ6kK+Dl7PiM8LgcJun0u3Fajag6/chkMmYaW5vTjZ9xtL+LsZlFDg4TJNMZDmIJTo0Oki8KDku5TE6nrx2H3cp2OILLbhXFzWzQc2K4F4tJqPjq9bq4f6u9vf2mPug0nYFarRaHwyG2GptiqNfrxVZjs6Jripfb7X5Z8dra2sLv92Oz2W74miTuDyQBk3jFNM0adrsdo9HIwcEBGxsbqNVq/stffg2oI5PJMRr0aDUaugMe1Eohvd1iNsPuAb0dfs6Oz3J8qJex6QXaWx08c3GSer1Om8PO7kGMEyN96PUaHh7uF7YDe9qIJZIoFXLxzbq/Uzif6g76ePbSNAq5nBarmYPDhCBmJhOeVgeJdBZfpSrGULmdDrb2o6LAqJQKNnfDpDLCvFe7q4W+zgDZXAGFXM76juDQbA4Dd/ramWkMCNdqVTb3IpwaHSCeynKktxOFQsFgdxBNYzygOQ4gl8tY3tgmlhBSL86Mz+B2trC6tUdvyIfDbuHoQDcqlZLzE3PIZDLWtncB6OsIcHZ8hoNYks29COVGPFSbw07A7aJUreJzu8QPBaP9nVxuzIpt7R0QjsYJetp4bnwGtUpJJl9guKdDPGOMxBNMzK/wOx//ReB58apWq7jd7ldtzrhWRFQ6nebg4AC1Wo1OpyORSNDe3o5Op3vJ2ykUCmxtbeH1el9NurzEPYx0BvaAc603oxs5B8vlcmxubtLW1ibG87S2tmJrcfL+X/kdioUitbpMdNLF4oLgXJpbwdkiGAtCPjeHyTQnhvsw6nUcH+yhK+AVzrWGetk9iOF22oUE+VyBte09zk3MUqvXWVjbor8rSL1e53VHB1EohGrCZBA+rR/p7eDgMIHVZODy7DLzq5scxBKCSLoc4vJGpUrRiGIShm+PDgjDxhajnvG5JXYPYkRicc5NzGIxG0mkMoz2dSFXyBnp66LVYQWEmavNPaE63NgJk8xkkcvlPHd5msNEmsmFFbr8HlpsZo4P9nB6ZIBIPHmVgzDoaaVULpPJ5fmX58a4PLtEPl/E0+rkzaePEWhvw9/mZHVLmO0a7ApQLlcwGw3MLG+yH41Tk8m4PLtMvVZjez/CYFcQq8lEX4ef0f4udsJCtRmOCsaYkb5OwtE4M8vrXJpZZHppjZC3jTefPsZwb4c4y1er1V42D/OV0IyIamtrIxQKYbPZiMViyGQywuHwS6bRFwoFNjc3aW9vx+Fw3NJrkrh3kCowiRfRHEp+qUSFRCJBLBbD6/WKX9Ns/Xzjuz9gaXUTGpuKnTYL8UQKnUbNypZQvWQbwbMuu41zE7M8NNzHU+cncLtaOFhYQakU5sMeHunDZjaxsRvGoNcyNr3YsLk3kipqdVY2d3HarTw3NoWn1cHeSowufzsalZJjgz0Y9TqevjBByOsW24G7B1ESqQwymYznLs3Q4XOzvhMm5HWj06g5MdyHXqvhqQsTeFwtoj0+nkhSKJZQq5U8OzaFzWwkmy/idtqFqtJkRq2U8+xlIQC4afAIelrZi8Qolkt897lLAPQ3FnAO9YZIZ3JED5PMrQhC5ne3shOOXnU21WI1M7mwypHeEOvbYUb6utCo1fSEfNgtQtqIQadlunGtnrZWtidmOUylxdbicE+QnqAXT6uDw2Qak0EnJuo3h6Shzs5+lJ/4Vz8kbiKQy+U3lIf5aqlUKuL6FZ1OR6VSIZvNEovFKBaL4r+ZTCYikQhutxuXy3Vbr0ni7kYSMIkX0bTEv1DA6vU6BwcHFAoFfD4fMplM/B/AX/z9P/GH/7+/pVavo9FoKZZKeNpcTMyv8PqjQ+xGYhwd6CKdyXNsoJPDRBK9VkM42tiS7HaxF4kx2iec3ditZjLZHKVyhb4Ov3DOFPKRTGep1qpcnhFSKda3Beu4t83JTlhIKj87KSSyG3Q6nDYLnf52Wh02lAoFZ8dn0ahUzK6sA89b1I16LU9dmBBT2O1WMwPdIXztgnni4tQCILThADp87YzNLFKp1nhmbJparcZwTwib2cTxwR4y+TzOVEY8D/O0OtnaixD0tDHXWCBpMRlYWNvi4SN9HBwmOTbYg0Ihp6/Dj9VsZDscwdPqYLIRDVUqlcVzvKcuCFFPIa+bwa4gXreD3XCMnYMY00vC1wfb29g7OMRpszKzvEGtVkejUjK1tE6g3UWpXObkSD8GvQ6nzYrLYWVzN8yPvvn17O3toVQqcTqdt128yuUy29vbtLW1iW1DpVKJxWLBYrGIrcavf/3rfO1rX8Pj8fCOd7yDd7/73bf92iTuXiQBe8B5qZUqL5wFa5o1VCoVHo+Her1+lXgBfPW//QP7kSgWs4lkOkuXr52J+RVsZiOX5pbIF4rUgfXtfR4+0sfSxirD3UEiiSQnhnuQyQSzQ6ER39QbFNaZDHQFmF3eQKNSkUxniaeE5ZMKhYLXHR2iUCribXOKQvb8eVM35ycFV+FT58cpV6oM93Qgl8t5/fEh8oUSpXKFlc2dxs/dbCN2c3F6Ab1Ow3OXpoWA3eE+lEoFj4wOUypVsJlNzxtKWoWVLELFJFRA2+EI86ubnBjuZ31nn6P93SjkQrvSaNSzvrNPl98jils8lSWdzaFUKPjB2DQalQpTY2DZ53ZhNRpJZbPMr21f9bxdaQ7J5PJs7IZ5+Egfh8k0LruVWr2O1WSgK+ghcjmBxWgQ8x4dNgtjM0tkcnkih4JJpbfDy9sefZhUIo5KpcLhcLxm4tXa2vqSgbsymQyVSsWpU6d45zvfSaFQ4OLFi+LrUOLBRDoDk3gRLxSwcrnM+vo6RqMRp9N5TfF6/8d+k+WNbXRaDa4WGyFPGy02M6dGB3j4yACdfg+nRgdY397H1WIVreXpfIH9aJw6cG5ijnK5xMzSOh0+N9ValZMjAzhsVhRyOaMDXcRTaVodNi7PLVEql9k5iHB2fJZqpUI4FudIXydqtYqHj/SLP0Nvh59ypUrQ08rU4iqlcpnVrT3OjM+gViuJJVKMDnSh1QjbnZvnLUd6O8nmC4Ktfm6JYqlMMp3lzPgMMuqEDxP0dfjRabUc6e2gzSm44AJul3iuFU+lhLajSsmzl6ZZ295nZnGdnpCfDn87I31dDHaHRCt8PCUkZBzp6yQaT7K8ucOZ8RlmVjbwtLnoDnh4w4kjyOUyLEYD6oZY93cG2GgEGceTaZY3diiVK5wdnyWVzZHKZDl5pJ+To31YTUa0GjXzDfHs9HsAMDcSS4Y7hL+3tLS8Jm3DlxMvEAxDm5ubOBwO3G43oVCIxx9//JbEV01MTPCBD3wAgI2NDd7//vfzxBNP8B/+w394RUP9Eq8dUgUm8SKuFLB8Ps/Ozg5tbW1otdpritfBYYJnLo5TKpV4+Eg/F6YW6O8McH5qgRabhXQmL4Tj+ty02MyiMGg1aiYXVxsmBKGlplQKb8hWk4Hzk/N4XC3sHMTQatTUanVOjw5i1AsRSp5WB3MrG8jlMrYa1ZBOrebc5BxDPSGmF9dosZqpVCqcHh1Ap9WwtRehrzPAzNJawwkoVF9atZqz47PiXFVri9BufPhIP3qtmifPT+B22EWbeV0mo1arYzLoee7yDFqNGqVCib+9jU6/G4vJSLlSYa4hZAeNCmeoJ8S5iTnq4Tqbu2EKxRInj/TT4XMT8LSRTGWwWYwkM8IesIFOP+PzqygVChZWN4mnMjjsVi7NLOGwWUik0pwc6cdk0BOOxbFbTGIyftOFONzTKZ4b+twuDg4TPPrQMIVSmXq9TqoRKzXQFSCdyTI60I1cLmd9fV1cTWI0Gm/pfi8QxGtrawuXy3Vd8SqXy2I02a3ONfzTP/1TvvGNb4hty9/5nd/hox/9KCdPnuQzn/kM3/3ud/nhH/7hW3qfErcOScAecK7XQkwmk+Jywiu3217J+s4+v/Sb/w+uFiuBtlZKpRLDPSFhdkcmozvg5ez4rGAfn1/GZjbyzNgkxVKZ3pCfWDzJYyeOkMkVMBv0bIUjjRgnwS3nbghYsL2VC1Pz6DRqFAoFmVyeoe4gI70hbBYLs8vrmIx6JhoJF8rG+V2Hz82FqQVMBh3lShWlUoHTbuH06CAatYrnLguZf03zg7Uxt+W0W/nB2BQymQyn3YLdaqa3w9dwHcrEnV+phtAc6evk/MS8YDk/TJAvFBs2fAcdnjaSmSwtFiN7B8L+sMHuEOcmZjHqdUwsrFAolnDarVyaXaLD56ZQLHGsvwutRk2LzUzQ42ZsegG5XCZWa90BD2fGZ4nGUxSKRUrlCkPdQewWMyqVguX1ZrtReK6arViAcCzB4toWRwe6mV3ZxGm3UCmX+dfv+mHcbjcgnHmWSiXS6bS4qaApZteLdLoRrhSv6605KZfLbG5uYrVa8Xg8r+o+r4Xf7+cLX/gCn/jEJwCYmZnh4YcfBuANb3gDzz77rCRgdzFSC1HiRchkMnGHV1O8Xlh1NfnUH/0ZB7E4O/tRcoUCF2eXUSiUXJiap81pJ5XNcXJUWBPidtjp6wg0xMvHwtomKqWCqaV1xmYWSecLLG/sMNLfhctu45Hjw5QrVTQqFarGgG9/Z4BMLk9Lw3k3sbDGXiTGwWGCYwPdDPd28PpjwxzEEgAkGy67we4QhWIJi8nA0xcmOTM+w8FhomHDH2K4p4PR/k4W1oSKSS2eo3VyEEuQSme5PLvE+PwqWq0Gq9nIGx4awWo2EfS0ETsU5rmGezrIF4qYjHomF1bYPYhRrFSZWlrH2WKjWCpxpDsItSpOu4WBrgCFYgmDTisaNZx2wUhxcJjgufFZYvEUSoWch4/086aTR5E1Qh3Xd4Qzv4HOAKVyBZ1Ww8WpBc5PzlGr1gnHEgx0BVCrlJwYFhydIJg+Fhvtw2qj0rYYDcyubvH4v3rzVa8DjUaDw+EgGAzi8XhQKBQcHBywtrZGOBwml8vddPTYjYpX8+ssFsttES+At771rVdVlleeqTWjsCTuXqQKTOIqarUa6XQahUKBz+e7ZsuwyZPnJqjX6sioY7eYWNwQBm2bJoyQx82Z8Rn6OwOcm5hDo1Kh1Wo4PtiD3WqmVK7gtFs4PzlPi80ixjelMlkW1rY4NTrIxPwKHT435UqVU6MDyOUyNGoV/nYnsWSKgNslGiEW17eFhIujg+weRDk20I1CoeDEcB+ZXB4QznsOYgkC7a3ihuKNnX1WtnY5NTpAvlDk+FAvGpWSwe4QtcZ780Cnn8nFNbRqFTNL66SzOYqlMucm5+gJeoWk+P4utFo1QW8rbS0tnJ2YvSrd3mTQM7+6hd1qZrLhaHRazRzpCWKzGJlb3aZer4tC5m1zsd2w05+bEIJ2j/R1EoknOD06QLVWo93lIJMXfrbhnhDnJ+dRKhRipJXFaODM+Cwmo55isYzbaac74MVhM5PK5MXFlyajjvccfRSD/qUHh68cQH7hWhWtVovRaMRgMFx3oWVTlJxO58uK1+bmJiaT6UWZi7eTK+8nm81KifZ3OZKAPeBcKUzNswaNRvOS511NJhdW+YXPfh631cDq5i6njg6yHzmkw9dHOpvH2+pkZlloy+kaOX8j/V2cn5wjVyhweW6ZWq2GQafl6EA3LruVhbUtVEoFC2tbVyVPOBvzYk3HnVatolaH06OD6HUadiMxeoJeZpY3UCrkzDYWRyqVCs5PzjPU08H04hreNsEO/tBQL1qNmo3dMD1BL4uNVtv2foRypYpaqeS5yzO0u1qIxpP0BL047Db6O2uYjXrOTcyh12nEGS2r2cji+ja5QpHLjcBcg1bHscEeHDYLcyvrJFJZJuaFrzc2RKIn5BMjrkLeNg5iCY73d1KuVlEqleyL4wVOtsMRWh02UXCK5TKXZpbo6/Azv7qJt82JXqfl+FAPapWKM5dnAFhrODMHOwOcnZgjlkhxdmKGVCbHqdEBHDYzwfY2FEo5P/XOt9zw6+bKtSr1ep1CoUAmkyEWi6FQKDCZTBiNxquCops74pxOJ0aj8SVvuylyRqPxNdkzdiUDAwOcO3eOkydP8vTTT3Pq1KnX7L4lbh5JwCSAq80aMpmMvb09MpkMZrP5RQf4Z8bn+Ne/9vvYjDoWVjdRyOXMr2wST6WxW0yMzSzy8JE+ypUSR3qHKJbK2C0movEEAB3edsLROL0dfqYbZgq7xUw0nuT1x4YwGw1YzEbmVzca51PCmzaNVtVgT4ix6UXxXEsmk+NssXHKaEStUvLMxYnGKpLmeZjwBuiyW3nukmBRV6tV+NtdBL1uDHodMhlcmlkS9mJtCcLZ2mJl9yBGoVjme2eFAeShnhDDPR24XS2sbe2xHz0UKyZzIym+r8MvxksF2lvZ2ovw6EPD5IslFHIF+xHhHMzayBnsCnhEM0kim2dlc5eRvg7Wd/bxtrZQq9U4NtiDQachHI1jsxiZnG9WTvrGz6jgyXPjgFCJ+dtd9AS8xFNpCsUiB43N1Ef6OsV5tpWNHSLxJB2+dhKpDEcHel7Ra0cmk6HT6dDpdDidTsrlMul0mr29PeFDisGAXq/n4OAAh8NxXfFqipxer8fv97+m4gXwq7/6q/z7f//v+aM/+iM6Ojp461vf+prev8TNIQmYBKlUioODg6uSNUKh0IsO8JufuI/1d/L7v/wBZle3+e/fflKIhppbxmTQi6KRSGfYjxwS8rZzfmKW7qCPSqXCqVHB3q5RqbA03nybKRBGvY6xmUUKxRIjfZ3shmM88tAwxWJZyF1s7KkqFIQW5WCXsKDSabPy9IVJarUaA50BDDodp48OkMrkiCfT4uqSXKEAwJG+Di5MLVCv13n6wgSFYomHhnrp8nsIetvYjx6SzGTY2BUGlttbW9jcCxP0tIlmj0KxxNLGNq87OkS+WESrVhOJJ4E65sbPJZzzCRXW1l6E9Z19To0MsLEbpsPrFqtBtUrJ8sYOfreLlU1BPCsV4WyqxW7l3OQ8AA6bGV+bk/5OP5F4kr2DmFiRtTntrO/s43bYxVk0p83K2MwSXf52KtUap0YH0GnVmAx63E4bi+uCaMbiST7wY2+9ZZZ5lUqF3W7HbrdTrVZJp9Ps7Owgl8vJZrPIZLKrgnubVKtVsQNw5Z6x243X6+Xv/u7vAOF1/5d/+Zevyf1KvHokAXvAqVQqJBIJ/H7/i5I11Go1LS0ttLS0iJ+qt7e3KRaLnBrp5x1vfpRf+9BPMz63zDe/9yyrW7t8+6lzuOxW0SSw1ZhNsltMQp6gycD43DJWs5FC43YUCoWY6n5ucg6nzSq+CR9E4yyub/PwcB/xVIaHhnpQqVQMdAWIJQRrelfAQ2Q8gbfNxWwj4WJ1a4+VzV1Ojw6QTGfpCfrI5vNYGrmMIAjM2MwilkY8VblSxWjQMb24xkhfJ5VqlZ6gl0JREMymSHT43CxtCG3Hg1ic5c0dTo4MsLyxjd8tRBudGO5FrVaxsLZ1VZsy0qiEHHaLcC6oVqGQy/G5XfR3BcT0kWYF1/RHDPd2iGJVrVbZjRxytL8Tg16Hq8VKpSKsqgn6hJBhs9HwfAyVTbivYrnM3oGQM+i0hWixWpDJZMwur/H42994a19YV5BIJHC73RiNRnK5nLj0Uq1WYzKZMBgMyGQytre30Wg0hEKh17zykrg3kQTsAUehUIhtw5c67wLhU7VarQbA5/NRKpXEFpG/1c4nf/EJ1Go1M0vrPHNxgr/+5j+TzRfE2KVmW67ZiuwOeLkwNY/dYiKZydJqt6DXqRnt78Sg0/HspWm8bQ7xjX8/dki9XkelFM53uvwedg6ijDQGl72tTnxtTrb3D+j0tYuVzPZ+lHAsToe/nUuzS/jbXSCT8fCRPqjXUSkVdPjauDwnJIY0RQJgZmmd44M9jM8tY7eYqFZrnBwZQKtWsbq1R4fPzXIjxaMppm5nC+cm58RzP1+bk6C3DYNeR6lUEufdEmnBft8T8DC1tE7pIEYqkyWZzjaWZ8ppddiIpzKoVUrUjcett8MnJumnswVWNncFY8nyBiqlorH8cxC9RsOT58dRq5SidT7gdrF3EMNo0HFheoFSWaiIHz0xQov11psVmhWV3W4XA58NBgMGg+Eqi/5XvvIVnn32WU6dOsV73/teSbwkbhhJwB5wMpkMKysr6HQ6sUV4rYHVw8ND0uk0Pp8PpVKJwWDAZrOJLaKDgwMqlQqtNiM/+5638aH3v4uVjR2+9eRzXJic55+fvQDAcqNyadq3u4M+zk3MIpfL+d4Z4ZypK+ClL+TFaTMjQ45WoxKHc1cbxg6H3cLyppA28dT5cQCMBh0nR/oxG/TsRWP43a1iIkYzZsrjcnJmfIZarc76zj5qlRKNRsOx/i4UChkXppewW0xi9VKuVgHBen5hah6VUoFeq8XtbKE74MVmNpEvFJhdaSZvCEPBTUdg5DDO4aUU2VyBU6MD9IS8tDtbCMfiKORyKo3H4UhfJ5dmFpHJhDmvSDxJi9XC9OIaTrulITYD6DRqFla3CLS3iuIpb7R9O31uLs0Im5uDnlbUahWnjw6QyxcJRw7Frx/sDHJ2YhalQkjC/3c//Z5X8xK6Js2zLLvdfk0nX9Oir1KpeMc73sEjjzzC1tYWX/ziF/mt3/qt6+4Ak5BoIgnYA47ZbGZoaEic+zo4OLhKzGQyGTs7OyiVSrHNeCUKhUK0VlerVTKZDNFolFKphNlo5H//iXfyyz/zOFt7B/zTsxf4+j89zdj0vChkpcaK+UAjsd3f7hL/W6rVyU44whsfPordImzvPTcxi0wmEyszs0E4bxKchquNiCUjpVIFT6sDm9lIHZmwhBLEN/E2Z4tgkmhzcnZ8VriG9lYcNgvD3UGi8SSHybRoIGkK2XCvIDTZfIGzE7Mk01lOjQ7QHfTS7hIyERVyOelsXvz6pvDNLW+QzGSxmYzMrWwQaG9FpVRwarQfhVwB1DnS08FEowrc2heq105fO2cn5tCqVSgUCixGAz0hL21OO8l0RjyXMzZs6SGvm7VtIfl/Zz/Cwto23YF2yuUqxwa70es0eFoduFqs7ISjvOnk0VvzYmrQzM202WzXtaHXajV2dnaQyWScOHGCU6dO8fjjj9+y6yiXy3zyk58Uz99+8zd/U9wYLnF/IAmYBCqVCpfLhcvlolKpiGK2vr7OF77wBd7+9rfzrne962UP+RUKhZgeXqvVyGQyHB4eUiwWMRgMPPEjP8S/ee+PsB+J8e2nz/Gt7z8nCkSxVAbAabOwuXtA0OtmvfEmPLe6QTh6yKnRAWTUecOJYfKFEptKpVhh6Rstu+GeDibmV1AqFFyYmieVyfHwkX6cNgtH+jqJpzIUiiVRJO0WU6Md2C62Odd2wqzv7HPyyABajQa7xUA8mUEuk1FpCO5wbweXZ4U0/MW1LQ6TaRxWC7PLG3T43KjVKk6ODCBvPGZN4ZPJEIel21sdnLk8Q4vNQjyZpsVqxtli5cRwL9VqjUuNubhoY+nlUG8HF6eEzdSXZpaIJVKcHh2ktcVGyOumVq9hNRloddhY297D1WIVjRpatYpkJkskluDSjHC7freLn3/8R1AqX3pu62ap1WpsbW1htVpfVrx2d3ep1+t0d3dfd3bslfLUU09RqVT4m7/5G5599lk+//nP84UvfOGW34/EnUNqNktcRXN9hs/n44//+I95z3vew+te9zrW1tZYX18nFotRagwqXw+5XI7ZbMbj8RAMBjEYDCQSCdbW1pDVKvzE29/I1/7z5zjz377M5//vX8LT6kCpVFAqCwLR5hCCcYPeNnHdysrmLoViiUKhyLnxGRxWEy1WE6dG+igUhdw/dWPuaLA7RCojpLvPrWwQiSdJZ/Ncmlkk6G3Fabfy0GA32ZzgTGxtEe5P2A0mtBsPDuOsbO2iVKpZ3tqjzWGnVqtxpCeETCa4K4Z7OjhMCmkNzequ1WFnYm6Zte1dzk7M0uqwYbOYGO3rZLDTL55/Ne+nO+ChVqtRKpd5+sIkF6bmUSoVBD2tvPHkCHqtGq1aRbFhJjnS2yFuct4OR9iPHlKt1Tg3MUc2XyCTzXF6dICh7hBKhRy9ViMOmbc2HleLUc/5yTneeOLITSdpvBTNystqtWKxWK77dXt7e1Sr1dsmXiA4CqvVqvhh6lZnOUrceaRnVOKaaDQavvCFL4i5eNVqlUQiQTweJxqNig4ys9ksmjteCrlcLmboNfc6pVIpwuEwWq2WH3nsYU4Pd/Hr/8cHuTCzxDe++6zo1mtz2Fnf3sff7mKzYWtvGjT0Oi1Ti6sY9Fom51dw2a3IZXC0v0uMnhrsDjExv4xSoRCTN7QaDRcW5ukLeZlf28ZptyKXyzg60I1eq2F1a4+gp01swzWvxdfeyrlGukauUMDb6sCk1dAb8qFWKUXnZFOYOnxC6kepVObJs5ep1mocH+qlN+TH2+ZgOxxl7yAmbkfu7wxyfnKuYbxYJ5PL43a1MLmwSnurg1q9zunRAdQqJVCnJ+gXl2ams89HZo03hqndThsymZxTRwfJ5wscxOLitfV3BkhnczitRtbW1sS28bXs7TdCU7zMZvPLitf+/j6VSuW2iheAXq9nZ2eHt7/97cTjcb785S/ftvuSuDNIAiZxTeRyuSheILQHm5b6arVKKpXi8PCQtbU1MbHcbDa/bMhrc4V804nWFDK5XI6aOm85dZQfe8uj5IslvndmjHMTs0wvruF2trC5e0C7q4XdRiDu5p5g0dc17rPVYefsuLAN2WIyMNQdwNViwe2009piZ3x+GYVczlzDlWduOONcdivPXpoGoN3VwmB3EG+rsDamVquJlVU8JVRafZ1+zk/McZhKE4knKZbKHB/ooi/kxWYxsbYjXNfegRBI3Olr5+LMInqthunFVYqlMlazgYXVTfo7A+i0Gpx2i2hsGe7pYKxhxmgOOAfcLs6MC+G/pbKwjyzocWEx6UllcuKCTLlcaFkG212sNwQ/HD1kZmmdI71CtXh8qBetVsO7fvgR2tvbxQ8VL7S3G43GGxKYK8XLarVe9+vC4TClUomenp7bXhH9+Z//OY888ggf//jH2dvb42d+5mf45je/+aqDiCXuHiQBk7hpFAoFNpsNm81GrVYTxWxjYwOlUimK2cs5yfL5PLFYDL/fj0ajoVAokE6nxQrvDceH+FePneLff+SDPHtpir//52fYi8TYPYjRYrOIye7NyKVmjl9/Z4DppTXiqQybu+HGHJiXUyN9VKtVLkwvNYwgQvVibBhBmrFMuwcx4sk0uwcxHjsxQnurA4CJRmWTbeQqDnYFuTC1gFqlZH59m2xOWHy5HzlkoNOPRqVCr1WTaKwrGboyq/CKjcxnx2dxO+zsRQ8JtLdit5gZ7gkhlyvENSh7EeFnHOgKcH5ynmq1yvmpeRKpDKdHBwl522h3tZDO5lEpFbgcdtZ3D2hz2JlpRGupVSriqQyxRILxuUX+82d+GXjxh4pisUg6nWZzcxOFQoHRaMRkMl0VC9XkZsSruc27t7f3NWnnmc1m8ZotFguVSoVqw4wjcX8gCZjEq0Iul18V8JpKpYjH42xtbYmtQ4vFglqtvqo1lUqliMVi+Hw+8U3myjiiK99ElUolx/o6eOzECLV6necuTfPcpSn+6hv/TL5YZKPRFjtsnAs1I516O/zMN4RiamGFWCLFQ8O9WI16jg32EE9lWChtiRuZrWYh4qjL7xGrrvWdfTZ2w5weHaAOnBzpB2S4HXbxvG6wO8TlWUEUmxWTxWTkzPgsrXYr8XSGvpAXnUaNx+UQk0vg+XZo0CsMICdSGb5/7jKVqhBefKSvE5vZKBpMsnnhrG+op0MUt+39CFv7BzhsZiYXVtBrNVSrVU6N9qPTaNiPxtBpteLmZrejhS6/F6fd+qLnUyaTodVq0Wq114yFunKdSr1eZ2dnB5PJ9LLiFYlEyOVyr5l4AXzwgx/kU5/6FE888QTlcpmPfexj1907JnHvIQmYxC3jhWKWTqdFMWtGUZnNZp555hl6e3vx+/3XbFG98E20KWZNUTzSHeD1x4b4xC88wdj0It/83g/4l+cuim/yzWWQtoYghXxu1raE86ytvQjxVJpcocClmQX6Ovyo1Wo6fG6SDXOFs8XK8qYQ7dTcchyNpyiWysiQcXZiFpNBhzaj4fToABq1BrlcxkBXSHRVNoWpw+/hzPiMsH9rY4darY7baeX4QDc6vZYLE0JM1F4jH7Gvw8+5xjnY1OIq2VyB00cHhUWcHX6Mei2j/d3iYHNzASc8L+DdQa/Yggy0C4aV0f4uDhNplje2Wdna5dd/6Wdv6Dl9YSzUlWMStVrtZcULIBqNks1m6e3tvWYVd7swGAz8p//0n16z+5N47ZEETOK2IJfLX2Spj8Vi/NZv/RbpdJqhoSGKxSJarfZlTQMajUbcS/XCfMYuXyuf+Xcf5Dc++vNMzC/zze8+KwbvNiOgzI3WotvVIrYddxsLM20WE2cuzxDytrG2vU+H34NGpaIr4MFhs7C5d4CrxSpGR6VzglmiryPAhal5dsNR5Ap5Y7jZhlbTRy6bFVPmwzGh9dcT8nFuYk4IJ17epFAsMdrXQZ06J4Z7kQHlSkVcjdKs6gBWG2JoNRs5Oz6LTqtBqVAw2BXE2+akVCqTzuZYaYi0qiFuHT43q41/CzdChwe6gqiUSt766MM3/Zw2xyTMZjNbW1uoVCpqtRpra2totVoxFurK5zMSiZBOp19z8ZJ4MJAETOK207TU/8M//AM+n4+f//mfJx6Pi22ppmHgRhxw18pnbM4T+Vx2fvUXn+DTH/kZ5lY2+OZ3f0AqnUHVWE7pbXWydxDDbDSIlVXTAt/maGFte59cLs/3z44BYDb08vCRPkwGPc9cnESr0TDXSNwoN+bBBroDXJ5dRiaTcWFqgUQqw/HBHnpDPtqcdjFKK5N9/txsrJG4sbEbEduQ56cWsJmFM6gTw70Y9XpUSgVdAa94XhaLp8TbuDi9wMzyOvvRQ2KJFI8cH6JUrlCr1cWWamuLndWtPWwWE9ONczCjXoe/3YVB98qSLpptQ6PRiN1uF/+teX4ZiURQqVQsLi6KafI9PT0v61SVkHglSAIm8Zrx/ve/X/yzyWSiVquRz+c5PDwUo6iaCSA3ImZXtrcqlQrpdJr9/X2q1SoWnZrHf/h1fPzf/CQbO2H+4cnnmFvZ4MLUPEFPG5MLwrDzWqPtmG/MkQU8Qhq92Wjg0swi9XqdI32dyKlzYriHVCbH5t6BOECtVAi/Qn0dflFomkYTu8XM6tYeXQEPRr2Okb4uaAw2D3YFxTOp/Yhgo+8JBTg3MSvOeMnlctparJgMerK5nJijWGkYEfo7/Mw1rmM/Gmd5Y4eHhnqJJdP0dfhRqZV0BTy0WM2cm5hDIZezsLrJL//Mj7+i568pXjqdThQvuHqdisvlolgs8q1vfYs/+7M/w2g08vjjj/NjP/Zjr+g+JSSuhyRgEncMuVwuut98Ph+5XI7Dw0MikQjlcll0v72wLXUtlEql6IyMRqMkk0lUKhVbW1uYDAZ+8SfeiUaj4VMf/tc8ee4Sf/eP3yeRSovrTjYa1vfmUG+X38Ol2UXUKiULq1sUSyWSqQwXpuY50tuJzWTAajGTaGQfatXCr1LQ2ybmLkYbAb9NARE2UqsZ6eukrcVOJJ5Ap9GIs1mpxtndUHdIPMOaWFjlMJnmaH8nfrcLb5uLTC6PXCZDrRLODz2tDtE8UmkM7tbrdZ4+PwEIppYTw32YDDpWNvd47OHRm36urhSvlpaW635tNpvlLW95C//23/5bMpkM29vbN31/EhI3giRgEncNer0evV6P1+sVK7NoNMru7u5VYvZSs0n1ep1oNEqxWBRXcjTP35rGA4PBwHvf+hg//a63Eo7F+c7T53j6/DjffvosAOGYUA1pNELLq9PvESurpkjodVrOjs809n1t43baMWh19HcGsJmNrG/v02KziOaK5llcf1eQ8bklJuZX2LFFicaTvOnkUdxOO/lCkcnF1at+nv7OgHjfyUblZzXpmVxcx6DTolarefhIHxq1mp1wFINOKw5r2yzPz7g1A35PDPfy6EPD4hnZjVKv19nd3UWr1b6seMXjcWKxGD09PVe5Sm81f/Inf8L3vvc9yuUy73//+29phqLEvYMkYBJ3JTqdDo/Hg8fjoVAoEI/HOTw8ZG9vD4PB8KJB23q9zv7+PjKZDI/HI+Y2Ns/fzGYztVqNbDZLPB6nUCig1+t539se42fe/TbiqTTfeeY83/7+GfYOomI1ZDEJTkZPI1gYnncM2izPZ/09MzYJwLHBHk4M92IxGfnB2BTU6+K5mbqRDnLlfrDNvTArm7ucHOnHYjTSE/JBvY5Bp8XS2NjsdrWIZow6ws/lczu50NisHPS00elvp8vvYXV7n+WNLVYaYtvhb+fgMIFKqWB2eYNP/MITN/U8NMWraaK5HolEgmg0Snd3Nzqd7qbu52Y4d+4cly9f5q//+q/J5/N89atfvW33JXF3IwmYxF2PVqvF7XbjdrsplUrEYjESiQT7+/vo9XpUKhVf//rXefzxx2lpaXnJ0GG5XC6esdXrdbLZLMlkkv39fXQ6HT/6xlO8/0feTCab51+eu8g3v/cs0fjze752whH0Oi2bTQNIo0Xob29jL3KIUa9jYn6ZarXGscEeqpUKjzx0hGy+wOrWrjhb1mKzwPo2bQ67aLfPF0vEU2kKxVIj+kpOtVrj1MgAGrWKvYMYOo1aPHuzNFJEPK0OsQWpUSpZWt9ipLcDlVqFv71VzHoc7O5ga/+A1x0duuHHvV6vs7e3h1qtflnxSiaTRCIRurq6bvus1Q9+8AN6enr4yEc+QiaT4ROf+MRtvT+JuxdJwCTuKdRq9VVitrm5ySc+8QlOnTpFPp8nmUxiNBpfdlhWJpO9KJ+xuddMq9XyltNHeddbHqFQKvH9s5e5MDnHwtomPrdLbNM10zHEc7OAh/G55cZA8zalcoVcvsi58Vk6fe0oVUp6g17ReRhsGEa0GrU4cK1pOCb97a1cmBJmxPo6/HhbHQQ9rcSSGRZWN1ltiKHf7WInHEWrEQKHQYiTuji1QIvVTDKdZaAzgMtu4fTRwRtOnm+Kl0qletkWYDKZJBwO093djaGx0uV2Eo/H2d3d5ctf/jLb29t8+MMf5jvf+c7LbkuQuP+QBEzinkWtVnP27Fk+9KEP8dhjj4lrYMLh8Msu6LySF0Yp5fN50RKu0Wh49Nggb3/DST714Q/w/TNj/N0/fpeVrX1x03Ez7FfXiM4KedvElt9uIw/R5bBx5vIMdquZw0QKT5sDo0HHQGcArUYtrk5puiJFC7zZyMLaFvV6nTZnC3MrGwz1hNCq1QQ8bWQaFdZAV1A869pruBpDXjcXpxdYWNtiYyfMT73zzdTr9Zd9o2+Kl1KpfNnKq5ll2dXV9ZqIF4DVaqWjo0MYQO/oQKPRcHh4+LLncxL3H5KASdzT/PRP/7T452vtNGtWVE0xe7lhWplMJppJrpxvikajyOVyOtsd/JfPfhyFQsnZiRn+8ftn+ceGASSXF8TEabeyurWHyaAX243NObAOXzuHiRThSJzDRJp8ocgjx4c5MdSLRqthbFo414olBSt90NvG5dllYe9YI7vRpNdzZnwGu8VEOptjsCuIw2bB2+oUKrFGddY0jwx2BdnYDTPY6WdtbQ2NRiOeIb7Q3dk8S2yu1bme2DXHFjo6OjAajTfwbN0ajh8/zn/9r/+Vn/3Zn+Xg4IB8Pv+yaSAS9yeSgD3A1Go1PvvZz7KwsIBareZzn/scgUDgTl/Wq6b55ut0OqlUKuIamGZF1Yy0uhExazrptFot0WgUk8nE3t4eCoWC4a4Ap0cH+a2P/wIXpxf452cvEE+mxDf9gKdV3Ja8sSucUykagtET8ooV3PrOPtv7EU4fHaRSLgvJHDI5NrORcqPd2NfhF7++GV7cFfBwfnKeudUNNvcOSGdzPHZyFIfdSr5QZG5lHRAqw//tkRP4vJ6rRDkWi6FUKq8yxOzv76NQKF5WvDKZDHt7e4RCoesurrwdvOlNb+LChQu8973vpV6v85nPfOa2rmWRuHuRBOwB5l/+5V8olUr87d/+LePj4/zu7/4uX/rSl+70Zd1Smm0wh8Nx1U6z1dVVNBqNmJx/vaSIZDJJIpEgEAiIb5SlUolUKsX29jZyuZxuXxvHfuEJPvWhDzC5sMo/fP85VjZ3hFUwV0RYxRrGj6a70dViY3tfcDdmsnlKZSExfWx6DplMhrfNKeQtatTMLm/gslvFPWXlSnOgOcBM41xue/eAla1dHhruQ6tRM9zbiUIh5+2PnQKuFmVAzJnc3t6mXC6LZ4wvJ167u7uEQqHr7v66nUjGDQmQBOyBZmxsjEcffRSA0dFRpqen7/AV3V5euNMsmUwSj8evu9Ps8PCQTCaDz+e7qt3WdOY5HA4x0mpnR2jd+Vw2fuXnfxKlUsnC2hZPnrvM3/7D91hY3RQHpptGDk+bg4NYHJlMJuYt1ht7wbr87UzOrwh/DnjwuBwMdofY3AuzurXLYmMI22wUXH9Om5WVxhlavVYjlcmRymTZ2N7jL//g/77mY6LRaFCr1VQqFTFzcm9vj3q9Ls7eXfl45HI5dnd3CQaDd0y8JCSaSAL2AJPJZK46u1AoFFQqlQdi9bpCoRBjqGq1mihmzZ1mer2eb33rWzz88MMMDQ1dNwnkWpFWzZxHh9nIz/342/nQ+9/F2tYe33ryOf7x+2cIN9qAOrUgDgFPq5jgEWlY9x02K0sbO5iNBlY2hbzHVoeNueV1jg50o1IpKVeqotU/5HMTiSeQy2ViwojDasbb6hB3pb2Qer3OwYGQ19jW1oZMJhN/juaCy0qlwu7uLkqlEqvVSjAYlM6cJO4K7v93KomXxGg0ks1mxb/XarUHQrxeiFwuv2pBZzKZ5A/+4A+IRCI8+uijRKNRsc14M5FWTREIh8NUKhWMRiO/+L538O9++j3sHkT5xyfPcmlmEblcjstuZX17H7VKyU5YaDeWGoHBnf72FyXTazUazlyexm41k8sXGO3rwmzUYzEZaHc5xASPaDzJv3732655rU3xqtfrtLa2XtU2bIpVczXOzs4Of/EXf8H+/j6ve93r+NjHPvaauQ4lJF6K6/82StzXHDt2jKeffhqA8fFxenp67vAV3XnkcjmRSISWlha++MUv0tHRAcDW1harq6uEw2Hy+Ty1RpvvejRFwOfz4fcLe8cikQhra2uoZHV++kffwhd//f9k8lv/Lz/2Q6d53egAXX6veNv7jcQPbSPWytvqJJ4S0vMTjf/v9LVTKJa4PLvI+YlZkuksbqeNUyMD4q6wN58+9qJrq9frRCIRarXai8TrhZRKJVwuF7//+7/P//yf/5O3vOUtt+WDTiwW47HHHmNlZeWW37bE/YmsOYQpcU/zip7EpgtxcVFIXf/t3/5tOjs7X/FFlMtlPvWpT7Gzs0OpVOLDH/4wb37zm1/x7d1NNDMV4/E4yaTQsmuemd3ITrNr3VY6nabYSMFXq9W0t7eTTGf5p2cv8E/PnOefn70o7A3r72Z8bomHhnq5OL2ATCZDo1ZRKJY4OTLAuYlZugIeMauxmaF4fKAblVLJ33/ld68SqKZ4VatVsW34UhQKBba2tnC73bhcrlfy0N0Q5XKZj370oywvL/PFL37xVb0ObxPSlPRdyIPXL5IQkcvl/MZv/MYtu71vfOMbWK1W/uN//I/E43He/e533zcC9sJMxWZy/ivZada8LZPJJO4yk8vlrK+vo9frecdjJ3nf299ENpfnu2cu8d0zYyyub4m2/0B7qxgfddiYF3PYLCxv7KDTqMUQYaVSQYfffU3xqlQqL+s2LBaLbG1t0dbWdlvFC+D3fu/3+Mmf/Em+8pWv3Nb7kbi/kARM4pbxtre9jbe+9a3i3+/X2Ry5XC7GUL3SnWbNkNymm1Emk4n5jM10C51Ox5tPjfKjb349v/crH+KZCxN425yEY4es7+yjkMvF5ZW1mlCEB71u8fxrNxzhAy84/4pGozcsXpubm7S2ttLa2norHraX5H/8j/+B3W7n0UcflQRM4qaQWoj3B3fVk5jJZPjwhz/M+973Pt75znfe6ct5TWlWZolEQjRuvHCnWXO3llarfcmopmakVSqVIpfLiWkiBoOBSrXKD8ameOrcZf7bt58kGk/S6W9nZXOXU6MDnB2fxaDTks1mOfu1r9Dh9wCIe9ZeTryaGZNOpxO3233rH6QX8FM/9VPIZDJkMhlzc3MEg0G+9KUv3ZY1LK8CqYV4FyIJ2P3BXfMk7u3t8ZGPfIQnnniC9773vXf6cu4ozcoskUhQKpUwGo1oNBq+/vWv8573vOeGs/uuTM/IZDKo1WrMZrMYRHxuYo5/fPIM3/zec/jcLs5PzjHQGWBzd4/l7/0dcrlc3JPW3t5+Q+LlcDhob2+/VQ/FDfOBD3yAz372s9IZmMQNIbUQJW4Z0WiUn/u5n+Mzn/kMp0+fvtOXc8d54U6z/f19fu3Xfo2hoaGrkvNfrtV6ZXqG0+kU0zOaUVCDnT5OjvTzGx/9N1yeXeJb33+Ota1dzEbdTYlXuVxmc3OTlpaWOyJeEhI3i1SB3R/cFU/i5z73Ob797W+L1nOAP/3TP0XbSGl/0Pmrv/orFAoF7373u8XKrLlYs1lR3ey5YVPM0uk0CoVCPH9TKBTEEilktQr5fP6qJZ/XoileTdu/xIuQKrC7EEnA7g/u+ycxFovxnve8h69+9at3Y3vpFVMqlcTk/Hw+j16vFx2NNztrVSqVRDGTyWTI5XLq9To+n++64lWpVNjc3MRsNuP3+1/tj3S/IgnYXYjUQpS46ymXy3zmM5+5Lys5tVotOv3K5fIr3mnWvK1m1mMkEhGrso2NDfF2Xhha3BQvk8mE1+u9XT+mhMRtQRIwibueB2VGSKVS3ZKdZoeHhxQKBUKhEDKZTMxn3N/fp1qtim5GlUrF1tYWRqPxRWHFEhL3AtIrVuKu5soZoQeJ5k6znp4ehoeHcTqd5PN5VldXWV9fJxaLUS6XX/R98XicbDaL1+sV24bNfEa/34/f70epVPKVr3yFn/iJn+BrX/sahUJBEi+JexLpDOz+4L59Eu+RGaHXjCt3mqXTaXFBp8lkYmxsDI/Hg9frva4gVatVtra2qFarbGxs8PTTT/PpT3/6NV9MeY8hnYHdhUgCdn/wQDyJd/GM0B3hyp1mX//61xkbG+O3f/u3sVqtV+3weuH3bG9vo1arCYVCt63yug9zMSUBuwuRzsAkJO5RmjvNZmdnmZub44//+I/J5XLiTjOTyXTVgs5qtcrOzg5KpfK2ihfc37mYEncPUgV2fyA9iQ8w+XwepVIpmjtqtRqpVEpMzlcoFBiNRgqFAgqFgq6urtt+5pXNZsWtzvF4nPe+971897vfva33eZuRKrC7EKkCk3gg+ZM/+RO+973vUS6Xef/738/jjz9+py/pFaPTXb1tWS6XX7WMMp1OE41GqdfrdHZ2viaGjeayy0wmwy/90i/x0Y9+9Lbfp8SDhyRgEg8c586d4/Lly/z1X/81+Xyer371q3f6km4bcrkci8WCxWJ5ze/7ylzMBy3UWeK1QWoh3h9IT+JN8Id/+IfIZDKWlpbIZDJ84hOfYHh4+E5f1n1FNBrlAx/4wP2Uiym1EO9CpApM4oEjHo+zu7vLl7/8Zba3t/nwhz/Md77znevGLUncHF/+8pdJpVJ88Ytf5Itf/CIg5WJK3HokAZN44LBarXR0dKBWq+no6ECj0XB4eHjD600kXp5Pf/rTfPrTn77TlyFxnyON30s8cBw/fpxnnnmGer1OOBwmn89jtVrv9GVJSEjcJFIFJvHA8aY3vYkLFy7w3ve+l3q9zmc+85mbXmMiISFx55FMHPcH0pN4F1Aul/nkJz/Jzs4Ocrmc3/zN35RSQ+4fpAPSuxCphSghcYt46qmnqFQq/M3f/A0f+chH+PznP3+nL0lC4r5GaiFKSNwiQqEQ1WqVWq1GJpO56YWUdzO1Wo3PfvazLCwsoFar+dznPkcgELjTlyXxgHP//IZJSNxh9Ho9Ozs7vP3tbycej/PlL3/5Tl/SLeNf/uVfKJVK/O3f/i3j4+P87u/+Ll/60pfu9GVJPOBILUQJiVvEn//5n/PII4/wv/7X/+Lv//7v+eQnP0mxWLzTl3VLGBsbE3eyjY6OMj09fYevSEJCqsAkJG4ZZrNZDNS1WCxUKhWq1eodvqpbQyaTwWg0in9XKBRUKpX7qk0qce8hvfokJG4RH/zgB/nUpz7FE088Qblc5mMf+xh6vf5OX9YtwWg0ks1mxb/XajVJvCTuOJKNXkLiLqa3t/ck8HsLCwtv7O3t7QL+HGFsYhr4yMLCQu01uo4fB965sLDwwd7e3lPAf1hYWHj7a3HfEhIvhXQGJiFxl9Lb2/sJ4M+AZoDgHwGfXlhYeBRhLuldr+HlfB0o9Pb2Pgf8MfCx1/C+JSSuidQDkJC4e1kB3gP8RePvx4GnGn/+NvC/IQjLbadR6X3otbgvCYkbRarAJCTuUhYWFr4GlK/4J9nCwkKz558GXvslXxISdxGSgElI3Dtced5lAhJ36DokJO4KJAGTkLh3uNzb2/vGxp/fDjxzB69FQuKOI52BSUjcO3wc+NPe3l41MAf89zt8PRISdxTJRi8hISEhcU8itRAlJCQkJO5JJAGTkJCQkLgnkQRMQkJCQuKeRBIwCQkJCYl7EknAJCQkJCTuSSQBk5CQkJC4J5EETEJCQkLinkQSMAkJCQmJexJJwCQkJCQk7kkkAZOQkJCQuCeRBExCQkJC4p5EEjAJCQkJiXsSScAkJCQkJO5JJAGTkJCQkLgnkQRMQkJCQuKeRBIwCQkJCYl7EknAJCQkJCTuSSQBk5CQkJC4J5EETEJCQkLinkQSMAkJCQmJexJJwCQkJCQk7kkkAZOQkJCQuCeRBExCQkJC4p5EEjAJCQkJiXsSScAkJCQkJO5JJAGTkJCQkLgnkQRMQkJCQuKeRBIwCQkJCYl7kv8/bYw50jqfV7gAAAAASUVORK5CYII=' width=432.0/>\n",
       "            </div>\n",
       "        "
      ],
      "text/plain": [
       "Canvas(toolbar=Toolbar(toolitems=[('Home', 'Reset original view', 'home', 'home'), ('Back', 'Back to previous …"
      ]
     },
     "metadata": {},
     "output_type": "display_data"
    }
   ],
   "source": [
    "%matplotlib widget\n",
    "fig = plt.figure() \n",
    "ax = fig.add_subplot(1,1,1,projection='3d')\n",
    "ax.plot_surface(x1_values,x2_values,u_values);"
   ]
  },
  {
   "cell_type": "markdown",
   "id": "fd992405-9b2a-4aa6-a351-b8b986daed97",
   "metadata": {},
   "source": [
    "To restore normal plotting, turn on `inline`:"
   ]
  },
  {
   "cell_type": "code",
   "execution_count": 112,
   "id": "6f9539b1-37b6-403b-9b59-9d837fc7b9ce",
   "metadata": {},
   "outputs": [],
   "source": [
    "%matplotlib inline"
   ]
  },
  {
   "cell_type": "markdown",
   "id": "a610cea2-99f2-4491-866f-5ad07707f41c",
   "metadata": {},
   "source": [
    "**Making it pretty**: Use a colormap and set labels."
   ]
  },
  {
   "cell_type": "code",
   "execution_count": 113,
   "id": "e6f208c6-54c3-4550-a819-912c0cb098f2",
   "metadata": {},
   "outputs": [
    {
     "data": {
      "image/png": "[encoded data removed]",
      "text/plain": [
       "<Figure size 432x288 with 1 Axes>"
      ]
     },
     "metadata": {
      "needs_background": "light"
     },
     "output_type": "display_data"
    }
   ],
   "source": [
    "from matplotlib import cm # short for colourmaps\n",
    "# a. actual plot\n",
    "fig = plt.figure()\n",
    "ax = fig.add_subplot(1,1,1,projection='3d')\n",
    "ax.plot_surface(x1_values,x2_values,u_values, cmap=cm.jet)\n",
    "\n",
    "#If you want black\n",
    "#ax.plot_wireframe(x1_values,x2_values,u_values,edgecolor='black')\n",
    "\n",
    "# b. add labels\n",
    "ax.set_xlabel('$x_1$') # Notice LaTex syntax\n",
    "ax.set_ylabel('$x_2$')\n",
    "ax.set_zlabel('$u$')\n",
    "\n",
    "# c. Invert xaxis to bring origin in center front\n",
    "ax.invert_xaxis()\n",
    "\n",
    "# e. save\n",
    "fig.tight_layout() # automatically adjusts subplot params so that the subplot(s) fits in to the figure area. \n",
    "fig.savefig('someplot.pdf') # or e.g. .png"
   ]
  },
  {
   "cell_type": "code",
   "execution_count": null,
   "id": "7e4d9677-18f6-4461-9b1c-eceb02b6de1c",
   "metadata": {},
   "outputs": [],
   "source": []
  }
 ],
 "metadata": {
  "kernelspec": {
   "display_name": "Python 3 (ipykernel)",
   "language": "python",
   "name": "python3"
  },
  "language_info": {
   "codemirror_mode": {
    "name": "ipython",
    "version": 3
   },
   "file_extension": ".py",
   "mimetype": "text/x-python",
   "name": "python",
   "nbconvert_exporter": "python",
   "pygments_lexer": "ipython3",
   "version": "3.9.12"
  }
 },
 "nbformat": 4,
 "nbformat_minor": 5
}
