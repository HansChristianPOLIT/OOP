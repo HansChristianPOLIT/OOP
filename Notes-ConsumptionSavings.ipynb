{
 "cells": [
  {
   "cell_type": "markdown",
   "id": "f48f8ae3",
   "metadata": {},
   "source": [
    "## Preliminaries"
   ]
  },
  {
   "cell_type": "markdown",
   "id": "2f7c2acb",
   "metadata": {},
   "source": [
    "In discrete time, the derivative does not exist because $\\Delta = 1$ is the smallest value that $\\Delta$ can attain. \n",
    "\n",
    "Instead, we have that the change of a variable between time $t$ and $t+1$ is given by the difference of the levels:\n",
    "$$\\Delta X = X_{t+1} - X_t$$\n",
    "\n",
    "The growth rate in discrete time is given by: \n",
    "$$\\gamma x = \\frac{X_{t+1}-X_t}{X_t}$$\n",
    "\n",
    "This is an approximation that because better the closer to zero the growth rate and the smaller the discrete time step (e.g. quaterley vs. yearly data). Therefore, OLG approximation error is rather large."
   ]
  },
  {
   "cell_type": "markdown",
   "id": "757acb11",
   "metadata": {},
   "source": [
    "The side constraint in these optimaztion problems (e.g. dynamic budget constraint) takes the form of a difference equation in discrete time.\n",
    "The solution of the optimization problems is also a difference quation in discrete time (the Euler equation). \n",
    "\n",
    "In case of two dynamic equation (e.g. Ramsey model), we need two conditions to pin down the particular solution. \n",
    "\n",
    "These conditions are usually an initial condition on capital and an endpoint condition (the transversality condition)."
   ]
  },
  {
   "cell_type": "markdown",
   "id": "09e5b2df",
   "metadata": {},
   "source": [
    "## A multi-period optimization problem in discrete time\n",
    "\n",
    "* Time evolves discretely and is denoted by t\n",
    "* Consider a household that lives for T time periods, where we allow for $T \\rightarrow \\infty$\n",
    "* The utility function is defined to increase in consumption $$U=u(c_t)$$\n",
    "* The price of the consumption good is constant and normalized to 1\n",
    "* The household has assets $a_t$ at the beginning of the period t and income $w_t$ in each period\n",
    "* Savings are denoted by $s_t$ and earn interest $r$"
   ]
  },
  {
   "cell_type": "markdown",
   "id": "72b0d3a6",
   "metadata": {},
   "source": [
    "* Lifetime utility is sum of instantenous utility $$U_0 = \\sum_{t=0} ^T \\beta^t u(c_t)$$, \n",
    "where $\\beta = 1/(1+\\rho)<1$ is the discount factor with $\\rho$ being the discount rate.\n",
    "Ellaboration: $\\rho$ measures discounting in which one puts less and less weight on future instants. Because people are impatient."
   ]
  },
  {
   "cell_type": "markdown",
   "id": "5a5ed1ac",
   "metadata": {},
   "source": [
    "* households choose an optimal consumption plan ${c_t}^T_{t=0}={c_0,_1,...c_T}$ to maximize $U_0$ subject to the lifetime budget constraint:\n",
    "$$\\sum_{t=0}^T \\frac{c_t}{(1+r)^t}=a_0+\\sum_{t=0}^T \\frac{w_t}{(1+r)t}$$\n",
    "LHS: net present value of lifetime consumption \n",
    "RHS: net present value of lifetime wealth"
   ]
  },
  {
   "cell_type": "markdown",
   "id": "bcc05c0a",
   "metadata": {},
   "source": [
    "### One possible way is to solve the problem using the Lagrangian:\n",
    "The Lagrangian is:\n",
    "$$\n",
    "L=\\sum_{t=0}^{T} \\beta^{t} u\\left(c_{t}\\right)-\\lambda\\left[\\sum_{t=0}^{T} \\frac{c_{t}}{(1+r)^{t}}-a_{0}-\\sum_{t=0}^{T} \\frac{w_{t}}{(1+r)^{t}}\\right]\n",
    "$$\n",
    "The FOCs are\n",
    "$$\n",
    "\\begin{aligned}\n",
    "&L_{c_{t}}=\\beta^{t} u^{\\prime}\\left(c_{t}\\right)-\\frac{\\lambda}{(1+r)^{t}}=0 \\quad \\text { for } \\mathrm{t}=0,1,2, \\ldots, \\mathrm{T} \\\\\n",
    "&L_{\\lambda}=a_{0}+\\sum_{t=0}^{T} \\frac{w_{t}}{(1+r)^{t}}-\\sum_{t=0}^{T} \\frac{c_{t}}{(1+r)^{t}}=0\n",
    "\\end{aligned}\n",
    "$$\n",
    "Note that there are $T+2$ FOCs and $T+2$ variables."
   ]
  },
  {
   "cell_type": "markdown",
   "id": "f28cee45",
   "metadata": {},
   "source": [
    "**Drawback**: This is in princple solvable but cumbersome for more time periods."
   ]
  },
  {
   "cell_type": "markdown",
   "id": "13eb0854",
   "metadata": {},
   "source": [
    "*However*, We can solve the optimization problem, if we take to neighbouring time periods:\n",
    "Take the FOCs for $c_{t}$ and $c_{t+1}$. We have\n",
    "$$\n",
    "\\begin{aligned}\n",
    "\\beta^{t} u^{\\prime}\\left(c_{t}\\right) &=\\frac{\\lambda}{(1+r)^{t}}, \\\\\n",
    "\\beta^{t+1} u^{\\prime}\\left(c_{t+1}\\right) &=\\frac{\\lambda}{(1+r)^{t+1}} .\n",
    "\\end{aligned}\n",
    "$$\n",
    "Dividing these two expressions and rearranging yields\n",
    "$$\n",
    "\\frac{u^{\\prime}\\left(c_{t}\\right)}{u^{\\prime}\\left(c_{t+1}\\right)}=(1+r) \\beta\n",
    "$$\n",
    "This is the Euler equation relating optimal consumption growth to the time preference and the interest rate as $(1+r) \\beta>0$.\n",
    "For iso-elastic utility (used to express utility in consumption)\n",
    "$$\n",
    "u\\left(c_{t}\\right)=\\frac{c_{t}^{1-\\theta}-1}{1-\\theta}\n",
    "$$\n",
    "\"-1\" allows to solve for the logarithmic case ($\\theta \\rightarrow 1$), and denominator is a sort of normalization.\n",
    "\n",
    "the Euler equation is\n",
    "$$\n",
    "\\frac{c_{t+1}}{c_{t}}=[(1+r) \\beta]^{\\frac{1}{\\theta}} .\n",
    "$$\n",
    "\n",
    "* LHS: growth factor for optimal consumption \n",
    "* theta determines elasiticty of intertemporal substitution (substitute consumption over time in order to take advantage of interest rate, i.e. depart from consumption smoothing) \n",
    "* remember that we have concavity utility function (households are risk avert and wants consumption smoothing)\n",
    "* optimal growth factor is above one if $(1+r)*\\beta$ is above one, e.g. if interest rate overcompensate househoulds --> consumption path increasing!\n",
    "* optimal growth factor is above one if $(1+r)*\\beta$ is below one, consumption shrinks over time would consume more today --> consumption path decreasing!\n",
    "\n",
    "* larger exponent (if theta is smaller) --> more willing to take advantage of a higher interest rate to shift consumptioner "
   ]
  },
  {
   "cell_type": "markdown",
   "id": "f6d93b3a",
   "metadata": {},
   "source": [
    "## Alternative to Lagrange is Dynamic Programming\n",
    "* idea is to break down a problem with infinitely many periods into one with two periods (current and the future)\n",
    "* if agents behave optimally between $t$ + $t+1$ then, by induction they wil behave optimally for all $t$. "
   ]
  },
  {
   "cell_type": "markdown",
   "id": "1130d9a3",
   "metadata": {},
   "source": [
    "* We denote by $c_t$ **control variables** that can be chose by the agents and are typically **flows** (e.g. consumption) \n",
    "* we denote by x_t the state variables that are typically stocks and summarize the decision maker's situation (e.g. assets) \n",
    "\n",
    "* the choise of $c_t$ affects $x_{t+1}$ and the initial value of $x_t$ are denoted by $x_0$ and given exogenously \n",
    "\n",
    "* the utility function is again given by: \n",
    "$$U_0 = \\sum_{t=0} ^T \\beta^t u(c_t)$$, \n",
    "\n",
    "* The dynamic constraint has the form\n",
    "$$x_{t+1}=f(x_t,c_t) $$\n",
    "* links future of the state variable to last period control and state variables, which will be flow budget constraint"
   ]
  },
  {
   "cell_type": "markdown",
   "id": "fc8e743d",
   "metadata": {},
   "source": [
    "The dynamic optimization problem is\n",
    "$$\n",
    "\\max _{\\left\\{c_{t}\\right\\}_{t=0}^{T}}=\\sum_{t=0}^{T} \\beta^{t} u\\left(c_{t}\\right) \\quad \\text { s.t. } \\quad x_{t+1}=f\\left(x_{t}, c_{t}\\right) .\n",
    "$$\n",
    "- We can rewrite $U_{0}$ as\n",
    "$$\n",
    "U_{0}=\\sum_{t=0}^{T} \\beta^{t} u\\left(c_{t}\\right)=u\\left(c_{0}\\right)+\\beta \\sum_{t=1}^{T} \\beta^{t-1} u\\left(c_{t}\\right)=u\\left(c_{0}\\right)+\\beta U_{1}\n",
    "$$\n",
    "\n",
    "- Utility is decomposed into instantaneous utility $U_{0}$ and discounted future utility $\\beta U_{1}$.\n",
    "- More generally, for each $s<T$ we can write\n",
    "$$\n",
    "U_{s}=\\sum_{t=s}^{T} \\beta^{t-s} u\\left(c_{t}\\right)=u\\left(c_{s}\\right)+\\beta \\sum_{t=s+1}^{T} \\beta^{t-s-1} u\\left(c_{t}\\right)=u\\left(c_{s}\\right)+\\beta U_{s+1} .\n",
    "$$"
   ]
  },
  {
   "cell_type": "markdown",
   "id": "51ba1c42",
   "metadata": {},
   "source": [
    "- We can apply the same principle to the **value function** of this problem.\n",
    "- Maximum attainable utility is\n",
    "$$\n",
    "V\\left(x_{s}\\right)=\\max _{\\left\\{c_{t}\\right\\}_{t=s}^{T}} U_{s}=\\max _{\\left\\{c_{t}\\right\\}_{t=s}^{T}} \\sum_{t=s}^{T} \\beta^{t-s} u\\left(c_{t}\\right) .\n",
    "$$\n",
    "- Suppose that the decision maker has already solved the problem that starts at time $t+1$ for a given state variable $x_{t+1}$.\n",
    "- Then the maximum attainable utility at time $t$ can be broken into instantaneous utility and maximum attainable utility afterwards, given the choice that leads to $x_{t+1}$.\n",
    "- We therefore have\n",
    "$$\n",
    "V\\left(x_{t}\\right)=\\max _{c_{t}} u\\left(c_{t}\\right)+\\beta V\\left(x_{t+1}\\right) \\quad \\text { s.t. } \\quad x_{t+1}=f\\left(x_{t}, c_{t}\\right) .\n",
    "$$\n",
    "This equation is called the **Bellman Equation**."
   ]
  },
  {
   "cell_type": "markdown",
   "id": "c90dfdb8",
   "metadata": {},
   "source": [
    "* The idea that given decision at $t$, the subsequent decision should be optimal starting at $t+1$ is **Bellman's Principle of Optimality**.\n",
    "\n",
    "* Solving Bellman equation for all $t$ delivers the optimal sequence of control variables\n",
    "\n",
    "* if T is finite, the sequence of Bellman equations can be solved recursivley. However, this can be tedious and for $T=\\infty$ it does not work.\n",
    "\n",
    "* Fortunately, there are better methods that allow to gain more insights \n",
    "\n",
    "* We focus on $T=\\infty$ from now on"
   ]
  },
  {
   "cell_type": "markdown",
   "id": "5ada12e3",
   "metadata": {},
   "source": [
    "## Solving Dynamic Programming\n",
    "- Solving the dynamic optimization problem by means of dynamic programming consists of the following steps.\n",
    "\n",
    "Step 1: Formulate the Bellman equation and insert the constraint to get\n",
    "$$\n",
    "V\\left(x_{t}\\right)=\\max _{c_{t}}\\left\\{u\\left(c_{t}\\right)+\\beta V\\left[f\\left(x_{t}, c_{t}\\right)\\right]\\right\\}\n",
    "$$\n",
    "Compute the FOC\n",
    "$$\n",
    "u^{\\prime}\\left(c_{t}\\right)+\\beta V^{\\prime}\\left(x_{t+1}\\right) \\frac{\\partial f\\left(x_{t}, c_{t}\\right)}{\\partial c_{t}}=0\n",
    "$$\n",
    "** The problem is we have no idea what the value function looks like.\n",
    "* Step 2: Characterize $V^{\\prime}\\left(x_{t+1}\\right)$ using the Envelope Theorem (only the direct effects of a change in an exogenous variable need be considered):\n",
    "$$\n",
    "V^{\\prime}\\left(x_{t+1}\\right)=\\frac{d}{d x_{t+1}}\\left[u\\left(c_{t+1}^{*}\\right)+\\beta V[\\underbrace{f\\left(x_{t+1}, c_{t+1}^{*}\\right)}_{x_{t+2}}]\\right]\n",
    "$$\n",
    "$$=\\beta V^{\\prime}\\left(x_{t+2}\\right) \\frac{\\partial f\\left(x_{t+1}, c_{t+1}^{*}\\right)}{\\partial x_{t+1}}$$"
   ]
  },
  {
   "cell_type": "markdown",
   "id": "7c8469a3",
   "metadata": {},
   "source": [
    "Step 3: Use the FOCs w.r.t. $c_{t}$ and $c_{t+1}$ to express $V^{\\prime}\\left(x_{t+1}\\right)$ and $V^{\\prime}\\left(x_{t+2}\\right)$.\n",
    "$$\n",
    "\\begin{gathered}\n",
    "u^{\\prime}\\left(c_{t}\\right)+\\beta V^{\\prime}\\left(x_{t+1}\\right) \\frac{\\partial f\\left(x_{t}, c_{t}\\right)}{\\partial c_{t}}=0 \\Leftrightarrow V^{\\prime}\\left(x_{t+1}\\right)=-\\frac{u^{\\prime}\\left(c_{t}\\right)}{\\beta \\frac{\\partial f\\left(x_{t}, c_{t}\\right)}{\\partial c_{t}}} \\\\\n",
    "u^{\\prime}\\left(c_{t+1}\\right)+\\beta V^{\\prime}\\left(x_{t+2}\\right) \\frac{\\partial f\\left(x_{t+1}, c_{t+1}\\right)}{\\partial c_{t+1}}=0 \\Leftrightarrow \\beta V^{\\prime}\\left(x_{t+2}\\right)=-\\frac{u^{\\prime}\\left(c_{t+1}\\right)}{\\frac{\\partial f\\left(x_{t+1}, c_{t+1}\\right)}{\\partial c_{t+1}}}\n",
    "\\end{gathered}\n",
    "$$\n",
    "- Inserting this into the expression derived in step 2 and rewriting yields\n",
    "$$\n",
    "u^{\\prime}\\left(c_{t}\\right)\\left[\\frac{\\partial f\\left(x_{t}, c_{t}\\right)}{\\partial c_{t}}\\right]^{-1}=\\beta u^{\\prime}\\left(c_{t+1}\\right)\\left[\\frac{\\partial f\\left(x_{t+1}, c_{t+1}\\right)}{\\partial c_{t+1}}\\right]^{-1} \\frac{\\partial f\\left(x_{t+1}, c_{t+1}^{*}\\right)}{\\partial x_{t+1}}\n",
    "$$\n",
    "* Basically we have substituted out value function (as it is unknown)\n",
    "* This expression only contains utlity function, which is known\n",
    "* This is the Euler equation "
   ]
  },
  {
   "cell_type": "markdown",
   "id": "141e0c05",
   "metadata": {},
   "source": [
    "### Example: Intertemporal Savings decision of Households\n",
    "- We consider a household's savings decision (intertemporal consumption allocation).\n",
    "The utility function is again given by\n",
    "$$\n",
    "U_{0}=\\sum_{t=0}^{T} \\beta^{t} u\\left(c_{t}\\right) .\n",
    "$$\n",
    "- We denote assets (the state variable) by $a_{t}$.\n",
    "- Labor income is exogenous and given by $w_{t}$.\n",
    "- The dynamic budget constraint can be derived from the lifetime budget constraint and is given by\n",
    "$$\n",
    "a_{t+1}=(1+r) a_{t}+w_{t}-c_{t}\n",
    "$$\n",
    "* note that $a_{t+1}$ depends on today's state variable (a_t), today's choice of the control variable (c_t), and exogenously given labour income. "
   ]
  },
  {
   "cell_type": "markdown",
   "id": "9d3998b4",
   "metadata": {},
   "source": [
    "**Step 1**: Setting up the Bellman equation yields\n",
    "$$\n",
    "V\\left(a_{t}\\right)=\\max _{c_{t}}\\left\\{u\\left(c_{t}\\right)+\\beta V\\left(a_{t+1}\\right)\\right\\},\n",
    "$$\n",
    "where $a_{t+1}=(1+r) a_{t}+w_{t}-c_{t}$. The FOC is\n",
    "$$\n",
    "u^{\\prime}\\left(c_{t}\\right)+\\beta V^{\\prime}\\left(a_{t+1}\\right) \\frac{\\partial a_{t+1}}{\\partial c_{t}}=0\n",
    "$$\n",
    "Since $\\partial a_{t+1} / \\partial c_{t}=-1$, we have\n",
    "$$\n",
    "u^{\\prime}\\left(c_{t}\\right)=\\beta V^{\\prime}\\left(a_{t+1}\\right)\n",
    "$$\n",
    "- Interpretation: At the optimum, the marginal instantaneous utility gain of higher consumption has to be equal to the discounted future marginal utility loss due to the lower asset level associated with higher consumption today."
   ]
  },
  {
   "cell_type": "markdown",
   "id": "248f16c2",
   "metadata": {},
   "source": [
    "**Step 2**: Characterize $V^{\\prime}\\left(a_{t+1}\\right)$ using the Envelope Theorem:\n",
    "$$\n",
    "\\begin{aligned}\n",
    "V^{\\prime}\\left(a_{t+1}\\right) &=\\frac{d}{d a_{t+1}}\\left[u\\left(c_{t+1}^{*}\\right)+\\beta V\\left(a_{t+2}\\right)\\right] \\\\\n",
    "&=\\beta V^{\\prime}\\left(a_{t+2}\\right) \\frac{\\partial a_{t+2}}{\\partial a_{t+1}}=\\beta V^{\\prime}\\left(a_{t+2}\\right)(1+r)\n",
    "\\end{aligned}\n",
    "$$\n",
    "**Step 3**: We use the FOCs w.r.t. $c_{t}$ and $c_{t+1}$ to express $V^{\\prime}\\left(a_{t+1}\\right)$ and $V^{\\prime}\\left(a_{t+2}\\right)$\n",
    "$$\n",
    "V^{\\prime}\\left(a_{t+1}\\right)=\\frac{u^{\\prime}\\left(c_{t}\\right)}{\\beta}\n",
    "$$\n",
    "Analogously the FOC w.r.t. $c_{t+1}$ provides:\n",
    "$$\n",
    "\\beta V^{\\prime}\\left(a_{t+2}\\right)=u^{\\prime}\\left(c_{t+1}\\right) .\n",
    "$$"
   ]
  },
  {
   "cell_type": "markdown",
   "id": "bb54a1ba",
   "metadata": {},
   "source": [
    "Inserting these expressions into the one in step 2 gives:\n",
    "$$\n",
    "\\begin{gathered}\n",
    "\\frac{u^{\\prime}\\left(c_{t}\\right)}{\\beta}=u^{\\prime}\\left(c_{t+1}\\right)(1+r) \\\\\n",
    "\\frac{u^{\\prime}\\left(c_{t}\\right)}{u^{\\prime}\\left(c_{t+1}\\right)}=\\beta(1+r)\n",
    "\\end{gathered}\n",
    "$$\n",
    "This is the Euler equation, which can be seen easily by applying the iso-elastic utility function from before\n",
    "$$\n",
    "\\frac{c_{t+1}}{c_{t}}=[(1+r) \\beta]^{\\frac{1}{\\theta}} .\n",
    "$$\n",
    "It provides the optimal change of consumption over time.\n",
    "- Note, however, that we are not able to calculate the **level** of consumption (the particular solution) yet.\n",
    "- This is a standard feture of the FOCs of intertemporal problems"
   ]
  },
  {
   "cell_type": "code",
   "execution_count": null,
   "id": "b2ce45b8",
   "metadata": {},
   "outputs": [],
   "source": []
  }
 ],
 "metadata": {
  "kernelspec": {
   "display_name": "Python 3 (ipykernel)",
   "language": "python",
   "name": "python3"
  },
  "language_info": {
   "codemirror_mode": {
    "name": "ipython",
    "version": 3
   },
   "file_extension": ".py",
   "mimetype": "text/x-python",
   "name": "python",
   "nbconvert_exporter": "python",
   "pygments_lexer": "ipython3",
   "version": "3.9.7"
  }
 },
 "nbformat": 4,
 "nbformat_minor": 5
}
