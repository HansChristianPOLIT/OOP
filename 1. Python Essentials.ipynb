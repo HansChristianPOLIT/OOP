{
 "cells": [
  {
   "cell_type": "markdown",
   "id": "1214d962",
   "metadata": {},
   "source": [
    "# Python Essentials"
   ]
  },
  {
   "cell_type": "markdown",
   "id": "98472df0",
   "metadata": {},
   "source": [
    "## Data Types"
   ]
  },
  {
   "cell_type": "markdown",
   "id": "4de88645-49f0-4188-8865-c57ca6247da8",
   "metadata": {},
   "source": [
    "Computer programs typically keep track of a range of data types.\n",
    "\n",
    "For example, `1.5` is a **floating point number**, while `1` is an **integer**.\n",
    "\n",
    "Programs need to distinguish between these two types for various reasons.\n",
    "\n",
    "One is that they are stored in memory differently.\n",
    "\n",
    "Another is that arithmetic operations are different\n",
    "- For example, floating point arithmetic is implemented on most machines by a specialized Floating Point Unit (FPU).\n",
    "\n",
    "In general, floats are more informative but arithmetic operations on integers are faster and more accurate.\n",
    "\n",
    "Python provides numerous other built-in Python data types, some of which we’ve already met\n",
    "- strings, lists, etc.\n",
    "\n",
    "Let’s learn a bit more about them."
   ]
  },
  {
   "cell_type": "markdown",
   "id": "fc18b0d5",
   "metadata": {},
   "source": [
    "### Primitive Data Types"
   ]
  },
  {
   "cell_type": "markdown",
   "id": "b5e93d07",
   "metadata": {},
   "source": [
    "One simple data type is **Boolean values**, which can be either `True` or `False`"
   ]
  },
  {
   "cell_type": "code",
   "execution_count": 71,
   "id": "272df873",
   "metadata": {},
   "outputs": [
    {
     "data": {
      "text/plain": [
       "True"
      ]
     },
     "execution_count": 71,
     "metadata": {},
     "output_type": "execute_result"
    }
   ],
   "source": [
    "x = True\n",
    "x"
   ]
  },
  {
   "cell_type": "markdown",
   "id": "17d42f8c",
   "metadata": {},
   "source": [
    "We can check the type of any object in memory using the `type()` function."
   ]
  },
  {
   "cell_type": "code",
   "execution_count": 72,
   "id": "2423f34a",
   "metadata": {},
   "outputs": [
    {
     "data": {
      "text/plain": [
       "bool"
      ]
     },
     "execution_count": 72,
     "metadata": {},
     "output_type": "execute_result"
    }
   ],
   "source": [
    "type(x)"
   ]
  },
  {
   "cell_type": "markdown",
   "id": "8042f69c",
   "metadata": {},
   "source": [
    "In the next line of code, the interpreter evaluates the expression on the right of = and binds y to this value"
   ]
  },
  {
   "cell_type": "code",
   "execution_count": 73,
   "id": "e8ccf14f",
   "metadata": {},
   "outputs": [
    {
     "data": {
      "text/plain": [
       "False"
      ]
     },
     "execution_count": 73,
     "metadata": {},
     "output_type": "execute_result"
    }
   ],
   "source": [
    "y = 100 < 10 \n",
    "y"
   ]
  },
  {
   "cell_type": "code",
   "execution_count": 74,
   "id": "5c194f06",
   "metadata": {},
   "outputs": [
    {
     "data": {
      "text/plain": [
       "bool"
      ]
     },
     "execution_count": 74,
     "metadata": {},
     "output_type": "execute_result"
    }
   ],
   "source": [
    "type(y)"
   ]
  },
  {
   "cell_type": "markdown",
   "id": "38c6cc9d",
   "metadata": {},
   "source": [
    "In arithmetic expressions, `True` is converted to `1` and `False` is converted `0`."
   ]
  },
  {
   "cell_type": "markdown",
   "id": "08bf8bc1",
   "metadata": {},
   "source": [
    "Here are some examples (remember we have just assigned x = True and y is False!)"
   ]
  },
  {
   "cell_type": "code",
   "execution_count": 75,
   "id": "234aaf54",
   "metadata": {},
   "outputs": [
    {
     "data": {
      "text/plain": [
       "1"
      ]
     },
     "execution_count": 75,
     "metadata": {},
     "output_type": "execute_result"
    }
   ],
   "source": [
    "x + y "
   ]
  },
  {
   "cell_type": "code",
   "execution_count": 76,
   "id": "1781dc45",
   "metadata": {},
   "outputs": [
    {
     "data": {
      "text/plain": [
       "0"
      ]
     },
     "execution_count": 76,
     "metadata": {},
     "output_type": "execute_result"
    }
   ],
   "source": [
    "x * y"
   ]
  },
  {
   "cell_type": "code",
   "execution_count": 77,
   "id": "02d80aa4",
   "metadata": {},
   "outputs": [
    {
     "data": {
      "text/plain": [
       "2"
      ]
     },
     "execution_count": 77,
     "metadata": {},
     "output_type": "execute_result"
    }
   ],
   "source": [
    "True + True"
   ]
  },
  {
   "cell_type": "code",
   "execution_count": 78,
   "id": "ddf67b10",
   "metadata": {},
   "outputs": [
    {
     "data": {
      "text/plain": [
       "3"
      ]
     },
     "execution_count": 78,
     "metadata": {},
     "output_type": "execute_result"
    }
   ],
   "source": [
    "bools = [True, True, False, True]  # List of Boolean values\n",
    "\n",
    "sum(bools)"
   ]
  },
  {
   "cell_type": "markdown",
   "id": "3b72fed2",
   "metadata": {},
   "source": [
    "Complex numbers are another primitive data type in Python"
   ]
  },
  {
   "cell_type": "code",
   "execution_count": 79,
   "id": "8deac083",
   "metadata": {},
   "outputs": [
    {
     "name": "stdout",
     "output_type": "stream",
     "text": [
      "5j\n"
     ]
    },
    {
     "data": {
      "text/plain": [
       "complex"
      ]
     },
     "execution_count": 79,
     "metadata": {},
     "output_type": "execute_result"
    }
   ],
   "source": [
    "x = complex(1, 2)\n",
    "y = complex(2, 1)\n",
    "print(x * y)\n",
    "\n",
    "type(x)"
   ]
  },
  {
   "cell_type": "markdown",
   "id": "9ebd8987",
   "metadata": {},
   "source": [
    "### Containers"
   ]
  },
  {
   "cell_type": "markdown",
   "id": "6d365778",
   "metadata": {},
   "source": [
    "A Container is an object that is used to store different objects and provide a way to access the contained objects and iterate over them.\n",
    "\n",
    "Python has several basic types for storing collections of (possibly heterogeneous) data.\n",
    "\n",
    "A related data type is **tuples**, which are “immutable” lists.\n",
    "\n",
    "Python uses the commas ( , ) to define a tuple, not parentheses."
   ]
  },
  {
   "cell_type": "code",
   "execution_count": 80,
   "id": "9496f211",
   "metadata": {},
   "outputs": [
    {
     "data": {
      "text/plain": [
       "('a', 'b')"
      ]
     },
     "execution_count": 80,
     "metadata": {},
     "output_type": "execute_result"
    }
   ],
   "source": [
    "x = ('a', 'b')  # Parentheses instead of the square brackets\n",
    "x = 'a', 'b'    # Or no brackets --- the meaning is identical\n",
    "x"
   ]
  },
  {
   "cell_type": "code",
   "execution_count": 81,
   "id": "6f977355",
   "metadata": {},
   "outputs": [
    {
     "data": {
      "text/plain": [
       "tuple"
      ]
     },
     "execution_count": 81,
     "metadata": {},
     "output_type": "execute_result"
    }
   ],
   "source": [
    "type(x)"
   ]
  },
  {
   "cell_type": "markdown",
   "id": "f2817c3d",
   "metadata": {},
   "source": [
    "In Python, an object is called **immutable** if, once created, the object cannot be changed.\n",
    "\n",
    "Conversely, an object is **mutable** if it can still be altered after creation.\n",
    "\n",
    "Python **lists** are mutable"
   ]
  },
  {
   "cell_type": "code",
   "execution_count": 82,
   "id": "ce943384",
   "metadata": {},
   "outputs": [
    {
     "data": {
      "text/plain": [
       "[10, 2]"
      ]
     },
     "execution_count": 82,
     "metadata": {},
     "output_type": "execute_result"
    }
   ],
   "source": [
    "x = [1, 2]\n",
    "x[0] = 10 # change first value from 1 to 10\n",
    "x"
   ]
  },
  {
   "cell_type": "markdown",
   "id": "9cf92c03",
   "metadata": {},
   "source": [
    "But tuples are *not*"
   ]
  },
  {
   "cell_type": "code",
   "execution_count": 83,
   "id": "10eb569d",
   "metadata": {},
   "outputs": [
    {
     "ename": "TypeError",
     "evalue": "'tuple' object does not support item assignment",
     "output_type": "error",
     "traceback": [
      "\u001b[0;31m---------------------------------------------------------------------------\u001b[0m",
      "\u001b[0;31mTypeError\u001b[0m                                 Traceback (most recent call last)",
      "\u001b[0;32m/var/folders/3j/22yv_sj10t96slp1b8b6z1zw0000gn/T/ipykernel_5380/3446099002.py\u001b[0m in \u001b[0;36m<module>\u001b[0;34m\u001b[0m\n\u001b[1;32m      1\u001b[0m \u001b[0mx\u001b[0m \u001b[0;34m=\u001b[0m \u001b[0;34m(\u001b[0m\u001b[0;36m1\u001b[0m\u001b[0;34m,\u001b[0m \u001b[0;36m2\u001b[0m\u001b[0;34m)\u001b[0m\u001b[0;34m\u001b[0m\u001b[0;34m\u001b[0m\u001b[0m\n\u001b[0;32m----> 2\u001b[0;31m \u001b[0mx\u001b[0m\u001b[0;34m[\u001b[0m\u001b[0;36m0\u001b[0m\u001b[0;34m]\u001b[0m \u001b[0;34m=\u001b[0m \u001b[0;36m10\u001b[0m\u001b[0;34m\u001b[0m\u001b[0;34m\u001b[0m\u001b[0m\n\u001b[0m",
      "\u001b[0;31mTypeError\u001b[0m: 'tuple' object does not support item assignment"
     ]
    }
   ],
   "source": [
    "x = (1, 2)\n",
    "x[0] = 10"
   ]
  },
  {
   "cell_type": "markdown",
   "id": "6b712db7",
   "metadata": {},
   "source": [
    "**Tuples (and lists)** can be **“unpacked”** (Unpacking tuples means assigning individual elements of a tuple to multiple variables) as follows"
   ]
  },
  {
   "cell_type": "code",
   "execution_count": 84,
   "id": "0e7451b9",
   "metadata": {},
   "outputs": [
    {
     "data": {
      "text/plain": [
       "10"
      ]
     },
     "execution_count": 84,
     "metadata": {},
     "output_type": "execute_result"
    }
   ],
   "source": [
    "integers = (10, 20, 30)\n",
    "x, y, z = integers \n",
    "x"
   ]
  },
  {
   "cell_type": "code",
   "execution_count": 85,
   "id": "793f2913",
   "metadata": {},
   "outputs": [
    {
     "data": {
      "text/plain": [
       "20"
      ]
     },
     "execution_count": 85,
     "metadata": {},
     "output_type": "execute_result"
    }
   ],
   "source": [
    "y"
   ]
  },
  {
   "cell_type": "code",
   "execution_count": 86,
   "id": "368e4c49",
   "metadata": {},
   "outputs": [
    {
     "data": {
      "text/plain": [
       "30"
      ]
     },
     "execution_count": 86,
     "metadata": {},
     "output_type": "execute_result"
    }
   ],
   "source": [
    "z"
   ]
  },
  {
   "cell_type": "markdown",
   "id": "abcf643a",
   "metadata": {},
   "source": [
    "Tuple unpacking is convenient and we’ll use it often."
   ]
  },
  {
   "cell_type": "markdown",
   "id": "753c87c8",
   "metadata": {},
   "source": [
    "### Slice Notation"
   ]
  },
  {
   "cell_type": "markdown",
   "id": "00579037",
   "metadata": {},
   "source": [
    "To access multiple elements of a list or tuple, you can use Python’s slice notation.\n",
    "For example:"
   ]
  },
  {
   "cell_type": "code",
   "execution_count": 87,
   "id": "cd8d2891",
   "metadata": {},
   "outputs": [
    {
     "data": {
      "text/plain": [
       "[4, 6, 8]"
      ]
     },
     "execution_count": 87,
     "metadata": {},
     "output_type": "execute_result"
    }
   ],
   "source": [
    "a = [2, 4, 6, 8]\n",
    "a[1:]"
   ]
  },
  {
   "cell_type": "code",
   "execution_count": 88,
   "id": "d4f23c0e",
   "metadata": {},
   "outputs": [
    {
     "data": {
      "text/plain": [
       "[4, 6]"
      ]
     },
     "execution_count": 88,
     "metadata": {},
     "output_type": "execute_result"
    }
   ],
   "source": [
    "a[1:3]"
   ]
  },
  {
   "cell_type": "markdown",
   "id": "51d946f4",
   "metadata": {},
   "source": [
    "The general rule is that `a[m:n]` returns `n - m` elements, starting at `a[m]`.\n",
    "\n",
    "Negative numbers are also permissible"
   ]
  },
  {
   "cell_type": "code",
   "execution_count": 89,
   "id": "221db370",
   "metadata": {},
   "outputs": [
    {
     "data": {
      "text/plain": [
       "[6, 8]"
      ]
     },
     "execution_count": 89,
     "metadata": {},
     "output_type": "execute_result"
    }
   ],
   "source": [
    "a[-2:]  # Last two elements of the list"
   ]
  },
  {
   "cell_type": "markdown",
   "id": "2ce183f3",
   "metadata": {},
   "source": [
    "The same slice notation works on tuples and strings"
   ]
  },
  {
   "cell_type": "code",
   "execution_count": 90,
   "id": "6369e6d3",
   "metadata": {},
   "outputs": [
    {
     "data": {
      "text/plain": [
       "'bar'"
      ]
     },
     "execution_count": 90,
     "metadata": {},
     "output_type": "execute_result"
    }
   ],
   "source": [
    "s = 'foobar'\n",
    "s[-3:] # Select the last three elements"
   ]
  },
  {
   "cell_type": "markdown",
   "id": "ae248dfd-7853-4e8b-9355-c33df466116f",
   "metadata": {},
   "source": [
    "### Make indices more readable by Naming slices\n",
    "- Have you ever been confused when looking into code that contains hardcoded slice indices? Even if you understand it now, you might forget why you choose specific indices in the future."
   ]
  },
  {
   "cell_type": "code",
   "execution_count": 1,
   "id": "7933893a-8009-47aa-8337-5774945dd5b8",
   "metadata": {},
   "outputs": [],
   "source": [
    "data = [1, 2, 3, 4, 5, 6, 7, 8, 9, 10]\n",
    "\n",
    "some_sum = sum(data[:8]) * sum(data[8:])"
   ]
  },
  {
   "cell_type": "markdown",
   "id": "6c109b9d-a0dd-4180-8ed3-155d84d181b9",
   "metadata": {},
   "source": [
    "If so, name your slice. Python provides a nice built-in function for that purpose called slice. By using names, your code is much easier to understand."
   ]
  },
  {
   "cell_type": "code",
   "execution_count": 8,
   "id": "ba52948b-eb87-4560-8ddb-a88dc921c8d1",
   "metadata": {},
   "outputs": [
    {
     "name": "stdout",
     "output_type": "stream",
     "text": [
      "684\n"
     ]
    }
   ],
   "source": [
    "JANUARY = slice(0, 8)\n",
    "FEBRUARY = slice(8, len(data))\n",
    "some_sum = sum(data[JANUARY]) * sum(data[FEBRUARY])\n",
    "print(some_sum)"
   ]
  },
  {
   "cell_type": "markdown",
   "id": "326f80ea",
   "metadata": {},
   "source": [
    "### Sets and Dictionaries"
   ]
  },
  {
   "cell_type": "markdown",
   "id": "6e4bbd88",
   "metadata": {},
   "source": [
    "Two other container types we should mention before moving on are sets and dictionaries.\n",
    "\n",
    "**Dictionaries** are much like lists, except that the items are named instead of numbered"
   ]
  },
  {
   "cell_type": "code",
   "execution_count": 91,
   "id": "e89e5eb7",
   "metadata": {},
   "outputs": [
    {
     "data": {
      "text/plain": [
       "dict"
      ]
     },
     "execution_count": 91,
     "metadata": {},
     "output_type": "execute_result"
    }
   ],
   "source": [
    "d = {'name': 'Frode', 'age': 33}\n",
    "type(d)"
   ]
  },
  {
   "cell_type": "code",
   "execution_count": 92,
   "id": "b336e467",
   "metadata": {},
   "outputs": [
    {
     "data": {
      "text/plain": [
       "33"
      ]
     },
     "execution_count": 92,
     "metadata": {},
     "output_type": "execute_result"
    }
   ],
   "source": [
    "d['age']"
   ]
  },
  {
   "cell_type": "markdown",
   "id": "9ead089e",
   "metadata": {},
   "source": [
    "The names `'name'` and `'age'` are called the *keys*.\n",
    "\n",
    "The objects that the keys are mapped to (`'Frodo'` and `33`) are called the values.\n",
    "\n",
    "**Sets** are unordered collections without duplicates, and set methods provide the usual set-theoretic operations"
   ]
  },
  {
   "cell_type": "code",
   "execution_count": 93,
   "id": "0215f0af",
   "metadata": {},
   "outputs": [
    {
     "data": {
      "text/plain": [
       "set"
      ]
     },
     "execution_count": 93,
     "metadata": {},
     "output_type": "execute_result"
    }
   ],
   "source": [
    "s1 = {'a', 'b'}\n",
    "type(s1)"
   ]
  },
  {
   "cell_type": "code",
   "execution_count": 94,
   "id": "8ed85f5f",
   "metadata": {},
   "outputs": [
    {
     "data": {
      "text/plain": [
       "False"
      ]
     },
     "execution_count": 94,
     "metadata": {},
     "output_type": "execute_result"
    }
   ],
   "source": [
    "s2 = {'b', 'c'}\n",
    "s1.issubset(s2)"
   ]
  },
  {
   "cell_type": "code",
   "execution_count": 95,
   "id": "13388410",
   "metadata": {},
   "outputs": [
    {
     "data": {
      "text/plain": [
       "{'b'}"
      ]
     },
     "execution_count": 95,
     "metadata": {},
     "output_type": "execute_result"
    }
   ],
   "source": [
    "s1.intersection(s2)"
   ]
  },
  {
   "cell_type": "markdown",
   "id": "e7e41b0d",
   "metadata": {},
   "source": [
    "The `set()` function creates sets from sequences"
   ]
  },
  {
   "cell_type": "code",
   "execution_count": 96,
   "id": "517fe0b7",
   "metadata": {},
   "outputs": [
    {
     "data": {
      "text/plain": [
       "{'bar', 'foo'}"
      ]
     },
     "execution_count": 96,
     "metadata": {},
     "output_type": "execute_result"
    }
   ],
   "source": [
    "s3 = set(('foo','bar','foo'))\n",
    "s3"
   ]
  },
  {
   "cell_type": "markdown",
   "id": "249b5f99",
   "metadata": {},
   "source": [
    "Here we note sets does not have duplicates, such that 'foo' is removed."
   ]
  },
  {
   "cell_type": "markdown",
   "id": "1a700edf-992e-4e9d-859b-a738326b0088",
   "metadata": {},
   "source": [
    "### Update a Dictionary With Items From Another Dictionary\n",
    "- If you want to update a dictionary with items from another dictionary or from an iterable of key/value pairs, use the `update`\n",
    " method."
   ]
  },
  {
   "cell_type": "code",
   "execution_count": 20,
   "id": "fbefb65a-7b7a-46cb-99e3-4b9cfcc30b0c",
   "metadata": {},
   "outputs": [],
   "source": [
    "birth_year = {\"Ben\": 1997}\n",
    "new_birth_year = {\"Michael\": 1993, 'Lauren': 1999}\n",
    "birth_year.update(new_birth_year)"
   ]
  },
  {
   "cell_type": "code",
   "execution_count": 21,
   "id": "b699fe6b-b767-4e9b-a932-042f1120caac",
   "metadata": {},
   "outputs": [],
   "source": [
    "birth_year.update(Josh=1990, Olivia=1991)"
   ]
  },
  {
   "cell_type": "code",
   "execution_count": 22,
   "id": "1a290116-2d4d-4eac-92f3-db377bf79db7",
   "metadata": {},
   "outputs": [
    {
     "data": {
      "text/plain": [
       "{'Ben': 1997, 'Michael': 1993, 'Lauren': 1999, 'Josh': 1990, 'Olivia': 1991}"
      ]
     },
     "execution_count": 22,
     "metadata": {},
     "output_type": "execute_result"
    }
   ],
   "source": [
    "birth_year "
   ]
  },
  {
   "cell_type": "markdown",
   "id": "335ba468-756f-4698-9d77-1f9bc8b1d65e",
   "metadata": {},
   "source": [
    "### Key Parameter in Max(): Find the Key with the Largest Value\n",
    "- Apply `max` on a Python dictionary will give you the largest key, not the key with the largest value. If you want to find the key with the largest value, specify that using the key parameter in the max method."
   ]
  },
  {
   "cell_type": "code",
   "execution_count": 23,
   "id": "e6077d2a-8fbe-46ce-a3af-43378f5f7bcd",
   "metadata": {},
   "outputs": [
    {
     "data": {
      "text/plain": [
       "'Oliver'"
      ]
     },
     "execution_count": 23,
     "metadata": {},
     "output_type": "execute_result"
    }
   ],
   "source": [
    "birth_year = {\"Ben\": 1997, \"Alex\": 2000, \"Oliver\": 1995}\n",
    "\n",
    "max(birth_year)"
   ]
  },
  {
   "cell_type": "code",
   "execution_count": 24,
   "id": "f08446c5-17b1-49e9-ae86-64894deb6a7d",
   "metadata": {},
   "outputs": [
    {
     "data": {
      "text/plain": [
       "'Alex'"
      ]
     },
     "execution_count": 24,
     "metadata": {},
     "output_type": "execute_result"
    }
   ],
   "source": [
    "max_val = max(birth_year, key=lambda k: birth_year[k])\n",
    "max_val"
   ]
  },
  {
   "cell_type": "markdown",
   "id": "d53fe078-c78c-426a-9e41-b74b80a5b911",
   "metadata": {},
   "source": [
    "### Get a Dictionary From a List and a Value\n",
    "- If you want to get a dictionary from a list and a value, try dict.fromkeys."
   ]
  },
  {
   "cell_type": "code",
   "execution_count": 26,
   "id": "b0d4dff8-8d6f-438a-b12f-c51c1f594f10",
   "metadata": {},
   "outputs": [],
   "source": [
    "furnitures = ['bed', 'table', 'chair']\n",
    "food = ['apple', 'pepper', 'onion']\n",
    "loc1 = 'IKEA'\n",
    "loc2 = 'ALDI'"
   ]
  },
  {
   "cell_type": "markdown",
   "id": "3d0dd458-52f3-450a-aea8-e641952337df",
   "metadata": {},
   "source": [
    "For example, we can use `dict.fromkeys`\n",
    " to create a dictionary of furnitures’ locations:"
   ]
  },
  {
   "cell_type": "code",
   "execution_count": 27,
   "id": "c38b4fee-6787-4130-855d-0d70e65e27ff",
   "metadata": {},
   "outputs": [
    {
     "data": {
      "text/plain": [
       "{'bed': 'IKEA', 'table': 'IKEA', 'chair': 'IKEA'}"
      ]
     },
     "execution_count": 27,
     "metadata": {},
     "output_type": "execute_result"
    }
   ],
   "source": [
    "furniture_loc = dict.fromkeys(furnitures, loc1)\n",
    "furniture_loc"
   ]
  },
  {
   "cell_type": "markdown",
   "id": "0cd9e27e-e70e-4b42-8c8d-2d30f9f58939",
   "metadata": {},
   "source": [
    "… or create a dictionary of food’s locations:"
   ]
  },
  {
   "cell_type": "code",
   "execution_count": 28,
   "id": "868ad763-16b4-4822-af52-879a9d92be17",
   "metadata": {},
   "outputs": [
    {
     "data": {
      "text/plain": [
       "{'apple': 'ALDI', 'pepper': 'ALDI', 'onion': 'ALDI'}"
      ]
     },
     "execution_count": 28,
     "metadata": {},
     "output_type": "execute_result"
    }
   ],
   "source": [
    "food_loc = dict.fromkeys(food, loc2)\n",
    "food_loc"
   ]
  },
  {
   "cell_type": "markdown",
   "id": "87e48198-4836-42a0-bad4-7145b83fddf2",
   "metadata": {},
   "source": [
    "These 2 results can be combined into a location dictionary like below:"
   ]
  },
  {
   "cell_type": "code",
   "execution_count": 29,
   "id": "c2db56ab-cebe-4ed0-bceb-a44ac55c0423",
   "metadata": {},
   "outputs": [
    {
     "data": {
      "text/plain": [
       "{'apple': 'ALDI',\n",
       " 'pepper': 'ALDI',\n",
       " 'onion': 'ALDI',\n",
       " 'bed': 'IKEA',\n",
       " 'table': 'IKEA',\n",
       " 'chair': 'IKEA'}"
      ]
     },
     "execution_count": 29,
     "metadata": {},
     "output_type": "execute_result"
    }
   ],
   "source": [
    "locations = {**food_loc, **furniture_loc}\n",
    "locations"
   ]
  },
  {
   "cell_type": "markdown",
   "id": "54f51928",
   "metadata": {},
   "source": [
    "## Input and Output"
   ]
  },
  {
   "cell_type": "markdown",
   "id": "c808b65e",
   "metadata": {},
   "source": [
    "Let’s briefly review reading and writing to text files, starting with writing"
   ]
  },
  {
   "cell_type": "code",
   "execution_count": 97,
   "id": "f7bada75",
   "metadata": {},
   "outputs": [],
   "source": [
    "f = open('newfile.txt', 'w')   # Open 'newfile.txt' where 'w' refers to mode \"writing\"\n",
    "f.write('Testing\\n')           # Here '\\n' means new line just as LaTex\n",
    "f.write('Testing again')\n",
    "f.close()"
   ]
  },
  {
   "cell_type": "markdown",
   "id": "fe87efb0",
   "metadata": {},
   "source": [
    "Here\n",
    "\n",
    "- the built-in function `open()` creates a file object for writing to.\n",
    "- Both  `write()` and `close()` are methods of file objects.\n",
    "\n",
    "Where is this file that we’ve created?\n",
    "\n",
    "Recall that Python maintains a concept of the present working directory (pwd) that can be located from with Jupyter or IPython via"
   ]
  },
  {
   "cell_type": "code",
   "execution_count": 98,
   "id": "3bc87e83",
   "metadata": {},
   "outputs": [
    {
     "data": {
      "text/plain": [
       "'/Users/hanschristian'"
      ]
     },
     "execution_count": 98,
     "metadata": {},
     "output_type": "execute_result"
    }
   ],
   "source": [
    "%pwd"
   ]
  },
  {
   "cell_type": "markdown",
   "id": "9c10f2b1",
   "metadata": {},
   "source": [
    "We can also use Python to read the contents of `newline.txt` as follows"
   ]
  },
  {
   "cell_type": "code",
   "execution_count": 99,
   "id": "20dc189c",
   "metadata": {},
   "outputs": [
    {
     "data": {
      "text/plain": [
       "'Testing\\nTesting again'"
      ]
     },
     "execution_count": 99,
     "metadata": {},
     "output_type": "execute_result"
    }
   ],
   "source": [
    "f = open('newfile.txt', 'r') # r referes to mode \"read\"\n",
    "out = f.read()\n",
    "out"
   ]
  },
  {
   "cell_type": "code",
   "execution_count": 100,
   "id": "ac1aa844",
   "metadata": {},
   "outputs": [
    {
     "name": "stdout",
     "output_type": "stream",
     "text": [
      "Testing\n",
      "Testing again\n"
     ]
    }
   ],
   "source": [
    "print(out)"
   ]
  },
  {
   "cell_type": "markdown",
   "id": "ee1a2b12",
   "metadata": {},
   "source": [
    "### Paths"
   ]
  },
  {
   "cell_type": "markdown",
   "id": "6c562c77",
   "metadata": {},
   "source": [
    "Note that if `newfile.txt` is not in the present working directory then this call to `open()` fails.\n",
    "\n",
    "In this case, you can shift the file to the pwd or specify the full path to the file"
   ]
  },
  {
   "cell_type": "code",
   "execution_count": 101,
   "id": "c3766979",
   "metadata": {},
   "outputs": [],
   "source": [
    "f = open('/Users/hanschristian/newfile.txt', 'r')"
   ]
  },
  {
   "cell_type": "markdown",
   "id": "24656fc4-d484-4fb4-b727-36583efa6789",
   "metadata": {},
   "source": [
    "# Introduction to iterators\n",
    "## Iterators vs. iterables\n",
    "- iterable\n",
    "    - lists, strings, dictionaries, file connections, range objects\n",
    "    - an object with an associated `iter()` method\n",
    "    - applying `iter()` to an oterable creates an iterator\n",
    "\n",
    "- iterator \n",
    "    - An iterator is an object that contains a countable number of values\n",
    "    - produces next value with `next()`\n",
    "   \n",
    "we can use `print()` and `next()` to identify iterables and iterators."
   ]
  },
  {
   "cell_type": "code",
   "execution_count": 102,
   "id": "7764ea5e-9248-42dd-a889-12267ac18bd2",
   "metadata": {},
   "outputs": [
    {
     "data": {
      "text/plain": [
       "'D'"
      ]
     },
     "execution_count": 102,
     "metadata": {},
     "output_type": "execute_result"
    }
   ],
   "source": [
    "word = 'Da'\n",
    "it = iter(word)\n",
    "next(it)"
   ]
  },
  {
   "cell_type": "code",
   "execution_count": 103,
   "id": "a998b786-f4b8-4e0d-b533-9afa1abb995e",
   "metadata": {},
   "outputs": [
    {
     "data": {
      "text/plain": [
       "'a'"
      ]
     },
     "execution_count": 103,
     "metadata": {},
     "output_type": "execute_result"
    }
   ],
   "source": [
    "next(it)"
   ]
  },
  {
   "cell_type": "code",
   "execution_count": 104,
   "id": "089da074-f327-402c-b09c-1b82f175d7e0",
   "metadata": {},
   "outputs": [
    {
     "name": "stdout",
     "output_type": "stream",
     "text": [
      "D a t a\n"
     ]
    }
   ],
   "source": [
    "# using star operator\n",
    "word = 'Data'\n",
    "it = iter(word)\n",
    "print(*it)"
   ]
  },
  {
   "cell_type": "markdown",
   "id": "acf53057-b3cf-4664-bf18-b5b44cef1aca",
   "metadata": {},
   "source": [
    "### Iterating over dictionaries "
   ]
  },
  {
   "cell_type": "code",
   "execution_count": 105,
   "id": "19bfad93-6d4a-46eb-9053-75680f6a06c6",
   "metadata": {},
   "outputs": [
    {
     "name": "stdout",
     "output_type": "stream",
     "text": [
      "hugo lehmann\n",
      "francis castro\n"
     ]
    }
   ],
   "source": [
    "pythonistas = {'hugo': 'lehmann', 'francis': 'castro'}\n",
    "# to iterate we need to unpack\n",
    "for key, value in pythonistas.items():\n",
    "    print(key, value)"
   ]
  },
  {
   "cell_type": "markdown",
   "id": "16ae2d5a-3713-4ad7-a661-7b3a7630005b",
   "metadata": {},
   "source": [
    "### Iterating over lists "
   ]
  },
  {
   "cell_type": "code",
   "execution_count": 106,
   "id": "f6273e19-acd3-428b-b7f2-18f8fa0863e5",
   "metadata": {},
   "outputs": [
    {
     "name": "stdout",
     "output_type": "stream",
     "text": [
      "jay garrick\n",
      "barry allen\n",
      "wally west\n",
      "bart allen\n",
      "jay garrick\n",
      "barry allen\n",
      "wally west\n",
      "bart allen\n"
     ]
    }
   ],
   "source": [
    "# Create a list of strings: flash\n",
    "flash = ['jay garrick', 'barry allen', 'wally west', 'bart allen']\n",
    "\n",
    "# Print each list item in flash using a for loop\n",
    "for person in flash:\n",
    "    print(person)\n",
    "\n",
    "# Create an iterator for flash: superhero\n",
    "superhero = iter(flash)\n",
    "\n",
    "# Print each item from the iterator\n",
    "print(next(superhero))\n",
    "print(next(superhero))\n",
    "print(next(superhero))\n",
    "print(next(superhero))"
   ]
  },
  {
   "cell_type": "markdown",
   "id": "ab7ed12b-69f4-45e7-adb2-b4f78bb0ed7f",
   "metadata": {},
   "source": [
    "### Iterating over range\n",
    "- `range()` doesn't actually create the list; instead, it creates a range object with an iterator that produces the values until it reaches the limit"
   ]
  },
  {
   "cell_type": "code",
   "execution_count": 107,
   "id": "2e97376a-a301-45e5-b624-ef5345bedac2",
   "metadata": {},
   "outputs": [
    {
     "name": "stdout",
     "output_type": "stream",
     "text": [
      "0\n",
      "1\n",
      "2\n",
      "0\n",
      "1\n",
      "2\n",
      "0\n",
      "1\n",
      "2\n",
      "3\n",
      "4\n"
     ]
    }
   ],
   "source": [
    "# Create an iterator for range(3): small_value\n",
    "small_value = iter(range(3))\n",
    "\n",
    "# Print the values in small_value\n",
    "print(next(small_value))\n",
    "print(next(small_value))\n",
    "print(next(small_value))\n",
    "\n",
    "# Loop over range(3) and print the values\n",
    "for num in range(3):\n",
    "    print(num)\n",
    "\n",
    "# Create an iterator for range(10 ** 100): googol\n",
    "googol = iter(range(10 ** 100))\n",
    "\n",
    "# Print the first 5 values from googol\n",
    "print(next(googol))\n",
    "print(next(googol))\n",
    "print(next(googol))\n",
    "print(next(googol))\n",
    "print(next(googol))"
   ]
  },
  {
   "cell_type": "markdown",
   "id": "a0d08e29",
   "metadata": {},
   "source": [
    "### Iterating"
   ]
  },
  {
   "cell_type": "markdown",
   "id": "5847875d",
   "metadata": {},
   "source": [
    "One of the most important tasks in computing is stepping through a sequence of data and performing a given action.\n",
    "\n",
    "One of Python’s strengths is its simple, flexible interface to this kind of iteration via the `for` loop.\n"
   ]
  },
  {
   "cell_type": "markdown",
   "id": "2f7b116d",
   "metadata": {},
   "source": [
    "### Looping over Different Objects"
   ]
  },
  {
   "cell_type": "markdown",
   "id": "05f2c5ca",
   "metadata": {},
   "source": [
    "Many Python objects are “iterable”, in the sense that they can be looped over.\n",
    "\n",
    "To give an example, let’s write the file us_cities.txt, which lists US cities and their population, to the present working directory."
   ]
  },
  {
   "cell_type": "code",
   "execution_count": 108,
   "id": "8215c614",
   "metadata": {},
   "outputs": [
    {
     "name": "stdout",
     "output_type": "stream",
     "text": [
      "Overwriting us_cities.txt\n"
     ]
    }
   ],
   "source": [
    "%%file us_cities.txt\n",
    "new york: 8244910\n",
    "los angeles: 3819702\n",
    "chicago: 2707120\n",
    "houston: 2145146\n",
    "philadelphia: 1536471\n",
    "phoenix: 1469471\n",
    "san antonio: 1359758\n",
    "san diego: 1326179\n",
    "dallas: 1223229"
   ]
  },
  {
   "cell_type": "markdown",
   "id": "951d0898",
   "metadata": {},
   "source": [
    "Here %%file is an [IPython cell magic](https://ipython.readthedocs.io/en/stable/interactive/magics.html#cell-magics).\n",
    "\n",
    "Suppose that we want to make the information more readable, by capitalizing names and adding commas to mark thousands.\n",
    "\n",
    "The program below reads the data in and makes the conversion:"
   ]
  },
  {
   "cell_type": "code",
   "execution_count": 109,
   "id": "d3c9e5a7",
   "metadata": {},
   "outputs": [
    {
     "name": "stdout",
     "output_type": "stream",
     "text": [
      "New York       8,244,910\n",
      "Los Angeles    3,819,702\n",
      "Chicago        2,707,120\n",
      "Houston        2,145,146\n",
      "Philadelphia   1,536,471\n",
      "Phoenix        1,469,471\n",
      "San Antonio    1,359,758\n",
      "San Diego      1,326,179\n",
      "Dallas         1,223,229\n"
     ]
    }
   ],
   "source": [
    "data_file = open('us_cities.txt', 'r')\n",
    "for line in data_file:\n",
    "    city, population = line.split(':')         # Tuple unpacking, .split method by \":\"\n",
    "    city = city.title()                        # Capitalize city names\n",
    "    population = f'{int(population):,}'        # Add commas to numbers\n",
    "    print(city.ljust(15) + population)         # left align the string with 15 characters\n",
    "data_file.close()"
   ]
  },
  {
   "cell_type": "markdown",
   "id": "6ed412c8",
   "metadata": {},
   "source": [
    "Here `format()` is a string method used for inserting variables into strings. More precisely, we are using the f string.  F-strings provide a concise and convenient way to embed python expressions inside string literals for formatting. \n",
    "\n",
    "The reformatting of each line is the result of three different string methods, the details of which can be left till later.\n",
    "\n",
    "The interesting part of this program for us is line 2, which shows that\n",
    "\n",
    "1. The file object `data_file` is iterable, in the sense that it can be placed to the right of `in` within a for loop.\n",
    "2. Iteration steps through each line in the file.\n",
    "\n",
    "This leads to the clean, convenient syntax shown in our program.\n",
    "\n",
    "Many other kinds of objects are iterable, and we’ll discuss some of them later on."
   ]
  },
  {
   "cell_type": "markdown",
   "id": "5ff05a9d",
   "metadata": {},
   "source": [
    "### Looping without Indices"
   ]
  },
  {
   "cell_type": "markdown",
   "id": "3035b790",
   "metadata": {},
   "source": [
    "One thing you might have noticed is that Python tends to favor looping without explicit indexing.\n",
    "\n",
    "\n",
    "For example:"
   ]
  },
  {
   "cell_type": "code",
   "execution_count": 1,
   "id": "e02fb68b",
   "metadata": {},
   "outputs": [
    {
     "name": "stdout",
     "output_type": "stream",
     "text": [
      "1\n",
      "4\n",
      "9\n"
     ]
    }
   ],
   "source": [
    "x_values = [1, 2, 3]  # Some iterable x\n",
    "for x in x_values:\n",
    "    print(x * x)"
   ]
  },
  {
   "cell_type": "markdown",
   "id": "25dd3b8f",
   "metadata": {},
   "source": [
    "is preferred to"
   ]
  },
  {
   "cell_type": "code",
   "execution_count": 2,
   "id": "da567a8d",
   "metadata": {},
   "outputs": [
    {
     "name": "stdout",
     "output_type": "stream",
     "text": [
      "1\n",
      "4\n",
      "9\n"
     ]
    }
   ],
   "source": [
    "for i in range(len(x_values)):\n",
    "    print(x_values[i]*x_values[i])"
   ]
  },
  {
   "cell_type": "markdown",
   "id": "171b57ec",
   "metadata": {},
   "source": [
    "When you compare these two alternatives, you can see why the first one is preferred."
   ]
  },
  {
   "cell_type": "markdown",
   "id": "e44508ee",
   "metadata": {},
   "source": [
    "## zip\n",
    "Python provides some facilities to simplify looping without indices.\n",
    "One is `zip()`, which is used for stepping through pairs from two sequences.\n",
    "\n",
    "- zip accepts an arbitrary number of iterables and returns a zip object which is an iterator of tuples"
   ]
  },
  {
   "cell_type": "code",
   "execution_count": 112,
   "id": "112baa1a-982f-4368-a0d4-8acf7f50215d",
   "metadata": {},
   "outputs": [
    {
     "name": "stdout",
     "output_type": "stream",
     "text": [
      "[('Japan', 'Tokyo'), ('Korea', 'Soul'), ('China', 'Beijing')]\n"
     ]
    }
   ],
   "source": [
    "countries = ('Japan', 'Korea', 'China')\n",
    "cities = ('Tokyo', 'Soul', 'Beijing')\n",
    "z = zip(countries, cities)\n",
    "\n",
    "z_list = list(z) \n",
    "print(z_list)"
   ]
  },
  {
   "cell_type": "markdown",
   "id": "2d1c4e14-9c21-4dee-9151-b8f3578be578",
   "metadata": {},
   "source": [
    "### zip() and unpack"
   ]
  },
  {
   "cell_type": "code",
   "execution_count": 113,
   "id": "243524b2",
   "metadata": {},
   "outputs": [
    {
     "name": "stdout",
     "output_type": "stream",
     "text": [
      "Japan Tokyo\n",
      "Korea Soul\n",
      "China Beijing\n"
     ]
    }
   ],
   "source": [
    "countries = ('Japan', 'Korea', 'China')\n",
    "cities = ('Tokyo', 'Soul', 'Beijing')\n",
    "for country, city in zip(countries, cities):\n",
    "    print(country, city)\n",
    "\n",
    "    #print(f'The Capital of {country} is {city}') # alternatively using f-string \n",
    "    #print('The Capital of {} is {}'.format(country,city)) #alternative way using .format"
   ]
  },
  {
   "cell_type": "markdown",
   "id": "d41b798d-ccd0-4ef9-853d-4e3c1d142a54",
   "metadata": {},
   "source": [
    "### print zip() with * "
   ]
  },
  {
   "cell_type": "code",
   "execution_count": 114,
   "id": "56789c80-ca44-436d-8028-f96d26779efd",
   "metadata": {},
   "outputs": [
    {
     "name": "stdout",
     "output_type": "stream",
     "text": [
      "('Japan', 'Tokyo') ('Korea', 'Soul') ('China', 'Beijing')\n"
     ]
    }
   ],
   "source": [
    "countries = ('Japan', 'Korea', 'China')\n",
    "cities = ('Tokyo', 'Soul', 'Beijing')\n",
    "z = zip(countries, cities)\n",
    "print(*z)"
   ]
  },
  {
   "cell_type": "markdown",
   "id": "8df4361f",
   "metadata": {},
   "source": [
    "### Enumerate\n",
    "If we actually need the index from a list, one option is to use `enumerate()`.\n",
    "- enumerate is a function that takes any iterable as argument, such as a list, and returns a special enumerate object, which consists of pairs containing the elements of the original iterable, along with their index within the iterable.\n",
    "- The enumerate object itself is an iterable and we can loop over it while unpacking its elements using the clause for index\n",
    "\n",
    "To understand what `enumerate()` does, consider the following example"
   ]
  },
  {
   "cell_type": "code",
   "execution_count": 115,
   "id": "22164f77",
   "metadata": {},
   "outputs": [
    {
     "name": "stdout",
     "output_type": "stream",
     "text": [
      "letter_list[0] = 'a'\n",
      "letter_list[1] = 'b'\n",
      "letter_list[2] = 'c'\n"
     ]
    }
   ],
   "source": [
    "letter_list = ['a', 'b', 'c']\n",
    "for index, letter in enumerate(letter_list):\n",
    "    print(f\"letter_list[{index}] = '{letter}'\")"
   ]
  },
  {
   "cell_type": "markdown",
   "id": "0a7db7d6",
   "metadata": {},
   "source": [
    "## List Comprehensions"
   ]
  },
  {
   "cell_type": "markdown",
   "id": "1556d6bf",
   "metadata": {},
   "source": [
    "[List comprehensions](https://en.wikipedia.org/wiki/List_comprehension) are an elegant Python tool for creating lists.\n",
    "- collapse for loops for building lists into a SINGLE! line \n",
    "- require components [output expression for iterator variable in iterable]: \n",
    "    - iterable \n",
    "    - iterator variable (represent members of iterable \n",
    "    - output expresion "
   ]
  },
  {
   "cell_type": "markdown",
   "id": "7957890b-a2f5-4d92-8ed4-0341c37577ad",
   "metadata": {},
   "source": [
    "Instead of `for` loop:"
   ]
  },
  {
   "cell_type": "code",
   "execution_count": 3,
   "id": "b811f026-201f-4054-8375-dc97d1b93a07",
   "metadata": {},
   "outputs": [
    {
     "name": "stdout",
     "output_type": "stream",
     "text": [
      "['dogs', 'cats', 'birds']\n"
     ]
    }
   ],
   "source": [
    "animals = ['dog', 'cat', 'bird']\n",
    "plurals = []\n",
    "for animal in animals:\n",
    "    plurals.append(animal + 's')\n",
    "    \n",
    "print(plurals)"
   ]
  },
  {
   "cell_type": "markdown",
   "id": "5e92eed5-044f-4d0f-8743-981cb3754e31",
   "metadata": {},
   "source": [
    "...We can use **list comprehension**:"
   ]
  },
  {
   "cell_type": "code",
   "execution_count": 4,
   "id": "73636836",
   "metadata": {},
   "outputs": [
    {
     "name": "stdout",
     "output_type": "stream",
     "text": [
      "['dogs', 'cats', 'birds']\n"
     ]
    }
   ],
   "source": [
    "animals = ['dog', 'cat', 'bird']\n",
    "plurals = [animal + 's' for animal in animals]\n",
    "print(plurals)"
   ]
  },
  {
   "cell_type": "markdown",
   "id": "e2e51276-8a2b-41a4-9620-dc0912baf793",
   "metadata": {},
   "source": [
    "### List compehension with range()"
   ]
  },
  {
   "cell_type": "code",
   "execution_count": 118,
   "id": "1c48537c",
   "metadata": {},
   "outputs": [
    {
     "name": "stdout",
     "output_type": "stream",
     "text": [
      "[0, 1, 4, 9, 16, 25, 36, 49, 64]\n"
     ]
    }
   ],
   "source": [
    "squares = [x**2 for x in range(9)] # list comprehension from existing list\n",
    "print(squares)"
   ]
  },
  {
   "cell_type": "markdown",
   "id": "6acae286-8693-4b1c-a73c-c84302425b01",
   "metadata": {},
   "source": [
    "# Nested loops\n",
    "- In the nested loop, the number of iterations will be equal to the number of iterations in the outer loop multiplied by the iterations in the inner loop."
   ]
  },
  {
   "cell_type": "code",
   "execution_count": 1,
   "id": "feb74133-2f2e-4348-ba27-1bb14f05fa97",
   "metadata": {},
   "outputs": [
    {
     "name": "stdout",
     "output_type": "stream",
     "text": [
      "1 2 3 4 5 6 7 8 9 10 \n",
      "2 4 6 8 10 12 14 16 18 20 \n",
      "3 6 9 12 15 18 21 24 27 30 \n",
      "4 8 12 16 20 24 28 32 36 40 \n",
      "5 10 15 20 25 30 35 40 45 50 \n",
      "6 12 18 24 30 36 42 48 54 60 \n",
      "7 14 21 28 35 42 49 56 63 70 \n",
      "8 16 24 32 40 48 56 64 72 80 \n",
      "9 18 27 36 45 54 63 72 81 90 \n",
      "10 20 30 40 50 60 70 80 90 100 \n"
     ]
    }
   ],
   "source": [
    "# outer loop\n",
    "for i in range(1, 11): # range() return 10 numbers\n",
    "    # nested loop\n",
    "    # to iterate from 1 to 10\n",
    "    for j in range(1, 11):\n",
    "        # print multiplication\n",
    "        print(i * j, end=' ') # note default value is \\n <-- i.e. new line\n",
    "    print()"
   ]
  },
  {
   "cell_type": "markdown",
   "id": "09c27c15-b3d7-4979-bb2d-ba4044516013",
   "metadata": {},
   "source": [
    "In this program, the outer for loop is iterate numbers from 1 to 10. So total number of iteration of the outer loop is 10.\n",
    "- In the first iteration of the nested loop, the number from outer loop is 1. In the next, it 2. and so on till 10.\n",
    "    - Next, For each iteration of the outer loop, the inner loop will execute ten times. \n",
    "    - In each iteration of an inner loop, we calculated the multiplication of two numbers"
   ]
  },
  {
   "cell_type": "markdown",
   "id": "38e89dfa-0048-4cee-8b00-98470939da9a",
   "metadata": {},
   "source": [
    "### Nested loops with list comprehension\n",
    "- TRADEOFF: note though we sacrifice some readability!"
   ]
  },
  {
   "cell_type": "markdown",
   "id": "8300351e-d0a8-465b-9c13-cfe86548ae0e",
   "metadata": {},
   "source": [
    "Instead of `for` loops:"
   ]
  },
  {
   "cell_type": "code",
   "execution_count": 2,
   "id": "f5bb0ed3-06b8-4243-aae9-ba9319ece6b2",
   "metadata": {},
   "outputs": [
    {
     "name": "stdout",
     "output_type": "stream",
     "text": [
      "[(0, 6), (0, 7), (1, 6), (1, 7)]\n"
     ]
    }
   ],
   "source": [
    "pairs_1 = []\n",
    "for num1 in range(0,2):\n",
    "    for num2 in range(6,8):\n",
    "        pairs_1.append((num1,num2))\n",
    "print(pairs_1)"
   ]
  },
  {
   "cell_type": "markdown",
   "id": "ffad29f3-b9f9-4b3b-b95a-55763c192523",
   "metadata": {},
   "source": [
    "... We can use **list comprehension** again:"
   ]
  },
  {
   "cell_type": "code",
   "execution_count": 3,
   "id": "c662edbe-9fc1-46dd-b857-7c16e3dee230",
   "metadata": {},
   "outputs": [
    {
     "name": "stdout",
     "output_type": "stream",
     "text": [
      "[(0, 6), (0, 7), (1, 6), (1, 7)]\n"
     ]
    }
   ],
   "source": [
    "pairs_2 = [(num1,num2) for num1 in range(0,2) for num2 in range(6,8)]\n",
    "print(pairs_2)"
   ]
  },
  {
   "cell_type": "markdown",
   "id": "45c4b1e9-9a11-4d67-bb3b-fd97bfe6097b",
   "metadata": {},
   "source": [
    "#### Create matrix"
   ]
  },
  {
   "cell_type": "code",
   "execution_count": 2,
   "id": "97c54875-5f05-4cbc-b19a-e7d4bbd22c86",
   "metadata": {},
   "outputs": [
    {
     "name": "stdout",
     "output_type": "stream",
     "text": [
      "[0, 1, 2, 3, 4]\n",
      "[0, 1, 2, 3, 4]\n",
      "[0, 1, 2, 3, 4]\n",
      "[0, 1, 2, 3, 4]\n",
      "[0, 1, 2, 3, 4]\n"
     ]
    }
   ],
   "source": [
    "# Create a 5 x 5 matrix using a list of lists: matrix\n",
    "matrix = [[col for col in range(5)] for row in range(5)]\n",
    "\n",
    "# Print the matrix\n",
    "for row in matrix:\n",
    "    print(row)"
   ]
  },
  {
   "cell_type": "markdown",
   "id": "23d9442e-3bb7-4a1f-ac29-acae08b57bb0",
   "metadata": {},
   "source": [
    "## Conditionals in comprehensions"
   ]
  },
  {
   "cell_type": "markdown",
   "id": "85da79a2-6744-43c1-9eda-0b4431e81f4f",
   "metadata": {},
   "source": [
    "- we can filter the output of a list comprehension using a conditional on the iterable"
   ]
  },
  {
   "cell_type": "code",
   "execution_count": 122,
   "id": "a3be964b-7751-44ed-9d70-5628e86e136f",
   "metadata": {},
   "outputs": [
    {
     "data": {
      "text/plain": [
       "[0, 4, 16, 36, 64]"
      ]
     },
     "execution_count": 122,
     "metadata": {},
     "output_type": "execute_result"
    }
   ],
   "source": [
    "[num ** 2 for num in range(10) if num % 2 == 0]"
   ]
  },
  {
   "cell_type": "markdown",
   "id": "95b94082-b0a1-41fa-ac2e-502df6a0ffd4",
   "metadata": {},
   "source": [
    "- or we can condition on the output expression"
   ]
  },
  {
   "cell_type": "code",
   "execution_count": 123,
   "id": "a3472b61-db61-4571-94c4-323d27f67a8a",
   "metadata": {},
   "outputs": [
    {
     "data": {
      "text/plain": [
       "[0, 0, 4, 0, 16, 0, 36, 0, 64, 0]"
      ]
     },
     "execution_count": 123,
     "metadata": {},
     "output_type": "execute_result"
    }
   ],
   "source": [
    "[num ** 2 if num % 2 == 0 else 0 for num in range(10)]"
   ]
  },
  {
   "cell_type": "markdown",
   "id": "4a36f184-d69a-4931-9242-beb34c09278d",
   "metadata": {},
   "source": [
    "## Dict comprehensions\n",
    "- create dictionaries \n",
    "- use curly brackets `{}` instead of bracket `[]`"
   ]
  },
  {
   "cell_type": "code",
   "execution_count": 124,
   "id": "5c637dd3-8cf9-479c-9063-e948d71caebb",
   "metadata": {},
   "outputs": [
    {
     "name": "stdout",
     "output_type": "stream",
     "text": [
      "{0: 0, 1: -1, 2: -2, 3: -3, 4: -4, 5: -5, 6: -6, 7: -7, 8: -8}\n"
     ]
    }
   ],
   "source": [
    "pos_neg = {num: -num for num in range(9)}\n",
    "print(pos_neg)"
   ]
  },
  {
   "cell_type": "markdown",
   "id": "60bb3e96-e25e-448a-9ad0-b47875a5ab4f",
   "metadata": {},
   "source": [
    "# Generator expressions"
   ]
  },
  {
   "cell_type": "markdown",
   "id": "49197c1f-021f-43fc-af1b-a362760c92d3",
   "metadata": {},
   "source": [
    "## list comprehensions vs generators\n",
    "- list comprehension - returns a list\n",
    "- generators - returns a generator object\n",
    "- both can be iterated over"
   ]
  },
  {
   "cell_type": "code",
   "execution_count": 125,
   "id": "e227b4d6-a1b8-4c47-8dea-40bae61bac73",
   "metadata": {},
   "outputs": [
    {
     "data": {
      "text/plain": [
       "[0, 2, 4, 6, 8, 10, 12, 14, 16, 18]"
      ]
     },
     "execution_count": 125,
     "metadata": {},
     "output_type": "execute_result"
    }
   ],
   "source": [
    "[2 * num for num in range(10)]"
   ]
  },
  {
   "cell_type": "code",
   "execution_count": 126,
   "id": "4177085d-0552-4f71-ba92-c8ba82b17a12",
   "metadata": {},
   "outputs": [
    {
     "data": {
      "text/plain": [
       "<generator object <genexpr> at 0x7f7eaf388740>"
      ]
     },
     "execution_count": 126,
     "metadata": {},
     "output_type": "execute_result"
    }
   ],
   "source": [
    "# generator\n",
    "(2 * num for num in range(10))"
   ]
  },
  {
   "cell_type": "markdown",
   "id": "9b18d7e3-06ae-4d38-a873-e07ae3c72f58",
   "metadata": {},
   "source": [
    "- unlike list comprehensions, the generator does not store lists"
   ]
  },
  {
   "cell_type": "code",
   "execution_count": 127,
   "id": "277bedd4-af50-4401-aed3-a04137cf4d71",
   "metadata": {},
   "outputs": [],
   "source": [
    "# [num for num in range(10**100000)] <-- dont run this, as your computer will be very unhappy!"
   ]
  },
  {
   "cell_type": "code",
   "execution_count": 128,
   "id": "a5b443c0-d43a-478e-8d94-ed2decd71b86",
   "metadata": {},
   "outputs": [
    {
     "data": {
      "text/plain": [
       "<generator object <genexpr> at 0x7f7eaf388ac0>"
      ]
     },
     "execution_count": 128,
     "metadata": {},
     "output_type": "execute_result"
    }
   ],
   "source": [
    "(num for num in range(10**100000)) "
   ]
  },
  {
   "cell_type": "markdown",
   "id": "8dcc5db6-085b-419a-a56f-0f7a247a43f2",
   "metadata": {},
   "source": [
    "## Generator functions\n",
    "- produces generator objects when called\n",
    "- defined like a regular function - `def`\n",
    "- yields a sequence of values instead of returning a single value\n",
    "- generates a values with `yield` keyword"
   ]
  },
  {
   "cell_type": "code",
   "execution_count": 129,
   "id": "f9dbe983-a463-4c6f-94ba-cf2158936b99",
   "metadata": {},
   "outputs": [],
   "source": [
    "def num_sequence(n):\n",
    "    \"\"\"Generate values from 0 to n.\"\"\"\n",
    "    i = 0 # initialize\n",
    "    while i < n:\n",
    "        yield i\n",
    "        i +=1"
   ]
  },
  {
   "cell_type": "code",
   "execution_count": 130,
   "id": "baefa999-d92e-483e-8530-abb772314bca",
   "metadata": {},
   "outputs": [
    {
     "name": "stdout",
     "output_type": "stream",
     "text": [
      "<class 'generator'>\n"
     ]
    }
   ],
   "source": [
    "result = num_sequence(5)\n",
    "print(type(result))"
   ]
  },
  {
   "cell_type": "code",
   "execution_count": 131,
   "id": "ce38c219-a255-4a52-9a76-eb812f5045e0",
   "metadata": {},
   "outputs": [
    {
     "name": "stdout",
     "output_type": "stream",
     "text": [
      "0\n",
      "1\n",
      "2\n",
      "3\n",
      "4\n"
     ]
    }
   ],
   "source": [
    "for item in result:\n",
    "    print(item)"
   ]
  },
  {
   "cell_type": "markdown",
   "id": "5591a9af",
   "metadata": {},
   "source": [
    "## Comparisons and Logical Operators¶"
   ]
  },
  {
   "cell_type": "markdown",
   "id": "d790ac4a",
   "metadata": {},
   "source": [
    "### Comparisons"
   ]
  },
  {
   "cell_type": "markdown",
   "id": "6b37ceaa",
   "metadata": {},
   "source": [
    "Many different kinds of expressions evaluate to one of the Boolean values (i.e., `True` or `False`).\n",
    "\n",
    "A common type is comparisons, such as"
   ]
  },
  {
   "cell_type": "code",
   "execution_count": 132,
   "id": "a6b073dd",
   "metadata": {},
   "outputs": [
    {
     "data": {
      "text/plain": [
       "True"
      ]
     },
     "execution_count": 132,
     "metadata": {},
     "output_type": "execute_result"
    }
   ],
   "source": [
    "x, y = 1,2 \n",
    "x < y"
   ]
  },
  {
   "cell_type": "code",
   "execution_count": 133,
   "id": "2897b26a",
   "metadata": {},
   "outputs": [
    {
     "data": {
      "text/plain": [
       "False"
      ]
     },
     "execution_count": 133,
     "metadata": {},
     "output_type": "execute_result"
    }
   ],
   "source": [
    "x > y"
   ]
  },
  {
   "cell_type": "markdown",
   "id": "9fb48963",
   "metadata": {},
   "source": [
    "One of the nice features of Python is that we can **chain inequalities**"
   ]
  },
  {
   "cell_type": "code",
   "execution_count": 134,
   "id": "1852a897",
   "metadata": {},
   "outputs": [
    {
     "data": {
      "text/plain": [
       "True"
      ]
     },
     "execution_count": 134,
     "metadata": {},
     "output_type": "execute_result"
    }
   ],
   "source": [
    "1 < 2 < 3"
   ]
  },
  {
   "cell_type": "markdown",
   "id": "ca203347",
   "metadata": {},
   "source": [
    "As we saw earlier, when testing for equality we use `==`"
   ]
  },
  {
   "cell_type": "code",
   "execution_count": 135,
   "id": "299cfeee",
   "metadata": {},
   "outputs": [
    {
     "data": {
      "text/plain": [
       "False"
      ]
     },
     "execution_count": 135,
     "metadata": {},
     "output_type": "execute_result"
    }
   ],
   "source": [
    "x = 1    # Assignment\n",
    "x == 2   # Comparison"
   ]
  },
  {
   "cell_type": "markdown",
   "id": "b8985f06",
   "metadata": {},
   "source": [
    "For “not equal” use `!=`"
   ]
  },
  {
   "cell_type": "code",
   "execution_count": 136,
   "id": "91d29efe",
   "metadata": {},
   "outputs": [
    {
     "data": {
      "text/plain": [
       "True"
      ]
     },
     "execution_count": 136,
     "metadata": {},
     "output_type": "execute_result"
    }
   ],
   "source": [
    "1 != 2"
   ]
  },
  {
   "cell_type": "markdown",
   "id": "780233e6",
   "metadata": {},
   "source": [
    "Note that when testing conditions, we can use **any** valid Python expression"
   ]
  },
  {
   "cell_type": "code",
   "execution_count": 137,
   "id": "8178733f",
   "metadata": {},
   "outputs": [
    {
     "data": {
      "text/plain": [
       "'yes'"
      ]
     },
     "execution_count": 137,
     "metadata": {},
     "output_type": "execute_result"
    }
   ],
   "source": [
    "x = 'yes' if 42 else 'no'\n",
    "x"
   ]
  },
  {
   "cell_type": "code",
   "execution_count": 138,
   "id": "94a924c9",
   "metadata": {},
   "outputs": [
    {
     "data": {
      "text/plain": [
       "'no'"
      ]
     },
     "execution_count": 138,
     "metadata": {},
     "output_type": "execute_result"
    }
   ],
   "source": [
    "x = 'yes' if [] else 'no'\n",
    "x"
   ]
  },
  {
   "cell_type": "markdown",
   "id": "9af197b3",
   "metadata": {},
   "source": [
    "What’s going on here?\n",
    "\n",
    "The rule is:\n",
    "\n",
    "- Expressions that evaluate to zero, empty sequences or containers (strings, lists, etc.) and None are all equivalent to `False`.\n",
    "    - for example, `[]` and `()` are equivalent to `False` in an `if` clause\n",
    "- All other values are equivalent to `True`.\n",
    "    - for example, `42` is equivalent to `True` in an `if` clause"
   ]
  },
  {
   "cell_type": "markdown",
   "id": "5b4695b1",
   "metadata": {},
   "source": [
    "## Combining Expressions"
   ]
  },
  {
   "cell_type": "markdown",
   "id": "1c81d64e",
   "metadata": {},
   "source": [
    "We can combine expressions using `and`, `or` and `not`.\n",
    "\n",
    "These are the standard logical connectives (conjunction, disjunction and denial)"
   ]
  },
  {
   "cell_type": "code",
   "execution_count": 139,
   "id": "682eca47",
   "metadata": {},
   "outputs": [
    {
     "data": {
      "text/plain": [
       "True"
      ]
     },
     "execution_count": 139,
     "metadata": {},
     "output_type": "execute_result"
    }
   ],
   "source": [
    "1 < 2 and 'f' in 'foo'"
   ]
  },
  {
   "cell_type": "code",
   "execution_count": 140,
   "id": "cda6ebb7",
   "metadata": {},
   "outputs": [
    {
     "data": {
      "text/plain": [
       "False"
      ]
     },
     "execution_count": 140,
     "metadata": {},
     "output_type": "execute_result"
    }
   ],
   "source": [
    "1 < 2 and 'g' in 'foo'"
   ]
  },
  {
   "cell_type": "code",
   "execution_count": 141,
   "id": "ea5be204",
   "metadata": {},
   "outputs": [
    {
     "data": {
      "text/plain": [
       "True"
      ]
     },
     "execution_count": 141,
     "metadata": {},
     "output_type": "execute_result"
    }
   ],
   "source": [
    "1 < 2 or 'g' in 'foo'"
   ]
  },
  {
   "cell_type": "code",
   "execution_count": 142,
   "id": "39507197",
   "metadata": {},
   "outputs": [
    {
     "data": {
      "text/plain": [
       "False"
      ]
     },
     "execution_count": 142,
     "metadata": {},
     "output_type": "execute_result"
    }
   ],
   "source": [
    "not True"
   ]
  },
  {
   "cell_type": "code",
   "execution_count": 143,
   "id": "f43b156c",
   "metadata": {},
   "outputs": [
    {
     "data": {
      "text/plain": [
       "True"
      ]
     },
     "execution_count": 143,
     "metadata": {},
     "output_type": "execute_result"
    }
   ],
   "source": [
    "not not True"
   ]
  },
  {
   "cell_type": "markdown",
   "id": "9d4a0c1e",
   "metadata": {},
   "source": [
    "Remember\n",
    "\n",
    "- `P and Q` is `True` if both are `True`, else `False`\n",
    "- `P or Q` is False if both are `False`, else True"
   ]
  },
  {
   "cell_type": "markdown",
   "id": "f3bd308b-d508-44d2-958b-3b1f12dc8583",
   "metadata": {},
   "source": [
    "# Positional formatting"
   ]
  },
  {
   "cell_type": "markdown",
   "id": "80179134-6928-4521-bf58-ee1a44bce9cc",
   "metadata": {},
   "source": [
    "## String formatting (string interpolation)\n",
    "- The proces of insert a custom *string* or *variable* in a predefined text:"
   ]
  },
  {
   "cell_type": "markdown",
   "id": "fdf1504a-4905-40ce-9b0e-09d8647b9d9d",
   "metadata": {},
   "source": [
    "There are **3 modern approaches** for formatting:\n",
    "1. positional formatting\n",
    "2. formatted strings literals\n",
    "3. template methods (*not relevant here*)"
   ]
  },
  {
   "cell_type": "markdown",
   "id": "eb6d8f16-0aa8-43fe-a568-2d430ade0781",
   "metadata": {},
   "source": [
    "### Positional formatting\n",
    "- put placeholders defined by a pair of curly braces in a text. We call the string \".format\" method. \n",
    "- Then, we pass the desired value into the method. \n",
    "- The method replaces the placeholders using the values in order of appearance.\n",
    "\n",
    "```Python\n",
    "'text{}'.format(value)\n",
    "```"
   ]
  },
  {
   "cell_type": "code",
   "execution_count": 144,
   "id": "35cf3732-b4b6-4286-9a61-27b7425643d6",
   "metadata": {},
   "outputs": [
    {
     "name": "stdout",
     "output_type": "stream",
     "text": [
      "Machine learning provides systems the ability to learn automatically.\n"
     ]
    }
   ],
   "source": [
    "# Example \n",
    "print(\"Machine learning provides {} the ability to learn {}.\".format(\"systems\", \"automatically\"))"
   ]
  },
  {
   "cell_type": "markdown",
   "id": "83eada76-c515-414c-b9c4-75d60f9220e6",
   "metadata": {},
   "source": [
    "Note, we can use variables for both initial string and values passed into the method:"
   ]
  },
  {
   "cell_type": "code",
   "execution_count": 145,
   "id": "3d30e409-43d6-46fb-b540-8f2fffba856f",
   "metadata": {},
   "outputs": [],
   "source": [
    "my_string = \"{} rely on {} datasets\"\n",
    "method = \"Supervised algorithms\"\n",
    "condition = \"labeled\""
   ]
  },
  {
   "cell_type": "code",
   "execution_count": 146,
   "id": "de6854d3-cc6d-4f1c-90b2-a28875acba68",
   "metadata": {},
   "outputs": [
    {
     "name": "stdout",
     "output_type": "stream",
     "text": [
      "Supervised algorithms rely on labeled datasets\n"
     ]
    }
   ],
   "source": [
    "print(my_string.format(method, condition))"
   ]
  },
  {
   "cell_type": "markdown",
   "id": "d30717a6-ded6-49d8-97ef-401eebe7d815",
   "metadata": {},
   "source": [
    "#### Reordering values\n",
    "- include an index number into the placeholders to reorder values"
   ]
  },
  {
   "cell_type": "code",
   "execution_count": 147,
   "id": "c80fa2fa-e1c3-4d68-bee7-cd3579a1feac",
   "metadata": {},
   "outputs": [
    {
     "name": "stdout",
     "output_type": "stream",
     "text": [
      "Betty has a friend called Linda and a sister called Daisy.\n"
     ]
    }
   ],
   "source": [
    "print(\"{} has a friend called {} and a sister called {}.\".format(\"Betty\",\"Linda\", \"Daisy\"))"
   ]
  },
  {
   "cell_type": "code",
   "execution_count": 148,
   "id": "aa4098e3-3e41-413e-89cf-eeaf400c8e13",
   "metadata": {},
   "outputs": [
    {
     "name": "stdout",
     "output_type": "stream",
     "text": [
      "Daisy has a friend called Betty and a sister called Linda.\n"
     ]
    }
   ],
   "source": [
    "# reordering\n",
    "print(\"{2} has a friend called {0} and a sister called {1}.\".format(\"Betty\",\"Linda\", \"Daisy\"))"
   ]
  },
  {
   "cell_type": "markdown",
   "id": "209da40d-8164-4207-afb0-6e493c245bc7",
   "metadata": {},
   "source": [
    "#### Named placeholders\n",
    "- specify a name for the placeholders\n",
    "\n",
    "We can also introduce keyword arguments that are called by their keyword name"
   ]
  },
  {
   "cell_type": "code",
   "execution_count": 149,
   "id": "ac0fdec0-d437-4474-930f-784ec43e7a66",
   "metadata": {},
   "outputs": [
    {
     "name": "stdout",
     "output_type": "stream",
     "text": [
      "Supervised algorithms try to find patterns in dataset\n"
     ]
    }
   ],
   "source": [
    "tool = \"Supervised algorithms\"\n",
    "goal = \"patterns\"\n",
    "print(\"{title} try to find {aim} in dataset\".format(title=tool, aim=goal))"
   ]
  },
  {
   "cell_type": "markdown",
   "id": "2522b9f9-3faa-4982-9ecf-51d8b075d649",
   "metadata": {},
   "source": [
    "Another example:"
   ]
  },
  {
   "cell_type": "code",
   "execution_count": 150,
   "id": "a4d586a6-de5d-43b9-984e-a6cdc1affc48",
   "metadata": {},
   "outputs": [],
   "source": [
    "my_methods = {\"tool\": \"Unsupervised algorithms\", \"goal\": \"patterns\"}"
   ]
  },
  {
   "cell_type": "code",
   "execution_count": 151,
   "id": "d359c151-22cd-47a5-b38b-06b7e2242546",
   "metadata": {},
   "outputs": [
    {
     "name": "stdout",
     "output_type": "stream",
     "text": [
      "Unsupervised algorithms try to find patterns in the dataset\n"
     ]
    }
   ],
   "source": [
    "print('{data[tool]} try to find {data[goal]} in the dataset'.format(data=my_methods))"
   ]
  },
  {
   "cell_type": "markdown",
   "id": "44553992-6fd3-4602-929d-db7b7668a589",
   "metadata": {},
   "source": [
    "#### Format specifier\n",
    "- specify data type to be used: `{index:specifier}`"
   ]
  },
  {
   "cell_type": "code",
   "execution_count": 152,
   "id": "204497b8-714b-42f9-a524-8a79ca7fec11",
   "metadata": {},
   "outputs": [
    {
     "name": "stdout",
     "output_type": "stream",
     "text": [
      "Only 0.52% of the data produced worldwide is analyzed!.\n"
     ]
    }
   ],
   "source": [
    "print(\"Only {0:.2f}% of the {1} produced worldwide is {2}!.\".format(0.5155675, \"data\", \"analyzed\"))"
   ]
  },
  {
   "cell_type": "markdown",
   "id": "fd2859e5-e45c-4a68-8243-7ed5d5fc57a9",
   "metadata": {},
   "source": [
    "#### Formatting datetime"
   ]
  },
  {
   "cell_type": "code",
   "execution_count": 153,
   "id": "3027f718-0d86-463b-9747-c104c84f2b19",
   "metadata": {},
   "outputs": [
    {
     "name": "stdout",
     "output_type": "stream",
     "text": [
      "2022-07-24 11:10:31.746067\n"
     ]
    }
   ],
   "source": [
    "from datetime import datetime\n",
    "print(datetime.now())"
   ]
  },
  {
   "cell_type": "code",
   "execution_count": 154,
   "id": "7189aab6-0d60-4dd2-892b-13f623ca0ef5",
   "metadata": {},
   "outputs": [
    {
     "name": "stdout",
     "output_type": "stream",
     "text": [
      "Today's date is 2022-07-24 11:10\n"
     ]
    }
   ],
   "source": [
    "print(\"Today's date is {:%Y-%m-%d %H:%M}\".format(datetime.now()))"
   ]
  },
  {
   "cell_type": "markdown",
   "id": "5c0e129c-b236-4103-97a2-22b11305f42b",
   "metadata": {},
   "source": [
    "#### Escaped sequences\n",
    "- escaped sequences: backslashed `\\`\n",
    "- doesn't wirk for f-strings"
   ]
  },
  {
   "cell_type": "code",
   "execution_count": 155,
   "id": "a61972dd-53fa-4c61-b868-50ae2e772388",
   "metadata": {},
   "outputs": [
    {
     "name": "stdout",
     "output_type": "stream",
     "text": [
      "My dad is called \"John\"\n"
     ]
    }
   ],
   "source": [
    "print(\"My dad is called \\\"John\\\"\")"
   ]
  },
  {
   "cell_type": "markdown",
   "id": "32ffc7d9-f3d0-49fc-93f0-c0c40a85a9bb",
   "metadata": {},
   "source": [
    "## Formatted string literal (f-strings)\n",
    "- minimal syntax\n",
    "- **advantage**: Inline operations\n",
    "- add prefix `f` to string\n",
    "```Python\n",
    "f\"literal string{expression}\"\n",
    "```"
   ]
  },
  {
   "cell_type": "code",
   "execution_count": 156,
   "id": "3b0d8361-03f5-4a6c-84bf-69e12df2f28b",
   "metadata": {},
   "outputs": [
    {
     "name": "stdout",
     "output_type": "stream",
     "text": [
      "Practicing how to code is the best method for learning Python faster\n"
     ]
    }
   ],
   "source": [
    "way = \"code\"\n",
    "method = \"learning Python faster\"\n",
    "print(f\"Practicing how to {way} is the best method for {method}\")"
   ]
  },
  {
   "cell_type": "markdown",
   "id": "2c033fed-3ac1-4ae7-b74f-4234e4e73ea9",
   "metadata": {},
   "source": [
    "#### Type conversion\n",
    "f-strings allow us to convert expressions into different types:\n",
    "-  `!s` for strings\n",
    "- `!r` for printable representation of strings\n",
    "- or `!a` to escape non-ASCII characters"
   ]
  },
  {
   "cell_type": "code",
   "execution_count": 157,
   "id": "ff5b1e20-d396-4344-96ef-61996f5ed78f",
   "metadata": {},
   "outputs": [
    {
     "name": "stdout",
     "output_type": "stream",
     "text": [
      "Python is called 'Python' due to a comedy series\n"
     ]
    }
   ],
   "source": [
    "name = \"Python\"\n",
    "print(f\"Python is called {name!r} due to a comedy series\")"
   ]
  },
  {
   "cell_type": "markdown",
   "id": "d25229b8-a5d3-4564-9c01-e470f1b9af14",
   "metadata": {},
   "source": [
    "#### Format specifiers\n",
    "Standard format specifiers:\n",
    "- `e` (scientific notation, e.g. 5 10^3)\n",
    "- `d` (digit e.g. 4)\n",
    "- `f` (float, e.g. 4.5353)"
   ]
  },
  {
   "cell_type": "code",
   "execution_count": 158,
   "id": "e2ad858e-c7e6-4a25-b9e1-08c28d61ff46",
   "metadata": {},
   "outputs": [
    {
     "name": "stdout",
     "output_type": "stream",
     "text": [
      "In the last 2 years, 90.42% of the data was produced worlwide!.\n"
     ]
    }
   ],
   "source": [
    "number = 90.41515151425\n",
    "print(f\"In the last 2 years, {number:.2f}% of the data was produced worlwide!.\")"
   ]
  },
  {
   "cell_type": "markdown",
   "id": "ba40a8b9-18fe-4609-88d0-ccb8f7360e7f",
   "metadata": {},
   "source": [
    "#### Formatting datetime (f-strings)"
   ]
  },
  {
   "cell_type": "code",
   "execution_count": 2,
   "id": "4cc2ff51-07f3-4d77-924c-20a84a758140",
   "metadata": {},
   "outputs": [],
   "source": [
    "from datetime import datetime \n",
    "my_today = datetime.now()"
   ]
  },
  {
   "cell_type": "code",
   "execution_count": 3,
   "id": "219b8f0c-d715-40b3-b64f-565e7bf7f1f9",
   "metadata": {},
   "outputs": [
    {
     "name": "stdout",
     "output_type": "stream",
     "text": [
      "Today's date is July 25,2022\n"
     ]
    }
   ],
   "source": [
    "print(f\"Today's date is {my_today:%B %d,%Y}\") # note %B is used for full month name"
   ]
  },
  {
   "cell_type": "markdown",
   "id": "44e9cd6d-f0ee-4fc1-a149-cb3ff4a51366",
   "metadata": {},
   "source": [
    "#### Index lookups"
   ]
  },
  {
   "cell_type": "code",
   "execution_count": 161,
   "id": "1c1b7a63-09b3-43bc-901b-c1b42de5ab26",
   "metadata": {},
   "outputs": [],
   "source": [
    "family = {\"dad\": \"John\", \"siblings\": \"Peter\"}"
   ]
  },
  {
   "cell_type": "code",
   "execution_count": 162,
   "id": "27e8a2a9-a019-425f-bba3-25e32c85d834",
   "metadata": {},
   "outputs": [
    {
     "name": "stdout",
     "output_type": "stream",
     "text": [
      "Is your dad called John?\n"
     ]
    }
   ],
   "source": [
    "print(\"Is your dad called {family[dad]}?\".format(family=family))"
   ]
  },
  {
   "cell_type": "markdown",
   "id": "74304c99-4bc9-4ba6-bfff-bc292d8c6fd7",
   "metadata": {},
   "source": [
    "- Use quotes for index lookups: `family[\"dad\"]`"
   ]
  },
  {
   "cell_type": "code",
   "execution_count": 163,
   "id": "3feb9842-8b92-45c6-86d4-40840d2257a0",
   "metadata": {},
   "outputs": [
    {
     "name": "stdout",
     "output_type": "stream",
     "text": [
      "Is your dad called John?\n"
     ]
    }
   ],
   "source": [
    "print(f\"Is your dad called {family['dad']}?\") # note we need to use '' instead of \"\" around the index dad"
   ]
  },
  {
   "cell_type": "markdown",
   "id": "da7d30e3-53f7-4938-a0c3-984a1b3a68aa",
   "metadata": {},
   "source": [
    "#### Inline operations\n",
    "- evaluate expressions and call function inline"
   ]
  },
  {
   "cell_type": "code",
   "execution_count": 164,
   "id": "aa2b728d-d57b-4a8f-8f3c-ac44dc1caae7",
   "metadata": {},
   "outputs": [],
   "source": [
    "my_number = 4\n",
    "my_multiplier = 7 "
   ]
  },
  {
   "cell_type": "code",
   "execution_count": 165,
   "id": "39879f51-185c-4ed4-8e27-9e2a02dd2f7f",
   "metadata": {},
   "outputs": [
    {
     "name": "stdout",
     "output_type": "stream",
     "text": [
      "4 multiplied by 7 is 28\n"
     ]
    }
   ],
   "source": [
    "print(f\"{my_number} multiplied by {my_multiplier} is {my_number * my_multiplier}\")"
   ]
  },
  {
   "cell_type": "markdown",
   "id": "1ebbd1f4-5dff-444e-9de3-2827ecf5777e",
   "metadata": {},
   "source": [
    "#### Calling functions"
   ]
  },
  {
   "cell_type": "code",
   "execution_count": 166,
   "id": "e970d47f-1666-4f1c-a210-7c8c07cd0ad5",
   "metadata": {},
   "outputs": [],
   "source": [
    "def my_function(a,b):\n",
    "    return a + b"
   ]
  },
  {
   "cell_type": "code",
   "execution_count": 167,
   "id": "209ce2b9-ef9e-4ad2-a034-63b4f16b5d36",
   "metadata": {},
   "outputs": [
    {
     "name": "stdout",
     "output_type": "stream",
     "text": [
      "If you sum up 10 and 20 the result is 30\n"
     ]
    }
   ],
   "source": [
    "print(f\"If you sum up 10 and 20 the result is {my_function(10,20)}\")"
   ]
  }
 ],
 "metadata": {
  "kernelspec": {
   "display_name": "Python 3 (ipykernel)",
   "language": "python",
   "name": "python3"
  },
  "language_info": {
   "codemirror_mode": {
    "name": "ipython",
    "version": 3
   },
   "file_extension": ".py",
   "mimetype": "text/x-python",
   "name": "python",
   "nbconvert_exporter": "python",
   "pygments_lexer": "ipython3",
   "version": "3.9.12"
  }
 },
 "nbformat": 4,
 "nbformat_minor": 5
}
