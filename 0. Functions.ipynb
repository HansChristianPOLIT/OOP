{
 "cells": [
  {
   "cell_type": "markdown",
   "id": "5d8a4b9c",
   "metadata": {},
   "source": [
    "# FUNCTIONS"
   ]
  },
  {
   "cell_type": "markdown",
   "id": "f79f5fe1",
   "metadata": {},
   "source": [
    "## Overview \n",
    "One construct that’s extremely useful and provided by almost all programming languages is functions.\n",
    "\n",
    "We have already met several functions, such as\n",
    "`\n",
    "- the `sqrt()` function from NumPy and\n",
    "- the built-in `print()` function\n",
    "In this lecture we’ll treat functions systematically and begin to learn just how useful and important they are.\n",
    "\n",
    "One of the things we will learn to do is build our own user-defined functions\n",
    "\n",
    "We will use the following imports."
   ]
  },
  {
   "cell_type": "code",
   "execution_count": 81,
   "id": "6d4de92d",
   "metadata": {},
   "outputs": [],
   "source": [
    "%matplotlib inline\n",
    "import numpy as np\n",
    "import matplotlib.pyplot as plt\n",
    "plt.rcParams['figure.figsize'] = (10,6) # global figure size"
   ]
  },
  {
   "cell_type": "markdown",
   "id": "1e678808",
   "metadata": {},
   "source": [
    "## Function Basics"
   ]
  },
  {
   "cell_type": "markdown",
   "id": "c9199dae",
   "metadata": {},
   "source": [
    "A function is a named section of a program that implements a specific task.\n",
    "\n",
    "Many functions exist already and we can use them off the shelf.\n",
    "\n",
    "First, we review these functions and then discuss how we can build our own."
   ]
  },
  {
   "cell_type": "markdown",
   "id": "49c824a0",
   "metadata": {},
   "source": [
    "### Built-In Functions"
   ]
  },
  {
   "cell_type": "markdown",
   "id": "ae4fec2e",
   "metadata": {},
   "source": [
    "Python has a number of *built-in* functions that are available without `import`."
   ]
  },
  {
   "cell_type": "code",
   "execution_count": 2,
   "id": "f4c0603b",
   "metadata": {},
   "outputs": [
    {
     "data": {
      "text/plain": [
       "20"
      ]
     },
     "execution_count": 2,
     "metadata": {},
     "output_type": "execute_result"
    }
   ],
   "source": [
    "max(19, 20)"
   ]
  },
  {
   "cell_type": "code",
   "execution_count": 3,
   "id": "b6f79b4a",
   "metadata": {},
   "outputs": [
    {
     "name": "stdout",
     "output_type": "stream",
     "text": [
      "foobar\n"
     ]
    }
   ],
   "source": [
    "print('foobar')"
   ]
  },
  {
   "cell_type": "code",
   "execution_count": 4,
   "id": "a4c91ab3",
   "metadata": {},
   "outputs": [
    {
     "data": {
      "text/plain": [
       "'22'"
      ]
     },
     "execution_count": 4,
     "metadata": {},
     "output_type": "execute_result"
    }
   ],
   "source": [
    "str(22) # make number into a string"
   ]
  },
  {
   "cell_type": "code",
   "execution_count": 5,
   "id": "b7c5c6e4",
   "metadata": {},
   "outputs": [
    {
     "data": {
      "text/plain": [
       "int"
      ]
     },
     "execution_count": 5,
     "metadata": {},
     "output_type": "execute_result"
    }
   ],
   "source": [
    "type(22)"
   ]
  },
  {
   "cell_type": "markdown",
   "id": "aa136af5",
   "metadata": {},
   "source": [
    "Two more useful built-in functions are `any()` and `all()`"
   ]
  },
  {
   "cell_type": "code",
   "execution_count": 13,
   "id": "c85fb4c8",
   "metadata": {},
   "outputs": [
    {
     "data": {
      "text/plain": [
       "False"
      ]
     },
     "execution_count": 13,
     "metadata": {},
     "output_type": "execute_result"
    }
   ],
   "source": [
    "bools = False, True, True\n",
    "all(bools)  # True if all are True and False otherwise"
   ]
  },
  {
   "cell_type": "code",
   "execution_count": 14,
   "id": "d1dfd4c3",
   "metadata": {},
   "outputs": [
    {
     "data": {
      "text/plain": [
       "True"
      ]
     },
     "execution_count": 14,
     "metadata": {},
     "output_type": "execute_result"
    }
   ],
   "source": [
    "any(bools)  # False if all are False and True otherwise"
   ]
  },
  {
   "cell_type": "markdown",
   "id": "2bd1d8d0",
   "metadata": {},
   "source": [
    "The full list of Python built-ins is [here](https://docs.python.org/3/library/functions.html)."
   ]
  },
  {
   "cell_type": "markdown",
   "id": "b8b282dc",
   "metadata": {},
   "source": [
    "## Third Party Functions"
   ]
  },
  {
   "cell_type": "markdown",
   "id": "ec9225f1",
   "metadata": {},
   "source": [
    "If the built-in functions don’t cover what we need, we either need to import functions or create our own.\n",
    "\n",
    "Here’s another one, which tests whether a given year is a leap year:"
   ]
  },
  {
   "cell_type": "code",
   "execution_count": 18,
   "id": "4db0603e",
   "metadata": {},
   "outputs": [
    {
     "data": {
      "text/plain": [
       "True"
      ]
     },
     "execution_count": 18,
     "metadata": {},
     "output_type": "execute_result"
    }
   ],
   "source": [
    "import calendar\n",
    "\n",
    "calendar.isleap(2020)"
   ]
  },
  {
   "cell_type": "markdown",
   "id": "bf6bd3b9",
   "metadata": {},
   "source": [
    "## Defining Functions"
   ]
  },
  {
   "cell_type": "markdown",
   "id": "cb241766",
   "metadata": {},
   "source": [
    "In many instances, it is useful to be able to define our own functions.\n",
    "\n",
    "This will become clearer as you see more examples.\n",
    "\n",
    "Let’s start by discussing how it’s done"
   ]
  },
  {
   "cell_type": "markdown",
   "id": "2d7eda3d",
   "metadata": {},
   "source": [
    "### Syntax"
   ]
  },
  {
   "cell_type": "markdown",
   "id": "0df25c3b",
   "metadata": {},
   "source": [
    "Here’s a very simple Python function, that implements the mathematical function $f(x) = 2x + 1$"
   ]
  },
  {
   "cell_type": "code",
   "execution_count": 20,
   "id": "fd77d83a",
   "metadata": {},
   "outputs": [],
   "source": [
    "def f(x):  # <- function header\n",
    "    return 2 * x + 1 "
   ]
  },
  {
   "cell_type": "markdown",
   "id": "c6322c7f",
   "metadata": {},
   "source": [
    "- Returning values is generally more desirable than printing them out because a print() call assigned to a variable has type NoneType.\n",
    "\n",
    "Now that we've *defined* this function, let's *call* it and check whether it does what we expect:"
   ]
  },
  {
   "cell_type": "code",
   "execution_count": 23,
   "id": "e9708e9f",
   "metadata": {},
   "outputs": [
    {
     "data": {
      "text/plain": [
       "3"
      ]
     },
     "execution_count": 23,
     "metadata": {},
     "output_type": "execute_result"
    }
   ],
   "source": [
    "f(1) # let x value in function be 1"
   ]
  },
  {
   "cell_type": "code",
   "execution_count": 24,
   "id": "bb124f3c",
   "metadata": {},
   "outputs": [
    {
     "data": {
      "text/plain": [
       "21"
      ]
     },
     "execution_count": 24,
     "metadata": {},
     "output_type": "execute_result"
    }
   ],
   "source": [
    "f(10)"
   ]
  },
  {
   "cell_type": "markdown",
   "id": "ba8bdac4",
   "metadata": {},
   "source": [
    "Here’s a longer function, that computes the absolute value of a given number."
   ]
  },
  {
   "cell_type": "code",
   "execution_count": 1,
   "id": "f7a5f047",
   "metadata": {},
   "outputs": [],
   "source": [
    "def new_abs_function(x):\n",
    "    \n",
    "    if x < 0:\n",
    "        abs_value = -x\n",
    "        \n",
    "    else: \n",
    "        abs_value = x\n",
    "    \n",
    "    return abs_value # instead of printing value we return it via assigning it to some variable"
   ]
  },
  {
   "cell_type": "markdown",
   "id": "175c5a4d",
   "metadata": {},
   "source": [
    "Let’s review the syntax here.\n",
    "\n",
    "- `def` is a Python keyword used to start function definitions.\n",
    "- `def new_abs_function(x)`: indicates that the function is called `new_abs_function` and that it has a single argument `x`.\n",
    "- The indented code is a code block called the function body.\n",
    "- The `return` keyword indicates that`abs_value` is the object that should be returned to the calling code.\n",
    "\n",
    "This whole function definition is read by the Python interpreter and stored in memory.\n",
    "\n",
    "Let’s call it to check that it works:"
   ]
  },
  {
   "cell_type": "code",
   "execution_count": 28,
   "id": "899cf402",
   "metadata": {},
   "outputs": [
    {
     "name": "stdout",
     "output_type": "stream",
     "text": [
      "3\n",
      "3\n"
     ]
    }
   ],
   "source": [
    "print(new_abs_function(3))\n",
    "print(new_abs_function(-3))"
   ]
  },
  {
   "cell_type": "markdown",
   "id": "40698a93-a175-4f4c-a4e0-5656522427d4",
   "metadata": {},
   "source": [
    "## Docstrings\n",
    "\n",
    "- Docstrings describe what your function does\n",
    "- serve as documentation for your function\n",
    "- placed in immediate line after function header and between triple quotes \"\"\""
   ]
  },
  {
   "cell_type": "markdown",
   "id": "838580a9-ae80-4110-a124-a13b80bb95c4",
   "metadata": {},
   "source": [
    "### Anatomy of a docstring"
   ]
  },
  {
   "cell_type": "code",
   "execution_count": 1,
   "id": "dda28993-9a2e-4891-90df-bbb266892265",
   "metadata": {},
   "outputs": [],
   "source": [
    "def function_name(arguments):\n",
    "    \"\"\"\n",
    "    Description of what the function does.\n",
    "    \n",
    "    Description of the arguments, if any. \n",
    "    \n",
    "    Description of the return value(s), if any. \n",
    "    \n",
    "    Description of errors raised, if any. \n",
    "    \n",
    "    Optional extra notes or example of usage. \n",
    "    \"\"\""
   ]
  },
  {
   "cell_type": "markdown",
   "id": "de9465d1-68fb-4b9a-a13b-af641d7b6a1e",
   "metadata": {},
   "source": [
    "## Docstring formats"
   ]
  },
  {
   "cell_type": "markdown",
   "id": "7ff72e85-111e-4bce-8384-1338b83fc2d6",
   "metadata": {},
   "source": [
    "- Google Style\n",
    "- Numpydoc \n",
    "- reStructuredText\n",
    "- EpyText"
   ]
  },
  {
   "cell_type": "markdown",
   "id": "0852b520-423e-4c0a-8fda-bcdcd1083937",
   "metadata": {},
   "source": [
    "#### Google style\n",
    "- In Google style, the docstring starts with a concise description of what the function does. This should be written in imperative language. \n",
    "    - For instance: \"Split the data frame and stack the columns\" instead of \"This function will split the data frame and stack the columns\".\n",
    "- Next comes the \"Args\" section where you list each argument name, followed by its expected type in parentheses, and then what its role is in the function. If you need extra space, you can break to the next line and indent as I've done here. If an argument has a default value, mark it as \"optional\" when describing the type. If the function does not take any parameters, feel free to leave this section out.\n",
    "- The next section is the \"Returns\" section, where you list the expected type or types of what gets returned. You can also provide some comment about what gets returned, but often the name of the function and the description will make this clear. Additional lines should not be indented.\n",
    "\n",
    "- Finally, if your function intentionally raises any errors, you should add a \"Raises\" section. You can also include any additional notes or examples of usage in free form text at the end."
   ]
  },
  {
   "cell_type": "markdown",
   "id": "d803eaad-bf16-4bf3-8d78-00a2a04effb7",
   "metadata": {},
   "source": [
    "#### Google Style Example"
   ]
  },
  {
   "cell_type": "code",
   "execution_count": 44,
   "id": "f22f287d-5f02-41c3-b034-cc9328195beb",
   "metadata": {},
   "outputs": [],
   "source": [
    "def function(arg_1,arg_2=42):\n",
    "    \"\"\"Descriptions of what the function does.\n",
    "    \n",
    "    \n",
    "    Args:\n",
    "        arg_1 (str): Description of arg_1 that can break onto the next line if needed.\n",
    "        arg_2 (int, optional): Write optional when an argument has a default value. \n",
    "        \n",
    "    Returns:\n",
    "        bool: Optional description of the return value\n",
    "        Extra lines are not indented.\n",
    "        \n",
    "    Raises:\n",
    "        ValueError: Include any error types that the function intentionally raises. \n",
    "        \n",
    "    Notes:\n",
    "        See \"X\" for more info. \n",
    "    \"\"\""
   ]
  },
  {
   "cell_type": "markdown",
   "id": "e1ea767f-13ea-40f1-ba12-2517265efa22",
   "metadata": {},
   "source": [
    "#### Numpydoc\n",
    "- The Numpydoc format is very similar and is the most common format in the scientific Python community. "
   ]
  },
  {
   "cell_type": "code",
   "execution_count": 46,
   "id": "09e73382-d6cc-4312-864e-3aa812c4258f",
   "metadata": {},
   "outputs": [],
   "source": [
    "def function(arg_1,arg_2=42):\n",
    "    \"\"\"\n",
    "    Descriptions of what the function does.\n",
    "    \n",
    "    Parameters\n",
    "    ----------\n",
    "    arg_1 : expected type of arg_1\n",
    "        Description of arg_1\n",
    "    arg_2 : int, optional\n",
    "        Write optional when an argument has a default value.\n",
    "        Default=42\n",
    "        \n",
    "    Returns\n",
    "    -------\n",
    "    The type of the return value\n",
    "        Can include a description of the return value.\n",
    "        Replace \"Returns\" with \"Yields\" if this function is a generator.\n",
    "    \"\"\""
   ]
  },
  {
   "cell_type": "markdown",
   "id": "00618e57-748d-4226-818a-da749557c349",
   "metadata": {},
   "source": [
    "## Retrieving docstrings"
   ]
  },
  {
   "cell_type": "code",
   "execution_count": 47,
   "id": "103cb6fa-c376-437d-9f89-865ae7149d8f",
   "metadata": {},
   "outputs": [
    {
     "name": "stdout",
     "output_type": "stream",
     "text": [
      " Return the answer to life, the universe, and everything.\n",
      "    \n",
      "    Returns:\n",
      "            int \n",
      "    \n"
     ]
    }
   ],
   "source": [
    "def the_answer():\n",
    "    \"\"\" Return the answer to life, the universe, and everything.\n",
    "    \n",
    "    Returns:\n",
    "            int \n",
    "    \"\"\"\n",
    "    return 42\n",
    "print(the_answer.__doc__)"
   ]
  },
  {
   "cell_type": "markdown",
   "id": "2a740032-d752-441d-a8ae-a2ade5f2cce7",
   "metadata": {},
   "source": [
    "A cleaner version:"
   ]
  },
  {
   "cell_type": "code",
   "execution_count": 50,
   "id": "87aacbf8-5599-4f0a-9dd2-2191e61241b1",
   "metadata": {},
   "outputs": [
    {
     "name": "stdout",
     "output_type": "stream",
     "text": [
      "Return the answer to life, the universe, and everything.\n",
      "\n",
      "Returns:\n",
      "        int \n"
     ]
    }
   ],
   "source": [
    "import inspect\n",
    "print(inspect.getdoc(the_answer))"
   ]
  },
  {
   "cell_type": "markdown",
   "id": "ae6b1671-5e3a-43fd-a863-fdea473654b0",
   "metadata": {},
   "source": [
    "With one question mark we bring up the docstring, and with two we get the source code as well."
   ]
  },
  {
   "cell_type": "code",
   "execution_count": 51,
   "id": "b16788eb-afe9-4107-9ad6-11bd9a65461d",
   "metadata": {},
   "outputs": [
    {
     "data": {
      "text/plain": [
       "\u001b[0;31mSignature:\u001b[0m \u001b[0mthe_answer\u001b[0m\u001b[0;34m(\u001b[0m\u001b[0;34m)\u001b[0m\u001b[0;34m\u001b[0m\u001b[0;34m\u001b[0m\u001b[0m\n",
       "\u001b[0;31mDocstring:\u001b[0m\n",
       "Return the answer to life, the universe, and everything.\n",
       "\n",
       "Returns:\n",
       "        int \n",
       "\u001b[0;31mFile:\u001b[0m      /var/folders/3j/22yv_sj10t96slp1b8b6z1zw0000gn/T/ipykernel_1454/3516594323.py\n",
       "\u001b[0;31mType:\u001b[0m      function\n"
      ]
     },
     "metadata": {},
     "output_type": "display_data"
    }
   ],
   "source": [
    "the_answer?"
   ]
  },
  {
   "cell_type": "code",
   "execution_count": 52,
   "id": "0e12b6c1-fad7-4937-92bb-da92bc40d084",
   "metadata": {},
   "outputs": [
    {
     "data": {
      "text/plain": [
       "\u001b[0;31mSignature:\u001b[0m \u001b[0mthe_answer\u001b[0m\u001b[0;34m(\u001b[0m\u001b[0;34m)\u001b[0m\u001b[0;34m\u001b[0m\u001b[0;34m\u001b[0m\u001b[0m\n",
       "\u001b[0;31mSource:\u001b[0m   \n",
       "\u001b[0;32mdef\u001b[0m \u001b[0mthe_answer\u001b[0m\u001b[0;34m(\u001b[0m\u001b[0;34m)\u001b[0m\u001b[0;34m:\u001b[0m\u001b[0;34m\u001b[0m\n",
       "\u001b[0;34m\u001b[0m    \u001b[0;34m\"\"\" Return the answer to life, the universe, and everything.\u001b[0m\n",
       "\u001b[0;34m    \u001b[0m\n",
       "\u001b[0;34m    Returns:\u001b[0m\n",
       "\u001b[0;34m            int \u001b[0m\n",
       "\u001b[0;34m    \"\"\"\u001b[0m\u001b[0;34m\u001b[0m\n",
       "\u001b[0;34m\u001b[0m    \u001b[0;32mreturn\u001b[0m \u001b[0;36m42\u001b[0m\u001b[0;34m\u001b[0m\u001b[0;34m\u001b[0m\u001b[0m\n",
       "\u001b[0;31mFile:\u001b[0m      /var/folders/3j/22yv_sj10t96slp1b8b6z1zw0000gn/T/ipykernel_1454/3516594323.py\n",
       "\u001b[0;31mType:\u001b[0m      function\n"
      ]
     },
     "metadata": {},
     "output_type": "display_data"
    }
   ],
   "source": [
    "the_answer??"
   ]
  },
  {
   "cell_type": "markdown",
   "id": "38871e51-e8aa-44d8-aa75-49ad5f3e6b24",
   "metadata": {},
   "source": [
    "# Code smells and refactoring"
   ]
  },
  {
   "cell_type": "markdown",
   "id": "557288fc-787a-41f7-a228-96d4d15928c7",
   "metadata": {},
   "source": [
    "### DRY (\"don't repeat yourselfe\") principle"
   ]
  },
  {
   "cell_type": "markdown",
   "id": "0e8939e0-5abe-444d-aedc-c343dc793ee5",
   "metadata": {},
   "source": [
    "- it is totally normal to copy and paste a bit of code, tweak it slightly, and re-run it. However, this kind of repeated code can lead to real problems.\n",
    "    - one of the problems with copying and pasting is that it is easy to accidentally introduce errors that are hard to spot.\n",
    "- Repeated code like this is a good sign that **you should write a function**.\n",
    "    - Wrapping the repeated logic in a function and then calling that function several times makes it much easier to avoid the kind of errors introduced by copying and pasting. "
   ]
  },
  {
   "cell_type": "markdown",
   "id": "43d01091-a94d-47d6-bac4-67ea12d66615",
   "metadata": {},
   "source": [
    "### DRY - Example"
   ]
  },
  {
   "cell_type": "markdown",
   "id": "77f03947-339c-44be-8d4c-1bf916ec0c62",
   "metadata": {},
   "source": [
    "Instead of this:"
   ]
  },
  {
   "cell_type": "markdown",
   "id": "5dde901d-10c4-4dc6-954a-cadf3e231c4e",
   "metadata": {},
   "source": [
    "```Python\n",
    "# Standardize the GPAs for each year\n",
    "df['y1_z'] = (df.y1_gpa - df.y1_gpa.mean()) / df.y1_gpa.std()\n",
    "df['y2_z'] = (df.y2_gpa - df.y2_gpa.mean()) / df.y2_gpa.std()\n",
    "df['y3_z'] = (df.y3_gpa - df.y3_gpa.mean()) / df.y3_gpa.std()\n",
    "df['y4_z'] = (df.y4_gpa - df.y4_gpa.mean()) / df.y4_gpa.std()\n",
    "```"
   ]
  },
  {
   "cell_type": "markdown",
   "id": "2ac06d53-d1ab-4883-8449-7d038d12fb6c",
   "metadata": {},
   "source": [
    "You should write a function:"
   ]
  },
  {
   "cell_type": "markdown",
   "id": "70de2020-a4e1-4349-99b5-4bde1f29fee3",
   "metadata": {},
   "source": [
    "```Python\n",
    "def standardize(column):\n",
    "  \"\"\"Standardize the values in a column.\n",
    "\n",
    "  Args:\n",
    "    column (pandas Series): The data to standardize.\n",
    "\n",
    "  Returns:\n",
    "    pandas Series: the values as z-scores\n",
    "  \"\"\"\n",
    "  # Finish the function so that it returns the z-scores\n",
    "  z_score = (column - column.mean()) / column.std()\n",
    "  return z_score\n",
    "\n",
    "# Use the standardize() function to calculate the z-scores\n",
    "df['y1_z'] = standardize(df.y1_gpa)\n",
    "df['y2_z'] = standardize(df.y2_gpa)\n",
    "df['y3_z'] = standardize(df.y3_gpa)\n",
    "df['y4_z'] = standardize(df.y4_gpa)\n",
    "```"
   ]
  },
  {
   "cell_type": "markdown",
   "id": "0e893215-5d5f-4dae-ad87-892ea11c3ff5",
   "metadata": {},
   "source": [
    "## \"Do One Thing\""
   ]
  },
  {
   "cell_type": "markdown",
   "id": "d834c18f-83cc-4408-a8c2-51586bb17bd7",
   "metadata": {},
   "source": [
    "- Instead of one big function, we could have a more nimble function that just loads the data and a second one for plotting. \n",
    "- We get several advantages from splitting the load_and_plot() function into two smaller functions.\n",
    "    - First of all, our code has become more flexible. \n",
    "    - The code will also be easier for other developers to understand\n",
    "    - more pleasant to test and debug.\n",
    "    - Finally, if you ever need to update your code, functions that each have a single responsibility make it easier to predict how changes in one place will affect the rest of the code.\n"
   ]
  },
  {
   "cell_type": "markdown",
   "id": "dc57f94f-d7dc-487f-8d0f-a91f2b4c21cb",
   "metadata": {},
   "source": [
    "### Do One thing - Example"
   ]
  },
  {
   "cell_type": "markdown",
   "id": "5a0ac89c-108c-4cbb-b255-ca896f3e4f24",
   "metadata": {},
   "source": [
    "This violates Do one thing princple:"
   ]
  },
  {
   "cell_type": "markdown",
   "id": "9c0e198d-5b42-41ad-b386-cae33ddc14ab",
   "metadata": {},
   "source": [
    "```Python\n",
    "def mean_and_median(values):\n",
    "    \"\"\"Get the mean and median of a sorted list of 'values\n",
    "\n",
    "  Args:\n",
    "    values (iterable of float): A list of numbers\n",
    "\n",
    "  Returns:\n",
    "    tuple (float, float): The mean and median\n",
    "    \"\"\"\n",
    "  mean = sum(values) / len(values)\n",
    "  midpoint = int(len(values) / 2)\n",
    "  if len(values) % 2 == 0:\n",
    "    median = (values[midpoint - 1] + values[midpoint]) / 2\n",
    "  else:\n",
    "    median = values[midpoint]\n",
    "\n",
    "  return mean, median\n",
    "```"
   ]
  },
  {
   "cell_type": "markdown",
   "id": "84ae9b9d-087d-4c2b-8c7f-717d767e530f",
   "metadata": {},
   "source": [
    "Instead split up and write a function for mean and one for median:"
   ]
  },
  {
   "cell_type": "markdown",
   "id": "38a45bc1-1cda-47c2-bd15-07fb4a7a11cc",
   "metadata": {},
   "source": [
    "```Python\n",
    "def mean(values):\n",
    "  \"\"\"Get the mean of a sorted list of values\n",
    "\n",
    "  Args:\n",
    "    values (iterable of float): A list of numbers\n",
    "\n",
    "  Returns:\n",
    "    float\n",
    "  \"\"\"\n",
    "  # Write the mean() function\n",
    "  mean = sum(values) / len(values)\n",
    "  return mean\n",
    "```"
   ]
  },
  {
   "cell_type": "markdown",
   "id": "8dfe7162-65d6-4912-81f6-3561a5703f8b",
   "metadata": {},
   "source": [
    "```Python\n",
    "def median(values):\n",
    "  \"\"\"Get the median of a sorted list of values\n",
    "\n",
    "  Args:\n",
    "    values (iterable of float): A list of numbers\n",
    "\n",
    "  Returns:\n",
    "    float\n",
    "  \"\"\"\n",
    "  # Write the median() function\n",
    "  midpoint = int(len(values) / 2)\n",
    "  if len(values) % 2 == 0:\n",
    "    median = (values[midpoint - 1] + values[midpoint]) / 2\n",
    "  else:\n",
    "    median = values[midpoint]\n",
    "  return median\n",
    "```"
   ]
  },
  {
   "cell_type": "markdown",
   "id": "63e4c81c-ac0b-4e60-9bc7-9f4c291da390",
   "metadata": {},
   "source": [
    "### Pandas Example"
   ]
  },
  {
   "cell_type": "code",
   "execution_count": 10,
   "id": "f3eb5ced-b6dd-42ed-ae8e-93af802c36f1",
   "metadata": {},
   "outputs": [],
   "source": [
    "import pandas as pd\n",
    "\n",
    "data = pd.DataFrame({\"a\": [1, 2, 3], \"b\": [4, 5, 6]})"
   ]
  },
  {
   "cell_type": "markdown",
   "id": "3a1cb68f-12f2-4844-99a5-3d93eb9e8322",
   "metadata": {},
   "source": [
    "- A good practice is to split the function process_data into smaller functions that do only one thing. In the code below, I split the function process_data into 4 different functions and apply these functions to a pandas DataFrame in order using pipe."
   ]
  },
  {
   "cell_type": "code",
   "execution_count": 11,
   "id": "e010ca06-e087-4712-bca6-b560695fb2c6",
   "metadata": {},
   "outputs": [
    {
     "data": {
      "text/html": [
       "<div>\n",
       "<style scoped>\n",
       "    .dataframe tbody tr th:only-of-type {\n",
       "        vertical-align: middle;\n",
       "    }\n",
       "\n",
       "    .dataframe tbody tr th {\n",
       "        vertical-align: top;\n",
       "    }\n",
       "\n",
       "    .dataframe thead th {\n",
       "        text-align: right;\n",
       "    }\n",
       "</style>\n",
       "<table border=\"1\" class=\"dataframe\">\n",
       "  <thead>\n",
       "    <tr style=\"text-align: right;\">\n",
       "      <th></th>\n",
       "      <th>a</th>\n",
       "      <th>b</th>\n",
       "      <th>c</th>\n",
       "      <th>sum</th>\n",
       "    </tr>\n",
       "  </thead>\n",
       "  <tbody>\n",
       "    <tr>\n",
       "      <th>0</th>\n",
       "      <td>2</td>\n",
       "      <td>4</td>\n",
       "      <td>1</td>\n",
       "      <td>7</td>\n",
       "    </tr>\n",
       "    <tr>\n",
       "      <th>1</th>\n",
       "      <td>3</td>\n",
       "      <td>5</td>\n",
       "      <td>1</td>\n",
       "      <td>9</td>\n",
       "    </tr>\n",
       "    <tr>\n",
       "      <th>2</th>\n",
       "      <td>4</td>\n",
       "      <td>6</td>\n",
       "      <td>1</td>\n",
       "      <td>11</td>\n",
       "    </tr>\n",
       "  </tbody>\n",
       "</table>\n",
       "</div>"
      ],
      "text/plain": [
       "   a  b  c  sum\n",
       "0  2  4  1    7\n",
       "1  3  5  1    9\n",
       "2  4  6  1   11"
      ]
     },
     "execution_count": 11,
     "metadata": {},
     "output_type": "execute_result"
    }
   ],
   "source": [
    "def create_a_copy(df: pd.DataFrame):\n",
    "    return df.copy()\n",
    "\n",
    "\n",
    "def add_new_features(df: pd.DataFrame):\n",
    "    df[\"c\"] = [1, 1, 1]\n",
    "    return df\n",
    "\n",
    "\n",
    "def add_one(df: pd.DataFrame):\n",
    "    df[\"a\"] = df[\"a\"] + 1\n",
    "    return df\n",
    "\n",
    "\n",
    "def sum_all_columns(df: pd.DataFrame):\n",
    "    df[\"sum\"] = df.sum(axis=1)\n",
    "    return df\n",
    "\n",
    "\n",
    "(data\n",
    "    .pipe(create_a_copy)\n",
    "    .pipe(add_new_features)\n",
    "    .pipe(add_one)\n",
    "    .pipe(sum_all_columns)\n",
    ")"
   ]
  },
  {
   "cell_type": "markdown",
   "id": "960759eb-7232-4a60-9c9f-c08a83a2491d",
   "metadata": {},
   "source": [
    "# Mutable default arguments are dangerous!\n",
    "Finally, here is a thing that can get you into trouble. foo() is a function that appends the value 1 to the end of a list. But, whoever wrote this function gave the argument an empty list as a default value. When we call foo() the first time, we get what you would expect, a list with one entry."
   ]
  },
  {
   "cell_type": "code",
   "execution_count": 71,
   "id": "d85dd939-3f2f-43dd-86b2-c97911f6005e",
   "metadata": {},
   "outputs": [
    {
     "data": {
      "text/plain": [
       "[1]"
      ]
     },
     "execution_count": 71,
     "metadata": {},
     "output_type": "execute_result"
    }
   ],
   "source": [
    "def foo(var=[]):\n",
    "    var.append(1)\n",
    "    return var\n",
    "\n",
    "foo()"
   ]
  },
  {
   "cell_type": "markdown",
   "id": "4c03e773-afb9-48fc-836e-c92564fcd8c0",
   "metadata": {},
   "source": [
    "But, when we call foo() again, the default value has already been modified! "
   ]
  },
  {
   "cell_type": "code",
   "execution_count": 72,
   "id": "863c1eea-2cfe-4974-bddb-d1e5ae731185",
   "metadata": {},
   "outputs": [
    {
     "data": {
      "text/plain": [
       "[1, 1]"
      ]
     },
     "execution_count": 72,
     "metadata": {},
     "output_type": "execute_result"
    }
   ],
   "source": [
    "foo()"
   ]
  },
  {
   "cell_type": "markdown",
   "id": "e4af8706-597d-45cd-89dd-2b2a0c174924",
   "metadata": {},
   "source": [
    "If you really want a mutable variable as a default value, consider defaulting to None and setting the argument in the function."
   ]
  },
  {
   "cell_type": "code",
   "execution_count": 73,
   "id": "c61dde04-6631-465d-896b-758dc2f69977",
   "metadata": {},
   "outputs": [
    {
     "data": {
      "text/plain": [
       "[1]"
      ]
     },
     "execution_count": 73,
     "metadata": {},
     "output_type": "execute_result"
    }
   ],
   "source": [
    "def foo(var=None):\n",
    "    if var is None:\n",
    "        var = []\n",
    "    var.append(1)\n",
    "    return var\n",
    "\n",
    "foo()"
   ]
  },
  {
   "cell_type": "code",
   "execution_count": 74,
   "id": "e552746c-c00c-4217-9af1-ec05e018de10",
   "metadata": {},
   "outputs": [
    {
     "data": {
      "text/plain": [
       "[1]"
      ]
     },
     "execution_count": 74,
     "metadata": {},
     "output_type": "execute_result"
    }
   ],
   "source": [
    "foo()"
   ]
  },
  {
   "cell_type": "markdown",
   "id": "952447f3-67a2-4216-ad05-6c0f3e99714f",
   "metadata": {},
   "source": [
    "# Context managers"
   ]
  },
  {
   "cell_type": "markdown",
   "id": "8dcc5c9f-7571-4096-ba44-9920068e8791",
   "metadata": {},
   "source": [
    "Any time you use a context manager, it will look like this. \n",
    "- The keyword \"with\" lets Python know that you are trying to enter a context.\n",
    "- Then you call a function. You can call any function that is built to work as a context manager.\n",
    "- A context manager can take arguments like any normal function.\n",
    "- You end the \"with\" statement with a colon as if you were writing a for loop or an if statement.\n",
    "- Any code that you want to run inside the context that the context manager created needs to be indented.\n",
    "- When the indented block is done, the context manager gets a chance to clean up anything that it needs to, like when the \"open()\" context manager closed the file."
   ]
  },
  {
   "cell_type": "markdown",
   "id": "f2f91480-69ff-453d-946d-3f068db01bfa",
   "metadata": {},
   "source": [
    "```Python\n",
    "with <context-manager>(<args>): \n",
    "    # Run your code here\n",
    "    # This code is running \"inside the context\"\n",
    "```"
   ]
  },
  {
   "cell_type": "markdown",
   "id": "17269ff0-2cf3-4807-a31b-9a6dc852c271",
   "metadata": {},
   "source": [
    "Some context managers want to return a value that you can use inside the context. \\\n",
    "By adding \"as\" and a variable name at the end of the \"with\" statement, you can assign the returned value to the variable name. "
   ]
  },
  {
   "cell_type": "markdown",
   "id": "ef13817f-ce2a-4dc9-8740-76f5cd90bc15",
   "metadata": {},
   "source": [
    "```Python\n",
    "with <context-manager>(<args>) as <variable-name>: \n",
    "    # Run your code here\n",
    "    # This code is running \"inside the context\"\n",
    "```"
   ]
  },
  {
   "cell_type": "markdown",
   "id": "ba2e128d-5371-4634-b3a2-bbc77e61e925",
   "metadata": {},
   "source": [
    "### Context managers - example"
   ]
  },
  {
   "cell_type": "markdown",
   "id": "e9a37a80-be33-4413-b808-6449d45a160e",
   "metadata": {},
   "source": [
    "```Python\n",
    "with open('my_file.txt') as my_file: \n",
    "    text = my_file.read()\n",
    "    length = len(text)\n",
    "\n",
    "print('The file is {} characters long'.format(length))\n",
    "```"
   ]
  },
  {
   "cell_type": "markdown",
   "id": "f3223a9a-db0c-4605-adc5-a70fc6a2bfad",
   "metadata": {},
   "source": [
    "- The \"open()\" function is a context manager. When you write \"with open()\", it opens a file that you can read from or write to. \n",
    "- Then, it gives control back to your code so that you can perform operations on the file object. \n",
    "- In this example, we read the text of the file, store the contents of the file in the variable \"text\", and store the length of the contents in the variable \"length\". When the code inside the indented block is done, the \"open()\" function makes sure that the file is closed before continuing on in the script. \n",
    "- The print statement is outside of the context, so by the time it runs the file is closed."
   ]
  },
  {
   "cell_type": "markdown",
   "id": "b6e781be-7241-41dd-b20f-343d278021ab",
   "metadata": {},
   "source": [
    "## Multiple function parameters"
   ]
  },
  {
   "cell_type": "code",
   "execution_count": 2,
   "id": "e068c9e8-0530-4b80-b98d-c7c17b371a6f",
   "metadata": {},
   "outputs": [],
   "source": [
    "def raise_to_power(value1,value2): #<-- 2 parameters in function header\n",
    "    \"\"\"Raise value1 to the power of value2.\"\"\"\n",
    "    new_value = value1**value2\n",
    "    return new_value"
   ]
  },
  {
   "cell_type": "code",
   "execution_count": 3,
   "id": "71b0c853-9729-4f08-ab30-49c2b01146e4",
   "metadata": {},
   "outputs": [
    {
     "name": "stdout",
     "output_type": "stream",
     "text": [
      "8\n"
     ]
    }
   ],
   "source": [
    "result = raise_to_power(2,3)\n",
    "print(result)"
   ]
  },
  {
   "cell_type": "markdown",
   "id": "e6c2c884-abd6-432b-8462-0ef9e7ceabd3",
   "metadata": {},
   "source": [
    "### Making functions return multiplie values: TUPLES!\n",
    "Tuples:\n",
    "- like a list - can contain multiple values\n",
    "- immutable - can't modify vaule\n",
    "- constructed using parentheses () "
   ]
  },
  {
   "cell_type": "markdown",
   "id": "29c44dba-abd8-471e-867f-07d1a2947727",
   "metadata": {},
   "source": [
    "#### Unpack tuple"
   ]
  },
  {
   "cell_type": "code",
   "execution_count": 8,
   "id": "d8ef6530-dcec-4a44-ad86-af350d746bfe",
   "metadata": {},
   "outputs": [
    {
     "name": "stdout",
     "output_type": "stream",
     "text": [
      "8\n"
     ]
    }
   ],
   "source": [
    "even_nums = (2,4,6)\n",
    "a, b = even_nums\n",
    "\n",
    "result = raise_to_power(a,b)\n",
    "print(result)"
   ]
  },
  {
   "cell_type": "markdown",
   "id": "886091ea-eb9c-4dce-8ef7-1756fda025a9",
   "metadata": {},
   "source": [
    "#### Accessing tuple elements"
   ]
  },
  {
   "cell_type": "code",
   "execution_count": 10,
   "id": "153b92af-c8fa-4b30-ac62-ef905ca99f71",
   "metadata": {},
   "outputs": [
    {
     "name": "stdout",
     "output_type": "stream",
     "text": [
      "4\n"
     ]
    }
   ],
   "source": [
    "even_nums = (2,4,6)\n",
    "print(even_nums[1]) # second element"
   ]
  },
  {
   "cell_type": "markdown",
   "id": "12715875-29d5-4fcb-b3d6-1d2b9533ae7e",
   "metadata": {},
   "source": [
    "### Returning Multiple Values (using Tuples)"
   ]
  },
  {
   "cell_type": "code",
   "execution_count": 11,
   "id": "b068b269-9393-48a5-9c8f-32bbc5b3a76a",
   "metadata": {},
   "outputs": [],
   "source": [
    "def raise_both(value1,value2): #<-- 2 parameters in function header\n",
    "    \"\"\"Raise value1 to the power of value2 and vice versa\"\"\"\n",
    "    \n",
    "    new_value1 = value1**value2\n",
    "    new_value2 = value2**value1\n",
    "    \n",
    "    new_tuple = (new_value1, new_value2)\n",
    "    \n",
    "    return new_tuple"
   ]
  },
  {
   "cell_type": "code",
   "execution_count": 12,
   "id": "fb7e8edb-0f71-4e80-bce2-39b07e000006",
   "metadata": {},
   "outputs": [
    {
     "name": "stdout",
     "output_type": "stream",
     "text": [
      "(8, 9)\n"
     ]
    }
   ],
   "source": [
    "result = raise_both(2,3)\n",
    "print(result)"
   ]
  },
  {
   "cell_type": "markdown",
   "id": "0a0f6870-dd08-473f-9fe9-a11f3a8e0176",
   "metadata": {},
   "source": [
    "## Scope in function"
   ]
  },
  {
   "cell_type": "markdown",
   "id": "15963d81-7516-475e-933b-2469ed954de2",
   "metadata": {},
   "source": [
    "- not all objects are accesible everywhere in a program/script\n",
    "- scope - part of program where an object or name may be accesible\n",
    "- 3 types of scope:\n",
    "    - global scope - defined in the main body of a script\n",
    "    - local scope - defined inside a function\n",
    "    - built-in scope - names in the pre-defined built-ins module (e.g. print())\n",
    "    \n",
    "If not found locally, Python will search in eclosing functions, then global and lastly built-in."
   ]
  },
  {
   "cell_type": "markdown",
   "id": "ac4b5d26-0b35-47ad-aec3-a4ab8d0ec1c7",
   "metadata": {},
   "source": [
    "## Nested functions "
   ]
  },
  {
   "cell_type": "markdown",
   "id": "74800573-6c28-4a22-adbf-819397bfc375",
   "metadata": {},
   "source": [
    "- **WHY**: if we want to use a proces multiple times within a function "
   ]
  },
  {
   "cell_type": "code",
   "execution_count": 14,
   "id": "309e8118-e0d6-49c1-9d54-1ed4dcdb0e98",
   "metadata": {},
   "outputs": [],
   "source": [
    "def mod2plus5(x1,x2,x3):\n",
    "    \"\"\"Returns the reaminder plus 5 of three values.\"\"\"\n",
    "    \n",
    "    def inner(x):\n",
    "        \"\"\"Returns the remainder plus 5 of a value.\"\"\"\n",
    "        return x % 2 + 5\n",
    "    \n",
    "    return (inner(x1),inner(x2),inner(x3))"
   ]
  },
  {
   "cell_type": "code",
   "execution_count": 16,
   "id": "44bbbb58-591c-4c8b-b8e1-194330f6c2a2",
   "metadata": {},
   "outputs": [
    {
     "name": "stdout",
     "output_type": "stream",
     "text": [
      "(6, 5, 6)\n"
     ]
    }
   ],
   "source": [
    "print(mod2plus5(1,2,3))"
   ]
  },
  {
   "cell_type": "markdown",
   "id": "206972cd-e690-45b5-9142-07544d1a19a1",
   "metadata": {},
   "source": [
    "# Python Pass Statement\n",
    "- If you want to create code that does a particular thing but don’t know how to write that code yet, put that code in a function then use `pass`.\n",
    "\n",
    "- Once you have finished writing the code in a high level, start to go back to the functions and replace `pass` with the code for that function. This will prevent your thoughts from being disrupted"
   ]
  },
  {
   "cell_type": "code",
   "execution_count": 9,
   "id": "3327fb07-2ad2-49f9-a501-7bfe58383b6f",
   "metadata": {},
   "outputs": [],
   "source": [
    "def say_hello():\n",
    "    pass \n",
    "\n",
    "def ask_to_sign_in():\n",
    "    pass \n",
    "\n",
    "def main(is_user: bool):\n",
    "    if is_user:\n",
    "        say_hello()\n",
    "    else:\n",
    "        ask_to_sign_in()\n",
    "\n",
    "main(is_user=True)"
   ]
  },
  {
   "cell_type": "markdown",
   "id": "cbe263f6-dd5b-4b09-94ac-8651a7e823af",
   "metadata": {},
   "source": [
    "# Arguments"
   ]
  },
  {
   "cell_type": "markdown",
   "id": "328c25ed-6272-4ab0-b237-be93ed665eab",
   "metadata": {},
   "source": [
    "## Add default argument"
   ]
  },
  {
   "cell_type": "code",
   "execution_count": 18,
   "id": "79c46848-efd8-4eb9-a903-b122e9d6b8aa",
   "metadata": {},
   "outputs": [
    {
     "data": {
      "text/plain": [
       "9"
      ]
     },
     "execution_count": 18,
     "metadata": {},
     "output_type": "execute_result"
    }
   ],
   "source": [
    "def power(number, pow=1):\n",
    "    \"\"\"Raise number to the power of pow.\"\"\"\n",
    "    new_value = number ** pow\n",
    "    return new_value\n",
    "\n",
    "power(9) # function will use default as parameter 2"
   ]
  },
  {
   "cell_type": "markdown",
   "id": "86863341-c553-4289-b7ec-ab16730824dd",
   "metadata": {},
   "source": [
    "## Flexible arguments: *args"
   ]
  },
  {
   "attachments": {},
   "cell_type": "markdown",
   "id": "46fd284c-2457-4927-bb06-a8fcbf948a71",
   "metadata": {},
   "source": [
    "- if we aren't sure how many positional arguments will be passed"
   ]
  },
  {
   "cell_type": "code",
   "execution_count": 19,
   "id": "5572de34-98b8-42e8-a88b-4098061bcc89",
   "metadata": {},
   "outputs": [],
   "source": [
    "def add_all(*args):\n",
    "    \"\"\" Sum all values in *args together.\"\"\"\n",
    "    \n",
    "    # Initialize sum\n",
    "    sum_all = 0\n",
    "    \n",
    "    # Accumulate the sum\n",
    "    for num in args:\n",
    "        sum_all += num\n",
    "        \n",
    "    return sum_all"
   ]
  },
  {
   "cell_type": "code",
   "execution_count": 20,
   "id": "94c82b48-6de5-4f2d-b9ca-3f3081f5564a",
   "metadata": {},
   "outputs": [
    {
     "data": {
      "text/plain": [
       "50"
      ]
     },
     "execution_count": 20,
     "metadata": {},
     "output_type": "execute_result"
    }
   ],
   "source": [
    "add_all(5,10,15,20)"
   ]
  },
  {
   "cell_type": "markdown",
   "id": "2266099e-79c6-48bc-85ec-a3160a8f333c",
   "metadata": {},
   "source": [
    "## Flexible arguments: **kwargs\n",
    "- use a double star to pass an arbitrary number of keyword arguments, i.e. arguments preceded by identifiers.\n",
    "- to write such a function, we use the parameter kwargs preceded by a double star. This turns the identifier-keyword pairs into a dictionary within the function body"
   ]
  },
  {
   "cell_type": "code",
   "execution_count": 24,
   "id": "bbce4a61-8daa-4897-8791-eb8eb823d245",
   "metadata": {},
   "outputs": [],
   "source": [
    "def print_all(**kwargs):\n",
    "    \"\"\"Print out key-value pairs in **kwargs.\"\"\"\n",
    "    \n",
    "    # Print out the key-value pairs\n",
    "    for key, value in kwargs.items():\n",
    "        print(key + \": \" + value)"
   ]
  },
  {
   "cell_type": "code",
   "execution_count": 25,
   "id": "f70cd938-b449-4744-9dc5-d25bb5838de7",
   "metadata": {},
   "outputs": [
    {
     "name": "stdout",
     "output_type": "stream",
     "text": [
      "name: dumbledore\n",
      "job: headmaster\n"
     ]
    }
   ],
   "source": [
    "print_all(name='dumbledore', job='headmaster')"
   ]
  },
  {
   "cell_type": "markdown",
   "id": "faeb9f72-a2b0-48af-ba2b-50cafc1225f9",
   "metadata": {},
   "source": [
    "## Lambda functions - One-Line Functions\n",
    "-  will come in handy, especially when you're writing and maintaining big programs, e.g. simple functions"
   ]
  },
  {
   "cell_type": "code",
   "execution_count": 26,
   "id": "67e5fcb3-53b9-4df3-9836-a1d81496c5b5",
   "metadata": {},
   "outputs": [
    {
     "data": {
      "text/plain": [
       "8"
      ]
     },
     "execution_count": 26,
     "metadata": {},
     "output_type": "execute_result"
    }
   ],
   "source": [
    "raise_to_power = lambda x, y: x**y\n",
    "raise_to_power(2,3)"
   ]
  },
  {
   "cell_type": "markdown",
   "id": "82085c2c-ac4a-4060-ada5-f4d7c8a57ed8",
   "metadata": {},
   "source": [
    "### Lambda functions - Application: Anonymous functions\n",
    "- The best use case for lambda functions, however, are for when you want these simple functionalities to be anonymously embedded within larger expressions.\n",
    "- function map takes two arguments: `map(func, seq)`\n",
    "- `map()` applies the function to ALL elements in the sequence"
   ]
  },
  {
   "cell_type": "code",
   "execution_count": 1,
   "id": "1795581e-3503-443d-840d-e0cda4eb26e4",
   "metadata": {},
   "outputs": [
    {
     "name": "stdout",
     "output_type": "stream",
     "text": [
      "[2304, 36, 81, 441, 1]\n"
     ]
    }
   ],
   "source": [
    "nums = [48, 6, 9, 21, 1]\n",
    "\n",
    "square_all = map(lambda num: num**2, nums)\n",
    "\n",
    "# print(square_all) \n",
    "print(list(square_all)) # <-- to see result"
   ]
  },
  {
   "cell_type": "markdown",
   "id": "df9bad0e-f71e-4414-8e41-dfcbba5c3c72",
   "metadata": {},
   "source": [
    "### Lambda functions - Application: filtering & reduce\n",
    "- The function `filter()` offers a way to filter out elements from a list that don't satisfy certain criteria.\n",
    "- The `reduce()` function is useful for performing some computation on a list and, unlike `map()` and `filter()`, returns a single value as a result."
   ]
  },
  {
   "cell_type": "code",
   "execution_count": 31,
   "id": "5d9ec148-db17-49ae-a4cf-e936151ce3d0",
   "metadata": {},
   "outputs": [
    {
     "name": "stdout",
     "output_type": "stream",
     "text": [
      "['samwise', 'aragorn', 'boromir', 'legolas', 'gandalf']\n"
     ]
    }
   ],
   "source": [
    "# Create a list of strings: fellowship\n",
    "fellowship = ['frodo', 'samwise', 'merry', 'pippin', 'aragorn', 'boromir', 'legolas', 'gimli', 'gandalf']\n",
    "\n",
    "# Use filter() to apply a lambda function over fellowship: result\n",
    "result = filter(lambda member: len(member) > 6, fellowship)\n",
    "\n",
    "# Convert result to a list: result_list\n",
    "result_list = list(result)\n",
    "\n",
    "# Print result_list\n",
    "print(result_list)"
   ]
  },
  {
   "cell_type": "markdown",
   "id": "dc2ce567-80fd-4ff0-9c8d-30e16a404b6d",
   "metadata": {},
   "source": [
    "Instead of this:"
   ]
  },
  {
   "cell_type": "code",
   "execution_count": 36,
   "id": "1624951d-666e-455f-abca-d43b41cdccb5",
   "metadata": {},
   "outputs": [
    {
     "data": {
      "text/plain": [
       "'robbsansaaryabrandonrickon'"
      ]
     },
     "execution_count": 36,
     "metadata": {},
     "output_type": "execute_result"
    }
   ],
   "source": [
    "# Define function\n",
    "def sol1(*args):\n",
    "    \"\"\"Concatenate strings in *args together.\"\"\"\n",
    "    result = ''\n",
    "    for member in args:\n",
    "        result += member\n",
    "    return result\n",
    "\n",
    "sol1('robb', 'sansa', 'arya', 'brandon', 'rickon')"
   ]
  },
  {
   "cell_type": "markdown",
   "id": "09c32ee4-9baf-4da1-823f-51e081e74ef5",
   "metadata": {},
   "source": [
    "... We can use `reduce()`"
   ]
  },
  {
   "cell_type": "code",
   "execution_count": 39,
   "id": "17594c6d-4a37-47f0-85c9-b04f770ccfcc",
   "metadata": {},
   "outputs": [
    {
     "name": "stdout",
     "output_type": "stream",
     "text": [
      "robbsansaaryabrandonrickon\n"
     ]
    }
   ],
   "source": [
    "# Import reduce from functools\n",
    "from functools import reduce\n",
    "\n",
    "# Create a list of strings: stark\n",
    "stark = ['robb', 'sansa', 'arya', 'brandon', 'rickon']\n",
    "\n",
    "# Use reduce() to apply a lambda function over stark: result\n",
    "result = reduce(lambda item1, item2: item1+item2 , stark)\n",
    "\n",
    "# Print the result\n",
    "print(result)"
   ]
  },
  {
   "cell_type": "markdown",
   "id": "cd1f44e5-c3f1-4531-9f15-f3f3a2928f3d",
   "metadata": {},
   "source": [
    "### Decorator in Python\n",
    "- Do you want to add the same block of code to different functions in Python? If so, try decorator."
   ]
  },
  {
   "cell_type": "code",
   "execution_count": 4,
   "id": "030331a3-f3c2-49af-bf11-d5677526b2d8",
   "metadata": {},
   "outputs": [],
   "source": [
    "import time \n",
    "\n",
    "def time_func(func):\n",
    "    def wrapper():\n",
    "        print(\"This happens before the function is called\")\n",
    "        start = time.time()\n",
    "        func() # <-- the function!\n",
    "        print('This happens after the function is called')\n",
    "        end = time.time()\n",
    "        print('The duration is', end - start, 's')\n",
    "\n",
    "    return wrapper"
   ]
  },
  {
   "cell_type": "markdown",
   "id": "5d7ddc72-d2cf-42b3-b580-31d569b84343",
   "metadata": {},
   "source": [
    "Now all I need to do is to add `@time_func` before the function `say_hello`"
   ]
  },
  {
   "cell_type": "code",
   "execution_count": 5,
   "id": "241fb645-a2a1-4101-8f98-3e536b409d45",
   "metadata": {},
   "outputs": [
    {
     "name": "stdout",
     "output_type": "stream",
     "text": [
      "This happens before the function is called\n",
      "hello\n",
      "This happens after the function is called\n",
      "The duration is 1.71661376953125e-05 s\n"
     ]
    }
   ],
   "source": [
    "@time_func\n",
    "def say_hello():\n",
    "    print(\"hello\")\n",
    "\n",
    "say_hello()"
   ]
  },
  {
   "cell_type": "markdown",
   "id": "c05c001a-5182-4454-a66b-3cea53dcef52",
   "metadata": {},
   "source": [
    "Decorator makes the code clean and shortens repetitive code. If I want to track the time of another function, for example, func2(), I can just use:"
   ]
  },
  {
   "cell_type": "code",
   "execution_count": 6,
   "id": "89faedb0-571d-4ee7-a83a-d15ce2e0753a",
   "metadata": {},
   "outputs": [
    {
     "name": "stdout",
     "output_type": "stream",
     "text": [
      "This happens before the function is called\n",
      "This happens after the function is called\n",
      "The duration is 9.775161743164062e-06 s\n"
     ]
    }
   ],
   "source": [
    "@time_func\n",
    "def func2():\n",
    "    pass\n",
    "func2()"
   ]
  },
  {
   "cell_type": "markdown",
   "id": "e15c1776",
   "metadata": {},
   "source": [
    "# Why Write Functions?\n",
    "User-defined functions are important for improving the clarity of your code by\n",
    "- separating different strands of logic\n",
    "- facilitating code reuse"
   ]
  },
  {
   "cell_type": "markdown",
   "id": "f1e0bd56-ce4c-404a-92d5-c5123e92ae8c",
   "metadata": {},
   "source": [
    "### Underscore(_): Ignore Values That Will Not Be Used\n",
    "- When assigning the values returned from a function, you might want to ignore some values that are not used in future code. If so, assign those values to underscores `_`"
   ]
  },
  {
   "cell_type": "code",
   "execution_count": 7,
   "id": "736a1f9a-9d54-448d-a68b-d1406d9a7dde",
   "metadata": {},
   "outputs": [
    {
     "data": {
      "text/plain": [
       "2"
      ]
     },
     "execution_count": 7,
     "metadata": {},
     "output_type": "execute_result"
    }
   ],
   "source": [
    "def return_two():\n",
    "    return 1, 2\n",
    "\n",
    "_, var = return_two()\n",
    "var"
   ]
  },
  {
   "cell_type": "markdown",
   "id": "85ddd74e-bef5-417a-a856-93f344a2de67",
   "metadata": {},
   "source": [
    "### Underscore “_”: Ignore The Index in Python For Loops\n",
    "- If you want to repeat a loop a specific number of times but don’t care about the index, you can use `_`"
   ]
  },
  {
   "cell_type": "code",
   "execution_count": 8,
   "id": "17633e28-d0a6-4b2d-9939-8f7054d44910",
   "metadata": {},
   "outputs": [
    {
     "name": "stdout",
     "output_type": "stream",
     "text": [
      "Hello\n",
      "Hello\n",
      "Hello\n",
      "Hello\n",
      "Hello\n"
     ]
    }
   ],
   "source": [
    "for _ in range(5):\n",
    "    print('Hello')"
   ]
  },
  {
   "cell_type": "markdown",
   "id": "36c2b8c8-eb2f-4094-a7da-68278d9b2b9e",
   "metadata": {},
   "source": [
    "# Error handling"
   ]
  },
  {
   "cell_type": "markdown",
   "id": "9de10e99-a9d2-44e0-8795-b188130e8320",
   "metadata": {},
   "source": [
    "## Errors and exceptions"
   ]
  },
  {
   "cell_type": "code",
   "execution_count": 82,
   "id": "ad52c5e2-f73a-428b-a5d7-157ed35a111f",
   "metadata": {},
   "outputs": [],
   "source": [
    "def sqrt(x):\n",
    "    \"\"\"Returns the square root of a number.\"\"\"\n",
    "    try:\n",
    "        return x ** 0.5\n",
    "    except TypeError: \n",
    "        print('x must be an int or float')"
   ]
  },
  {
   "cell_type": "code",
   "execution_count": 83,
   "id": "a9667ac2-f39d-43c3-8071-1ea3addc8a96",
   "metadata": {},
   "outputs": [
    {
     "name": "stdout",
     "output_type": "stream",
     "text": [
      "x must be an int or float\n"
     ]
    }
   ],
   "source": [
    "sqrt('hi')"
   ]
  },
  {
   "cell_type": "markdown",
   "id": "3551887a-240c-4e27-af0c-31f3ae245fa6",
   "metadata": {},
   "source": [
    "## Raise an error"
   ]
  },
  {
   "cell_type": "markdown",
   "id": "dddf8a1c-3036-4a54-8e78-a89b7acccff4",
   "metadata": {},
   "source": [
    "- say we don't want user to use negative numbers"
   ]
  },
  {
   "cell_type": "code",
   "execution_count": 47,
   "id": "8d80bead-a43a-4118-80a4-7801559ee9f7",
   "metadata": {},
   "outputs": [],
   "source": [
    "def sqrt(x):\n",
    "    \"\"\"Returns the square root of a number.\"\"\"\n",
    "    if x < 0: \n",
    "        raise ValueError('x must be non-negative')\n",
    "    try:\n",
    "        return x ** 0.5\n",
    "    except TypeError: \n",
    "        print('x must be an int or float')"
   ]
  },
  {
   "cell_type": "code",
   "execution_count": 48,
   "id": "c7d1a7a3-8a2a-4094-9d3a-a568b6bc6b3a",
   "metadata": {},
   "outputs": [
    {
     "ename": "ValueError",
     "evalue": "x must be non-negative",
     "output_type": "error",
     "traceback": [
      "\u001b[0;31m---------------------------------------------------------------------------\u001b[0m",
      "\u001b[0;31mValueError\u001b[0m                                Traceback (most recent call last)",
      "\u001b[0;32m/var/folders/3j/22yv_sj10t96slp1b8b6z1zw0000gn/T/ipykernel_15031/2283399297.py\u001b[0m in \u001b[0;36m<module>\u001b[0;34m\u001b[0m\n\u001b[0;32m----> 1\u001b[0;31m \u001b[0msqrt\u001b[0m\u001b[0;34m(\u001b[0m\u001b[0;34m-\u001b[0m\u001b[0;36m2\u001b[0m\u001b[0;34m)\u001b[0m\u001b[0;34m\u001b[0m\u001b[0;34m\u001b[0m\u001b[0m\n\u001b[0m",
      "\u001b[0;32m/var/folders/3j/22yv_sj10t96slp1b8b6z1zw0000gn/T/ipykernel_15031/888686211.py\u001b[0m in \u001b[0;36msqrt\u001b[0;34m(x)\u001b[0m\n\u001b[1;32m      2\u001b[0m     \u001b[0;34m\"\"\"Returns the square root of a number.\"\"\"\u001b[0m\u001b[0;34m\u001b[0m\u001b[0;34m\u001b[0m\u001b[0m\n\u001b[1;32m      3\u001b[0m     \u001b[0;32mif\u001b[0m \u001b[0mx\u001b[0m \u001b[0;34m<\u001b[0m \u001b[0;36m0\u001b[0m\u001b[0;34m:\u001b[0m\u001b[0;34m\u001b[0m\u001b[0;34m\u001b[0m\u001b[0m\n\u001b[0;32m----> 4\u001b[0;31m         \u001b[0;32mraise\u001b[0m \u001b[0mValueError\u001b[0m\u001b[0;34m(\u001b[0m\u001b[0;34m'x must be non-negative'\u001b[0m\u001b[0;34m)\u001b[0m\u001b[0;34m\u001b[0m\u001b[0;34m\u001b[0m\u001b[0m\n\u001b[0m\u001b[1;32m      5\u001b[0m     \u001b[0;32mtry\u001b[0m\u001b[0;34m:\u001b[0m\u001b[0;34m\u001b[0m\u001b[0;34m\u001b[0m\u001b[0m\n\u001b[1;32m      6\u001b[0m         \u001b[0;32mreturn\u001b[0m \u001b[0mx\u001b[0m \u001b[0;34m**\u001b[0m \u001b[0;36m0.5\u001b[0m\u001b[0;34m\u001b[0m\u001b[0;34m\u001b[0m\u001b[0m\n",
      "\u001b[0;31mValueError\u001b[0m: x must be non-negative"
     ]
    }
   ],
   "source": [
    "sqrt(-2)"
   ]
  },
  {
   "cell_type": "markdown",
   "id": "93e09181-28ba-4edc-846c-c2e6e30a82bc",
   "metadata": {},
   "source": [
    "# Describing a utility function\n",
    "$$u(x_1,x_2)=x^{\\alpha}_1*x^{1-\\alpha}_2$$"
   ]
  },
  {
   "cell_type": "code",
   "execution_count": 10,
   "id": "be8e405b-4c39-47b8-9b33-b2dc090ef484",
   "metadata": {},
   "outputs": [],
   "source": [
    "# x1 and x2 are positional arguments\n",
    "# alpha is a keyword argument with default value\n",
    "\n",
    "def u_func(x1,x2,alpha=0.5):\n",
    "    return x1**alpha*x2**(1-alpha)"
   ]
  },
  {
   "cell_type": "markdown",
   "id": "cf0272c0-5348-4e66-aff7-cd498b35bd0d",
   "metadata": {},
   "source": [
    "## Evaluations (Print to Screen)"
   ]
  },
  {
   "cell_type": "code",
   "execution_count": 11,
   "id": "7488de5c-77b0-4475-bec7-3cbf87494bff",
   "metadata": {},
   "outputs": [
    {
     "name": "stdout",
     "output_type": "stream",
     "text": [
      "x1 = 1.000, x2 = 3.000 -> u = 1.732\n"
     ]
    }
   ],
   "source": [
    "x1 = 1\n",
    "x2 = 3\n",
    "u = u_func(x1,x2)\n",
    "\n",
    "print(f'x1 = {x1:.3f}, x2 = {x2:.3f} -> u = {u:.3f}')"
   ]
  },
  {
   "cell_type": "markdown",
   "id": "95d277de-e917-4b52-a7d0-3b9b020f1985",
   "metadata": {},
   "source": [
    "### Print multiple evaluations"
   ]
  },
  {
   "cell_type": "code",
   "execution_count": 12,
   "id": "bb1f51fb-2506-4502-8dc5-0f6f50684e79",
   "metadata": {},
   "outputs": [
    {
     "name": "stdout",
     "output_type": "stream",
     "text": [
      "x1 = 2.000, x2 = 3.000 -> u = 2.711\n",
      "x1 = 4.000, x2 = 3.000 -> u = 3.224\n",
      "x1 = 6.000, x2 = 3.000 -> u = 3.568\n",
      "x1 = 8.000, x2 = 3.000 -> u = 3.834\n"
     ]
    }
   ],
   "source": [
    "x1_list = [2,4,6,8]\n",
    "x2 = 3 \n",
    "\n",
    "for x1 in x1_list: \n",
    "    u = u_func(x1,x2, alpha=0.25)\n",
    "    print(f'x1 = {x1:.3f}, x2 = {x2:.3f} -> u = {u:.3f}')"
   ]
  },
  {
   "cell_type": "markdown",
   "id": "24f599bd-7deb-4a54-b13a-a0343fd88f68",
   "metadata": {},
   "source": [
    "A nicer way to implement it:"
   ]
  },
  {
   "cell_type": "code",
   "execution_count": 13,
   "id": "f33afd01-d788-4772-a3bf-70bdc66fc5bd",
   "metadata": {},
   "outputs": [
    {
     "name": "stdout",
     "output_type": "stream",
     "text": [
      "0: x1 = 2   x2 = 3  -> u = 2.711 \n",
      "1: x1 = 4   x2 = 3  -> u = 3.224 \n",
      "2: x1 = 6   x2 = 3  -> u = 3.568 \n",
      "3: x1 = 8   x2 = 3  -> u = 3.834 \n"
     ]
    }
   ],
   "source": [
    "for i, x1 in enumerate(x1_list):\n",
    "    u = u_func(x1,x2, alpha=0.25)\n",
    "    print(f'{i:1d}: x1 = {x1:<3d} x2 = {x2:<2d} -> u = {u:<6.3f}')\n",
    "    \n",
    "# {i:2d}: integer a width of 2 (right-aligned)\n",
    "# {x1:<3d}: integer a width of 2 (<, left-aligned)\n",
    "# {u:<6.3f}: float width of 6 and 3 decimals (<, left-aligned)"
   ]
  },
  {
   "cell_type": "markdown",
   "id": "188ec29f-18e9-4dba-a9e3-3676beaa4fdf",
   "metadata": {},
   "source": [
    "## Printing outputs to a file\n",
    "Imagine you wanted to store outputs from your model in order to put it into a paper. Then you want it in a file..\n",
    "\n",
    "1. Create a text-file using the `with` operator. \n",
    "2. Write to the file in a loop using the reference variable `file_ref`:"
   ]
  },
  {
   "cell_type": "code",
   "execution_count": 14,
   "id": "23631d69-30e0-44b3-bb57-7bd721403449",
   "metadata": {},
   "outputs": [],
   "source": [
    "with open('somefile.txt', 'w') as file_ref: # 'w' is short for 'write'\n",
    "    \n",
    "    for i, x1 in enumerate(x1_list):\n",
    "        # Calculate utility at loop iteration\n",
    "        u = u_func(x1,x2,alpha=0.25)\n",
    "        \n",
    "        # Create a formatted line of text\n",
    "        text_line = f'{i+10:2d}: x1 = {x1:<6.3f} x2 = {x2:<6.3f} -> u = {u:<6.3f}'\n",
    "        \n",
    "        # Write the line of text to the file using the\n",
    "        file_ref.write(text_line + '\\n') \n",
    "    \n",
    "# note: the width clause ensures that the file is properly closed afterwards    "
   ]
  },
  {
   "cell_type": "markdown",
   "id": "6bf09723-0e5e-4e64-a719-baa6ca220cd7",
   "metadata": {},
   "source": [
    "You can also **read** from a file in the same manner, just using `r` instead of `w`.  \n",
    "Open a text-file and read the lines in it and then print them:"
   ]
  },
  {
   "cell_type": "code",
   "execution_count": 15,
   "id": "46186fac-202c-48e6-b71c-90ac224e81ed",
   "metadata": {},
   "outputs": [
    {
     "name": "stdout",
     "output_type": "stream",
     "text": [
      "10: x1 = 2.000  x2 = 3.000  -> u = 2.711 \n",
      "11: x1 = 4.000  x2 = 3.000  -> u = 3.224 \n",
      "12: x1 = 6.000  x2 = 3.000  -> u = 3.568 \n",
      "13: x1 = 8.000  x2 = 3.000  -> u = 3.834 \n"
     ]
    }
   ],
   "source": [
    "with open('somefile.txt', 'r') as file_ref: # 'r' is for 'read'\n",
    "    \n",
    "    # load ALL file content into the object lines\n",
    "    lines = file_ref.readlines()\n",
    "    \n",
    "    # Printing each loaded line by loop\n",
    "    for line in lines:\n",
    "        print(line,end='') # end='' removes the extra lineshift print creates"
   ]
  }
 ],
 "metadata": {
  "kernelspec": {
   "display_name": "Python 3 (ipykernel)",
   "language": "python",
   "name": "python3"
  },
  "language_info": {
   "codemirror_mode": {
    "name": "ipython",
    "version": 3
   },
   "file_extension": ".py",
   "mimetype": "text/x-python",
   "name": "python",
   "nbconvert_exporter": "python",
   "pygments_lexer": "ipython3",
   "version": "3.9.12"
  },
  "vscode": {
   "interpreter": {
    "hash": "7292ad5aae9ee712bd534f86334ea7c71014e80e775f450fa4699f38bc4a7996"
   }
  }
 },
 "nbformat": 4,
 "nbformat_minor": 5
}
