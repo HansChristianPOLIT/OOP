{
 "cells": [
  {
   "attachments": {},
   "cell_type": "markdown",
   "id": "1aeac0a3",
   "metadata": {},
   "source": [
    "# Object-Oriented Programming"
   ]
  },
  {
   "cell_type": "code",
   "execution_count": null,
   "id": "542da007-f187-4494-b96b-91f837ab1f6b",
   "metadata": {},
   "outputs": [],
   "source": [
    "# magic to reload modules automatically\n",
    "%load_ext autoreload\n",
    "%autoreload 2\n",
    "\n",
    "# standard imports\n",
    "from types import SimpleNamespace # new? explained below\n",
    "import numpy as np\n",
    "from scipy import optimize\n",
    "import matplotlib.pyplot as plt\n",
    "plt.style.use('seaborn-whitegrid')\n",
    "plt.rcParams['figure.figsize'] = (10,6)"
   ]
  },
  {
   "cell_type": "markdown",
   "id": "cf2214f5",
   "metadata": {},
   "source": [
    "## Python and OOP"
   ]
  },
  {
   "cell_type": "markdown",
   "id": "4bef2187-6dc6-4f50-be3b-0b6373d60bc6",
   "metadata": {},
   "source": [
    "Python is a pragmatic language that blends object-oriented and procedural styles, rather than taking a purist approach.\n",
    "- However, at a foundational level, Python is object-oriented.\n",
    "- In particular, in Python, *everything is an object*.\n",
    "- every object has a class"
   ]
  },
  {
   "cell_type": "markdown",
   "id": "611e7ce9-e7b1-4a21-94c9-dd626a7b5f3f",
   "metadata": {},
   "source": [
    "### Why is OOP Useful?\n",
    "OOP is useful for the same reason that abstraction is useful: for recognizing and exploiting the common structure.\n",
    "Recognizing common structure allows us to employ common tools.\n",
    "\n",
    "For example,\n",
    "- a *general equilibrium theory* consists of a commodity space, preferences, technologies, and an equilibrium definition\n",
    "- a *game* consists of a list of players, lists of actions available to each player, each player’s payoffs as functions of all other players’ actions, and a timing protocol\n",
    "\n",
    "These are all abstractions that collect together “objects” of the same “type”.\n",
    "\n",
    "**Advantage**: able to bundle data (internal representation and interaction with a programme into packages and with these packages we can create objects)\n",
    "- code more resuable (great for building frameworks and tools)\n",
    "- easier to use"
   ]
  },
  {
   "cell_type": "markdown",
   "id": "f9071fd4-e208-41bb-bfc5-a6ca47a48ef8",
   "metadata": {},
   "source": [
    "## Objects\n",
    "- Python supports many different kinds of data\n",
    "\n",
    "- each is an **<span style=\"color:DarkRed\">\"object\"</span>**, and every object has:\n",
    "    - a **<span style=\"color:DarkRed\">\"type\"</span>** \n",
    "    - an internal **<span style=\"color:DarkRed\">\"data representation\"</span>**  (primitive or composite)\n",
    "    - a set of procedures for **<span style=\"color:DarkRed\">\"interaction\"</span>**  with the object\n",
    "    \n",
    "- an object is an **<span style=\"color:DarkRed\">\"instance\"</span>**  of a type \n",
    "    - `1234` is an instance of an `int`\n",
    "    -`\"hello\"` is an instance of a string"
   ]
  },
  {
   "cell_type": "code",
   "execution_count": 2,
   "id": "35039906-e569-423d-9b76-13f49edca8ac",
   "metadata": {},
   "outputs": [],
   "source": [
    "import numpy as np"
   ]
  },
  {
   "cell_type": "markdown",
   "id": "128ade62-7726-4b4b-b882-2bd690d9cf85",
   "metadata": {},
   "source": [
    "## Classes\n",
    "Classes are blueprints for objects that help you build objects according using your own type.\n",
    "\n",
    "- They describe the possible states and behaviors that every object of a certain type could have. \n",
    "    - For example, if you say \"every customer will have a phone number and an email, and will be able to place and cancel orders\", you just defined a class! This way, you can talk about customers in a unified way.\n",
    "        - Then a specific Customer object is just a realization of this class with particular state values.\n",
    "- If we want to make our own types of objects we need to use class definitions."
   ]
  },
  {
   "cell_type": "markdown",
   "id": "b0a2095a-69ff-40bf-a833-6c1f3dd2c4d6",
   "metadata": {},
   "source": [
    "## Class anatomy: Attributes\n",
    "**What is an attribute?** data and procedures that **<span style=\"color:DarkRed\">\"belong\"</span>**\n",
    " to the class\n",
    "\n",
    "- **<span style=\"color:DarkRed\">\"Data attributes\"</span>** \n",
    "    - think of data as other objects that make up the class\n",
    "        - for example, a coordinate is made up of two numbers\n",
    "- **<span style=\"color:DarkRed\">\"Methods\"</span>** (procedural attributes)\n",
    "    - think of methods as functions that only work with this class\n",
    "    - defines how to interact with the object\n",
    "        - for examlple, you can define a distance between two coordinate objects, but there is no meaning to a distance between two list objects\n",
    "\n"
   ]
  },
  {
   "cell_type": "markdown",
   "id": "244d76db-7a46-4512-81b4-9c6b40173169",
   "metadata": {},
   "source": [
    "## Class anatomy: the `__init__()` constructor\n",
    "Python allows you to add a special method called the constructor that is automatically called every time an object is created. \n",
    "\n",
    "**Creating a class with an example**\n",
    "- `class <name>`: starts a class definition\n",
    "- code inside `class` is indented\n",
    "    - Here we define the `__init__()` method for the customer class.\n",
    "        - the method takes two parameters: \n",
    "            1. `self` always the 1st argument in method definition\n",
    "            2. other argument(s) in this case is \"name\" attribute\n",
    "        - In the body of the method, we create the name attribute, set its value to the name parameter, and print a message. "
   ]
  },
  {
   "cell_type": "code",
   "execution_count": 3,
   "id": "16d49c30-705a-4a85-9b10-d388e4b75266",
   "metadata": {},
   "outputs": [],
   "source": [
    "class Customer:\n",
    "    def __init__(self, name):\n",
    "        # a data attribute for every customer object\n",
    "        self.name = name           \n",
    "        print(\"The __init__ method was called\")"
   ]
  },
  {
   "cell_type": "markdown",
   "id": "446bf02e-525e-4409-a2f0-fc3c3d2beb7d",
   "metadata": {},
   "source": [
    "**Creating an instance of the customer class** \n",
    "- use `ClassName()` to create an object of class `ClassName`\n",
    "    - So now, we can pass the customer name in the parentheses when creating the customer object\n",
    "- the special method `__init__` tells Python when you first create an object of this type call this method \n",
    "- don't provide argument for `self`, Python does this automatically\n",
    "- dot notation is to access data"
   ]
  },
  {
   "cell_type": "code",
   "execution_count": 4,
   "id": "e4b1d494-5d2d-4bb5-b1e5-957a2f27c747",
   "metadata": {},
   "outputs": [
    {
     "name": "stdout",
     "output_type": "stream",
     "text": [
      "The __init__ method was called\n",
      "Lara de Silva\n"
     ]
    }
   ],
   "source": [
    "cust = Customer(\"Lara de Silva\") # <-- create an object cust of class Customer\n",
    "print(cust.name)  # <-- access data attribute"
   ]
  },
  {
   "cell_type": "markdown",
   "id": "6593422e-f1ce-4866-a43b-e66cad3cb98a",
   "metadata": {},
   "source": [
    "**Add parameter**\n",
    "- We can add another parameter -- say, account balance -- to the init method, and create another attribute -- also called balance, that will also be initialized during object creation. \n",
    "- We can now create a customer by calling Customer with two parameters in parentheses."
   ]
  },
  {
   "cell_type": "code",
   "execution_count": 5,
   "id": "a54c8136-5a53-49c4-8c8c-695fbcc33665",
   "metadata": {},
   "outputs": [
    {
     "name": "stdout",
     "output_type": "stream",
     "text": [
      "initializing the model:\n",
      "The __init__ method was called\n",
      "Lara de Silva\n",
      "1000\n"
     ]
    }
   ],
   "source": [
    "# creating a class\n",
    "class Customer:\n",
    "    def __init__(self, name, balance,do_print = True):  # <-- balance parameter added\n",
    "        \n",
    "        if do_print: print('initializing the model:')\n",
    "        self.name = name\n",
    "        self.balance = balance     # <-- balance attribute added\n",
    "        print(\"The __init__ method was called\")\n",
    "\n",
    "# creating an instance\n",
    "cust = Customer(\"Lara de Silva\", 1000)   # <-- __init__ is called \n",
    "print(cust.name)     \n",
    "print(cust.balance)        "
   ]
  },
  {
   "cell_type": "markdown",
   "id": "d76d31dc-89eb-41ec-bfc7-e21c3bc93a14",
   "metadata": {},
   "source": [
    "**Use default arguments**\n",
    "- The `__init__` constructor is also a good place to set the default values for attributes. \n",
    "- For example, here we set the default value of the balance argument to 0, so we can create a Customer object without specifying the value of the balance, but the attribute is created anyway, and is initialized to the default value 0."
   ]
  },
  {
   "cell_type": "code",
   "execution_count": 6,
   "id": "93f3535a-f4ba-4584-852f-aecd7720da8c",
   "metadata": {},
   "outputs": [
    {
     "name": "stdout",
     "output_type": "stream",
     "text": [
      "The __init__ method was called\n",
      "Lara de Silva\n",
      "0\n"
     ]
    }
   ],
   "source": [
    "# creating a class\n",
    "class Customer:\n",
    "    def __init__(self, name, balance=0):  # <-- set default value for balance\n",
    "        self.name = name\n",
    "        self.balance = balance     # <-- balance attribute added\n",
    "        print(\"The __init__ method was called\")\n",
    "\n",
    "# creating an instance\n",
    "cust = Customer(\"Lara de Silva\")   # <-- don't specify balance explicitly\n",
    "print(cust.name)     \n",
    "print(cust.balance)   # <-- attribute is created anyway"
   ]
  },
  {
   "cell_type": "markdown",
   "id": "a8c7ace7-bd2c-40d5-bbf7-9f6affd97bf3",
   "metadata": {},
   "source": [
    "## What is `self`?\n",
    "- `self` is a parameter that represents a particular instance of the class. \n",
    "However, we define the customer class in a general way (basically just a template), we don't have a specific instance yet (no object created).\n",
    "- So `self` is a placeholder for any sort of instance. \n",
    "- That's why every method should have the self argument -- so we could use it to access attributes and call other methods from within the class definition even when no objects were created yet.     \n",
    "\n",
    "### **The rules for using `self` in creating a Class are that:** \n",
    "- A method defined within the code that defines the class should have `self` as its first argument\n",
    "    - e.g., `def earn(self, y)` rather than just `def earn(y)`\n",
    "    \n",
    "- Any instance data should be prepended with `self`\n",
    "    - e.g., the `earn` method uses `self.wealth` rather than just wealth, the dot say look for data attribute earn that belongs to this class\n",
    "    \n",
    "- Any method referenced *within* the class should be called as `self.method_name`"
   ]
  },
  {
   "cell_type": "markdown",
   "id": "2381a17f-bc2d-4703-832b-e7ddd0cebddd",
   "metadata": {},
   "source": [
    "# Best practices when creating classes\n",
    "1. initialize attributes in `__init__()`\n",
    "    - If possible, try to avoid defining attributes outside the constructor: ``__init__``\n",
    "    - ensures that all of them are created when the object is created, so you don't have to worry about trying to access an attribute that doesn't yet exist.\n",
    "2. Naming\n",
    "    - `CamelCase` for classes, `lower_snake_case` for functions and attributes\n",
    "3. Keep `self` as `self`\n",
    "4. Use docstrings\n",
    "\n",
    "*All the bullet points above ensures a more organized, readable, and maintainable code.*"
   ]
  },
  {
   "cell_type": "markdown",
   "id": "d939bf32-b967-4cb6-b705-2a700fc39635",
   "metadata": {},
   "source": [
    "## Instance level data\n",
    "- For example the employee class defined below.\n",
    "- It has attributes like name and salary, and we are able to assign specific values to them for each new instance of the class. \n",
    "- These are **instance attributes**. We use `self` to bind them to a particular instance`"
   ]
  },
  {
   "cell_type": "code",
   "execution_count": 7,
   "id": "c330b694-bdd2-4855-93db-f55274e2ebbe",
   "metadata": {},
   "outputs": [],
   "source": [
    "# example of instance level data\n",
    "class Employee: \n",
    "    def __init__(self, name, salary):\n",
    "        self.name = name\n",
    "        self.salary = salary"
   ]
  },
  {
   "cell_type": "code",
   "execution_count": 8,
   "id": "28657f19-ab7c-4b55-858b-02097f679521",
   "metadata": {},
   "outputs": [],
   "source": [
    "emp1 = Employee(\"Teo Mille\", 50000)\n",
    "emp2 = Employee(\"Marta Popov\", 65000)"
   ]
  },
  {
   "cell_type": "markdown",
   "id": "fa80b291-c137-43af-880d-6092648c5d66",
   "metadata": {},
   "source": [
    "## Class level data\n",
    "- data shared among all instances of a class\n",
    "- define class attributes in the body of class\n",
    "```Python\n",
    "class MyClass:\n",
    "    # Define a class attribute\n",
    "    CLASS_ATTR_NAME = attr_value\n",
    "```\n",
    "- serves as a global variable within the class\n"
   ]
  },
  {
   "cell_type": "code",
   "execution_count": 9,
   "id": "4c743e17-ebed-4064-8bdf-a7a76fc80fdb",
   "metadata": {},
   "outputs": [],
   "source": [
    "# example of class level data\n",
    "class Employee: \n",
    "    # Define a class attribute\n",
    "    MIN_SALARY = 30000       # <-- no self.\n",
    "    def __init__(self, name, salary):\n",
    "        self.name = name\n",
    "        # Use class name to access/refer to class attribute\n",
    "        if salary >= Employee.MIN_SALARY:\n",
    "            self.salary = salary\n",
    "        else:\n",
    "            self.salaray = Employee.MIN_SALARY"
   ]
  },
  {
   "cell_type": "code",
   "execution_count": 10,
   "id": "9ddfd229-63c3-436e-9d83-ad87c32feba2",
   "metadata": {},
   "outputs": [
    {
     "name": "stdout",
     "output_type": "stream",
     "text": [
      "30000\n"
     ]
    }
   ],
   "source": [
    "emp1 = Employee(\"TBD\", 40000)\n",
    "print(emp1.MIN_SALARY)"
   ]
  },
  {
   "cell_type": "code",
   "execution_count": 11,
   "id": "957f42b0-cc75-4d1f-bdf8-a530858aa45b",
   "metadata": {},
   "outputs": [
    {
     "name": "stdout",
     "output_type": "stream",
     "text": [
      "30000\n"
     ]
    }
   ],
   "source": [
    "emp1 = Employee(\"TBD\", 60000)\n",
    "print(emp1.MIN_SALARY)"
   ]
  },
  {
   "cell_type": "markdown",
   "id": "bfdaf281-f32f-4371-9d59-8ab9e2b4bc88",
   "metadata": {},
   "source": [
    "### Why use class attributes?\n",
    "The main use case for class attributes is global constants that are related to class, for example:\n",
    "- min/max values for attributes -- like the min_salary example\n",
    "- or commonly used values: for example, if you were defining a Circle class, you could store pi as a class attribute."
   ]
  },
  {
   "cell_type": "markdown",
   "id": "d4714fab",
   "metadata": {},
   "source": [
    "## Key Concepts"
   ]
  },
  {
   "cell_type": "markdown",
   "id": "80949dcc",
   "metadata": {},
   "source": [
    "As discussed an earlier lecture, in the OOP paradigm, data and functions are bundled together into “objects”.\n",
    "- An example of an object is a Python list, which not only stores data but also knows how to sort itself, etc."
   ]
  },
  {
   "cell_type": "code",
   "execution_count": 12,
   "id": "fcd335d5",
   "metadata": {},
   "outputs": [
    {
     "data": {
      "text/plain": [
       "[1, 4, 5]"
      ]
     },
     "execution_count": 12,
     "metadata": {},
     "output_type": "execute_result"
    }
   ],
   "source": [
    "x = [1, 5, 4]\n",
    "x.sort()\n",
    "x"
   ]
  },
  {
   "cell_type": "markdown",
   "id": "fba50834",
   "metadata": {},
   "source": [
    "As we now know, `sort` is a function that is “part of” the list object — and hence called a method\n",
    "\n",
    "\n",
    "In the example"
   ]
  },
  {
   "cell_type": "code",
   "execution_count": 13,
   "id": "7676ebab",
   "metadata": {},
   "outputs": [
    {
     "data": {
      "text/plain": [
       "list"
      ]
     },
     "execution_count": 13,
     "metadata": {},
     "output_type": "execute_result"
    }
   ],
   "source": [
    "x = [1, 5, 4]\n",
    "x.sort()\n",
    "x.__class__"
   ]
  },
  {
   "cell_type": "markdown",
   "id": "b4f17d34",
   "metadata": {},
   "source": [
    "- `x` is an object or instance, created from the definition for Python lists, but with its own particular data.\n",
    "- `x.sort()` and `x.__class__` are two attributes of `x`.\n",
    "- `dir(x)` can be used to view all the attributes of `x`."
   ]
  },
  {
   "cell_type": "markdown",
   "id": "9c5c10fc",
   "metadata": {},
   "source": [
    "## Defining Your Own Classes - Economical example"
   ]
  },
  {
   "cell_type": "markdown",
   "id": "ec69e5a3",
   "metadata": {},
   "source": [
    "## A Consumer Class"
   ]
  },
  {
   "cell_type": "markdown",
   "id": "10c79dbd",
   "metadata": {},
   "source": [
    "We’ll build a `Consumer` class with\n",
    "\n",
    "- a `wealth` attribute that stores the consumer’s wealth (data)\n",
    "- an `earn` method, where `earn(y)` increments the consumer’s wealth by `y`\n",
    "- a `spend` method, where `spend(x)` either decreases wealth by `x` or returns an error if insufficient funds exist\n",
    "\n",
    "Here how we set up our Consumer class."
   ]
  },
  {
   "cell_type": "code",
   "execution_count": 14,
   "id": "35a253a3",
   "metadata": {},
   "outputs": [],
   "source": [
    "class Consumer: \n",
    "    \n",
    "    def __init__(self, w):\n",
    "        \"\"\"Initialize consumer with w dollars of wealth\"\"\"\n",
    "        # Create wealth attribute by assigning a value \n",
    "        self.wealth = w #  # <-- will create .wealth when __init__ is called\n",
    "        \n",
    "    def earn(self, y):\n",
    "        \"\"\"The consumer earns y dollars\"\"\"\n",
    "        self.wealth += y # same as self.wealth + y\n",
    "    \n",
    "    def spend(self, x):\n",
    "        \"\"\"The consumer spends x dollars if feasible\"\"\"\n",
    "        new_wealth = self.wealth - x \n",
    "        if new_wealth < 0:\n",
    "            print(\"Insufficient funds\")\n",
    "        else: \n",
    "            self.wealth = new_wealth"
   ]
  },
  {
   "cell_type": "markdown",
   "id": "da52a1f8",
   "metadata": {},
   "source": [
    "## How to use a Method\n",
    "When you call the method `earn` via `c1.earn(10)` the interpreter passes the instance `c1` and the argument `10` to `Consumer.earn`.\n",
    "\n",
    "In fact, the following are equivalent\n",
    "- `c1.earn(10)`\n",
    "- `Consumer.earn(c1, 10)`\n",
    "In the function call `Consumer.earn(c1, 10)` note that `c1` is the first argument.\n",
    "\n",
    "Here’s an example in which we use the class `Consumer` to create an instance of a consumer whom we name \n",
    "$c_1$. After we create consumer $c_1$ and endow it with initial wealth 10, we’ll apply the spend method using `.spend`."
   ]
  },
  {
   "cell_type": "code",
   "execution_count": null,
   "id": "115a3c31",
   "metadata": {},
   "outputs": [
    {
     "data": {
      "text/plain": [
       "5"
      ]
     },
     "execution_count": 15,
     "metadata": {},
     "output_type": "execute_result"
    }
   ],
   "source": [
    "c1 = Consumer(10) # <-- create instance with initial wealth 10\n",
    "c1.spend(5) # <-- same as Consumer.spend(c1, 5)\n",
    "c1.wealth "
   ]
  },
  {
   "cell_type": "markdown",
   "id": "7649e8ae-e63d-4d32-a022-1af92c0b6eb9",
   "metadata": {},
   "source": [
    "Which is equivalent to:"
   ]
  },
  {
   "cell_type": "code",
   "execution_count": null,
   "id": "33a29a0c-5590-4161-bee5-368eca286fc7",
   "metadata": {},
   "outputs": [
    {
     "data": {
      "text/plain": [
       "5"
      ]
     },
     "execution_count": 16,
     "metadata": {},
     "output_type": "execute_result"
    }
   ],
   "source": [
    "Consumer.__init__(c1,10)\n",
    "Consumer.spend(c1, 5)\n",
    "c1.wealth "
   ]
  },
  {
   "cell_type": "markdown",
   "id": "0ef9076a-0aa4-481e-9880-6fd2815efbe5",
   "metadata": {},
   "source": [
    "Another usage example of the methods:"
   ]
  },
  {
   "cell_type": "code",
   "execution_count": null,
   "id": "12dd0394",
   "metadata": {},
   "outputs": [
    {
     "name": "stdout",
     "output_type": "stream",
     "text": [
      "Insufficient funds\n"
     ]
    }
   ],
   "source": [
    "c1.earn(15)\n",
    "c1.spend(100)"
   ]
  },
  {
   "cell_type": "markdown",
   "id": "8b3b668d",
   "metadata": {},
   "source": [
    "We can of course **create multiple instances**, i.e., multiple consumers, each with its own name and data"
   ]
  },
  {
   "cell_type": "code",
   "execution_count": null,
   "id": "f0dc02f6",
   "metadata": {},
   "outputs": [
    {
     "data": {
      "text/plain": [
       "8"
      ]
     },
     "execution_count": 18,
     "metadata": {},
     "output_type": "execute_result"
    }
   ],
   "source": [
    "c1 = Consumer(10)\n",
    "c2 = Consumer(12)\n",
    "c2.spend(4)\n",
    "c2.wealth"
   ]
  },
  {
   "cell_type": "code",
   "execution_count": null,
   "id": "0a70d7a8",
   "metadata": {},
   "outputs": [
    {
     "data": {
      "text/plain": [
       "10"
      ]
     },
     "execution_count": 19,
     "metadata": {},
     "output_type": "execute_result"
    }
   ],
   "source": [
    "c1.wealth"
   ]
  },
  {
   "cell_type": "markdown",
   "id": "2daaaf90",
   "metadata": {},
   "source": [
    "Each instance, i.e., each consumer in our case, stores its data in a separate namespace dictionary"
   ]
  },
  {
   "cell_type": "code",
   "execution_count": null,
   "id": "423a37ed",
   "metadata": {},
   "outputs": [
    {
     "data": {
      "text/plain": [
       "{'wealth': 10}"
      ]
     },
     "execution_count": 20,
     "metadata": {},
     "output_type": "execute_result"
    }
   ],
   "source": [
    "c1.__dict__"
   ]
  },
  {
   "cell_type": "markdown",
   "id": "88406f86",
   "metadata": {},
   "source": [
    "When we access or set attributes we’re actually just modifying the dictionary maintained by the instance."
   ]
  },
  {
   "cell_type": "markdown",
   "id": "b2f80aaf",
   "metadata": {},
   "source": [
    "## Example: The Solow Growth Model"
   ]
  },
  {
   "cell_type": "markdown",
   "id": "02d49a3a",
   "metadata": {},
   "source": [
    "\\begin{equation}\n",
    "k_{t+1}=\\frac{s z k_{t}^{\\alpha}+(1-\\delta) k_{t}}{1+n}\n",
    "\\end{equation}"
   ]
  },
  {
   "cell_type": "markdown",
   "id": "d5cc54ed",
   "metadata": {},
   "source": [
    "Some points of interest in the code are\n",
    "- An instance maintains a record of its current capital stock in the variable `self.k`.\n",
    "- The `h` method implements the right-hand side of equation above.\n",
    "- The `update` method uses `h` to update capital as per equation above.\n",
    "    - Notice how inside `update` the reference to the local method `h` is `self.h`.\n",
    "\n",
    "The methods `steady_state` and `generate_sequence` are fairly self-explanatory"
   ]
  },
  {
   "cell_type": "code",
   "execution_count": null,
   "id": "b2da8e99",
   "metadata": {},
   "outputs": [],
   "source": [
    "class Solow:\n",
    "    \"\"\"implements the Solow Growth Model with the update rule\n",
    "     \n",
    "     k_{t+1} = [(s z k^α_t) + (1 - δ)k_t] /(1 + n)\n",
    "\n",
    "    \"\"\"\n",
    "    # uses constructor to add attributes (i.e. default arguments) \n",
    "    def __init__(self, n=0.05,  # population growth rate\n",
    "                       s=0.25,  # savings rate\n",
    "                       δ=0.1,   # depreciation rate\n",
    "                       α=0.3,   # share of labor\n",
    "                       z=2.0,   # productivity\n",
    "                       k=1.0):  # current capital stock)\n",
    "        \n",
    "        # Create attributes by assigning a value \n",
    "        self.n, self.s, self.δ, self.α, self.z = n, s, δ, α, z \n",
    "        self.k = k\n",
    "    \n",
    "    def h(self):\n",
    "        \"\"\"Evaluate the h function\"\"\"\n",
    "        # Unpack parameters (get rid of self to simplify notation)\n",
    "        n, s, δ, α, z = self.n, self.s, self.δ, self.α, self.z\n",
    "        \n",
    "        # Apply the update rule\n",
    "        return (s * z * self.k**α + (1 - δ) * self.k) / (1 + n) # <-- self.k will via self \n",
    "        # pull the k attribute from the object that called the method (same goes for other parameters they are just unpacked)\n",
    "        \n",
    "    def update(self):\n",
    "        \"\"\"Update the current state (i.e., the capital stock).\"\"\"\n",
    "        self.k =  self.h()\n",
    "        \n",
    "    def steady_state(self):\n",
    "        \"\"\"Compute the steady state value of capital.\"\"\"\n",
    "        n, s, δ, α, z = self.n, self.s, self.δ, self.α, self.z\n",
    "        \n",
    "        # Compute and return steady state\n",
    "        return ((s * z) / (n + δ))**(1 / (1 - α))\n",
    "\n",
    "    def generate_sequence(self, T):\n",
    "        \"\"\"Generate and return a time series of length t\"\"\"\n",
    "        # create empty list to store solutions\n",
    "        path = [] \n",
    "        # using a for loop\n",
    "        for i in range(T):\n",
    "            path.append(self.k)\n",
    "            self.update() # <-- method ´update()´ is referenced within the class and should be called as `self.update()`\n",
    "        return path"
   ]
  },
  {
   "cell_type": "markdown",
   "id": "30375e45",
   "metadata": {},
   "source": [
    "Here’s a little program that uses the class to compute time series from two different initial conditions.\n",
    "The common steady state is also plotted for comparison."
   ]
  },
  {
   "cell_type": "code",
   "execution_count": null,
   "id": "8f234b3d",
   "metadata": {},
   "outputs": [
    {
     "data": {
      "image/png": "[encoded data removed]",
      "text/plain": [
       "<Figure size 648x432 with 1 Axes>"
      ]
     },
     "metadata": {},
     "output_type": "display_data"
    }
   ],
   "source": [
    "# create two objects s1,s2 of class Solow\n",
    "s1 = Solow() # <-- don't specify k explicitly, because of default argument k=1\n",
    "s2 = Solow(k=8.0)\n",
    "\n",
    "T = 60\n",
    "fig, ax = plt.subplots(figsize=(9, 6)) # <-- plt.subplots returns tuple, hence the unpacking of tuple\n",
    "\n",
    "# Plot the common steady state value of capital\n",
    "ax.plot([s1.steady_state()]*T, 'k-', label='Steady State') # <-- note the flexible arguments: one *arg and two **kwargs \n",
    "\n",
    "# Plot time series for each economy\n",
    "for s in s1, s2:\n",
    "    lb = f'Capital series from initial state {s.k}' # f-string format\n",
    "    ax.plot(s.generate_sequence(T), 'o-', lw=2, alpha=0.6, label=lb)\n",
    "\n",
    "ax.set_xlabel('$t$', fontsize=14)\n",
    "ax.set_ylabel('$k_t$', fontsize=14)\n",
    "ax.legend()\n",
    "plt.show()"
   ]
  },
  {
   "cell_type": "markdown",
   "id": "0412e177",
   "metadata": {},
   "source": [
    "## Special Methods"
   ]
  },
  {
   "cell_type": "markdown",
   "id": "a14eb4a6",
   "metadata": {},
   "source": [
    "Python provides special methods that come in handy.\n",
    "\n",
    "For example, recall that lists and tuples have a notion of length and that this length can be queried via the `len` function"
   ]
  },
  {
   "cell_type": "code",
   "execution_count": 26,
   "id": "2d6b3676",
   "metadata": {},
   "outputs": [
    {
     "data": {
      "text/plain": [
       "2"
      ]
     },
     "execution_count": 26,
     "metadata": {},
     "output_type": "execute_result"
    }
   ],
   "source": [
    "x = (10, 20)\n",
    "len(x)"
   ]
  },
  {
   "cell_type": "markdown",
   "id": "0d0ba415",
   "metadata": {},
   "source": [
    "If you want to provide a return value for the `len` function when applied to your user-defined object, use the `__len__` special method"
   ]
  },
  {
   "cell_type": "code",
   "execution_count": 27,
   "id": "fbc72154",
   "metadata": {},
   "outputs": [],
   "source": [
    "class Foo:\n",
    "    \n",
    "    def __len__(self):\n",
    "        return 42"
   ]
  },
  {
   "cell_type": "markdown",
   "id": "9ec513c8",
   "metadata": {},
   "source": [
    "Now we get"
   ]
  },
  {
   "cell_type": "code",
   "execution_count": 28,
   "id": "5b6cf34f",
   "metadata": {},
   "outputs": [
    {
     "data": {
      "text/plain": [
       "42"
      ]
     },
     "execution_count": 28,
     "metadata": {},
     "output_type": "execute_result"
    }
   ],
   "source": [
    "f = Foo()\n",
    "len(f)"
   ]
  },
  {
   "cell_type": "markdown",
   "id": "84d5f7cb",
   "metadata": {},
   "source": [
    "A special method we will use regularly is the `__call__` method.\n",
    "\n",
    "This method can be used to make your instances callable, just like function"
   ]
  },
  {
   "cell_type": "code",
   "execution_count": 29,
   "id": "2dad782b",
   "metadata": {},
   "outputs": [],
   "source": [
    "class Foo:\n",
    "\n",
    "    def __call__(self, x):\n",
    "        return x + 42"
   ]
  },
  {
   "cell_type": "markdown",
   "id": "18ad9c28",
   "metadata": {},
   "source": [
    "After running we get"
   ]
  },
  {
   "cell_type": "code",
   "execution_count": 30,
   "id": "8077063e",
   "metadata": {},
   "outputs": [
    {
     "data": {
      "text/plain": [
       "50"
      ]
     },
     "execution_count": 30,
     "metadata": {},
     "output_type": "execute_result"
    }
   ],
   "source": [
    "f = Foo()\n",
    "f(8)  # Exactly equivalent to f.__call__(8)"
   ]
  },
  {
   "cell_type": "markdown",
   "id": "ea743d68-eb09-413e-bc5f-482b9e0ab669",
   "metadata": {},
   "source": [
    "Methods actually live inside a class object formed when the interpreter reads the class definition"
   ]
  },
  {
   "cell_type": "code",
   "execution_count": 57,
   "id": "5d99461a-0fe0-46b5-81d9-e3189bd15ef0",
   "metadata": {},
   "outputs": [
    {
     "name": "stdout",
     "output_type": "stream",
     "text": [
      "{'__module__': '__main__', '__init__': <function Consumer.__init__ at 0x7fee75f5f5e0>, 'earn': <function Consumer.earn at 0x7fee75f5f820>, 'spend': <function Consumer.spend at 0x7fee75f5f8b0>, '__dict__': <attribute '__dict__' of 'Consumer' objects>, '__weakref__': <attribute '__weakref__' of 'Consumer' objects>, '__doc__': None}\n"
     ]
    }
   ],
   "source": [
    "print(Consumer.__dict__)  # Show __dict__ attribute of class object"
   ]
  },
  {
   "cell_type": "markdown",
   "id": "5916df0d-277e-43d5-a136-1e15e2c3f66a",
   "metadata": {},
   "source": [
    "Note how the three methods `__init__`, `earn` and `spend` are stored in the class object."
   ]
  },
  {
   "cell_type": "code",
   "execution_count": 139,
   "id": "be4bfbdf-0997-43fd-810e-9a62e952d21e",
   "metadata": {},
   "outputs": [
    {
     "data": {
      "text/plain": [
       "(3, 3)"
      ]
     },
     "execution_count": 139,
     "metadata": {},
     "output_type": "execute_result"
    }
   ],
   "source": [
    "python_list_of_lists = [[3,2,5],[9,7,1],[4,3,6]]\n",
    "ar = np.array(python_list_of_lists)\n",
    "ar.shape"
   ]
  },
  {
   "cell_type": "markdown",
   "id": "57656226-4eae-40de-a60c-1d670d1195e6",
   "metadata": {},
   "source": [
    "# Example - The consumer problem\n",
    "$$\n",
    "\\begin{aligned}\n",
    "V(p_{1},p_{2},m) & = \\max_{x_{1},x_{2}} \\left(\\alpha^{\\frac{1}{\\sigma}}x_{1}^{\\frac{\\sigma-1}{\\sigma}}+(1-\\alpha)^{\\frac{1}{\\sigma}}x_{2}^{\\frac{\\sigma-1}{\\sigma}}\\right)^{\\frac{\\sigma}{\\sigma-1}}\\\\\n",
    " \\text{s.t.}\\\\\n",
    "p_{1}x_{1}+p_{2}x_{2} & \\leq m,\\,\\,\\,p_{1},p_{2},m>0\\\\\n",
    "x_{1},x_{2} & \\geq 0\n",
    "\\end{aligned}\n",
    "$$\n",
    "\n",
    "**Goal:** Create a model-class to solve this problem.\n",
    "\n",
    "1. Let `model` be a class\n",
    "1. Let `model.par` contain all parameters (e.g. `model.par.alpha`)\n",
    "1. Let `model.sol` contain the solution (e.g. `model.sol.x1`)\n",
    "\n",
    "**SimpleNamespace():** Like a dictionary, but e.g. `par.alpha` instead of `par['alpha']`.  "
   ]
  },
  {
   "cell_type": "code",
   "execution_count": 32,
   "id": "5687ca81-1f83-45a4-8a28-fd72bc00aa97",
   "metadata": {},
   "outputs": [
    {
     "name": "stdout",
     "output_type": "stream",
     "text": [
      "alpha =  0.500\n",
      "sigma =  0.100\n"
     ]
    }
   ],
   "source": [
    "# create parameters\n",
    "par = SimpleNamespace() # create a sort of dictionary to store parameters\n",
    "\n",
    "# assign parametervalues\n",
    "par.alpha = 0.5\n",
    "par.sigma = 0.1\n",
    "\n",
    "print(f'alpha = {par.alpha:6.3f}') #6.3 refers to format specificaiton\n",
    "print(f'sigma = {par.sigma:6.3f}')"
   ]
  },
  {
   "cell_type": "markdown",
   "id": "4414cecb-131b-4abc-94b1-e43ff29b2b5f",
   "metadata": {},
   "source": [
    "Can always be interfaced as a dictionary with `__dict__`:"
   ]
  },
  {
   "cell_type": "code",
   "execution_count": 33,
   "id": "826eb0cc-84f0-457b-8bf9-34ba8125b820",
   "metadata": {},
   "outputs": [
    {
     "name": "stdout",
     "output_type": "stream",
     "text": [
      "alpha =  0.500\n",
      "sigma =  0.100\n"
     ]
    }
   ],
   "source": [
    "for k,v in par.__dict__.items():\n",
    "    print(f'{k:5s} = {v:6.3f}')"
   ]
  },
  {
   "cell_type": "markdown",
   "id": "6c7c9271-f973-4ebd-a08b-273389c55a6e",
   "metadata": {},
   "source": [
    "**Utility function:**"
   ]
  },
  {
   "cell_type": "code",
   "execution_count": 34,
   "id": "cdd9df3c-962d-43a8-817f-baaea57583e3",
   "metadata": {},
   "outputs": [],
   "source": [
    "def u_func(model,x1,x2):\n",
    "    \n",
    "    par = model.par # contain all parameters\n",
    "    \n",
    "    u_x1 = par.alpha**(1/par.sigma)*x1**((par.sigma-1)/par.sigma)\n",
    "    u_x2 = (1-par.alpha)**(1/par.sigma)*x2**((par.sigma-1)/par.sigma)\n",
    "    \n",
    "    return (u_x1+u_x2)**(par.sigma/(par.sigma-1))"
   ]
  },
  {
   "cell_type": "markdown",
   "id": "4a723b1e-c742-4027-90b9-ded0e5d03ced",
   "metadata": {},
   "source": [
    "**Solution function:**"
   ]
  },
  {
   "cell_type": "code",
   "execution_count": 35,
   "id": "a96d5982-c8ee-4b77-ae89-4d0a56825059",
   "metadata": {},
   "outputs": [],
   "source": [
    "def solve(model):\n",
    "    \n",
    "    par = model.par # contain all parameters\n",
    "    sol = model.sol # contain the solution\n",
    "     \n",
    "    # a. objective function (to minimize)\n",
    "    obj = lambda x: -model.u_func(x[0],x[1]) # minimize --> negative of utility\n",
    "    \n",
    "    # b. constraints and bounds\n",
    "    budget_constraint = lambda x: par.m-par.p1*x[0]-par.p2*x[1] #Income minus expenditure of good 1 and 2 ,violated if negative\n",
    "    constraints = ({'type': 'ineq', 'fun': budget_constraint}) # the budgetconstraint we define as an equality constraint\n",
    "    bounds = ((1e-8,par.m/par.p1-1e-8),(1e-8,par.m/par.p2-1e-8)) # bounds are: spent all on one good or the other + ensuring x1,x2>0\n",
    "    \n",
    "    # why all these 1e-8? To avoid ever having x1 = 0 or x2 = 0\n",
    "    \n",
    "    # c. call solver - using general solution for Cobb-Douglas\n",
    "    x0 = [(par.m/par.p1)/2,(par.m/par.p2)/2]\n",
    "    result = optimize.minimize(obj,x0,method='SLSQP',bounds=bounds,constraints=constraints)\n",
    "    \n",
    "    # d.save\n",
    "    sol.x1 = result.x[0]\n",
    "    sol.x2 = result.x[1]\n",
    "    sol.u = model.u_func(sol.x1,sol.x2)"
   ]
  },
  {
   "cell_type": "markdown",
   "id": "559128d4-66fe-421e-a88b-a87c42f71c8d",
   "metadata": {},
   "source": [
    "**Create consumer class:**"
   ]
  },
  {
   "cell_type": "code",
   "execution_count": 36,
   "id": "8ee361a6-7117-41f4-8a60-e68bc7f81d56",
   "metadata": {},
   "outputs": [],
   "source": [
    "class ConsumerClass:\n",
    "    \n",
    "    def __init__(self): \n",
    "        \n",
    "        # this is called automatically when a consumer is created\n",
    "        \n",
    "        # a. parameters\n",
    "        par = self.par = SimpleNamespace()\n",
    "        par.alpha = 0.5\n",
    "        par.sigma = 0.1\n",
    "        par.mu = 0.5\n",
    "        par.p1 = 1\n",
    "        par.p2 = 2\n",
    "        par.m = 10\n",
    "\n",
    "        # b. solution\n",
    "        sol = self.sol = SimpleNamespace()\n",
    "        sol.x1 = np.nan # empty\n",
    "        sol.x2 = np.nan\n",
    "        sol.u = np.nan\n",
    "        \n",
    "    u_func = u_func\n",
    "    solve = solve"
   ]
  },
  {
   "cell_type": "markdown",
   "id": "cb323698-0551-4bc0-bcb9-068766762b28",
   "metadata": {},
   "source": [
    "**Solve consumer problem**:"
   ]
  },
  {
   "cell_type": "code",
   "execution_count": 37,
   "id": "b2a35e42-77db-4d33-9d6e-dbb324a4a6ff",
   "metadata": {},
   "outputs": [
    {
     "name": "stdout",
     "output_type": "stream",
     "text": [
      "(x1,x2) = (3.489,3.256), u = 6.705\n"
     ]
    }
   ],
   "source": [
    "hc = ConsumerClass() # calls __init__()\n",
    "hc.solve()\n",
    "print(f'(x1,x2) = ({hc.sol.x1:.3f},{hc.sol.x2:.3f}), u = {hc.sol.u:.3f}')"
   ]
  },
  {
   "cell_type": "markdown",
   "id": "427ed5cb-8bd1-45fe-a87e-e2cb4f809f40",
   "metadata": {},
   "source": [
    "Easy to loop over different alpha values (we expect higher demand for good 1 as alpha increases!:"
   ]
  },
  {
   "cell_type": "code",
   "execution_count": 38,
   "id": "458b887d-9a0f-4818-bc27-fcb871db0ccb",
   "metadata": {},
   "outputs": [
    {
     "name": "stdout",
     "output_type": "stream",
     "text": [
      "alpha = 0.300 -> (x1,x2) = (1.868,4.066), u = 5.906\n",
      "alpha = 0.400 -> (x1,x2) = (2.632,3.684), u = 6.282\n",
      "alpha = 0.500 -> (x1,x2) = (3.489,3.256), u = 6.705\n",
      "alpha = 0.600 -> (x1,x2) = (4.456,2.772), u = 7.186\n",
      "alpha = 0.700 -> (x1,x2) = (5.556,2.222), u = 7.737\n"
     ]
    }
   ],
   "source": [
    "for alpha in np.linspace(0.3,0.7,5):\n",
    "    hc.par.alpha = alpha\n",
    "    hc.solve()\n",
    "    print(f'alpha = {alpha:.3f} -> (x1,x2) = ({hc.sol.x1:.3f},{hc.sol.x2:.3f}), u = {hc.sol.u:.3f}')"
   ]
  }
 ],
 "metadata": {
  "kernelspec": {
   "display_name": "Python 3 (ipykernel)",
   "language": "python",
   "name": "python3"
  },
  "language_info": {
   "codemirror_mode": {
    "name": "ipython",
    "version": 3
   },
   "file_extension": ".py",
   "mimetype": "text/x-python",
   "name": "python",
   "nbconvert_exporter": "python",
   "pygments_lexer": "ipython3",
   "version": "3.9.12"
  }
 },
 "nbformat": 4,
 "nbformat_minor": 5
}
