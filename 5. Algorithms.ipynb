{
 "cells": [
  {
   "cell_type": "markdown",
   "id": "b41133dd-9898-43c6-bc9f-a34fb46d6ad0",
   "metadata": {},
   "source": [
    "# Searching and sorting\n",
    "Now we're getting more into the 'numerical methods' part of the course!   \n",
    "\n",
    "We will dive into the following:\n",
    "* how to write **pseudo code** \n",
    "* **computational complexity** (big-O notion). \n",
    "* **search algorithms** (sequential, binary) \n",
    "* **sort algorithms** (bubble, insertion, quick)\n",
    "\n",
    "**Search** and **sort** algos are at the heart of computer science.   \n",
    "Understanding these is the first thing you get into at DIKU or DTU, so we are also going to get a taste of them. "
   ]
  },
  {
   "cell_type": "code",
   "execution_count": 10,
   "id": "13f411c3-8dcb-4648-a395-afd0b591f407",
   "metadata": {},
   "outputs": [],
   "source": [
    "import numpy as np\n",
    "import time\n",
    "import string\n",
    "import random\n",
    "import sys\n",
    "from IPython.display import Image\n",
    "\n",
    "%matplotlib inline \n",
    "import matplotlib.pyplot as plt         # Baseline module\n",
    "from mpl_toolkits.mplot3d import Axes3D # for 3D figures\n",
    "plt.style.use('seaborn-whitegrid')      # whitegrid nice with 3D"
   ]
  },
  {
   "cell_type": "markdown",
   "id": "19766589-e186-4444-8249-f97ea6e888ed",
   "metadata": {},
   "source": [
    "# Algorithms - what are they even?\n",
    "**Technically:** An unambigious specification of how to solve a class of problems.\n",
    "\n",
    "**In a nut shell:** *An algo is a recipe.*  \n",
    "Even a simple cooking recipe is an algorithm..\n",
    "\n",
    "    1. Preheat the oven\n",
    "    2. Mix flour, sugar and eggs\n",
    "    3. Pour into a baking pan\n",
    "    etc.\n",
    "    \n",
    "**Properties of an algorithm:**\n",
    "\n",
    "1. Unambigious termination criteria\n",
    "1. Pre-defined inputs\n",
    "2. Pre-defined ouputs\n",
    "3. Guaranteed finite runtime\n",
    "4. Correct result"
   ]
  },
  {
   "cell_type": "markdown",
   "id": "ba4a900e-d9ea-4037-80fb-580bb4c91b46",
   "metadata": {
    "tags": []
   },
   "source": [
    "## Simple example: $\\max\\{ \\ell\\}$\n",
    "**Problem:** Given a list of positive numbers, return the largest number in the list.\n",
    "\n",
    "**Inputs:** A list `L` of positive numbers.\n",
    "\n",
    "**Outputs:** A number.\n",
    "\n",
    "**Algorithm:** `find_max()`\n",
    "    \n",
    "  1. Set `max` to 0.\n",
    "  2. For each `x` in the list `L`, compare it to `max`. If `x` is larger, set `max` to `x`.\n",
    "  3. `max` is now set to the largest number in the list.\n",
    "  \n",
    "> **Note:** The above is called **pseudo-code** (understandable across programming languages).\n",
    "\n",
    "**Implementation** in Python:"
   ]
  },
  {
   "cell_type": "code",
   "execution_count": 2,
   "id": "a6a46f12-15ed-413a-a9ee-324f0436563f",
   "metadata": {},
   "outputs": [],
   "source": [
    "def find_max(L):\n",
    "    maxL = 0\n",
    "    for x in L:\n",
    "        if x > maxL:\n",
    "            maxL = x\n",
    "    return maxL"
   ]
  },
  {
   "cell_type": "markdown",
   "id": "c9c63c1b-2223-4537-b6af-328962dd4f3b",
   "metadata": {},
   "source": [
    "# Algorithm 1: Simple loops\n",
    "Remember the problem we wanted to solve:\n",
    "\n",
    "$$\n",
    "\\begin{aligned}\n",
    "V(p_{1},p_{2},I) & = \\max_{x_{1},x_{2}}u(x_{1},x_{2})\\\\\n",
    " & \\text{s.t.}\\\\\n",
    "p_{1}x_{1}+p_{2}x_{2} & \\leq I,\\,\\,\\,p_{1},p_{2},I>0\\\\\n",
    "x_{1},x_{2} & \\geq 0\n",
    "\\end{aligned}\n",
    "$$\n",
    "\n",
    "**Idea:** Loop through a grid of $N_1 \\times N_2$ hypothetical solutions.  \n",
    "This is the same as solving:\n",
    "$$\n",
    "\\begin{aligned}\n",
    "V(p_{1},p_{2},I) & = \\max_{x_{1}\\in X_1,x_{2} \\in X_2} x_1^{\\alpha}x_2^{1-\\alpha}\\\\\n",
    " & \\text{s.t.}\\\\\n",
    " X_1 & = \\left\\{0,\\frac{1}{N_1-1}\\frac{I}{p_1},\\frac{2}{N_1-1}\\frac{I}{p_1},\\dots,\\frac{I}{p_1}\\right\\} \\\\\n",
    " X_2 & = \\left\\{0,\\frac{1}{N_2-1}\\frac{I}{p_2},\\frac{2}{N_2-1}\\frac{ I}{p_2},\\dots,\\frac{ I}{p_2}\\right\\} \\\\\n",
    "p_{1}x_{1}+p_{2}x_{2} & \\leq I\\\\\n",
    "\\end{aligned}\n",
    "$$\n",
    "\\for example if $x_1 = \\frac{I}{p_1}$, then $x_2 = 0$ \\\n",
    "Where we used the budget constraint to create the **grids** $X_1$ and $X_2$\n",
    "\n",
    "In the module **grid_solve.py**, we have functions doing that.  \n",
    "We must **import** those functions before using them in the notebook.   \n",
    "First 2 lines ensures that we automatically load changes to any file while editing (**aalways add this**).  \n",
    "Next we load all functions from `grid_solve` (`*` means get all in general)"
   ]
  },
  {
   "cell_type": "markdown",
   "id": "3a7c5a6b-1f93-47c7-b56c-430d0b20225b",
   "metadata": {},
   "source": [
    "## A look at the algorithm\n",
    "Optimization Algorithms are iterative techniques that follow the following fundamental steps:\n",
    "- Initialize with a guess of the decision variables $x$\n",
    "- Iterate through the process of generating a list of improving estimates,\n",
    "- check whether the terminating conditions are met, and the estimates will be probably stop at the solution point $x^*$\n",
    "\n",
    "```Python\n",
    "# All modules used within a module must be imported locally\n",
    "import numpy as np\n",
    "\n",
    "# You need to respecify the u_func, because the module does not share scope with the notebook. \n",
    "# That is, the module functions cannot see that u_func was defined in the notebook when find_best_choice is called\n",
    "\n",
    "# remember Do One Thing principle is used here!\n",
    "def u_func(x1,x2,alpha=0.50):\n",
    "    return x1**alpha * x2**(1-alpha)\n",
    "\n",
    "def find_best_choice(alpha,I,p1,p2,N1,N2,do_print=True):\n",
    "    \n",
    "    # a. allocate numpy arrays\n",
    "    shape_tuple = (N1,N2)\n",
    "    x1_values = np.empty(shape_tuple)\n",
    "    x2_values = np.empty(shape_tuple)\n",
    "    u_values = np.empty(shape_tuple)\n",
    "    \n",
    "    # b. initialize guess of x1=x2=0\n",
    "    x1_best = 0\n",
    "    x2_best = 0\n",
    "    u_best = u_func(0,0,alpha=alpha)\n",
    "    \n",
    "    # c. loop through all possibilities\n",
    "    for i in range(N1):\n",
    "        for j in range(N2):\n",
    "            \n",
    "            # i. x1 and x2 (multiple/chained assignment)\n",
    "            # Chained assignments are used as a shortcut when you want to bind several variables to the same value.\n",
    "            x1_values[i,j] = x1 = (i/(N1-1))*I/p1\n",
    "            x2_values[i,j] = x2 = (j/(N2-1))*I/p2\n",
    "            \n",
    "            # ii. utility (must be feasible)\n",
    "            if p1*x1 + p2*x2 <= I: # u(x1,x2) if expenditures <= income \n",
    "                u_values[i,j] = u_func(x1,x2,alpha=alpha)\n",
    "            \n",
    "            else: # u(0,0) if expenditures > income, not allowed\n",
    "                u_values[i,j] = u_func(0,0,alpha=alpha)\n",
    "            \n",
    "            # iii. check if best sofar\n",
    "            if u_values[i,j] > u_best:\n",
    "                # update best\n",
    "                x1_best = x1_values[i,j]\n",
    "                x2_best = x2_values[i,j] \n",
    "                u_best = u_values[i,j]\n",
    "    \n",
    "    # d. print\n",
    "    if do_print:\n",
    "        print_solution(x1_best,x2_best,u_best,I,p1,p2)\n",
    "\n",
    "    return\n",
    "x1_best,x2_best,u_best,x1_values,x2_values,u_values\n",
    "\n",
    "# function for printing the solution\n",
    "# remember Do One Thing principle is used here!\n",
    "def print_solution(x1,x2,u,I,p1,p2):\n",
    "    print(f'x1 = {x1:.4f}')\n",
    "    print(f'x2 = {x2:.4f}')\n",
    "    print(f'u  = {u:.4f}')\n",
    "    print(f'I-p1*x1-p2*x2 = {I-p1*x1-p2*x2:.8f}') \n",
    "\n",
    "```"
   ]
  },
  {
   "cell_type": "code",
   "execution_count": 7,
   "id": "9526dfbf-de7f-4fd6-8a91-da8731bb45dc",
   "metadata": {},
   "outputs": [
    {
     "name": "stdout",
     "output_type": "stream",
     "text": [
      "The autoreload extension is already loaded. To reload it, use:\n",
      "  %reload_ext autoreload\n"
     ]
    }
   ],
   "source": [
    "# Ensures automatic reloading of module\n",
    "%load_ext autoreload \n",
    "%autoreload 2\n",
    "from grid_solve import * # Import all functions from module + REMEMBER U NEED GRID_SOLVE FILE!"
   ]
  },
  {
   "cell_type": "markdown",
   "id": "036e1ce3-1ff0-4945-bb76-ab53f3fb5ace",
   "metadata": {},
   "source": [
    "Go to `grid_solve` and inspect the function `find_best_choice`. It implements the algo above.   "
   ]
  },
  {
   "cell_type": "code",
   "execution_count": 8,
   "id": "4e1df622-2861-4323-ba3f-e37c2d858494",
   "metadata": {},
   "outputs": [
    {
     "name": "stdout",
     "output_type": "stream",
     "text": [
      "x1 = 2.5050\n",
      "x2 = 3.7469\n",
      "u  = 3.3881\n",
      "I-p1*x1-p2*x2 = 0.00125564\n"
     ]
    }
   ],
   "source": [
    "# Call function and see output\n",
    "# find_best_choice is the algo from `grid_solve.py`\n",
    "sol = find_best_choice(alpha=0.25, I=10,p1=1,p2=2,N1=500,N2=400,do_print=True)\n",
    "# See printed result below"
   ]
  },
  {
   "cell_type": "markdown",
   "id": "dc3b3055-4fda-4a2e-bd7e-b25007dcf4ae",
   "metadata": {},
   "source": [
    "**Plot the solution:**"
   ]
  },
  {
   "cell_type": "code",
   "execution_count": 12,
   "id": "3938de4b-b562-4b39-87f1-01f204003bb3",
   "metadata": {},
   "outputs": [
    {
     "data": {
      "image/png": "[encoded data removed]",
      "text/plain": [
       "<Figure size 600x400 with 1 Axes>"
      ]
     },
     "metadata": {},
     "output_type": "display_data"
    }
   ],
   "source": [
    "from matplotlib import cm # short for colourmaps\n",
    "#%mathplotlib widget\n",
    "# a. unpack solution\n",
    "x1_best,x2_best,u_best,x1_values,x2_values,u_values = sol\n",
    "\n",
    "# b. setup figure\n",
    "fig = plt.figure(dpi=100,num='')\n",
    "ax = fig.add_subplot(1,1,1,projection='3d')\n",
    "\n",
    "# c. plot 3d surface of utility values for different choices\n",
    "ax.plot_surface(x1_values,x2_values,u_values,cmap=cm.jet)\n",
    "ax.invert_xaxis()\n",
    "\n",
    "# d. plot optimal choice\n",
    "ax.scatter(x1_best,x2_best,u_best,s=50, color='black'); # s marker size\n",
    "\n",
    "# %matplotlib inline"
   ]
  },
  {
   "cell_type": "markdown",
   "id": "0b06653d-00ab-456b-9133-303296a56934",
   "metadata": {},
   "source": [
    "# Algorithm 2: Use monotonicity\n",
    "**Better idea:** Loop through a grid of $N$ possible solutions for $x_1$ and assume the remainder is spent on $x_2$.   \n",
    "This is the same as solving:\n",
    "\n",
    "$$\n",
    "\\begin{aligned}\n",
    "V(p_{1},p_{2},I) & = \\max_{x_{1}\\in X_1} x_1^{\\alpha}x_2^{1-\\alpha}\\\\\n",
    " \\text{s.t.}\\\\\n",
    " X_1 & = \\left\\{0,\\frac{1}{N-1}\\frac{}{p_1},\\frac{2}{N-1}\\frac{I}{p_1},\\dots,\\frac{I}{p_1}\\right\\} \\\\\n",
    "x_{2} & = \\frac{I-p_{1}x_{1}}{p_2}\\\\\n",
    "\\end{aligned}\n",
    "$$\n",
    "\n",
    "Function doing just this is `find_best_choice_monotone` in `grid_solve.py`"
   ]
  },
  {
   "cell_type": "code",
   "execution_count": 13,
   "id": "145675ed-b241-48f6-8da1-c2a53482021d",
   "metadata": {},
   "outputs": [
    {
     "name": "stdout",
     "output_type": "stream",
     "text": [
      "x1 = 2.5025\n",
      "x2 = 3.7487\n",
      "u  = 3.3885\n",
      "I-p1*x1-p2*x2 = 0.00000000\n"
     ]
    }
   ],
   "source": [
    "# a. Calling the algo using monotonicity\n",
    "sol_monotone = find_best_choice_monotone(alpha=0.25,I=10,p1=1,p2=2,N=1000)\n",
    "\n",
    "# b. unpack solution \n",
    "x1_best,x2_best,u_best,x1_values,x2_values,u_values = sol_monotone"
   ]
  },
  {
   "cell_type": "markdown",
   "id": "a1e8c8d8-874b-4815-86b2-60c1ac61833a",
   "metadata": {},
   "source": [
    "**Plot the solution:**"
   ]
  },
  {
   "cell_type": "code",
   "execution_count": 14,
   "id": "80d70a91-c5b1-456a-9742-3451d4808d3f",
   "metadata": {},
   "outputs": [
    {
     "data": {
      "image/png": "[encoded data removed]",
      "text/plain": [
       "<Figure size 720x288 with 2 Axes>"
      ]
     },
     "execution_count": 14,
     "metadata": {},
     "output_type": "execute_result"
    }
   ],
   "source": [
    "plt.style.use(\"seaborn-whitegrid\")\n",
    "\n",
    "# a. create the figure\n",
    "fig = plt.figure(figsize=(10,4)) #fig size in inches\n",
    "                 \n",
    "# b. left plot\n",
    "ax_left = fig.add_subplot(1,2,1) # 1 row 2 column plot and left graph index 1\n",
    "                 \n",
    "ax_left.plot(x1_values,u_values)\n",
    "ax_left.scatter(x1_best,u_best)\n",
    "                 \n",
    "ax_left.set_title('Value of Choice, $u(x_1,x_2)$')\n",
    "ax_left.set_xlabel('$x_1$')\n",
    "ax_left.set_ylabel('$u(x_1,(I-p_1-x_1)/p_2$')\n",
    "ax_left.grid(True) # If False then clear grid\n",
    "\n",
    "# c. right plot\n",
    "ax_right = fig.add_subplot(1,2,2) # 1 row 2 column plot and right graph index 2\n",
    "\n",
    "ax_right.plot(x1_values,x2_values)\n",
    "ax_right.scatter(x1_best,x2_best)\n",
    "\n",
    "ax_right.set_title('Implied $x_2$ as a function of $x_1$')\n",
    "ax_right.set_xlabel('$x_1$')\n",
    "ax_right.set_ylabel('$u(x_2$')\n",
    "ax_right.grid(True) \n",
    "plt.close(fig) # Suppress print to fit slides\n",
    "\n",
    "#Plot graph\n",
    "fig"
   ]
  },
  {
   "cell_type": "markdown",
   "id": "0660df88-4eb9-45b5-89f7-407fd9341b29",
   "metadata": {},
   "source": [
    "# Algorithm 3: Call a solver"
   ]
  },
  {
   "cell_type": "code",
   "execution_count": 15,
   "id": "d2b41d02-ef59-4b92-873d-5214ecffa900",
   "metadata": {},
   "outputs": [],
   "source": [
    "# Now we use the library scipy to do the heavy lifting\n",
    "from scipy import optimize"
   ]
  },
  {
   "cell_type": "markdown",
   "id": "955e31d0-d9d5-4ec2-93a2-fdc9e4a1522f",
   "metadata": {},
   "source": [
    "Choose parameters for economic model:"
   ]
  },
  {
   "cell_type": "code",
   "execution_count": 16,
   "id": "c91adb36-fd30-4f2b-b0de-dbdc56863848",
   "metadata": {},
   "outputs": [],
   "source": [
    "alpha = 0.25 # preference parameter\n",
    "I = 10       # income\n",
    "p1 = 1       # price 1 \n",
    "p2 = 2       # privce 2"
   ]
  },
  {
   "cell_type": "markdown",
   "id": "9a7a5c6e-1205-41c6-8ca5-334b73867643",
   "metadata": {},
   "source": [
    "### Case 1 - Scalar solver using montonicity  \n",
    "Note that we are calling a **minimizer**. Take **negative** of utility.  \n",
    "Recall that we if we spend everything on good one, we get $x_1 = I/p_1$.\n",
    "\n",
    "Here we use minimization of scalar function of one variable."
   ]
  },
  {
   "cell_type": "code",
   "execution_count": 19,
   "id": "1ceef916-c05b-4791-83b3-94f9950f03de",
   "metadata": {},
   "outputs": [
    {
     "name": "stdout",
     "output_type": "stream",
     "text": [
      "x1 = 2.5000\n",
      "x2 = 3.7500\n",
      "u  = 3.3885\n",
      "I-p1*x1-p2*x2 = 0.00000000\n"
     ]
    }
   ],
   "source": [
    "# a. objective function (to minimize)\n",
    "def value_of_choice(x1,alpha,I,p1,p2):   # creating objective function our optimizer takes\n",
    "    x2 = (I-p1*x1)/p2\n",
    "    return -u_func(x1,x2,alpha)  # remember to negate for maximization\n",
    "\n",
    "# b. call solver   \n",
    "sol_case1 = optimize.minimize_scalar(\n",
    "    value_of_choice,         # our objective function\n",
    "    method='bounded',        # 'bounded' uses brent to find local minimum in interval\n",
    "    bounds=(0,I/p1),         # x1 has to be within 0 and Income divided by price of good 1\n",
    "    args=(alpha,I,p1,p2))    # tuple that resembles what we want to put into function after x1 \n",
    "# (i.e. the other arguments in the objective function)\n",
    "\n",
    "# c. unpack solution \n",
    "x1 = sol_case1.x             # optimize over x1, x is return of solution array\n",
    "x2 = (I-p1*x1)/p2            # implied optimal x2\n",
    "u = u_func(x1,x2,alpha)      # implied utility\n",
    "\n",
    "if sol_case1.success:\n",
    "    print_solution(x1,x2,u,I,p1,p2)\n",
    "    \n",
    "else: print(\"Sorry, could not find a maximum.\")"
   ]
  },
  {
   "cell_type": "markdown",
   "id": "55c93490-7427-4e22-94ea-1e509d093e2b",
   "metadata": {},
   "source": [
    "### Case 2 - **Multi-dimensional constrained** solver, the *SLSQP*.\n",
    "`SLSQP`: This is the Sequential Least Squares Programming method used for minimizing objective functions of multiple variables taking into consideration any combinations of bounds on the variables, any equality or inequality constrains imposed on them."
   ]
  },
  {
   "cell_type": "code",
   "execution_count": 20,
   "id": "51b09e1b-8b3d-407e-a264-8863d3943fcd",
   "metadata": {},
   "outputs": [
    {
     "name": "stdout",
     "output_type": "stream",
     "text": [
      "x1 = 2.4994\n",
      "x2 = 3.7503\n",
      "u  = 3.3885\n",
      "I-p1*x1-p2*x2 = 0.00000000\n"
     ]
    }
   ],
   "source": [
    "# a. objective function (to minimize)\n",
    "def value_of_choice(x,alpha,I,p1,p2):\n",
    "    # note x is an array, but u_func takes scalars!\n",
    "    return -u_func(x[0], x[1],alpha) # remember to negate\n",
    "\n",
    "# b. constraints (violated if negative) and bounds, x is an array\n",
    "# see cnote\n",
    "constraints = ({'type': 'ineq', 'fun': lambda x: I-p1*x[0]-p2*x[1]}) \n",
    "bounds = ((0,I/p1),(0,I/p2)) \n",
    "\n",
    "# c. call solver, use SLSQP\n",
    "initial_guess = [I/p1/2,I/p2/2]\n",
    "\n",
    "sol_case2 = optimize.minimize(\n",
    "    value_of_choice, initial_guess, args=(alpha,I,p1,p2),\n",
    "    method='SLSQP', bounds=bounds, constraints=constraints)\n",
    "\n",
    "# d. unpack solution, by default SLSQP returns a ndarray, shape (n,\n",
    "x1 = sol_case2.x[0]\n",
    "x2 = sol_case2.x[1]\n",
    "u = u_func(x1,x2,alpha)\n",
    "print_solution(x1,x2,u,I,p1,p2)"
   ]
  },
  {
   "cell_type": "markdown",
   "id": "2fab00cc-eed4-40c3-a720-0a1c352efda4",
   "metadata": {},
   "source": [
    "- note, Then constraints are defined as a sequence of dictionaries, with keys type, fun and jac.\n",
    "```Python\n",
    ">>> cons = ({'type': 'eq',\n",
    "...          'fun' : lambda x: np.array([x[0]**3 - x[1]]),\n",
    "...          'jac' : lambda x: np.array([3.0*(x[0]**2.0), -1.0])},\n",
    "...         {'type': 'ineq',\n",
    "...          'fun' : lambda x: np.array([x[1] - 1]),\n",
    "...          'jac' : lambda x: np.array([0.0, 1.0])})\n",
    "```"
   ]
  },
  {
   "cell_type": "markdown",
   "id": "8012fee6-538a-401d-b945-c2537770c719",
   "metadata": {},
   "source": [
    "### Case 3 - **Multi-dimensional *unconstrained*** solver with constrains implemented via penalties."
   ]
  },
  {
   "cell_type": "code",
   "execution_count": 21,
   "id": "1eb1f9d4-9f8c-4f8e-961b-3d140808c2cb",
   "metadata": {},
   "outputs": [
    {
     "name": "stdout",
     "output_type": "stream",
     "text": [
      "x1 = 2.5000\n",
      "x2 = 3.7500\n",
      "u  = 3.3885\n",
      "I-p1*x1-p2*x2 = 0.00000000\n"
     ]
    }
   ],
   "source": [
    "# a. objective function (to minimize)\n",
    "def value_of_choice(x,alpha,I,p1,p2):\n",
    "    \n",
    "    # i.unpack\n",
    "    x1 = x[0]\n",
    "    x2 = x[1]\n",
    "    \n",
    "    # ii. penalty\n",
    "    penalty = 0\n",
    "    E = p1*x1 + p2*x2 # Total expenses\n",
    "    if E > I: # expenses > income -> not allowed\n",
    "        fac = I/E # fac <1 if too high expenses, fac is a factor to normalize\n",
    "        penalty += 1000*(E-I) # calculate penalty \n",
    "        x1 *= fac # Force E = I, renormalize to max_value\n",
    "        x2 *= fac # Force E = I, renormalize to max_value\n",
    "        \n",
    "    return -u_func(x1,x2,alpha) + penalty # the error\n",
    "\n",
    "# b. call solver\n",
    "initial_guess = [I/p1/2,I/p2/2]\n",
    "sol_case3 = optimize.minimize(\n",
    "    value_of_choice,initial_guess,method='Nelder-Mead',\n",
    "    args=(alpha,I,p1,p2))\n",
    "\n",
    "# c. unpack solution\n",
    "x1 = sol_case3.x[0]\n",
    "x2 = sol_case3.x[1]\n",
    "u = u_func(x1,x2,alpha)\n",
    "print_solution(x1,x2,u,I,p1,p2)"
   ]
  },
  {
   "cell_type": "markdown",
   "id": "bfa6e1a1-52bf-4c33-9157-8307696a7b2d",
   "metadata": {},
   "source": [
    "# Algorithmic complexity\n",
    "\n",
    "Algorithms can be characterized by the number of operations needed to perform them. This is called their complexity. \n",
    "\n",
    "The `find_max()` algorithm has `n = len(L)` operations each making a *comparison* (`x > max`) and (perhaps) an *assignment* (`max = x`).\n",
    "\n",
    "The number of operations increase linearily in the length of the input list (the order of the function is linear).\n",
    "\n",
    "**Mathematically** we say that `find_max()` has linear complexity, \\\\(O(n)\\\\) where $n$ is the input size (length of L).\n",
    "\n",
    "Other **common levels of complexity** are:\n",
    "\n",
    "1. Constant, $O(1)$ (i.e. independent of input size)\n",
    "2. Logarithmic, $O(\\log n)$\n",
    "3. Linear, $O(n)$\n",
    "4. Log-linear, $O(n \\log n)$\n",
    "5. Quadratic, $O(n^2)$\n",
    "6. Cubic, $O(n^3)$\n",
    "7. Exponential, $O(2^n)$ (**curse of dimensionality**)"
   ]
  },
  {
   "cell_type": "markdown",
   "id": "85e4b6e8-d111-4ca9-acab-400084575436",
   "metadata": {},
   "source": [
    "If the performance of an algorithm **depends on the exact values of the input** we differentiate between\n",
    "\n",
    "1. **Best** case\n",
    "2. **Average** case (across all possible inputs)\n",
    "3. **Worst** case\n",
    "\n",
    "Complexity is an **asymptotic** measure,\n",
    "\n",
    "1. Only the number of operations matter (not their type or cost)\n",
    "2. Only the highest order matter"
   ]
  },
  {
   "cell_type": "markdown",
   "id": "0a182e66-728c-401c-9f71-3f06fb5446f4",
   "metadata": {},
   "source": [
    "<img src=\"https://github.com/NumEconCopenhagen/lectures-2019/raw/master/08/bigO.png\" alt=\"bigO\" width=40% />"
   ]
  },
  {
   "cell_type": "markdown",
   "id": "9ec0b9fc-3ec9-420a-a309-8239f4a6ae15",
   "metadata": {},
   "source": [
    "**In practice however:** \n",
    "\n",
    "* The cost of each operation matters for fixed input size.\n",
    "* The amount and flow of **memory** matter for speed (cache vs. RAM vs. disc). \n",
    "* Therefore, it is **not guaranteed** that an algorithm of lower complexity executes faster than that of higher complexity for all cases.  \n",
    "    Especially, there may be differences in the costs of memory allocation and deletion which are not counted into the measure of complexity. In the case above, we were not counting in the *deletion* of objects, that would necessarily follow.   "
   ]
  },
  {
   "cell_type": "markdown",
   "id": "8b34f79f-723e-49d0-aa6b-403be9352333",
   "metadata": {},
   "source": [
    "## Example of a complexity calculation"
   ]
  },
  {
   "cell_type": "code",
   "execution_count": 9,
   "id": "f7141917-59ea-4706-8777-e0950caf3add",
   "metadata": {},
   "outputs": [],
   "source": [
    "def demo_algorithm(n):\n",
    "    \n",
    "    # a. 3 assignments\n",
    "    a = 5\n",
    "    b = 6\n",
    "    c = 10\n",
    "    \n",
    "    # b. 3*n^2 multiplications and 3*n^2 assignments\n",
    "    for i in range(n):\n",
    "        for j in range(n):\n",
    "            x = i * i\n",
    "            y = j * j\n",
    "            z = i * j \n",
    "            \n",
    "    # c. multiplications, additions, and assignments \n",
    "    #      + n multiplications and assignments\n",
    "    for k in range(n):\n",
    "        w = a*k + 45\n",
    "        v = b*b\n",
    "        \n",
    "    # d. 1 assignment\n",
    "    d = 33"
   ]
  },
  {
   "cell_type": "markdown",
   "id": "7df0ae61-558f-44aa-97d6-bf6c92b373b3",
   "metadata": {},
   "source": [
    "The **total number of operations** are:  $T(n) = 3 + 6n^2 + 5n + 1 = 6n^2 + 5n + 4$\n",
    "\n",
    "Notice: this is an exposition of operations. There are of course also operations involved in multiplication itself, which means that the number above is not indicative of the *total* number of operations that the computer must handle.  "
   ]
  },
  {
   "cell_type": "markdown",
   "id": "90ff0048-a83f-4178-8ce3-bb8ee33da4fb",
   "metadata": {},
   "source": [
    "**In big-O notation**: `demo_algorithm()` is $O(n^2)$, i.e. *quadratic complexity*\n",
    "-remember bi-O notation ignores constants: 5(n) --> O(n), as n grows 5 doesn't matter\n",
    "-low order terms dominated by high-order ones, therefore big 'oh' of n is dropped in this example \n"
   ]
  },
  {
   "cell_type": "markdown",
   "id": "eedef0a8-3134-4582-8905-3f2c15f52631",
   "metadata": {},
   "source": [
    "**$\\large \\color{purple}{Question}$:** What is the complexity of these two algoritms?\n",
    "\n"
   ]
  },
  {
   "cell_type": "code",
   "execution_count": 4,
   "id": "9a89f5aa-bbe1-49f0-8879-7f092c84bdc2",
   "metadata": {},
   "outputs": [],
   "source": [
    "def algorithm_a(n):\n",
    "    s = 0\n",
    "    for i in range(n):\n",
    "        for j in range(n):\n",
    "            for k in range(n):\n",
    "                s += 1\n",
    "\n",
    "def algorithm_b(n):\n",
    "    s = 0\n",
    "    for i in range(n):\n",
    "        s *= 2\n",
    "    for j in range(n):\n",
    "        s *= 2\n",
    "    for k in rangev(n):\n",
    "        s *= 2"
   ]
  },
  {
   "cell_type": "markdown",
   "id": "ee915db8-1961-45cc-86a8-287655c30a8f",
   "metadata": {},
   "source": [
    "**Solution**: big-O is O(n^3) and 3*O(n)-->O(n)"
   ]
  },
  {
   "cell_type": "markdown",
   "id": "1b6b201f-c422-4423-bf86-5563fd0b983c",
   "metadata": {},
   "source": [
    "## The complexity of operations on data containers\n",
    "\n",
    "### How are lists and dictionaries structured?\n",
    "\n",
    "The fact that our data containers have a certain structure in memory matters *greatly* for the speed of the methods (read: algos) that we apply on them.\n",
    "\n",
    "Let's have a look at how lists and dictionaries are organized.\n",
    "\n",
    "**Lists:**\n",
    "* A list is an ordered set of references to objects (eg. floats). \n",
    "* Each reference *points* to an address in memory where values are stored.\n",
    "* The reference variables of addresses (called pointers) of data in a list are ligned up next to each other in memory, such that they are increments of `1` apart. A bit like a train, if you will.\n",
    "* Need therefore **only** to keep track of the reference to the address of the **first element**, `l[0]`, and the rest follows in line.\n",
    "* If by $a$ we denote the address of the first element of `l`, then looking up element `l[i]` means accessing the $a+i$ address in memory using its reference variable.\n",
    "* Therefore, the algorithmic complexity of looking up an element `l[i]` does **not depend** on the size of `l`. *Which is nice.* "
   ]
  },
  {
   "cell_type": "code",
   "execution_count": 5,
   "id": "40611daf-14c5-49af-9674-de5c8a28419b",
   "metadata": {},
   "outputs": [
    {
     "name": "stdout",
     "output_type": "stream",
     "text": [
      "Id of each element in x:\n",
      "140615905057200\n",
      "140615905057712\n",
      "140615905058000\n",
      "140615905058160\n",
      "\n",
      "Memory address of elements in x:  ['0x7fe3b11219b0', '0x7fe3b1121bb0', '0x7fe3b1121cd0', '0x7fe3b1121d70']\n"
     ]
    }
   ],
   "source": [
    "# A demonstration of addresses of elements in a list\n",
    "x = [5, 21, 30, 35]\n",
    "x_ref = [] \n",
    "x_id = []\n",
    "\n",
    "# The addresses of x's elements\n",
    "for i in x:\n",
    "    x_id.append(id(i)) # Each object has its own unique id\n",
    "    x_ref.append(hex(x_id[-1])) # The memory address is a hexadecimal of the id\n",
    "\n",
    "# The addresses printed below are NOT lined up next to each other in memory. \n",
    "# Only the reference variables are lined up, but those we cannot see directly in Python.\n",
    "print('Id of each element in x:')\n",
    "for i in x_id:\n",
    "    print(i)\n",
    "print('\\nMemory address of elements in x: ', x_ref)"
   ]
  },
  {
   "cell_type": "markdown",
   "id": "36ef1354-ebf6-4e82-b7c8-4d628bae7a34",
   "metadata": {},
   "source": [
    "### A quick overview of list operations\n",
    "\n",
    "|Operation  | Code \t\t\t\t| Complexity     |\n",
    "|:----------|:------------------|:--------------:|\n",
    "|**Index:** |\t`l[i]`          |\t$O(1)$\t     |\n",
    "|**Store:** |\t`l[i] = 0`      |\t $O(1)$\t     |\n",
    "|**Length:** |\t`len(l)`        |\t $O(1)$\t     |\n",
    "|**Append:** |\t`l.append(n)`   |\t $O(1)$\t     |\n",
    "|**Slice:** |\t`l[a:b]`        |\t $O(b-a)$\t |\n",
    "|**Pop last:** |\t    `l.pop()`       |\t $O(1)$\t     |\n",
    "|**Pop i:** |\t    `l.pop(i)`      |\t $O(N)$\t     |\n",
    "|**Clear:** |\t`l.clear()`     |\t $O(N)$\t     |\n",
    "|**check:** |\t`l1 == l2`      |\t $O(N)$      |\n",
    "|**Insert:** |\t`l[a:b] = ...`  |\t $O(N)$\t     |\n",
    "|**Delete:** |\t`del l[i]`      |\t $O(N)$\t     |\n",
    "|**Containment:** |\tx `in/not in l` |\t $O(N)$\t |\n",
    "|**Copy:** |\t`l.copy()`      |\t $O(N)$\t     |\n",
    "|**Sort:** |\t`l.sort()`      |\t $O(N $Log$ N)$   |\n",
    "\n",
    "**A few notes:** \n",
    "* Getting the length of a list is $O(1)$ because Python keeps track of a list's size as it created and expanded. The length is stored as an attribute to the list. \n",
    "* Popping (getting the last element) is $O(1)$ because it only requires detaching the last reference in the \"train\" of references that comprises a list. \n",
    "* Inserting an element into, or removing it from, the middle of a list requires moving around all the references in memory \"behind\" the inserted element and is therefore $O(N)$. \n",
    "* Checking for containment of an element is $O(N)$ because all elements in the list may have to be visited. "
   ]
  },
  {
   "cell_type": "markdown",
   "id": "53cc2f72-b397-4539-87dc-3e25a6182810",
   "metadata": {},
   "source": [
    "### A beautiful solution\n",
    "**Question:** how do you delete element `i` from list `l` in $O(1)$? (*even when it says above that `del` is an $O(N)$ operation*)   \n",
    "\n",
    "**Answer:**"
   ]
  },
  {
   "cell_type": "markdown",
   "id": "e132ae8c-6792-46e0-b395-9a609b851d54",
   "metadata": {},
   "source": [
    "`l[i] = l.pop()`   \n",
    "\n",
    "The `pop` operation will delete the last element of `l` while also using it to overwrite element `i` in `l`. Hence, last element is preserved while element `i` disappears. \n",
    "\n",
    "**Note** this won't work if `i` is the last element. A full implementation needs to account for this, but it will still be $O(1)$.\n",
    "\n"
   ]
  },
  {
   "cell_type": "markdown",
   "id": "2c10c2fb-1e17-4c27-b94f-70749a4da639",
   "metadata": {},
   "source": [
    "**Dictionaries:**\n",
    "* A dictionary is a set of *buckets* (think lists) which can store items.\n",
    "* A dictionary with 1 element and 5 buckets: `[] - [] - [] - [<key,value>] - []`\n",
    "* Contrary to lists, there is no explicit indexing of a dictionary. No `d[i]`, we can use a string instead, `d[str]`. \n",
    "* However, the buckets of a dictionary are lined up just like a the references in a list. \n",
    "* Python therefore needs to locate a bucket, when adding a `<key,value>` pair. \n",
    "* Buckets are located using a **hash function** on the key of an element. \n",
    "* This **hash function** converts the key to a integer number, which can then serve as an index. \n",
    "* Obviously, a useful hash function must be very fast and work on strings as well as floats. \n",
    "* A fast hash function enables $O(1)$ lookup in a dictionary.\n",
    "* Hashing also implies that `key in dict.keys()` is $O(1)$, thus independent of dictionary size! (Very handy)\n",
    "* When an empty dictionary is created, it contains 5 buckets. As a 6th element is added to the dictionary, it is rescaled to 10 buckets. At 11 elements, rescaled to 20 buckets and so on. \n",
    "* Dictionaries thus **pre-allocate** memory to be efficient when adding the next element. \n",
    "* *Taking up memory in favor of fast execution is a basic trade-off in algorithms!*  "
   ]
  },
  {
   "cell_type": "code",
   "execution_count": 6,
   "id": "93db0d63-c941-48af-975b-07b7130996bb",
   "metadata": {},
   "outputs": [
    {
     "name": "stdout",
     "output_type": "stream",
     "text": [
      "size of md in bytes: 232\n",
      "key: m  value:  0.319 \t  size:  1   bytes: 232 \t hashed key: 7916298027240222066\n",
      "key: d  value:  0.754 \t  size:  2   bytes: 232 \t hashed key: 1759385477817345705\n",
      "key: v  value:  0.466 \t  size:  3   bytes: 232 \t hashed key: 8267407462748489640\n",
      "key: t  value:  0.497 \t  size:  4   bytes: 360 \t hashed key: 6145024203122979532\n",
      "key: n  value:  0.010 \t  size:  5   bytes: 360 \t hashed key: -5461290290935452715\n",
      "key: P  value:  0.492 \t  size:  6   bytes: 360 \t hashed key: 3280040346658119569\n",
      "key: f  value:  0.675 \t  size:  7   bytes: 360 \t hashed key: -3688833156443320346\n",
      "key: Z  value:  0.375 \t  size:  8   bytes: 360 \t hashed key: 9093898243244303425\n",
      "key: r  value:  0.822 \t  size:  9   bytes: 640 \t hashed key: -3495555808124913592\n",
      "key: Q  value:  0.379 \t  size: 10   bytes: 640 \t hashed key: -439426990254059589\n",
      "key: s  value:  0.623 \t  size: 11   bytes: 640 \t hashed key: 3242937649645545749\n",
      "key: K  value:  0.677 \t  size: 12   bytes: 640 \t hashed key: 8054177336983214130\n",
      "key: E  value:  0.587 \t  size: 13   bytes: 640 \t hashed key: -3675555112108112905\n",
      "key: L  value:  0.735 \t  size: 14   bytes: 640 \t hashed key: -5523177076741848038\n",
      "key: J  value:  0.695 \t  size: 15   bytes: 640 \t hashed key: 566094829346277866\n",
      "key: Y  value:  0.529 \t  size: 16   bytes: 640 \t hashed key: 5811017667902899151\n",
      "key: k  value:  0.620 \t  size: 17   bytes: 640 \t hashed key: 7698461879359714685\n",
      "key: U  value:  0.352 \t  size: 18   bytes: 640 \t hashed key: -3893282003945658882\n",
      "key: z  value:  0.986 \t  size: 19   bytes: 640 \t hashed key: 3469799880399769032\n",
      "key: H  value:  0.807 \t  size: 20   bytes: 640 \t hashed key: 7561522246021150357\n",
      "key: c  value:  0.649 \t  size: 21   bytes: 1176 \t hashed key: 8904401282893923867\n",
      "key: b  value:  0.442 \t  size: 22   bytes: 1176 \t hashed key: 5006851628426999625\n",
      "key: E  value:  0.811 \t  size: 23   bytes: 1176 \t hashed key: -3675555112108112905\n",
      "key: D  value:  0.949 \t  size: 24   bytes: 1176 \t hashed key: -7067506155203342063\n",
      "key: i  value:  0.447 \t  size: 25   bytes: 1176 \t hashed key: 4434036846229893207\n"
     ]
    }
   ],
   "source": [
    "d = {'x': 1, 'z': 2}\n",
    "print('size of md in bytes:', sys.getsizeof(d))\n",
    "\n",
    "# Start adding elements to d and see how memory usage changes\n",
    "for i in range(25):\n",
    "    key = random.choice(string.ascii_letters)\n",
    "    value = random.random()\n",
    "    d[key] = value\n",
    "    print(f\"key: {key}  value: {value: 1.3f} \\t  size: {i+1:2.0f}   bytes: {sys.getsizeof(d)} \\t hashed key: {hash(key)}\")\n",
    "    \n",
    "# Notice that there may be collisions as some keys are similar, and therefore get same hash value. \n",
    "# Python can handle such collisions, but they do create a drag on performance. "
   ]
  },
  {
   "cell_type": "markdown",
   "id": "8092780f-3ff4-4182-9b6b-630590314784",
   "metadata": {},
   "source": [
    "\n",
    "### A quick overview of dictionary operations\n",
    "\n",
    "|Operation  | Code \t\t\t\t| Complexity     |\n",
    "|:----------|:------------------|:--------------:|\n",
    "|**Index:** |\t`d[k]`          |\t$O(1)$\t     |\n",
    "|**Store:** |\t`d[k] = v`      |\t $O(1)$\t     |\n",
    "|**Delete:** |\t`del d[k]`      |\t $O(1)$\t     |\n",
    "|**Length:** |\t`len(d)`        |\t $O(1)$\t     |\n",
    "|**Clear:** |\t`d.clear()`     |\t $O(1)$\t     |\n",
    "|**View:** |\t`d.keys()`      |\t $O(1)$\t     |\n",
    "\n",
    "Notice the difference in complexity for **deletions**. Faster in dictionaries because they are unordered. \n",
    "\n",
    "You can checkout a [comprehensive table](https://www.ics.uci.edu/~pattis/ICS-33/lectures/complexitypython.txt) of Python operations' complexity."
   ]
  },
  {
   "cell_type": "markdown",
   "id": "b84fa3f2-afe1-4c11-af20-db675b276657",
   "metadata": {},
   "source": [
    "## Multiplication and Karatsuba's algorithm\n",
    "\n",
    "Ever wondered how Python multiplies two numbers? It actually depends on the size of those numbers! \n",
    "\n",
    "**Small numbers:** 3rd grade algorithm. **Large numbers:** Karatsuba's algorithm. \n",
    "\n",
    "### Demonstration \n",
    "\n",
    "Consider the multiplication $2275 \\times 5013 = 11,404,575$\n",
    "\n",
    "**3rd grade algorithm**  \n",
    "(this one we all know - although it's been a while)  \n",
    "The 3rd grade algorithm is $O(n^2)$. To see this, think of the multiplication part as nested for-loops throughout the 10s, 100s, 1000s etc. Then there is the addition part, which is also $O(n^2)$."
   ]
  },
  {
   "cell_type": "markdown",
   "id": "b4dc61fc-37f7-49cc-91ea-6703cb21cf3e",
   "metadata": {},
   "source": [
    "**Karatsuba's algorithm**\n",
    "\n",
    "It is not super intuitive what goes on here. But basically, it's splitting the numbers to be multiplied into multiples of 10s and then performs operations on those splits. \n",
    "\n",
    "The algorithm is only $O(n^{log_3})$, so better than 3rd grade algorithm for large $n$.\n",
    "\n",
    "**Some preparation:**  \n",
    "\n",
    "$x = 2275$, $y = 5013$\n",
    "\n",
    "Note the identities:  \n",
    "$x = 22 \\times 10^2 + 75$  \n",
    "$y = 50 \\times 10^2 + 13$\n",
    "\n",
    "We denote:  \n",
    "$x_a = 22,  \\: x_b = 75$  \n",
    "$y_a = 50,  \\: y_b = 13$\n",
    "\n",
    "**The algorithm**\n",
    "\n",
    "*First compute:*\n",
    "\n",
    "$A = x_a \\times y_a$  \n",
    "$B = x_b \\times y_b$  \n",
    "$C = (x_a + x_b) \\times (y_a +y_b) - A - B$\n",
    "\n",
    "*Then we have that*  \n",
    "\n",
    "$x \\times y = A \\times 10^4 + C\\times 10^2 + B$\n",
    "\n",
    "**In numbers**\n",
    "\n",
    "$A = 22 \\times 50 = 1100$  \n",
    "$B = 75 \\times 13 = 975$  \n",
    "$C = (22 + 75)(50 + 13) - 1100 - 975   = 4036$  \n",
    "\n",
    "$x \\times y = 1100 \\times 10^4 + 4036\\times 10^2 + 975 = 11,404,575$"
   ]
  },
  {
   "cell_type": "markdown",
   "id": "057285c6-2ad5-4d1d-8591-6d239229777f",
   "metadata": {},
   "source": [
    "## Linear search (also called sequential search)\n",
    "**GREAT VIDEO ON LINEAR SEARCH AND BINARY SEARCH:** https://www.youtube.com/watch?v=0AUYaLo64iI \\\n",
    "**Problem:** Check whether element is in list. See the `containment` row in the list of complexity above.\n",
    "\n",
    "**Inputs:** A list `L` and a potential element `x`.\n",
    "    \n",
    "**Outputs:** Boolean.\n",
    "\n",
    "**Algorithm:** `linear_search()`\n",
    "\n",
    "  1. Set variable `found == False`\n",
    "  2. For each `y` in the list `L`, compare it to `x`. If `x == y` set `found = True` and break loop.\n",
    "  3. `found` now shows whether the element is in the list or not"
   ]
  },
  {
   "cell_type": "markdown",
   "id": "023a789a-5e76-41ed-908b-44675d33393d",
   "metadata": {},
   "source": [
    "**Drawback**: Linear search is rarely used practically because other search algorithms such as the binary search algorithm and hash tables allow significantly faster-searching comparison to Linear search!"
   ]
  },
  {
   "cell_type": "code",
   "execution_count": 11,
   "id": "5c2de71f-8001-4557-9533-770b54ae84df",
   "metadata": {},
   "outputs": [],
   "source": [
    "L = [1, 2, 32, 8, 17, 19, 42, 13, 0] # test list"
   ]
  },
  {
   "cell_type": "code",
   "execution_count": 12,
   "id": "18b426cc-1d64-4aa1-a332-9bb4503a92b9",
   "metadata": {},
   "outputs": [],
   "source": [
    "def linear_search(L,x):\n",
    "    \"\"\" linear search\n",
    "    \n",
    "    Args:\n",
    "    \n",
    "        L (list): List to search in.\n",
    "        x (any): Element to search for.\n",
    "        \n",
    "    Returns:\n",
    "    \n",
    "        found (bool): Boolean for whether element is in list or not.\n",
    "    \n",
    "    \"\"\"\n",
    "    \n",
    "    # a. prep\n",
    "    i = 0\n",
    "    N = len(L)\n",
    "    found = False\n",
    "\n",
    "    # b. main\n",
    "    while i < N and not found:\n",
    "        if L[i] == x: # comparison\n",
    "            found = True\n",
    "        else:\n",
    "            i += 1 # increment\n",
    "\n",
    "    # c. return\n",
    "    return found"
   ]
  },
  {
   "cell_type": "code",
   "execution_count": 13,
   "id": "f152daf4-dbee-4704-8da8-212f6d711d14",
   "metadata": {},
   "outputs": [
    {
     "name": "stdout",
     "output_type": "stream",
     "text": [
      "found  3: False\n",
      "found 13: True\n"
     ]
    }
   ],
   "source": [
    "print('found  3:',linear_search(L,3))\n",
    "print('found 13:',linear_search(L,13))"
   ]
  },
  {
   "cell_type": "markdown",
   "id": "e3839cdd-861f-44e6-8278-8761f4951db6",
   "metadata": {},
   "source": [
    "**Analysis:** Each operation consists of a *comparison* and an *increment*:\n",
    "\n",
    "1. **Best case:** $O(1)$ (element present and first in list, i.e. first guess = correct)\n",
    "2. **Average case:** \n",
    "  * $O(\\frac{n}{2})=O(n)$ (if element present), or \n",
    "  * $O(n)$ (if element *not* present) \n",
    "3. **Worst case:** $O(n)$ (element not present or last in list)\n",
    "\n",
    "\n",
    "**Note:** Much faster ($O(1)$) on a dictionary, because we just apply the hash function to `x`."
   ]
  },
  {
   "cell_type": "markdown",
   "id": "e031aaa3-d770-4092-8fcf-b542b231818a",
   "metadata": {},
   "source": [
    "## Binary search (\"the phonebook search\")\n",
    "**Problem:** You know that a list is sorted. Check whether an element is contained in it. If not contained, then we will have a stopping condition i.e. pointers cross each other then \"NOT FOUND\".\n",
    "\n",
    "**Inputs:** A list `L` and a potential element `x`.\n",
    "    \n",
    "**Outputs:** Boolean.\n",
    "\n",
    "**Algorithm:** `binary_search()` --Remember we need to have sorted list--\n",
    "  1. Set `found` to `False`, \n",
    "  2. Locate the `midpoint` of the list part that remains to be searched.  \n",
    "  2. Check whether the `midpoint` is the one we are searching for:  \n",
    "        * If yes, set `found=True` and go to step 3.\n",
    "        * If no, and the `midpoint` is *larger*, restrict attention to the *left* part of the list and restart step 2 if not empty. I.e, \"high\" point is now excatly to the left of the midpoint AND RESET THE MIDPOINT.\n",
    "        * If no, and the `midpoint` is *smaller*, restrict attention to the *right* part of the list and restart step 2 if not empty.\n",
    "  3. `found` now shows whether the element is in the list or not"
   ]
  },
  {
   "cell_type": "markdown",
   "id": "b9bc7bdc-25ec-4009-91eb-37e72bc04bf4",
   "metadata": {},
   "source": [
    "**Middle element:** Define the midpoint between index `i` and index `j >= i` as `i + (j-i)/2`, rounded down if necessary."
   ]
  },
  {
   "cell_type": "code",
   "execution_count": 15,
   "id": "e5bc3e64-d69a-4d77-bf6c-7aee396cfa58",
   "metadata": {},
   "outputs": [
    {
     "name": "stdout",
     "output_type": "stream",
     "text": [
      "(i,j) = (0, 4) -> midpoint = 2\n",
      "(i,j) = (0, 5) -> midpoint = 2\n",
      "(i,j) = (0, 9) -> midpoint = 4\n",
      "(i,j) = (2, 4) -> midpoint = 3\n",
      "(i,j) = (2, 5) -> midpoint = 3\n",
      "(i,j) = (2, 9) -> midpoint = 5\n",
      "(i,j) = (4, 4) -> midpoint = 4\n",
      "(i,j) = (4, 5) -> midpoint = 4\n",
      "(i,j) = (4, 9) -> midpoint = 6\n"
     ]
    }
   ],
   "source": [
    "for i in [0,2,4]:\n",
    "    for j in [4,5,9]:\n",
    "        print(f'(i,j) = {i,j} -> midpoint = {i+((j-i)//2)}') # note integer division with //"
   ]
  },
  {
   "cell_type": "code",
   "execution_count": 14,
   "id": "fb0d5847-c5aa-4bb0-9008-6a9bb81dee84",
   "metadata": {},
   "outputs": [],
   "source": [
    "L = [0, 1, 2, 8, 13, 17, 19, 32, 42] # test list"
   ]
  },
  {
   "cell_type": "code",
   "execution_count": 16,
   "id": "99033d34-2fed-49d3-9a28-68bf7e1a055e",
   "metadata": {},
   "outputs": [],
   "source": [
    "def binary_search(L,x,do_print=False):\n",
    "    \"\"\" binary search\n",
    "    \n",
    "    Args:\n",
    "    \n",
    "        L (list): List to search in.\n",
    "        x (any): Element to search for.\n",
    "        do_print (bool): Indicator for printing progress.\n",
    "        \n",
    "    Returns:\n",
    "    \n",
    "        found (bool): Boolean for whether element is in list or not.\n",
    "    \n",
    "    \"\"\"\n",
    "    \n",
    "    # a. initialize\n",
    "    found = False\n",
    "    \n",
    "    # b. start with whole list\n",
    "    first = 0 # low index pointer\n",
    "    last = len(L)-1 # high index pointer\n",
    "    \n",
    "    # c. main\n",
    "    while first <= last and not found: # keep going while low index pointer is smaller or equal to high index pointer\n",
    "\n",
    "        # i. find midpoint\n",
    "        midpoint = first + (last - first) // 2 # // is integer division\n",
    "    \n",
    "        if do_print:\n",
    "            print(L[first:last+1],L[midpoint])\n",
    "            \n",
    "        # ii. check if x found or smaller or larger than midpoint\n",
    "        if L[midpoint] == x:\n",
    "            found = True # hey we found the index\n",
    "        else:\n",
    "            if L[midpoint] > x:\n",
    "                last = midpoint-1 # move high point passed midpoint\n",
    "            else:\n",
    "                first = midpoint+1 # move low point to midpoint plus 1\n",
    "    \n",
    "    return found"
   ]
  },
  {
   "cell_type": "code",
   "execution_count": 17,
   "id": "877c2e55-282c-40b5-ade7-6f9413cb4d14",
   "metadata": {},
   "outputs": [
    {
     "name": "stdout",
     "output_type": "stream",
     "text": [
      "found  3: False\n",
      "found 13: True\n"
     ]
    }
   ],
   "source": [
    "print('found  3:',binary_search(L,3)) # remember 3 is not in list, so the stopping condition is that the high and low point cross each other\n",
    "print('found 13:',binary_search(L,13))"
   ]
  },
  {
   "cell_type": "code",
   "execution_count": 18,
   "id": "359b4b4c-85b7-41e3-a3e6-2101f4e5442d",
   "metadata": {},
   "outputs": [
    {
     "name": "stdout",
     "output_type": "stream",
     "text": [
      "[0, 1, 2, 8, 13, 17, 19, 32, 42] 13\n",
      "[17, 19, 32, 42] 19\n",
      "[32, 42] 32\n"
     ]
    },
    {
     "data": {
      "text/plain": [
       "True"
      ]
     },
     "execution_count": 18,
     "metadata": {},
     "output_type": "execute_result"
    }
   ],
   "source": [
    "binary_search(L,32,do_print=True)"
   ]
  },
  {
   "cell_type": "markdown",
   "id": "c1ba7992-122a-44d1-ad45-9158e88f7b75",
   "metadata": {},
   "source": [
    "**Terminology:** This is called a **divide-and-conquer** algorithm.\n",
    "**Analysis:**\n",
    "\n",
    "* After 1 comparison there is approximately $\\frac{n}{2}$ elements left.\n",
    "* After 2 comparisons there is approximately $\\frac{n}{4}$ elements left.\n",
    "* After 3 comparisons there is approximately $\\frac{n}{8}$ elements left.\n",
    "* ...\n",
    "* After $j$ comparisons there is approximately $\\frac{n}{2^j}$ number of elements left.\n",
    "\n",
    "**When is there one element left?**  $\\frac{n}{2^j} = 1 \\Leftrightarrow j = \\frac{\\log n}{\\log 2}$\n",
    "\n",
    "**Result:** The binary search algorithm is $O(\\log n)$, i.e. logarithmic complexity."
   ]
  },
  {
   "cell_type": "markdown",
   "id": "9ca460c0-a549-47c4-8111-abaa558a7484",
   "metadata": {},
   "source": [
    "# Recursion\n",
    "In CS recursion is a way of solving a problem by having a function call itself. \n",
    "**Problem:** Sum the elements in a list."
   ]
  },
  {
   "cell_type": "code",
   "execution_count": 15,
   "id": "268384e9-c95c-4a82-bf5b-b2f6cf768ff0",
   "metadata": {},
   "outputs": [],
   "source": [
    "L = [1,3,5,7,9]"
   ]
  },
  {
   "cell_type": "markdown",
   "id": "f21ea155-165f-42be-881f-5e9f2d8058f6",
   "metadata": {},
   "source": [
    "**Simple:** Just sum them:"
   ]
  },
  {
   "cell_type": "code",
   "execution_count": 16,
   "id": "705ca22a-c59b-43f6-a2e5-8109b8cea3a0",
   "metadata": {},
   "outputs": [
    {
     "name": "stdout",
     "output_type": "stream",
     "text": [
      "25\n"
     ]
    }
   ],
   "source": [
    "def listsum(L):\n",
    "    result = 0\n",
    "    for x in L:\n",
    "        result += x\n",
    "    return result\n",
    "\n",
    "print(listsum(L))"
   ]
  },
  {
   "cell_type": "markdown",
   "id": "b5eaf2b1-e4a1-44bc-b573-55d228c49ace",
   "metadata": {},
   "source": [
    "**Recursion:** The sum of a list is the sum of the first element and the sum of the rest of the list:"
   ]
  },
  {
   "cell_type": "code",
   "execution_count": 17,
   "id": "b387a082-8fd5-4614-b917-c5886c89c8af",
   "metadata": {},
   "outputs": [
    {
     "name": "stdout",
     "output_type": "stream",
     "text": [
      "25\n"
     ]
    }
   ],
   "source": [
    "def listsum_recursive(L):\n",
    "    if len(L) == 1:\n",
    "        return L[0]\n",
    "    else:\n",
    "        return L[0] + listsum_recursive(L[1:])\n",
    "\n",
    "print(listsum_recursive(L))"
   ]
  },
  {
   "cell_type": "markdown",
   "id": "f4b56c01-d15a-45bb-b3a5-3d92383bc3e3",
   "metadata": {},
   "source": [
    "This is also a divide-and-conquor strategy. Avoids loops."
   ]
  },
  {
   "cell_type": "markdown",
   "id": "7e712c67-29d5-462c-9ba5-a40f046c3e67",
   "metadata": {},
   "source": [
    "## Fibonacci numbers"
   ]
  },
  {
   "cell_type": "markdown",
   "id": "a59ddf5b-03b7-43f3-810d-e612cf8fd6dd",
   "metadata": {},
   "source": [
    "**Definition:**\n",
    "\n",
    "$$\n",
    "\\begin{aligned}\n",
    "F_0 &= 0 \\\\\n",
    "F_1 &= 1 \\\\\n",
    "F_n &= F_{n-1} + F_{n-2} \\\\\n",
    "\\end{aligned}\n",
    "$$\n",
    "\n",
    "**Implementation:**"
   ]
  },
  {
   "cell_type": "code",
   "execution_count": 18,
   "id": "1efb4bf1-b01d-48d7-af80-0c872c637ec7",
   "metadata": {},
   "outputs": [
    {
     "data": {
      "text/plain": [
       "5"
      ]
     },
     "execution_count": 18,
     "metadata": {},
     "output_type": "execute_result"
    }
   ],
   "source": [
    "def fibonacci(n):\n",
    "    if n == 0:\n",
    "        return 0\n",
    "    elif n == 1:\n",
    "        return 1\n",
    "    return fibonacci(n-1)+fibonacci(n-2)\n",
    "\n",
    "fibonacci(5)\n",
    "#for n in range(4):\n",
    "     #print(fibonacci(n)) i.e. the fifth number in the fibonacci sequence"
   ]
  },
  {
   "cell_type": "markdown",
   "id": "325afe13-fae3-4971-b627-f7715d0ed924",
   "metadata": {},
   "source": [
    "### Caution! \n",
    "This implementation is for demonstration purposes only. It can be greatly sped up by using the `@cache` decorator, which stores the previous return value of a function call. \n",
    "\n",
    "If you ever want to use recursion, you must rely on **caching** of function values. Because ***recursion on itself is sloow***. "
   ]
  },
  {
   "cell_type": "markdown",
   "id": "467707b3-8945-4299-a14a-a64773cba224",
   "metadata": {},
   "source": [
    "**Test approximate formula:**"
   ]
  },
  {
   "cell_type": "code",
   "execution_count": 19,
   "id": "42725ee6-4d8a-4c49-8167-ad258d0683c8",
   "metadata": {},
   "outputs": [
    {
     "name": "stdout",
     "output_type": "stream",
     "text": [
      "n =   5: true =      5, approximate =       5.000000000000\n",
      "n =  10: true =     55, approximate =      55.000000000000\n",
      "n =  15: true =    610, approximate =     610.000000000000\n",
      "n =  20: true =   6765, approximate =    6765.000000000005\n",
      "n =  25: true =  75025, approximate =   75025.000000000058\n"
     ]
    }
   ],
   "source": [
    "def fibonacci_approx(n):\n",
    "    return 1/np.sqrt(5)*( ((1+np.sqrt(5))/2)**n - ((1-np.sqrt(5))/2)**n)\n",
    "\n",
    "for n in [5,10,15,20,25]:\n",
    "    print(f'n = {n:3d}: true = {fibonacci(n):6d}, approximate = {fibonacci_approx(n):20.12f}')"
   ]
  },
  {
   "cell_type": "markdown",
   "id": "dc8c762b-c5e1-40c2-b4e0-63b450c176cb",
   "metadata": {},
   "source": [
    "## Advanced: Binary search with recursion"
   ]
  },
  {
   "cell_type": "code",
   "execution_count": 20,
   "id": "018b54c4-7a25-4b41-b928-9af84ea4f8f2",
   "metadata": {},
   "outputs": [
    {
     "name": "stdout",
     "output_type": "stream",
     "text": [
      "found  3: None\n",
      "found 13: None\n"
     ]
    }
   ],
   "source": [
    "L = [0, 1, 2, 8, 13, 17, 19, 32, 42,] # test list\n",
    "\n",
    "def binary_search_recursive(L,x):\n",
    "    pass\n",
    "\n",
    "print('found  3:',binary_search_recursive(L,3))\n",
    "print('found 13:',binary_search_recursive(L,13))"
   ]
  },
  {
   "cell_type": "code",
   "execution_count": 21,
   "id": "d941d862-ff1c-4c4e-acf1-741d80851892",
   "metadata": {},
   "outputs": [],
   "source": [
    "def binary_search_recursive(L,x):\n",
    "    \"\"\" recursive binary search\n",
    "    \n",
    "    Args:\n",
    "    \n",
    "        L (list): List to search in.\n",
    "        x (any): Element to search for.\n",
    "        \n",
    "    Returns:\n",
    "    \n",
    "        found (bool): Boolean for whether element is in list or not.\n",
    "    \n",
    "    \"\"\"\n",
    "    \n",
    "    if len(L) == 0: \n",
    "    \n",
    "        return False # not found\n",
    "    \n",
    "    else:\n",
    "        \n",
    "        # a. find midpoint\n",
    "        midpoint = len(L)//2\n",
    "        \n",
    "        # b. check if x found or smaller or larger than midpoint\n",
    "        if L[midpoint] == x: # found\n",
    "            return True\n",
    "        else:            \n",
    "            if L[midpoint] > x:\n",
    "                newL = L[:midpoint]\n",
    "            else:\n",
    "                newL = L[midpoint+1:]\n",
    "            return binary_search_recursive(newL,x)"
   ]
  },
  {
   "cell_type": "code",
   "execution_count": 22,
   "id": "8b935394-2cde-4100-ac05-958db16f3695",
   "metadata": {},
   "outputs": [
    {
     "name": "stdout",
     "output_type": "stream",
     "text": [
      "found  3: False\n",
      "found 13: True\n"
     ]
    }
   ],
   "source": [
    "print('found  3:',binary_search_recursive(L,3))\n",
    "print('found 13:',binary_search_recursive(L,13))"
   ]
  },
  {
   "cell_type": "markdown",
   "id": "03aabbf0-4474-4945-a997-ceb0e889b570",
   "metadata": {},
   "source": [
    "# Sorting\n",
    "Sorting is a super central task of computing. IBM invented it's first computers in the 30s to sort data. \n",
    "\n",
    "Would be hard to keep track of data without sorting. Thus, many algorithms have been developed for this purpose. \n",
    "\n",
    "We will look at a simple algorithm first, the bubble sort, which relies on swapping elements iteratively. \n",
    "\n",
    "Function for **swapping** element `L[i]` with element `L[j]` in-place:"
   ]
  },
  {
   "cell_type": "code",
   "execution_count": 23,
   "id": "52afc69c-02b0-4102-baee-3c5ea2404036",
   "metadata": {},
   "outputs": [],
   "source": [
    "def swap(L,i,j):\n",
    "    temp = L[i] # save value in place holder variable\n",
    "    L[i] = L[j] # overwrite value at i with value at j\n",
    "    L[j] = temp # write original value at i to value at j"
   ]
  },
  {
   "cell_type": "markdown",
   "id": "a1384925-7971-45ad-a6ec-e7fba6b3a94c",
   "metadata": {},
   "source": [
    "**Example:**"
   ]
  },
  {
   "cell_type": "code",
   "execution_count": 24,
   "id": "81b1080b-4f27-48d7-9203-0257adccf4ba",
   "metadata": {},
   "outputs": [
    {
     "name": "stdout",
     "output_type": "stream",
     "text": [
      "after swap [3, 1, 4, 9, 13]\n"
     ]
    }
   ],
   "source": [
    "L = [1, 3, 4, 9, 13] \n",
    "swap(L,i=0,j=1)\n",
    "print('after swap',L)"
   ]
  },
  {
   "cell_type": "markdown",
   "id": "9628a4ef-5373-4031-948e-a4c74832cccb",
   "metadata": {},
   "source": [
    "## Bubble sort\n",
    "**Great video:** https://www.youtube.com/watch?v=xli_FI7CuzA \\\n",
    "**Problem:** Sort a list of numbers in-place.\n",
    "\n",
    "**Inputs:** List of numbers.\n",
    "\n",
    "**Outputs:** None.\n",
    "\n",
    "**Algorithm:** `bubble_sort()`\n",
    "\n",
    "  1. Loop through the first n-1 elements in list, swap with next element if current is larger.\n",
    "  2. Loop through the first n-2 elements in list, swap with next element if current is larger.\n",
    "  <br>\n",
    "  ...\n",
    "  <br>\n",
    "  4. Loop through the first 3 elements in list, swap with next element if current is larger.\n",
    "  5. Swap the two first elements if the first is larger than the second\n",
    "  6. List is sorted\n",
    "  "
   ]
  },
  {
   "cell_type": "code",
   "execution_count": 25,
   "id": "395d84f3-3d1b-438c-a35f-97ac05c9fde1",
   "metadata": {},
   "outputs": [
    {
     "name": "stdout",
     "output_type": "stream",
     "text": [
      "[54, 26, 93, 17, 77, 31, 44, 55, 20]\n"
     ]
    }
   ],
   "source": [
    "L = [54, 26, 93, 17, 77, 31, 44, 55, 20] # test list       \n",
    "\n",
    "def bubble_sort(L):\n",
    "    pass\n",
    "\n",
    "bubble_sort(L)\n",
    "print(L)"
   ]
  },
  {
   "cell_type": "code",
   "execution_count": 52,
   "id": "af936e8f-96ba-4638-9e35-691ccd777345",
   "metadata": {},
   "outputs": [
    {
     "name": "stdout",
     "output_type": "stream",
     "text": [
      "sorted L: [17, 20, 26, 31, 44, 54, 55, 77, 93]\n"
     ]
    }
   ],
   "source": [
    "def bubble_sort(L):\n",
    "    \"\"\" bubble sort\n",
    "    \n",
    "    Args:\n",
    "    \n",
    "        L (list): List of numbers\n",
    "        \n",
    "    \"\"\"\n",
    "    \n",
    "    # k starts being len(L)-1 and is decreased by 1 until hitting 0\n",
    "    for k in range(len(L)-1,0,-1): # we will not be able to acces L[i+1] if last element, therefore range is Len(L)-1, stop at zero and incrementation is 1\n",
    "        for i in range(k):\n",
    "            if L[i] > L[i+1]: # if element at L[i] is greater than element at position L[i+1] we will swap the two elements\n",
    "                swap(L,i,i+1) \n",
    "\n",
    "L = [54, 26, 93, 17, 77, 31, 44, 55, 20]      \n",
    "bubble_sort(L)\n",
    "print('sorted L:',L)"
   ]
  },
  {
   "cell_type": "markdown",
   "id": "010cc613-68aa-4a58-bdf6-b3d5edfb540a",
   "metadata": {},
   "source": [
    "**Another visualization of bubble sort**  \n",
    "![bubble](https://upload.wikimedia.org/wikipedia/commons/5/54/Sorting_bubblesort_anim.gif)"
   ]
  },
  {
   "cell_type": "markdown",
   "id": "d96408eb-ddf0-4cb5-9eea-ce1d1709526a",
   "metadata": {},
   "source": [
    "**Illustration with printout:**"
   ]
  },
  {
   "cell_type": "code",
   "execution_count": 27,
   "id": "23962248-c68e-4035-9f3e-14b0f1c8644d",
   "metadata": {},
   "outputs": [
    {
     "name": "stdout",
     "output_type": "stream",
     "text": [
      "original [54, 26, 93, 17, 77, 31, 44, 55, 20] \n",
      "\n",
      "step = 1\n",
      "[26, 54, 93, 17, 77, 31, 44, 55, 20]\n",
      "[26, 54, 93, 17, 77, 31, 44, 55, 20]\n",
      "[26, 54, 17, 93, 77, 31, 44, 55, 20]\n",
      "[26, 54, 17, 77, 93, 31, 44, 55, 20]\n",
      "[26, 54, 17, 77, 31, 93, 44, 55, 20]\n",
      "[26, 54, 17, 77, 31, 44, 93, 55, 20]\n",
      "[26, 54, 17, 77, 31, 44, 55, 93, 20]\n",
      "[26, 54, 17, 77, 31, 44, 55, 20, 93]\n",
      "\n",
      "step = 2\n",
      "[26, 54, 17, 77, 31, 44, 55, 20, 93]\n",
      "[26, 17, 54, 77, 31, 44, 55, 20, 93]\n",
      "[26, 17, 54, 77, 31, 44, 55, 20, 93]\n",
      "[26, 17, 54, 31, 77, 44, 55, 20, 93]\n",
      "[26, 17, 54, 31, 44, 77, 55, 20, 93]\n",
      "[26, 17, 54, 31, 44, 55, 77, 20, 93]\n",
      "[26, 17, 54, 31, 44, 55, 20, 77, 93]\n",
      "\n",
      "step = 3\n",
      "[17, 26, 54, 31, 44, 55, 20, 77, 93]\n",
      "[17, 26, 54, 31, 44, 55, 20, 77, 93]\n",
      "[17, 26, 31, 54, 44, 55, 20, 77, 93]\n",
      "[17, 26, 31, 44, 54, 55, 20, 77, 93]\n",
      "[17, 26, 31, 44, 54, 55, 20, 77, 93]\n",
      "[17, 26, 31, 44, 54, 20, 55, 77, 93]\n",
      "\n",
      "step = 4\n",
      "[17, 26, 31, 44, 54, 20, 55, 77, 93]\n",
      "[17, 26, 31, 44, 54, 20, 55, 77, 93]\n",
      "[17, 26, 31, 44, 54, 20, 55, 77, 93]\n",
      "[17, 26, 31, 44, 54, 20, 55, 77, 93]\n",
      "[17, 26, 31, 44, 20, 54, 55, 77, 93]\n",
      "\n",
      "step = 5\n",
      "[17, 26, 31, 44, 20, 54, 55, 77, 93]\n",
      "[17, 26, 31, 44, 20, 54, 55, 77, 93]\n",
      "[17, 26, 31, 44, 20, 54, 55, 77, 93]\n",
      "[17, 26, 31, 20, 44, 54, 55, 77, 93]\n",
      "\n",
      "step = 6\n",
      "[17, 26, 31, 20, 44, 54, 55, 77, 93]\n",
      "[17, 26, 31, 20, 44, 54, 55, 77, 93]\n",
      "[17, 26, 20, 31, 44, 54, 55, 77, 93]\n",
      "\n",
      "step = 7\n",
      "[17, 26, 20, 31, 44, 54, 55, 77, 93]\n",
      "[17, 20, 26, 31, 44, 54, 55, 77, 93]\n",
      "\n",
      "step = 8\n",
      "[17, 20, 26, 31, 44, 54, 55, 77, 93]\n",
      "\n"
     ]
    }
   ],
   "source": [
    "def bubble_sort_with_print(L):\n",
    "    for k in range(len(L)-1,0,-1):\n",
    "        print(f'step = {len(L)-k}')\n",
    "        for i in range(k):\n",
    "            if L[i] > L[i+1]:\n",
    "                swap(L,i,i+1)\n",
    "            print(L)                \n",
    "        print('')\n",
    "        \n",
    "L = [54, 26, 93, 17, 77, 31, 44, 55, 20]        \n",
    "print('original',L,'\\n')\n",
    "bubble_sort_with_print(L)"
   ]
  },
  {
   "cell_type": "markdown",
   "id": "782d22f5-895e-47f3-a35b-085f98d2cd23",
   "metadata": {},
   "source": [
    "**Analysis:** Bubble sort is $T(n) = (n-1)\\times(n-1)\\times c = cn^2-2cn+1 => O(n^2)$, where $n$ is size of the array! \\\n",
    "The reason being the two loops run n-1 times and then we have c times of if len[i]> len[i+1] swap.\n",
    "Therefore bubble sort is slow sorting algo. "
   ]
  },
  {
   "cell_type": "markdown",
   "id": "a4c9db1c-30e6-482f-ac2e-272948ea1292",
   "metadata": {},
   "source": [
    "## Insertion sort\n",
    "**Great video**: https://www.youtube.com/watch?v=i-SKeOcBwko \\\n",
    "**Algorithm:** `insertion_sort()`\n",
    "\n",
    "  1. Consider the *second* element as first one is already sorted . Insert it correctly in the list of the numbers before the *second* element.\n",
    "  2. Consider the *third*  element. Insert it correctly in the list of the numbers before the *third* element.\n",
    "  <br>\n",
    "  ...\n",
    "  <br>\n",
    "  4. Consider the n'th element. Insert it correctly in the list of the numbers before the *n'th* element.\n",
    "  5. List is sorted\n",
    "  \n",
    "  "
   ]
  },
  {
   "cell_type": "markdown",
   "id": "4fca7aba-a73a-4502-9c11-0a13af6c9d27",
   "metadata": {},
   "source": [
    "**Illustration:**\n",
    "\n",
    "<img src=\"https://github.com/NumEconCopenhagen/lectures-2019/raw/master/08/insertionsort.png\" alt=\"insertionsort\" width=50% />"
   ]
  },
  {
   "cell_type": "code",
   "execution_count": 53,
   "id": "27886769-0e1b-46c0-84f9-da7d2ae0d326",
   "metadata": {},
   "outputs": [
    {
     "name": "stdout",
     "output_type": "stream",
     "text": [
      "[54, 26, 93, 17, 77, 31, 44, 55, 20]\n"
     ]
    }
   ],
   "source": [
    "L = [54, 26, 93, 17, 77, 31, 44, 55, 20] # test list\n",
    "\n",
    "def insertion_sort(L):\n",
    "    pass #executes nothing\n",
    "\n",
    "insertion_sort(L)\n",
    "print(L)"
   ]
  },
  {
   "cell_type": "code",
   "execution_count": 56,
   "id": "4ec7a4cd-ac59-47ed-ad96-6dafebdd5d9d",
   "metadata": {},
   "outputs": [
    {
     "name": "stdout",
     "output_type": "stream",
     "text": [
      "sorted [17, 20, 26, 31, 44, 54, 55, 77, 93]\n"
     ]
    }
   ],
   "source": [
    "def insertion_sort(L):\n",
    "    \"\"\" insertion sort\n",
    "    \n",
    "    Args:\n",
    "    \n",
    "        L (list): List of numbers\n",
    "        \n",
    "    \"\"\"\n",
    "    \n",
    "    # loop over last n-1 elements, skipping the 1st element (see range func).  \n",
    "    n = len(L)\n",
    "    for k in range(1,n):  \n",
    "        \n",
    "        # a. \n",
    "        x = L[k] # store current value\n",
    "        i = k # store position/index (\"hole\")\n",
    "        \n",
    "        # b. move left while larger: a bubble sort at heart\n",
    "        while i > 0 and L[i-1] > x: # while hole is greater than zero and hole -1 is greater than current value, \n",
    "        # if not fulfilled we exit while loop\n",
    "            L[i] = L[i-1] # shift element at index \"hole - 1\" to \"hole\"\n",
    "            i = i-1 # new hole\n",
    "        \n",
    "        # c. insert current value to the \"hole\", when we exit while loop\n",
    "        L[i] = x\n",
    "\n",
    "L = [54, 26, 93, 17, 77, 31, 44, 55, 20]\n",
    "insertion_sort(L)\n",
    "print('sorted',L)        "
   ]
  },
  {
   "cell_type": "markdown",
   "id": "f313bb22-5786-466a-8512-14b0f5d7e09c",
   "metadata": {},
   "source": [
    "**Analysis:** Still $O(n^2)$.."
   ]
  },
  {
   "cell_type": "markdown",
   "id": "202de470-905b-494a-8ddd-a7e3da355b08",
   "metadata": {},
   "source": [
    "**Benefits relative to bubble sort:**\n",
    "\n",
    "1. Moves instead of swaps, 1 operation less.\n",
    "2. Data is often **partially sorted** to begin with. Insertion sort benefits from that."
   ]
  },
  {
   "cell_type": "markdown",
   "id": "93e0cd57-be43-451e-aac3-24439d7bb195",
   "metadata": {},
   "source": [
    "## Partition (+)\n",
    "**Great video** For partition and quicksort: https://www.youtube.com/watch?v=COk73cpQbFQ&list=PL2_aWCzGMAwKedT2KfDMB9YA5DgASZb3U&index=7 \\\n",
    "*Intermezzo: Solving the partition problem is useful for a so-called quicksort.*\n",
    "**Problem:** Permute a list and return a splitpoint such that all elements before the point is larger than or equal to the first element in the original list, and all elements afterwards are strictly larger.\n",
    "\n",
    "**Input:** List of numbers.\n",
    "\n",
    "**Output:** Integer.\n",
    "\n",
    "**Algorithm:**\n",
    "\n",
    "0. Let splitting point be first element of list.\n",
    "1. From the *left* find the first element larger than split point (leftmark).\n",
    "2. From the *right* find the first element smaller than split point (rightmark).\n",
    "3. Swap these two elements.\n",
    "4. Repeat 1-3 starting from previous leftmark and rightmark. Continue until leftmark is larger than rightmark.\n",
    "5. Swap first and rightmark element.\n",
    "6. Return the rightmark."
   ]
  },
  {
   "cell_type": "markdown",
   "id": "7a67b6a6-9c9d-4bc3-8497-d069ec6e91ef",
   "metadata": {},
   "source": [
    "<img src=\"https://github.com/NumEconCopenhagen/lectures-2019/raw/master/08/quicksort.png\" alt=\"quicksort\" width=60% />"
   ]
  },
  {
   "cell_type": "code",
   "execution_count": 30,
   "id": "c4b19586-155d-4e32-bdbb-f032f43c434a",
   "metadata": {},
   "outputs": [],
   "source": [
    "def partition(L,first,last): \n",
    "    \"\"\" partition\n",
    "    \n",
    "    Permute a list and return a splitpoint, such that all elements before \n",
    "    is larger than or equal to the first element in the original list, \n",
    "    and all elements afterwards are strictly larger.\n",
    "    \n",
    "    Args:\n",
    "    \n",
    "        L (list): List of numbers\n",
    "        first (integer): Startpoint\n",
    "        last (integer): Endpoint\n",
    "    \n",
    "    Returns:\n",
    "    \n",
    "        splitpoint (integer): \n",
    "        \n",
    "    \"\"\"\n",
    "    \n",
    "    # a. initialize\n",
    "    splitvalue = L[first]\n",
    "    leftmark = first+1\n",
    "    rightmark = last\n",
    "\n",
    "    # b. find splitpoint\n",
    "    done = False\n",
    "    while not done:\n",
    "\n",
    "        # i. find leftmark\n",
    "        while leftmark <= rightmark and L[leftmark] <= splitvalue:\n",
    "            leftmark = leftmark + 1\n",
    "        \n",
    "        # i. find rightmark\n",
    "        while L[rightmark] >= splitvalue and rightmark >= leftmark:\n",
    "            rightmark = rightmark -1\n",
    "\n",
    "        # iii. check if done or swap left and right\n",
    "        if rightmark < leftmark:\n",
    "            done = True\n",
    "        else:\n",
    "            swap(L,leftmark,rightmark)\n",
    "\n",
    "    # c. final swap\n",
    "    swap(L,first,rightmark)\n",
    "\n",
    "    return rightmark"
   ]
  },
  {
   "cell_type": "code",
   "execution_count": 31,
   "id": "1e6d59f9-db9b-4bfa-89c5-08d4c2587406",
   "metadata": {},
   "outputs": [
    {
     "name": "stdout",
     "output_type": "stream",
     "text": [
      "before [54, 26, 93, 17, 77, 31, 44, 55, 20]\n",
      "after [31, 26, 20, 17, 44, 54, 77, 55, 93]\n",
      "split [31, 26, 20, 17, 44, 54] [77, 55, 93]\n"
     ]
    }
   ],
   "source": [
    "L = [54, 26, 93, 17, 77, 31, 44, 55, 20]\n",
    "print('before',L)\n",
    "splitpoint = partition(L,0,len(L)-1)\n",
    "print('after',L)\n",
    "print('split',L[:splitpoint+1],L[splitpoint+1:])"
   ]
  },
  {
   "cell_type": "markdown",
   "id": "05faf5b7-cc02-43a7-a7bc-7d4d837952fc",
   "metadata": {},
   "source": [
    "## Quicksort (+)\n",
    "**Algorithm:** `quick_sort()`\n",
    "\n",
    "1. Recursively partition the list and the sub-lists when splitting at the splitpoint.\n",
    "2. The list is now sorted."
   ]
  },
  {
   "cell_type": "code",
   "execution_count": 57,
   "id": "bddb4d2e-493c-4c8f-8ae5-7c28fbb1a8a1",
   "metadata": {},
   "outputs": [],
   "source": [
    "def quick_sort(L):\n",
    "    _quick_sort(L,0,len(L)-1) # start index zero and end index len(L)-1, meaning we pass whole array\n",
    "\n",
    "def _quick_sort(L,first,last):\n",
    "   \n",
    "    if first < last: # if first >= last then exit \n",
    "\n",
    "        splitpoint = partition(L,first,last)    \n",
    "        _quick_sort(L,first,splitpoint-1) # sort segment left of split point\n",
    "        _quick_sort(L,splitpoint+1,last) # sort segment right of split point"
   ]
  },
  {
   "cell_type": "code",
   "execution_count": 58,
   "id": "a64f3f7c-1a01-49cb-b4b0-72a1badddd36",
   "metadata": {},
   "outputs": [
    {
     "name": "stdout",
     "output_type": "stream",
     "text": [
      "sorted [17, 20, 26, 31, 44, 54, 55, 77, 93]\n"
     ]
    }
   ],
   "source": [
    "L = [54, 26, 93, 17, 77, 31, 44, 55, 20]\n",
    "quick_sort(L)\n",
    "print('sorted',L)"
   ]
  },
  {
   "cell_type": "markdown",
   "id": "f62ae358-4ff4-4c65-a68c-aebff72ec951",
   "metadata": {},
   "source": [
    "**Analysis:** $O(n \\log n)$ on average, but still $O(n^2)$ in the worst case."
   ]
  },
  {
   "cell_type": "markdown",
   "id": "d963695f-55ae-48a0-a42f-1d6ecff35aaa",
   "metadata": {},
   "source": [
    "**Visualization of quicksort**  \n",
    "![quicksort](https://upload.wikimedia.org/wikipedia/commons/6/6a/Sorting_quicksort_anim.gif)"
   ]
  },
  {
   "cell_type": "markdown",
   "id": "64d6c10c-8495-4da7-a1d3-8886d823c48c",
   "metadata": {},
   "source": [
    "## Advanced: Comparision of performance\n",
    "Lets us compare the different sorting algorithm:\n",
    "\n",
    "1. Bubble\n",
    "2. Insertion\n",
    "3. Quick\n",
    "4. Quick (as implemented in Numpy)"
   ]
  },
  {
   "cell_type": "code",
   "execution_count": 34,
   "id": "1946aacb-362d-4b15-957c-31b2bf6648fd",
   "metadata": {},
   "outputs": [
    {
     "data": {
      "image/png": "[encoded data removed]",
      "text/plain": [
       "<Figure size 432x288 with 1 Axes>"
      ]
     },
     "metadata": {},
     "output_type": "display_data"
    }
   ],
   "source": [
    "# a. settings\n",
    "n_vec = np.array([100,200,300,400,500,750,1000,1500,2000,4000,8000,16000]) # number of elements in list\n",
    "K = 50 # number of repetitions when timing\n",
    "\n",
    "# b. allocate vectors for results\n",
    "bubble = np.empty(len(n_vec))\n",
    "insertion = np.empty(len(n_vec))\n",
    "quick = np.empty(len(n_vec))\n",
    "quicknp = np.empty(len(n_vec))\n",
    "\n",
    "# c. run time trials\n",
    "np.random.seed(1999)\n",
    "for i,n in enumerate(n_vec):\n",
    "    \n",
    "    # i. draw K random lists of lenght n\n",
    "    L_bubble = []\n",
    "    L_insertion = []\n",
    "    L_quick = []\n",
    "    L_quicknp = []\n",
    "    for k in range(K):\n",
    "        L = np.random.uniform(size=n)\n",
    "        np.random.shuffle(L)\n",
    "        L_bubble.append(L.copy())\n",
    "        L_insertion.append(L.copy())\n",
    "        L_quick.append(L.copy())\n",
    "        L_quicknp.append(L.copy())\n",
    "        \n",
    "    # ii. bubble sort\n",
    "    if n <= 500:\n",
    "        t0 = time.time() # start timer\n",
    "        for k in range(K):\n",
    "            bubble_sort(L_bubble[k])\n",
    "        bubble[i] = time.time()-t0 # calculate time since start\n",
    "    else: \n",
    "        bubble[i] = np.nan\n",
    "        \n",
    "    # ii. insertion sort\n",
    "    if n <= 500:\n",
    "        t0 = time.time()\n",
    "        for k in range(K):\n",
    "            insertion_sort(L_insertion[k])\n",
    "        insertion[i] = time.time()-t0\n",
    "    else: \n",
    "        insertion[i] = np.nan\n",
    "        \n",
    "    # iii. quicksort\n",
    "    if n <= 2000:\n",
    "        t0 = time.time()\n",
    "        for k in range(K):\n",
    "            quick_sort(L_quick[k])\n",
    "        quick[i] = time.time()-t0\n",
    "    else: \n",
    "        quick[i] = np.nan\n",
    "        \n",
    "    # iii. quicksort (numpy implementation)    \n",
    "    t0 = time.time()\n",
    "    for k in range(K):\n",
    "        L_quicknp[k].sort() # built-in numpy method\n",
    "    quicknp[i] = time.time()-t0\n",
    "    \n",
    "    # iv. check that all sorted lists are the same\n",
    "    for k in range(K):\n",
    "        if n <= 500:\n",
    "            assert np.all(L_bubble[k] == L_quick[k])\n",
    "            assert np.all(L_insertion[k] == L_quick[k])\n",
    "        if n <= 2000:\n",
    "            assert np.all(L_quicknp[k] == L_quick[k])\n",
    "    \n",
    "# d. figure    \n",
    "I = n_vec <= 2000\n",
    "fig = plt.figure()\n",
    "ax = fig.add_subplot(1,1,1)\n",
    "ax.plot(n_vec[I],bubble[I],label='bubble')\n",
    "ax.plot(n_vec[I],insertion[I],label='insertion')\n",
    "ax.plot(n_vec[I],quick[I],label='quick')\n",
    "ax.plot(n_vec[I],quicknp[I],label='quick (numpy)')\n",
    "ax.set_xlabel('number of elements')\n",
    "ax.set_ylabel('seconds')\n",
    "ax.legend(facecolor='white',frameon=True);"
   ]
  },
  {
   "cell_type": "code",
   "execution_count": 35,
   "id": "0e51b657-f90d-48c3-a080-bb000d20fec0",
   "metadata": {},
   "outputs": [
    {
     "data": {
      "image/png": "[encoded data removed]",
      "text/plain": [
       "<Figure size 432x288 with 1 Axes>"
      ]
     },
     "metadata": {},
     "output_type": "display_data"
    }
   ],
   "source": [
    "fig = plt.figure()\n",
    "ax = fig.add_subplot(1,1,1)\n",
    "ax.plot(n_vec,quicknp,label='quick (numpy)')\n",
    "ax.set_xlabel('number of elements')\n",
    "ax.set_ylabel('seconds')\n",
    "ax.legend(facecolor='white',frameon=True);"
   ]
  }
 ],
 "metadata": {
  "kernelspec": {
   "display_name": "Python 3 (ipykernel)",
   "language": "python",
   "name": "python3"
  },
  "language_info": {
   "codemirror_mode": {
    "name": "ipython",
    "version": 3
   },
   "file_extension": ".py",
   "mimetype": "text/x-python",
   "name": "python",
   "nbconvert_exporter": "python",
   "pygments_lexer": "ipython3",
   "version": "3.9.12"
  }
 },
 "nbformat": 4,
 "nbformat_minor": 5
}
