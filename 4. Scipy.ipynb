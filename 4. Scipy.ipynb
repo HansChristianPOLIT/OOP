{
 "cells": [
  {
   "cell_type": "markdown",
   "id": "2e5ff837-1145-411a-af3b-0af08fdd7890",
   "metadata": {},
   "source": [
    "# Examples and overview\n",
    "You now have all the basic tools to solve interesting economic models. The trick is to be able to combine what you know to solve problems in practice."
   ]
  },
  {
   "cell_type": "code",
   "execution_count": 1,
   "id": "01bc5a54-f094-44dc-bad5-13e9dfe91706",
   "metadata": {},
   "outputs": [],
   "source": [
    "# magic to reload modules automatically\n",
    "%load_ext autoreload\n",
    "%autoreload 2\n",
    "\n",
    "# standard imports\n",
    "import numpy as np\n",
    "from scipy import optimize\n",
    "import matplotlib.pyplot as plt\n",
    "plt.style.use('seaborn-whitegrid')"
   ]
  },
  {
   "cell_type": "markdown",
   "id": "43f1f52f-21b2-4627-937f-e9ed61fd0a5c",
   "metadata": {},
   "source": [
    "## Optimize, optimize, optimize\n",
    "**The two most important tools:** \n",
    "\n",
    "1. Solving optimization problems with `scipy.optimize.minimize` and `scipy.optimize.minimize_scalar`\n",
    "2. Solving equations with `scipy.optimize.root` and `scipy.optimize.root_scalar`\n",
    "\n",
    "**Problem:** A bit of a black box...\n",
    "\n",
    "* **Lecture 10:** Details on solving equations.\n",
    "* **Lecture 11:** Details on numerical optimization.\n",
    "* **Now:** Compare with a) a *loop search* and b) a *hand-written optimizer*.m"
   ]
  },
  {
   "cell_type": "markdown",
   "id": "3bd59eae-1feb-4cf0-a31f-7b770a03c663",
   "metadata": {},
   "source": [
    "### Loops vs. optimizer\n",
    "**Consider a simple maximization problem:** \n",
    "\n",
    "$$\n",
    "\\max_x f(x) = \\max_x -3(x-2)^2+1\n",
    "$$\n",
    "\n",
    "**Solution:**\n",
    "\n",
    "$$\n",
    "f^\\prime(x) = 0 \\Leftrightarrow -6(x-2) = 0 \\Leftrightarrow x = 2.0\n",
    "$$"
   ]
  },
  {
   "cell_type": "code",
   "execution_count": 6,
   "id": "a1b6cf00-1817-4cef-a95e-9e02d8cd9e4e",
   "metadata": {},
   "outputs": [],
   "source": [
    "def f_func(x):\n",
    "    return -3*(x-2)**2+1"
   ]
  },
  {
   "cell_type": "code",
   "execution_count": 7,
   "id": "4d4089bf-6d56-47a3-9667-9a0086e82625",
   "metadata": {},
   "outputs": [
    {
     "name": "stdout",
     "output_type": "stream",
     "text": [
      "best with loop is 0.98041016 at x = 1.91919192\n"
     ]
    }
   ],
   "source": [
    "N = 100\n",
    "\n",
    "# a. allocate solutions\n",
    "x_vec = np.linspace(-10,10,N)\n",
    "f_vec = np.empty(N)\n",
    "\n",
    "# b. initial guess\n",
    "f_best = -np.inf # initial maximum\n",
    "x_best = np.nan # not-a-number\n",
    "\n",
    "# c. for loop to update\n",
    "for i,x in enumerate(x_vec):\n",
    "    # multiple/chained assignment\n",
    "    f_now = f_vec[i] = f_func(x)\n",
    "    \n",
    "    if f_now > f_best:\n",
    "        x_best = x\n",
    "        f_best = f_now\n",
    "        \n",
    "print(f'best with loop is {f_best:.8f} at x = {x_best:.8f}')"
   ]
  },
  {
   "cell_type": "markdown",
   "id": "720e82eb-8716-42b4-9f18-72efbf7af07e",
   "metadata": {},
   "source": [
    "Not the smartest solution, though we could increase precision and get closer to 2 by increasing N"
   ]
  },
  {
   "cell_type": "code",
   "execution_count": 12,
   "id": "5cf76cfe-345e-409c-b553-c97b5aa08946",
   "metadata": {},
   "outputs": [
    {
     "data": {
      "text/plain": [
       "<Figure size 432x288 with 0 Axes>"
      ]
     },
     "metadata": {},
     "output_type": "display_data"
    },
    {
     "data": {
      "image/png": "[encoded data removed]",
      "text/plain": [
       "<Figure size 504x360 with 1 Axes>"
      ]
     },
     "metadata": {},
     "output_type": "display_data"
    }
   ],
   "source": [
    "# Always start with the \"canvas\"\n",
    "fig = plt.figure()\n",
    "fig = plt.figure(figsize=(7,5))\n",
    "ax = fig.add_subplot(1,1,1)\n",
    "\n",
    "ax.plot(x_vec,f_vec,ls='--',lw=2,color='black',label='$f(x)$')\n",
    "ax.plot(x_best,f_best,ls='',marker='s',label='best')\n",
    "\n",
    "ax.set_xlabel('$x$') \n",
    "ax.set_ylabel('$f$')\n",
    "ax.legend(loc='lower center',frameon=True); "
   ]
  },
  {
   "cell_type": "markdown",
   "id": "8a2f80c8-8c05-45a4-900f-82d07d7c9c03",
   "metadata": {},
   "source": [
    "## Minimize\n",
    "### 1) Solution with `scipy.optimize.minimize_scalar` "
   ]
  },
  {
   "cell_type": "code",
   "execution_count": 38,
   "id": "ec0001b1-464c-47ab-8571-c2a3343033d4",
   "metadata": {},
   "outputs": [],
   "source": [
    "def f_func(x):\n",
    "    return -3*(x-2)**2+1"
   ]
  },
  {
   "cell_type": "code",
   "execution_count": 51,
   "id": "17f4d14f-f27f-4d41-89a9-0ebb13e2507f",
   "metadata": {},
   "outputs": [
    {
     "name": "stdout",
     "output_type": "stream",
     "text": [
      "best is 1.00000000 at x = 2.00000000\n"
     ]
    }
   ],
   "source": [
    "obj = lambda x: -f_func(x) # input is a scalar\n",
    "\n",
    "result = optimize.minimize_scalar(obj,bracket=(-10,10),method='brent') # imported optimize, uses default method 'brent', search in bracket -10;10\n",
    "\n",
    "# return solutions\n",
    "x = result.x \n",
    "f = -result.fun\n",
    "\n",
    "print(f'best is {f:.8f} at x = {x:.8f}')"
   ]
  },
  {
   "cell_type": "markdown",
   "id": "da2b6d63-b04e-455b-82fc-8e89de547371",
   "metadata": {},
   "source": [
    "### 2) Solution with `scipy.optimize.minimize`"
   ]
  },
  {
   "cell_type": "code",
   "execution_count": null,
   "id": "46048b0a-5f3f-42e6-b48b-0bd1da52b24a",
   "metadata": {},
   "outputs": [],
   "source": [
    "def f_func(x):\n",
    "    return -3*(x-2)**2+1"
   ]
  },
  {
   "cell_type": "code",
   "execution_count": null,
   "id": "4be22efd-214a-4a46-9f79-cfdbeeeff6ad",
   "metadata": {},
   "outputs": [
    {
     "name": "stdout",
     "output_type": "stream",
     "text": [
      "best is 1.00000000 at x = 2.00000000\n"
     ]
    }
   ],
   "source": [
    "x_guess = [0]   # input is now a vector\n",
    "\n",
    "obj = lambda x: -f_func(x[0]) # now the input is a vector and we only put in first element of the vector\n",
    "\n",
    "res = optimize.minimize(obj,x_guess,method='Nelder-Mead')\n",
    "\n",
    "# solutions\n",
    "x = res.x[0]\n",
    "f = -res.fun\n",
    "\n",
    "print(f'best is {f:.8f} at x = {x:.8f}')"
   ]
  },
  {
   "cell_type": "markdown",
   "id": "ae92abd4-a455-4242-9955-50acad1ba6ae",
   "metadata": {},
   "source": [
    "## Root optimizer\n",
    "### 3) Solution with `scipy.optimize.root_scalar`   \n",
    "Find derivative and solve via FOC:"
   ]
  },
  {
   "cell_type": "code",
   "execution_count": null,
   "id": "2a0b1834-8154-4837-8455-05783ca60488",
   "metadata": {},
   "outputs": [],
   "source": [
    "#define a function of the derivate\n",
    "def fp_func(x):\n",
    "    return -6*(x-2)"
   ]
  },
  {
   "cell_type": "code",
   "execution_count": null,
   "id": "71fa5c49-1516-4e3f-8e47-cfac207d6dc2",
   "metadata": {},
   "outputs": [
    {
     "name": "stdout",
     "output_type": "stream",
     "text": [
      "best is 1.00000000 at x = 2.00000000\n"
     ]
    }
   ],
   "source": [
    "obj = lambda x: fp_func(x) # input is a scalar\n",
    "\n",
    "result = optimize.root_scalar(obj,bracket=(-10,10),method='bisect') #Basic bisection routine to find a zero of the function f between the arguments a and b. f(a) and f(b) cannot have the same signs\n",
    "\n",
    "# solutions\n",
    "x = result.root\n",
    "f = f_func(result.root)\n",
    "\n",
    "print(f'best is {f:.8f} at x = {x:.8f}')"
   ]
  },
  {
   "cell_type": "markdown",
   "id": "54bdae02-cc4a-46e6-a468-39600d93dd67",
   "metadata": {},
   "source": [
    "### 4) Solution with `scipy.optimize.root`"
   ]
  },
  {
   "cell_type": "code",
   "execution_count": null,
   "id": "130ad83b-15ee-4bc9-83e6-73eb093582e3",
   "metadata": {},
   "outputs": [],
   "source": [
    "#define a function of the derivate\n",
    "def fp_func(x):\n",
    "    return -6*(x-2)"
   ]
  },
  {
   "cell_type": "code",
   "execution_count": null,
   "id": "79d80912-dc1c-4f34-a404-f567940a77d9",
   "metadata": {},
   "outputs": [
    {
     "name": "stdout",
     "output_type": "stream",
     "text": [
      "best is 1.00000000 at x = 2.00000000\n"
     ]
    }
   ],
   "source": [
    "x_guess = [0] # input is now a vector\n",
    "\n",
    "obj = lambda x: fp_func(x)\n",
    "\n",
    "result = optimize.root(obj,x_guess,method='hybr') #Basic bisection routine to find a zero of the function f between the arguments a and b. f(a) and f(b) cannot have the same signs\n",
    "\n",
    "# solutions\n",
    "x = result.x[0]\n",
    "f = f_func(x)\n",
    "\n",
    "print(f'best is {f:.8f} at x = {x:.8f}')"
   ]
  }
 ],
 "metadata": {
  "kernelspec": {
   "display_name": "Python 3 (ipykernel)",
   "language": "python",
   "name": "python3"
  },
  "language_info": {
   "codemirror_mode": {
    "name": "ipython",
    "version": 3
   },
   "file_extension": ".py",
   "mimetype": "text/x-python",
   "name": "python",
   "nbconvert_exporter": "python",
   "pygments_lexer": "ipython3",
   "version": "3.9.7"
  }
 },
 "nbformat": 4,
 "nbformat_minor": 5
}
